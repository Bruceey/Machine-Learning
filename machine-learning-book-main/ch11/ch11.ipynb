{
 "cells": [
  {
   "cell_type": "code",
   "execution_count": null,
   "id": "initial_id",
   "metadata": {
    "collapsed": true
   },
   "outputs": [],
   "source": [
    "from sklearn.datasets import fetch_openml\n",
    "\n",
    "# X, y = fetch_openml('mnist_784', version=1, return_X_y=True)\n",
    "# X = X.values\n",
    "# y = y.astype(int).values\n",
    "# \n",
    "# print(X.shape)\n",
    "# print(y.shape)"
   ]
  },
  {
   "cell_type": "code",
   "execution_count": 4,
   "outputs": [
    {
     "name": "stdout",
     "output_type": "stream",
     "text": [
      "PyTorch version: 1.13.1\n"
     ]
    }
   ],
   "source": [
    "import numpy as np\n",
    "import torch\n",
    "\n",
    "print('PyTorch version:', torch.__version__)\n",
    "\n",
    "np.set_printoptions(precision=3)"
   ],
   "metadata": {
    "collapsed": false,
    "ExecuteTime": {
     "end_time": "2023-08-01T07:56:40.218395Z",
     "start_time": "2023-08-01T07:56:40.210282Z"
    }
   },
   "id": "af81709b2cb2c64c"
  },
  {
   "cell_type": "markdown",
   "source": [
    "## Creating tensors in Pytorch"
   ],
   "metadata": {
    "collapsed": false
   },
   "id": "e33a9dcba44a7007"
  },
  {
   "cell_type": "code",
   "execution_count": 2,
   "outputs": [
    {
     "name": "stdout",
     "output_type": "stream",
     "text": [
      "tensor([1, 2, 3])\n",
      "tensor([4, 5, 6], dtype=torch.int32)\n"
     ]
    }
   ],
   "source": [
    "a = [1, 2, 3]\n",
    "b = np.array([4, 5, 6], dtype=np.int32)\n",
    "\n",
    "t_a = torch.tensor(a)\n",
    "t_b = torch.from_numpy(b)\n",
    "\n",
    "print(t_a)\n",
    "print(t_b)"
   ],
   "metadata": {
    "collapsed": false,
    "ExecuteTime": {
     "end_time": "2023-08-01T07:56:08.693333Z",
     "start_time": "2023-08-01T07:56:08.676983Z"
    }
   },
   "id": "e00bb73084a65f2d"
  },
  {
   "cell_type": "code",
   "execution_count": 7,
   "outputs": [
    {
     "data": {
      "text/plain": "torch.int64"
     },
     "execution_count": 7,
     "metadata": {},
     "output_type": "execute_result"
    }
   ],
   "source": [
    "t_a.dtype"
   ],
   "metadata": {
    "collapsed": false,
    "ExecuteTime": {
     "end_time": "2023-08-01T08:10:09.257922Z",
     "start_time": "2023-08-01T08:10:09.251395Z"
    }
   },
   "id": "f892358025d593ed"
  },
  {
   "cell_type": "code",
   "execution_count": 3,
   "outputs": [
    {
     "data": {
      "text/plain": "(False, True)"
     },
     "execution_count": 3,
     "metadata": {},
     "output_type": "execute_result"
    }
   ],
   "source": [
    "torch.is_tensor(a), torch.is_tensor(t_a)"
   ],
   "metadata": {
    "collapsed": false,
    "ExecuteTime": {
     "end_time": "2023-08-01T07:56:25.886486Z",
     "start_time": "2023-08-01T07:56:25.877913Z"
    }
   },
   "id": "8d6ddfa4acfd1089"
  },
  {
   "cell_type": "code",
   "execution_count": 5,
   "outputs": [
    {
     "data": {
      "text/plain": "torch.Size([2, 3])"
     },
     "execution_count": 5,
     "metadata": {},
     "output_type": "execute_result"
    }
   ],
   "source": [
    "t_ones = torch.ones(2, 3)\n",
    "t_ones.shape"
   ],
   "metadata": {
    "collapsed": false,
    "ExecuteTime": {
     "end_time": "2023-08-01T07:57:59.724267Z",
     "start_time": "2023-08-01T07:57:59.710755Z"
    }
   },
   "id": "75b49fb69639b722"
  },
  {
   "cell_type": "markdown",
   "source": [
    "## Manipulating the data type and shape of a tensor"
   ],
   "metadata": {
    "collapsed": false
   },
   "id": "e0141751d83ca83"
  },
  {
   "cell_type": "code",
   "execution_count": 8,
   "outputs": [],
   "source": [
    "t_a_new = t_a.to(torch.int64)"
   ],
   "metadata": {
    "collapsed": false,
    "ExecuteTime": {
     "end_time": "2023-08-01T08:10:21.392050Z",
     "start_time": "2023-08-01T08:10:21.384294Z"
    }
   },
   "id": "d7335ce96a3b5190"
  },
  {
   "cell_type": "code",
   "execution_count": 9,
   "outputs": [],
   "source": [
    "t = torch.rand(3, 5)\n",
    "t_tr = torch.transpose(t, 0, 1)"
   ],
   "metadata": {
    "collapsed": false,
    "ExecuteTime": {
     "end_time": "2023-08-01T08:47:59.584606Z",
     "start_time": "2023-08-01T08:47:59.564242Z"
    }
   },
   "id": "98335c915bc7ee5d"
  },
  {
   "cell_type": "markdown",
   "source": [
    "## Creating a Pytorch DataLoader from existing tensors"
   ],
   "metadata": {
    "collapsed": false
   },
   "id": "f4028f6aebd4ae96"
  },
  {
   "cell_type": "code",
   "execution_count": 10,
   "outputs": [
    {
     "name": "stdout",
     "output_type": "stream",
     "text": [
      "tensor([0.])\n",
      "tensor([1.])\n",
      "tensor([2.])\n",
      "tensor([3.])\n",
      "tensor([4.])\n",
      "tensor([5.])\n"
     ]
    }
   ],
   "source": [
    "from torch.utils.data import DataLoader\n",
    "\n",
    "t = torch.arange(6, dtype=torch.float32)\n",
    "data_loader = DataLoader(t)\n",
    "\n",
    "for item in data_loader:\n",
    "    print(item)"
   ],
   "metadata": {
    "collapsed": false,
    "ExecuteTime": {
     "end_time": "2023-08-01T08:49:49.259574Z",
     "start_time": "2023-08-01T08:49:49.234354Z"
    }
   },
   "id": "54f53b8ec6b0c45c"
  },
  {
   "cell_type": "code",
   "execution_count": 11,
   "outputs": [
    {
     "name": "stdout",
     "output_type": "stream",
     "text": [
      "batch 1: tensor([0., 1., 2.])\n",
      "batch 2: tensor([3., 4., 5.])\n"
     ]
    }
   ],
   "source": [
    "data_loader = DataLoader(t, batch_size=3, drop_last=False)\n",
    "\n",
    "for i, batch in enumerate(data_loader, 1):\n",
    "    print(f'batch {i}:', batch)"
   ],
   "metadata": {
    "collapsed": false,
    "ExecuteTime": {
     "end_time": "2023-08-01T08:51:31.877616Z",
     "start_time": "2023-08-01T08:51:31.862484Z"
    }
   },
   "id": "89728601030ba3e5"
  },
  {
   "cell_type": "markdown",
   "source": [
    "### Combining two tensors into a joint dataset"
   ],
   "metadata": {
    "collapsed": false
   },
   "id": "e0dbf91d1129813e"
  },
  {
   "cell_type": "code",
   "execution_count": 12,
   "outputs": [],
   "source": [
    "from torch.utils.data import Dataset\n",
    "\n",
    "class JointDataset(Dataset):\n",
    "    def __init__(self, x, y):\n",
    "        self.x = x\n",
    "        self.y = y\n",
    "        \n",
    "    def __getitem__(self, idx):\n",
    "        return self.x[idx], self.y[idx]\n",
    "    \n",
    "    def __len__(self):\n",
    "        return len(self.x)"
   ],
   "metadata": {
    "collapsed": false,
    "ExecuteTime": {
     "end_time": "2023-08-01T08:54:51.880877Z",
     "start_time": "2023-08-01T08:54:51.865611Z"
    }
   },
   "id": "f1a026e4c163c7f0"
  },
  {
   "cell_type": "code",
   "execution_count": null,
   "outputs": [],
   "source": [
    "torch.manual_seed(1)\n",
    "\n",
    "t_x = torch.rand([4, 3], dtype=torch.float32)\n",
    "t_y = torch.arange(4)\n",
    "joint_dataset = JointDataset(t_x, t_y)\n",
    "\n",
    "# Or use TensorDataset directly\n",
    "from torch.utils.data import TensorDataset\n",
    "joint_dataset = TensorDataset(t_x, t_y)\n",
    "\n",
    "for example in joint_dataset:\n",
    "    print('  x: ', example[0],\n",
    "          '  y: ', example[1])"
   ],
   "metadata": {
    "collapsed": false
   },
   "id": "5b24101f2577e28"
  }
 ],
 "metadata": {
  "kernelspec": {
   "display_name": "Python 3",
   "language": "python",
   "name": "python3"
  },
  "language_info": {
   "codemirror_mode": {
    "name": "ipython",
    "version": 2
   },
   "file_extension": ".py",
   "mimetype": "text/x-python",
   "name": "python",
   "nbconvert_exporter": "python",
   "pygments_lexer": "ipython2",
   "version": "2.7.6"
  }
 },
 "nbformat": 4,
 "nbformat_minor": 5
}
