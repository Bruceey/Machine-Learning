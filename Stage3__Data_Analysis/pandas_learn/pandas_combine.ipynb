{
 "cells": [
  {
   "cell_type": "code",
   "execution_count": 1,
   "metadata": {
    "collapsed": true
   },
   "outputs": [],
   "source": [
    "import numpy as np\n",
    "import pandas as pd\n",
    "import matplotlib.pyplot as plt"
   ]
  },
  {
   "cell_type": "code",
   "execution_count": 2,
   "outputs": [],
   "source": [
    "import os\n",
    "import sys\n",
    "if sys.platform == 'win32':\n",
    "    dir = r\"D:\\黑马课程\\人工智能V3.0（尊享无忧）\\00 课程资料\\3.阶段三数据处理与统计分析\\数据处理与统计分析v3.0视频（第二部分）\\资料\\data\"\n",
    "else:\n",
    "    dir = r'/Users/wangrui/Desktop/00 课程资料/3.阶段三数据处理与统计分析/数据处理与统计分析v3.0视频（第二部分）/资料/data'"
   ],
   "metadata": {
    "collapsed": false
   }
  },
  {
   "cell_type": "code",
   "execution_count": 3,
   "outputs": [
    {
     "data": {
      "text/plain": "    A   B   C   D\n0  a0  b0  c0  d0\n1  a1  b1  c1  d1\n2  a2  b2  c2  d2\n3  a3  b3  c3  d3",
      "text/html": "<div>\n<style scoped>\n    .dataframe tbody tr th:only-of-type {\n        vertical-align: middle;\n    }\n\n    .dataframe tbody tr th {\n        vertical-align: top;\n    }\n\n    .dataframe thead th {\n        text-align: right;\n    }\n</style>\n<table border=\"1\" class=\"dataframe\">\n  <thead>\n    <tr style=\"text-align: right;\">\n      <th></th>\n      <th>A</th>\n      <th>B</th>\n      <th>C</th>\n      <th>D</th>\n    </tr>\n  </thead>\n  <tbody>\n    <tr>\n      <td>0</td>\n      <td>a0</td>\n      <td>b0</td>\n      <td>c0</td>\n      <td>d0</td>\n    </tr>\n    <tr>\n      <td>1</td>\n      <td>a1</td>\n      <td>b1</td>\n      <td>c1</td>\n      <td>d1</td>\n    </tr>\n    <tr>\n      <td>2</td>\n      <td>a2</td>\n      <td>b2</td>\n      <td>c2</td>\n      <td>d2</td>\n    </tr>\n    <tr>\n      <td>3</td>\n      <td>a3</td>\n      <td>b3</td>\n      <td>c3</td>\n      <td>d3</td>\n    </tr>\n  </tbody>\n</table>\n</div>"
     },
     "execution_count": 3,
     "metadata": {},
     "output_type": "execute_result"
    }
   ],
   "source": [
    "df1 = pd.read_csv(os.path.join(dir, 'concat_1.csv'))\n",
    "df2 = pd.read_csv(os.path.join(dir, 'concat_2.csv'))\n",
    "df3 = pd.read_csv(os.path.join(dir, 'concat_3.csv'))\n",
    "df1"
   ],
   "metadata": {
    "collapsed": false
   }
  },
  {
   "cell_type": "code",
   "execution_count": 4,
   "outputs": [
    {
     "data": {
      "text/plain": "    A   B   C   D\n0  a4  b4  c4  d4\n1  a5  b5  c5  d5\n2  a6  b6  c6  d6\n3  a7  b7  c7  d7",
      "text/html": "<div>\n<style scoped>\n    .dataframe tbody tr th:only-of-type {\n        vertical-align: middle;\n    }\n\n    .dataframe tbody tr th {\n        vertical-align: top;\n    }\n\n    .dataframe thead th {\n        text-align: right;\n    }\n</style>\n<table border=\"1\" class=\"dataframe\">\n  <thead>\n    <tr style=\"text-align: right;\">\n      <th></th>\n      <th>A</th>\n      <th>B</th>\n      <th>C</th>\n      <th>D</th>\n    </tr>\n  </thead>\n  <tbody>\n    <tr>\n      <td>0</td>\n      <td>a4</td>\n      <td>b4</td>\n      <td>c4</td>\n      <td>d4</td>\n    </tr>\n    <tr>\n      <td>1</td>\n      <td>a5</td>\n      <td>b5</td>\n      <td>c5</td>\n      <td>d5</td>\n    </tr>\n    <tr>\n      <td>2</td>\n      <td>a6</td>\n      <td>b6</td>\n      <td>c6</td>\n      <td>d6</td>\n    </tr>\n    <tr>\n      <td>3</td>\n      <td>a7</td>\n      <td>b7</td>\n      <td>c7</td>\n      <td>d7</td>\n    </tr>\n  </tbody>\n</table>\n</div>"
     },
     "execution_count": 4,
     "metadata": {},
     "output_type": "execute_result"
    }
   ],
   "source": [
    "df2"
   ],
   "metadata": {
    "collapsed": false
   }
  },
  {
   "cell_type": "code",
   "execution_count": 5,
   "outputs": [
    {
     "data": {
      "text/plain": "     A    B    C    D\n0   a8   b8   c8   d8\n1   a9   b9   c9   d9\n2  a10  b10  c10  d10\n3  a11  b11  c11  d11",
      "text/html": "<div>\n<style scoped>\n    .dataframe tbody tr th:only-of-type {\n        vertical-align: middle;\n    }\n\n    .dataframe tbody tr th {\n        vertical-align: top;\n    }\n\n    .dataframe thead th {\n        text-align: right;\n    }\n</style>\n<table border=\"1\" class=\"dataframe\">\n  <thead>\n    <tr style=\"text-align: right;\">\n      <th></th>\n      <th>A</th>\n      <th>B</th>\n      <th>C</th>\n      <th>D</th>\n    </tr>\n  </thead>\n  <tbody>\n    <tr>\n      <td>0</td>\n      <td>a8</td>\n      <td>b8</td>\n      <td>c8</td>\n      <td>d8</td>\n    </tr>\n    <tr>\n      <td>1</td>\n      <td>a9</td>\n      <td>b9</td>\n      <td>c9</td>\n      <td>d9</td>\n    </tr>\n    <tr>\n      <td>2</td>\n      <td>a10</td>\n      <td>b10</td>\n      <td>c10</td>\n      <td>d10</td>\n    </tr>\n    <tr>\n      <td>3</td>\n      <td>a11</td>\n      <td>b11</td>\n      <td>c11</td>\n      <td>d11</td>\n    </tr>\n  </tbody>\n</table>\n</div>"
     },
     "execution_count": 5,
     "metadata": {},
     "output_type": "execute_result"
    }
   ],
   "source": [
    "df3"
   ],
   "metadata": {
    "collapsed": false
   }
  },
  {
   "cell_type": "code",
   "execution_count": 6,
   "outputs": [
    {
     "data": {
      "text/plain": "      A    B    C    D\n0    a0   b0   c0   d0\n1    a1   b1   c1   d1\n2    a2   b2   c2   d2\n3    a3   b3   c3   d3\n4    a4   b4   c4   d4\n5    a5   b5   c5   d5\n6    a6   b6   c6   d6\n7    a7   b7   c7   d7\n8    a8   b8   c8   d8\n9    a9   b9   c9   d9\n10  a10  b10  c10  d10\n11  a11  b11  c11  d11",
      "text/html": "<div>\n<style scoped>\n    .dataframe tbody tr th:only-of-type {\n        vertical-align: middle;\n    }\n\n    .dataframe tbody tr th {\n        vertical-align: top;\n    }\n\n    .dataframe thead th {\n        text-align: right;\n    }\n</style>\n<table border=\"1\" class=\"dataframe\">\n  <thead>\n    <tr style=\"text-align: right;\">\n      <th></th>\n      <th>A</th>\n      <th>B</th>\n      <th>C</th>\n      <th>D</th>\n    </tr>\n  </thead>\n  <tbody>\n    <tr>\n      <td>0</td>\n      <td>a0</td>\n      <td>b0</td>\n      <td>c0</td>\n      <td>d0</td>\n    </tr>\n    <tr>\n      <td>1</td>\n      <td>a1</td>\n      <td>b1</td>\n      <td>c1</td>\n      <td>d1</td>\n    </tr>\n    <tr>\n      <td>2</td>\n      <td>a2</td>\n      <td>b2</td>\n      <td>c2</td>\n      <td>d2</td>\n    </tr>\n    <tr>\n      <td>3</td>\n      <td>a3</td>\n      <td>b3</td>\n      <td>c3</td>\n      <td>d3</td>\n    </tr>\n    <tr>\n      <td>4</td>\n      <td>a4</td>\n      <td>b4</td>\n      <td>c4</td>\n      <td>d4</td>\n    </tr>\n    <tr>\n      <td>5</td>\n      <td>a5</td>\n      <td>b5</td>\n      <td>c5</td>\n      <td>d5</td>\n    </tr>\n    <tr>\n      <td>6</td>\n      <td>a6</td>\n      <td>b6</td>\n      <td>c6</td>\n      <td>d6</td>\n    </tr>\n    <tr>\n      <td>7</td>\n      <td>a7</td>\n      <td>b7</td>\n      <td>c7</td>\n      <td>d7</td>\n    </tr>\n    <tr>\n      <td>8</td>\n      <td>a8</td>\n      <td>b8</td>\n      <td>c8</td>\n      <td>d8</td>\n    </tr>\n    <tr>\n      <td>9</td>\n      <td>a9</td>\n      <td>b9</td>\n      <td>c9</td>\n      <td>d9</td>\n    </tr>\n    <tr>\n      <td>10</td>\n      <td>a10</td>\n      <td>b10</td>\n      <td>c10</td>\n      <td>d10</td>\n    </tr>\n    <tr>\n      <td>11</td>\n      <td>a11</td>\n      <td>b11</td>\n      <td>c11</td>\n      <td>d11</td>\n    </tr>\n  </tbody>\n</table>\n</div>"
     },
     "execution_count": 6,
     "metadata": {},
     "output_type": "execute_result"
    }
   ],
   "source": [
    "pd.concat([df1, df2, df3], ignore_index=True)"
   ],
   "metadata": {
    "collapsed": false
   }
  },
  {
   "cell_type": "code",
   "execution_count": 7,
   "outputs": [
    {
     "data": {
      "text/plain": "    A   B   C   D\n0  a0  b0  c0  d0\n1  a1  b1  c1  d1\n2  a2  b2  c2  d2\n3  a3  b3  c3  d3\n4  n1  n2  n3  n4",
      "text/html": "<div>\n<style scoped>\n    .dataframe tbody tr th:only-of-type {\n        vertical-align: middle;\n    }\n\n    .dataframe tbody tr th {\n        vertical-align: top;\n    }\n\n    .dataframe thead th {\n        text-align: right;\n    }\n</style>\n<table border=\"1\" class=\"dataframe\">\n  <thead>\n    <tr style=\"text-align: right;\">\n      <th></th>\n      <th>A</th>\n      <th>B</th>\n      <th>C</th>\n      <th>D</th>\n    </tr>\n  </thead>\n  <tbody>\n    <tr>\n      <td>0</td>\n      <td>a0</td>\n      <td>b0</td>\n      <td>c0</td>\n      <td>d0</td>\n    </tr>\n    <tr>\n      <td>1</td>\n      <td>a1</td>\n      <td>b1</td>\n      <td>c1</td>\n      <td>d1</td>\n    </tr>\n    <tr>\n      <td>2</td>\n      <td>a2</td>\n      <td>b2</td>\n      <td>c2</td>\n      <td>d2</td>\n    </tr>\n    <tr>\n      <td>3</td>\n      <td>a3</td>\n      <td>b3</td>\n      <td>c3</td>\n      <td>d3</td>\n    </tr>\n    <tr>\n      <td>4</td>\n      <td>n1</td>\n      <td>n2</td>\n      <td>n3</td>\n      <td>n4</td>\n    </tr>\n  </tbody>\n</table>\n</div>"
     },
     "execution_count": 7,
     "metadata": {},
     "output_type": "execute_result"
    }
   ],
   "source": [
    "data_dict = {'A': 'n1', 'B': 'n2', 'C': 'n3', 'D': 'n4'}\n",
    "df1.append(data_dict, ignore_index=True)"
   ],
   "metadata": {
    "collapsed": false
   }
  },
  {
   "cell_type": "code",
   "execution_count": 8,
   "outputs": [
    {
     "data": {
      "text/plain": "   ident   site       dated\n0    619   DR-1  1927-02-08\n1    622   DR-1  1927-02-10\n2    734   DR-3  1939-01-07\n3    735   DR-3  1930-01-12\n4    751   DR-3  1930-02-26\n5    752   DR-3            \n6    837  MSK-4  1932-01-14\n7    844   DR-1  1932-03-22",
      "text/html": "<div>\n<style scoped>\n    .dataframe tbody tr th:only-of-type {\n        vertical-align: middle;\n    }\n\n    .dataframe tbody tr th {\n        vertical-align: top;\n    }\n\n    .dataframe thead th {\n        text-align: right;\n    }\n</style>\n<table border=\"1\" class=\"dataframe\">\n  <thead>\n    <tr style=\"text-align: right;\">\n      <th></th>\n      <th>ident</th>\n      <th>site</th>\n      <th>dated</th>\n    </tr>\n  </thead>\n  <tbody>\n    <tr>\n      <td>0</td>\n      <td>619</td>\n      <td>DR-1</td>\n      <td>1927-02-08</td>\n    </tr>\n    <tr>\n      <td>1</td>\n      <td>622</td>\n      <td>DR-1</td>\n      <td>1927-02-10</td>\n    </tr>\n    <tr>\n      <td>2</td>\n      <td>734</td>\n      <td>DR-3</td>\n      <td>1939-01-07</td>\n    </tr>\n    <tr>\n      <td>3</td>\n      <td>735</td>\n      <td>DR-3</td>\n      <td>1930-01-12</td>\n    </tr>\n    <tr>\n      <td>4</td>\n      <td>751</td>\n      <td>DR-3</td>\n      <td>1930-02-26</td>\n    </tr>\n    <tr>\n      <td>5</td>\n      <td>752</td>\n      <td>DR-3</td>\n      <td></td>\n    </tr>\n    <tr>\n      <td>6</td>\n      <td>837</td>\n      <td>MSK-4</td>\n      <td>1932-01-14</td>\n    </tr>\n    <tr>\n      <td>7</td>\n      <td>844</td>\n      <td>DR-1</td>\n      <td>1932-03-22</td>\n    </tr>\n  </tbody>\n</table>\n</div>"
     },
     "execution_count": 8,
     "metadata": {},
     "output_type": "execute_result"
    }
   ],
   "source": [
    "df = pd.read_csv(os.path.join(dir, 'survey_visited.csv'), keep_default_na=False)\n",
    "df"
   ],
   "metadata": {
    "collapsed": false
   }
  },
  {
   "cell_type": "code",
   "execution_count": 9,
   "outputs": [
    {
     "data": {
      "text/plain": "   id  weight  height   age gender    income\n0   1   143.5     5.6  28.0      M  100000.0\n1   2   167.2     5.4  45.0      M       NaN\n2   3     NaN     5.2   NaN   None       NaN\n3   4   144.5     5.9  33.0      M       NaN\n4   5   133.2     5.7  54.0      F       NaN\n5   6   124.1     5.2   NaN      F       NaN\n6   7   129.2     5.3  42.0      M   76000.0",
      "text/html": "<div>\n<style scoped>\n    .dataframe tbody tr th:only-of-type {\n        vertical-align: middle;\n    }\n\n    .dataframe tbody tr th {\n        vertical-align: top;\n    }\n\n    .dataframe thead th {\n        text-align: right;\n    }\n</style>\n<table border=\"1\" class=\"dataframe\">\n  <thead>\n    <tr style=\"text-align: right;\">\n      <th></th>\n      <th>id</th>\n      <th>weight</th>\n      <th>height</th>\n      <th>age</th>\n      <th>gender</th>\n      <th>income</th>\n    </tr>\n  </thead>\n  <tbody>\n    <tr>\n      <td>0</td>\n      <td>1</td>\n      <td>143.5</td>\n      <td>5.6</td>\n      <td>28.0</td>\n      <td>M</td>\n      <td>100000.0</td>\n    </tr>\n    <tr>\n      <td>1</td>\n      <td>2</td>\n      <td>167.2</td>\n      <td>5.4</td>\n      <td>45.0</td>\n      <td>M</td>\n      <td>NaN</td>\n    </tr>\n    <tr>\n      <td>2</td>\n      <td>3</td>\n      <td>NaN</td>\n      <td>5.2</td>\n      <td>NaN</td>\n      <td>None</td>\n      <td>NaN</td>\n    </tr>\n    <tr>\n      <td>3</td>\n      <td>4</td>\n      <td>144.5</td>\n      <td>5.9</td>\n      <td>33.0</td>\n      <td>M</td>\n      <td>NaN</td>\n    </tr>\n    <tr>\n      <td>4</td>\n      <td>5</td>\n      <td>133.2</td>\n      <td>5.7</td>\n      <td>54.0</td>\n      <td>F</td>\n      <td>NaN</td>\n    </tr>\n    <tr>\n      <td>5</td>\n      <td>6</td>\n      <td>124.1</td>\n      <td>5.2</td>\n      <td>NaN</td>\n      <td>F</td>\n      <td>NaN</td>\n    </tr>\n    <tr>\n      <td>6</td>\n      <td>7</td>\n      <td>129.2</td>\n      <td>5.3</td>\n      <td>42.0</td>\n      <td>M</td>\n      <td>76000.0</td>\n    </tr>\n  </tbody>\n</table>\n</div>"
     },
     "execution_count": 9,
     "metadata": {},
     "output_type": "execute_result"
    }
   ],
   "source": [
    "# 构造dataframe\n",
    "df = pd.DataFrame(data = [\n",
    "    (1, 143.5, 5.6, 28,'M', 100000),\n",
    "    (2, 167.2, 5.4, 45,'M', None),\n",
    "    (3, None , 5.2, None, None, None),\n",
    "    (4, 144.5, 5.9, 33, 'M', None),\n",
    "    (5, 133.2, 5.7, 54, 'F', None),\n",
    "    (6, 124.1, 5.2, None, 'F', None),\n",
    "    (7, 129.2, 5.3, 42, 'M', 76000),], columns=['id', 'weight', 'height', 'age', 'gender', 'income'])\n",
    "df"
   ],
   "metadata": {
    "collapsed": false
   }
  },
  {
   "cell_type": "code",
   "execution_count": 10,
   "outputs": [
    {
     "data": {
      "text/plain": "   id  weight  height   age gender    income\n0   1   143.5     5.6  28.0      M  100000.0\n6   7   129.2     5.3  42.0      M   76000.0",
      "text/html": "<div>\n<style scoped>\n    .dataframe tbody tr th:only-of-type {\n        vertical-align: middle;\n    }\n\n    .dataframe tbody tr th {\n        vertical-align: top;\n    }\n\n    .dataframe thead th {\n        text-align: right;\n    }\n</style>\n<table border=\"1\" class=\"dataframe\">\n  <thead>\n    <tr style=\"text-align: right;\">\n      <th></th>\n      <th>id</th>\n      <th>weight</th>\n      <th>height</th>\n      <th>age</th>\n      <th>gender</th>\n      <th>income</th>\n    </tr>\n  </thead>\n  <tbody>\n    <tr>\n      <td>0</td>\n      <td>1</td>\n      <td>143.5</td>\n      <td>5.6</td>\n      <td>28.0</td>\n      <td>M</td>\n      <td>100000.0</td>\n    </tr>\n    <tr>\n      <td>6</td>\n      <td>7</td>\n      <td>129.2</td>\n      <td>5.3</td>\n      <td>42.0</td>\n      <td>M</td>\n      <td>76000.0</td>\n    </tr>\n  </tbody>\n</table>\n</div>"
     },
     "execution_count": 10,
     "metadata": {},
     "output_type": "execute_result"
    }
   ],
   "source": [
    "df.dropna()"
   ],
   "metadata": {
    "collapsed": false
   }
  },
  {
   "cell_type": "code",
   "execution_count": 11,
   "outputs": [
    {
     "data": {
      "text/plain": "   id  weight  height   age gender    income\n0   1   143.5     5.6  28.0      M  100000.0\n1   2   167.2     5.4  45.0      M       NaN\n3   4   144.5     5.9  33.0      M       NaN\n4   5   133.2     5.7  54.0      F       NaN\n6   7   129.2     5.3  42.0      M   76000.0",
      "text/html": "<div>\n<style scoped>\n    .dataframe tbody tr th:only-of-type {\n        vertical-align: middle;\n    }\n\n    .dataframe tbody tr th {\n        vertical-align: top;\n    }\n\n    .dataframe thead th {\n        text-align: right;\n    }\n</style>\n<table border=\"1\" class=\"dataframe\">\n  <thead>\n    <tr style=\"text-align: right;\">\n      <th></th>\n      <th>id</th>\n      <th>weight</th>\n      <th>height</th>\n      <th>age</th>\n      <th>gender</th>\n      <th>income</th>\n    </tr>\n  </thead>\n  <tbody>\n    <tr>\n      <td>0</td>\n      <td>1</td>\n      <td>143.5</td>\n      <td>5.6</td>\n      <td>28.0</td>\n      <td>M</td>\n      <td>100000.0</td>\n    </tr>\n    <tr>\n      <td>1</td>\n      <td>2</td>\n      <td>167.2</td>\n      <td>5.4</td>\n      <td>45.0</td>\n      <td>M</td>\n      <td>NaN</td>\n    </tr>\n    <tr>\n      <td>3</td>\n      <td>4</td>\n      <td>144.5</td>\n      <td>5.9</td>\n      <td>33.0</td>\n      <td>M</td>\n      <td>NaN</td>\n    </tr>\n    <tr>\n      <td>4</td>\n      <td>5</td>\n      <td>133.2</td>\n      <td>5.7</td>\n      <td>54.0</td>\n      <td>F</td>\n      <td>NaN</td>\n    </tr>\n    <tr>\n      <td>6</td>\n      <td>7</td>\n      <td>129.2</td>\n      <td>5.3</td>\n      <td>42.0</td>\n      <td>M</td>\n      <td>76000.0</td>\n    </tr>\n  </tbody>\n</table>\n</div>"
     },
     "execution_count": 11,
     "metadata": {},
     "output_type": "execute_result"
    }
   ],
   "source": [
    "df.dropna(subset=['age', 'income'], how='all')"
   ],
   "metadata": {
    "collapsed": false
   }
  },
  {
   "cell_type": "code",
   "execution_count": 12,
   "outputs": [
    {
     "data": {
      "text/plain": "   id  weight  height   age gender    income\n0   1   143.5     5.6  28.0      M  100000.0\n1   2   167.2     5.4  45.0      M       0.0\n2   3     0.0     5.2   0.0      0       0.0\n3   4   144.5     5.9  33.0      M       0.0\n4   5   133.2     5.7  54.0      F       0.0\n5   6   124.1     5.2   0.0      F       0.0\n6   7   129.2     5.3  42.0      M   76000.0",
      "text/html": "<div>\n<style scoped>\n    .dataframe tbody tr th:only-of-type {\n        vertical-align: middle;\n    }\n\n    .dataframe tbody tr th {\n        vertical-align: top;\n    }\n\n    .dataframe thead th {\n        text-align: right;\n    }\n</style>\n<table border=\"1\" class=\"dataframe\">\n  <thead>\n    <tr style=\"text-align: right;\">\n      <th></th>\n      <th>id</th>\n      <th>weight</th>\n      <th>height</th>\n      <th>age</th>\n      <th>gender</th>\n      <th>income</th>\n    </tr>\n  </thead>\n  <tbody>\n    <tr>\n      <td>0</td>\n      <td>1</td>\n      <td>143.5</td>\n      <td>5.6</td>\n      <td>28.0</td>\n      <td>M</td>\n      <td>100000.0</td>\n    </tr>\n    <tr>\n      <td>1</td>\n      <td>2</td>\n      <td>167.2</td>\n      <td>5.4</td>\n      <td>45.0</td>\n      <td>M</td>\n      <td>0.0</td>\n    </tr>\n    <tr>\n      <td>2</td>\n      <td>3</td>\n      <td>0.0</td>\n      <td>5.2</td>\n      <td>0.0</td>\n      <td>0</td>\n      <td>0.0</td>\n    </tr>\n    <tr>\n      <td>3</td>\n      <td>4</td>\n      <td>144.5</td>\n      <td>5.9</td>\n      <td>33.0</td>\n      <td>M</td>\n      <td>0.0</td>\n    </tr>\n    <tr>\n      <td>4</td>\n      <td>5</td>\n      <td>133.2</td>\n      <td>5.7</td>\n      <td>54.0</td>\n      <td>F</td>\n      <td>0.0</td>\n    </tr>\n    <tr>\n      <td>5</td>\n      <td>6</td>\n      <td>124.1</td>\n      <td>5.2</td>\n      <td>0.0</td>\n      <td>F</td>\n      <td>0.0</td>\n    </tr>\n    <tr>\n      <td>6</td>\n      <td>7</td>\n      <td>129.2</td>\n      <td>5.3</td>\n      <td>42.0</td>\n      <td>M</td>\n      <td>76000.0</td>\n    </tr>\n  </tbody>\n</table>\n</div>"
     },
     "execution_count": 12,
     "metadata": {},
     "output_type": "execute_result"
    }
   ],
   "source": [
    "df.fillna(0)"
   ],
   "metadata": {
    "collapsed": false
   }
  },
  {
   "cell_type": "code",
   "execution_count": 13,
   "outputs": [
    {
     "data": {
      "text/plain": "'C:\\\\Users\\\\17634\\\\DataspellProjects\\\\ds-project'"
     },
     "execution_count": 13,
     "metadata": {},
     "output_type": "execute_result"
    }
   ],
   "source": [
    "os.getcwd()"
   ],
   "metadata": {
    "collapsed": false
   }
  },
  {
   "cell_type": "code",
   "execution_count": 14,
   "outputs": [
    {
     "data": {
      "text/plain": "                     City  PM2.5   PM10     NO    NO2    NOx    NH3     CO  \\\nDate                                                                         \n2015-01-01      Ahmedabad    NaN    NaN   0.92  18.22  17.15    NaN   0.92   \n2015-01-02      Ahmedabad    NaN    NaN   0.97  15.69  16.46    NaN   0.97   \n2015-01-03      Ahmedabad    NaN    NaN  17.40  19.30  29.70    NaN  17.40   \n2015-01-04      Ahmedabad    NaN    NaN   1.70  18.48  17.97    NaN   1.70   \n2015-01-05      Ahmedabad    NaN    NaN  22.10  21.42  37.76    NaN  22.10   \n...                   ...    ...    ...    ...    ...    ...    ...    ...   \n2020-06-27  Visakhapatnam  15.02  50.94   7.68  25.06  19.54  12.47   0.47   \n2020-06-28  Visakhapatnam  24.38  74.09   3.42  26.06  16.53  11.99   0.52   \n2020-06-29  Visakhapatnam  22.91  65.73   3.45  29.53  18.33  10.71   0.48   \n2020-06-30  Visakhapatnam  16.64  49.97   4.05  29.26  18.80  10.03   0.52   \n2020-07-01  Visakhapatnam  15.00  66.00   0.40  26.85  14.05   5.20   0.59   \n\n              SO2      O3  Benzene  Toluene  Xylene   AQI    AQI_Bucket  \nDate                                                                     \n2015-01-01  27.64  133.36     0.00     0.02    0.00   NaN           NaN  \n2015-01-02  24.55   34.06     3.68     5.50    3.77   NaN           NaN  \n2015-01-03  29.07   30.70     6.80    16.40    2.25   NaN           NaN  \n2015-01-04  18.59   36.08     4.43    10.14    1.00   NaN           NaN  \n2015-01-05  39.33   39.31     7.01    18.89    2.78   NaN           NaN  \n...           ...     ...      ...      ...     ...   ...           ...  \n2020-06-27   8.55   23.30     2.24    12.07    0.73  41.0          Good  \n2020-06-28  12.72   30.14     0.74     2.21    0.38  70.0  Satisfactory  \n2020-06-29   8.42   30.96     0.01     0.01    0.00  68.0  Satisfactory  \n2020-06-30   9.84   28.30     0.00     0.00    0.00  54.0  Satisfactory  \n2020-07-01   2.10   17.05      NaN      NaN     NaN  50.0          Good  \n\n[29531 rows x 15 columns]",
      "text/html": "<div>\n<style scoped>\n    .dataframe tbody tr th:only-of-type {\n        vertical-align: middle;\n    }\n\n    .dataframe tbody tr th {\n        vertical-align: top;\n    }\n\n    .dataframe thead th {\n        text-align: right;\n    }\n</style>\n<table border=\"1\" class=\"dataframe\">\n  <thead>\n    <tr style=\"text-align: right;\">\n      <th></th>\n      <th>City</th>\n      <th>PM2.5</th>\n      <th>PM10</th>\n      <th>NO</th>\n      <th>NO2</th>\n      <th>NOx</th>\n      <th>NH3</th>\n      <th>CO</th>\n      <th>SO2</th>\n      <th>O3</th>\n      <th>Benzene</th>\n      <th>Toluene</th>\n      <th>Xylene</th>\n      <th>AQI</th>\n      <th>AQI_Bucket</th>\n    </tr>\n    <tr>\n      <th>Date</th>\n      <th></th>\n      <th></th>\n      <th></th>\n      <th></th>\n      <th></th>\n      <th></th>\n      <th></th>\n      <th></th>\n      <th></th>\n      <th></th>\n      <th></th>\n      <th></th>\n      <th></th>\n      <th></th>\n      <th></th>\n    </tr>\n  </thead>\n  <tbody>\n    <tr>\n      <td>2015-01-01</td>\n      <td>Ahmedabad</td>\n      <td>NaN</td>\n      <td>NaN</td>\n      <td>0.92</td>\n      <td>18.22</td>\n      <td>17.15</td>\n      <td>NaN</td>\n      <td>0.92</td>\n      <td>27.64</td>\n      <td>133.36</td>\n      <td>0.00</td>\n      <td>0.02</td>\n      <td>0.00</td>\n      <td>NaN</td>\n      <td>NaN</td>\n    </tr>\n    <tr>\n      <td>2015-01-02</td>\n      <td>Ahmedabad</td>\n      <td>NaN</td>\n      <td>NaN</td>\n      <td>0.97</td>\n      <td>15.69</td>\n      <td>16.46</td>\n      <td>NaN</td>\n      <td>0.97</td>\n      <td>24.55</td>\n      <td>34.06</td>\n      <td>3.68</td>\n      <td>5.50</td>\n      <td>3.77</td>\n      <td>NaN</td>\n      <td>NaN</td>\n    </tr>\n    <tr>\n      <td>2015-01-03</td>\n      <td>Ahmedabad</td>\n      <td>NaN</td>\n      <td>NaN</td>\n      <td>17.40</td>\n      <td>19.30</td>\n      <td>29.70</td>\n      <td>NaN</td>\n      <td>17.40</td>\n      <td>29.07</td>\n      <td>30.70</td>\n      <td>6.80</td>\n      <td>16.40</td>\n      <td>2.25</td>\n      <td>NaN</td>\n      <td>NaN</td>\n    </tr>\n    <tr>\n      <td>2015-01-04</td>\n      <td>Ahmedabad</td>\n      <td>NaN</td>\n      <td>NaN</td>\n      <td>1.70</td>\n      <td>18.48</td>\n      <td>17.97</td>\n      <td>NaN</td>\n      <td>1.70</td>\n      <td>18.59</td>\n      <td>36.08</td>\n      <td>4.43</td>\n      <td>10.14</td>\n      <td>1.00</td>\n      <td>NaN</td>\n      <td>NaN</td>\n    </tr>\n    <tr>\n      <td>2015-01-05</td>\n      <td>Ahmedabad</td>\n      <td>NaN</td>\n      <td>NaN</td>\n      <td>22.10</td>\n      <td>21.42</td>\n      <td>37.76</td>\n      <td>NaN</td>\n      <td>22.10</td>\n      <td>39.33</td>\n      <td>39.31</td>\n      <td>7.01</td>\n      <td>18.89</td>\n      <td>2.78</td>\n      <td>NaN</td>\n      <td>NaN</td>\n    </tr>\n    <tr>\n      <td>...</td>\n      <td>...</td>\n      <td>...</td>\n      <td>...</td>\n      <td>...</td>\n      <td>...</td>\n      <td>...</td>\n      <td>...</td>\n      <td>...</td>\n      <td>...</td>\n      <td>...</td>\n      <td>...</td>\n      <td>...</td>\n      <td>...</td>\n      <td>...</td>\n      <td>...</td>\n    </tr>\n    <tr>\n      <td>2020-06-27</td>\n      <td>Visakhapatnam</td>\n      <td>15.02</td>\n      <td>50.94</td>\n      <td>7.68</td>\n      <td>25.06</td>\n      <td>19.54</td>\n      <td>12.47</td>\n      <td>0.47</td>\n      <td>8.55</td>\n      <td>23.30</td>\n      <td>2.24</td>\n      <td>12.07</td>\n      <td>0.73</td>\n      <td>41.0</td>\n      <td>Good</td>\n    </tr>\n    <tr>\n      <td>2020-06-28</td>\n      <td>Visakhapatnam</td>\n      <td>24.38</td>\n      <td>74.09</td>\n      <td>3.42</td>\n      <td>26.06</td>\n      <td>16.53</td>\n      <td>11.99</td>\n      <td>0.52</td>\n      <td>12.72</td>\n      <td>30.14</td>\n      <td>0.74</td>\n      <td>2.21</td>\n      <td>0.38</td>\n      <td>70.0</td>\n      <td>Satisfactory</td>\n    </tr>\n    <tr>\n      <td>2020-06-29</td>\n      <td>Visakhapatnam</td>\n      <td>22.91</td>\n      <td>65.73</td>\n      <td>3.45</td>\n      <td>29.53</td>\n      <td>18.33</td>\n      <td>10.71</td>\n      <td>0.48</td>\n      <td>8.42</td>\n      <td>30.96</td>\n      <td>0.01</td>\n      <td>0.01</td>\n      <td>0.00</td>\n      <td>68.0</td>\n      <td>Satisfactory</td>\n    </tr>\n    <tr>\n      <td>2020-06-30</td>\n      <td>Visakhapatnam</td>\n      <td>16.64</td>\n      <td>49.97</td>\n      <td>4.05</td>\n      <td>29.26</td>\n      <td>18.80</td>\n      <td>10.03</td>\n      <td>0.52</td>\n      <td>9.84</td>\n      <td>28.30</td>\n      <td>0.00</td>\n      <td>0.00</td>\n      <td>0.00</td>\n      <td>54.0</td>\n      <td>Satisfactory</td>\n    </tr>\n    <tr>\n      <td>2020-07-01</td>\n      <td>Visakhapatnam</td>\n      <td>15.00</td>\n      <td>66.00</td>\n      <td>0.40</td>\n      <td>26.85</td>\n      <td>14.05</td>\n      <td>5.20</td>\n      <td>0.59</td>\n      <td>2.10</td>\n      <td>17.05</td>\n      <td>NaN</td>\n      <td>NaN</td>\n      <td>NaN</td>\n      <td>50.0</td>\n      <td>Good</td>\n    </tr>\n  </tbody>\n</table>\n<p>29531 rows × 15 columns</p>\n</div>"
     },
     "execution_count": 14,
     "metadata": {},
     "output_type": "execute_result"
    }
   ],
   "source": [
    "#时间序列缺失值处理\n",
    "os.chdir(os.path.dirname(dir))\n",
    "city_day = pd.read_csv('data/city_day.csv', index_col='Date')\n",
    "city_day"
   ],
   "metadata": {
    "collapsed": false
   }
  },
  {
   "cell_type": "code",
   "execution_count": 15,
   "outputs": [
    {
     "data": {
      "text/plain": "'D:\\\\黑马课程\\\\人工智能V3.0（尊享无忧）\\\\00 课程资料\\\\3.阶段三数据处理与统计分析\\\\数据处理与统计分析v3.0视频（第二部分）\\\\资料'"
     },
     "execution_count": 15,
     "metadata": {},
     "output_type": "execute_result"
    }
   ],
   "source": [
    "os.getcwd()"
   ],
   "metadata": {
    "collapsed": false
   }
  },
  {
   "cell_type": "code",
   "execution_count": 16,
   "outputs": [
    {
     "data": {
      "text/plain": "Date\n2015-02-24    6.05\n2015-02-25    0.81\n2015-02-26     NaN\n2015-02-27     NaN\n2015-02-28     NaN\n2015-03-01    1.32\n2015-03-02    0.22\nName: Xylene, dtype: float64"
     },
     "execution_count": 16,
     "metadata": {},
     "output_type": "execute_result"
    }
   ],
   "source": [
    "city_day.Xylene[54:61]"
   ],
   "metadata": {
    "collapsed": false
   }
  },
  {
   "cell_type": "code",
   "execution_count": 17,
   "outputs": [
    {
     "data": {
      "text/plain": "Date\n2015-02-24    6.05\n2015-02-25    0.81\n2015-02-26    0.81\n2015-02-27    0.81\n2015-02-28    0.81\n2015-03-01    1.32\n2015-03-02    0.22\nName: Xylene, dtype: float64"
     },
     "execution_count": 17,
     "metadata": {},
     "output_type": "execute_result"
    }
   ],
   "source": [
    "city_day.fillna(method='ffill')['Xylene'][54:61]"
   ],
   "metadata": {
    "collapsed": false
   }
  },
  {
   "cell_type": "code",
   "execution_count": 18,
   "outputs": [
    {
     "data": {
      "text/plain": "Date\n2015-02-24    6.05\n2015-02-25    0.81\n2015-02-26    1.32\n2015-02-27    1.32\n2015-02-28    1.32\n2015-03-01    1.32\n2015-03-02    0.22\nName: Xylene, dtype: float64"
     },
     "execution_count": 18,
     "metadata": {},
     "output_type": "execute_result"
    }
   ],
   "source": [
    "city_day.fillna(method='bfill')['Xylene'][54:61]"
   ],
   "metadata": {
    "collapsed": false
   }
  },
  {
   "cell_type": "code",
   "execution_count": 19,
   "outputs": [
    {
     "data": {
      "text/plain": "Date\n2015-02-24    6.0500\n2015-02-25    0.8100\n2015-02-26    0.9375\n2015-02-27    1.0650\n2015-02-28    1.1925\n2015-03-01    1.3200\n2015-03-02    0.2200\nName: Xylene, dtype: float64"
     },
     "execution_count": 19,
     "metadata": {},
     "output_type": "execute_result"
    }
   ],
   "source": [
    "city_day.interpolate(limit_direction=\"both\")['Xylene'][54:61]"
   ],
   "metadata": {
    "collapsed": false
   }
  },
  {
   "cell_type": "code",
   "execution_count": 20,
   "outputs": [
    {
     "data": {
      "text/plain": "   id  weight  height  age gender\n0   1   144.5     5.9   33      M\n1   2   167.2     5.4   45      M\n2   3   124.1     5.2   23      F\n3   4   144.5     5.9   33      M\n4   5   133.2     5.7   54      F\n5   3   124.1     5.2   23      F\n6   5   129.2     5.3   42      M",
      "text/html": "<div>\n<style scoped>\n    .dataframe tbody tr th:only-of-type {\n        vertical-align: middle;\n    }\n\n    .dataframe tbody tr th {\n        vertical-align: top;\n    }\n\n    .dataframe thead th {\n        text-align: right;\n    }\n</style>\n<table border=\"1\" class=\"dataframe\">\n  <thead>\n    <tr style=\"text-align: right;\">\n      <th></th>\n      <th>id</th>\n      <th>weight</th>\n      <th>height</th>\n      <th>age</th>\n      <th>gender</th>\n    </tr>\n  </thead>\n  <tbody>\n    <tr>\n      <td>0</td>\n      <td>1</td>\n      <td>144.5</td>\n      <td>5.9</td>\n      <td>33</td>\n      <td>M</td>\n    </tr>\n    <tr>\n      <td>1</td>\n      <td>2</td>\n      <td>167.2</td>\n      <td>5.4</td>\n      <td>45</td>\n      <td>M</td>\n    </tr>\n    <tr>\n      <td>2</td>\n      <td>3</td>\n      <td>124.1</td>\n      <td>5.2</td>\n      <td>23</td>\n      <td>F</td>\n    </tr>\n    <tr>\n      <td>3</td>\n      <td>4</td>\n      <td>144.5</td>\n      <td>5.9</td>\n      <td>33</td>\n      <td>M</td>\n    </tr>\n    <tr>\n      <td>4</td>\n      <td>5</td>\n      <td>133.2</td>\n      <td>5.7</td>\n      <td>54</td>\n      <td>F</td>\n    </tr>\n    <tr>\n      <td>5</td>\n      <td>3</td>\n      <td>124.1</td>\n      <td>5.2</td>\n      <td>23</td>\n      <td>F</td>\n    </tr>\n    <tr>\n      <td>6</td>\n      <td>5</td>\n      <td>129.2</td>\n      <td>5.3</td>\n      <td>42</td>\n      <td>M</td>\n    </tr>\n  </tbody>\n</table>\n</div>"
     },
     "execution_count": 20,
     "metadata": {},
     "output_type": "execute_result"
    }
   ],
   "source": [
    "#重复数据处理\n",
    "df = pd.DataFrame(data = [\n",
    "    (1, 144.5, 5.9, 33, 'M'),\n",
    "    (2, 167.2, 5.4, 45, 'M'),\n",
    "    (3, 124.1, 5.2, 23, 'F'),\n",
    "    (4, 144.5, 5.9, 33, 'M'),\n",
    "    (5, 133.2, 5.7, 54, 'F'),\n",
    "    (3, 124.1, 5.2, 23, 'F'),\n",
    "    (5, 129.2, 5.3, 42, 'M'),\n",
    "], columns=['id', 'weight', 'height', 'age', 'gender'])\n",
    "df"
   ],
   "metadata": {
    "collapsed": false
   }
  },
  {
   "cell_type": "code",
   "execution_count": 21,
   "outputs": [
    {
     "data": {
      "text/plain": "   id  weight  height  age gender\n0   1   144.5     5.9   33      M\n1   2   167.2     5.4   45      M\n2   3   124.1     5.2   23      F\n3   4   144.5     5.9   33      M\n4   5   133.2     5.7   54      F\n6   5   129.2     5.3   42      M",
      "text/html": "<div>\n<style scoped>\n    .dataframe tbody tr th:only-of-type {\n        vertical-align: middle;\n    }\n\n    .dataframe tbody tr th {\n        vertical-align: top;\n    }\n\n    .dataframe thead th {\n        text-align: right;\n    }\n</style>\n<table border=\"1\" class=\"dataframe\">\n  <thead>\n    <tr style=\"text-align: right;\">\n      <th></th>\n      <th>id</th>\n      <th>weight</th>\n      <th>height</th>\n      <th>age</th>\n      <th>gender</th>\n    </tr>\n  </thead>\n  <tbody>\n    <tr>\n      <td>0</td>\n      <td>1</td>\n      <td>144.5</td>\n      <td>5.9</td>\n      <td>33</td>\n      <td>M</td>\n    </tr>\n    <tr>\n      <td>1</td>\n      <td>2</td>\n      <td>167.2</td>\n      <td>5.4</td>\n      <td>45</td>\n      <td>M</td>\n    </tr>\n    <tr>\n      <td>2</td>\n      <td>3</td>\n      <td>124.1</td>\n      <td>5.2</td>\n      <td>23</td>\n      <td>F</td>\n    </tr>\n    <tr>\n      <td>3</td>\n      <td>4</td>\n      <td>144.5</td>\n      <td>5.9</td>\n      <td>33</td>\n      <td>M</td>\n    </tr>\n    <tr>\n      <td>4</td>\n      <td>5</td>\n      <td>133.2</td>\n      <td>5.7</td>\n      <td>54</td>\n      <td>F</td>\n    </tr>\n    <tr>\n      <td>6</td>\n      <td>5</td>\n      <td>129.2</td>\n      <td>5.3</td>\n      <td>42</td>\n      <td>M</td>\n    </tr>\n  </tbody>\n</table>\n</div>"
     },
     "execution_count": 21,
     "metadata": {},
     "output_type": "execute_result"
    }
   ],
   "source": [
    "df.drop_duplicates()"
   ],
   "metadata": {
    "collapsed": false
   }
  },
  {
   "cell_type": "code",
   "execution_count": 22,
   "outputs": [
    {
     "data": {
      "text/plain": "   id  weight  height  age gender\n0   1   144.5     5.9   33      M\n1   2   167.2     5.4   45      M\n2   3   124.1     5.2   23      F\n4   5   133.2     5.7   54      F\n6   5   129.2     5.3   42      M",
      "text/html": "<div>\n<style scoped>\n    .dataframe tbody tr th:only-of-type {\n        vertical-align: middle;\n    }\n\n    .dataframe tbody tr th {\n        vertical-align: top;\n    }\n\n    .dataframe thead th {\n        text-align: right;\n    }\n</style>\n<table border=\"1\" class=\"dataframe\">\n  <thead>\n    <tr style=\"text-align: right;\">\n      <th></th>\n      <th>id</th>\n      <th>weight</th>\n      <th>height</th>\n      <th>age</th>\n      <th>gender</th>\n    </tr>\n  </thead>\n  <tbody>\n    <tr>\n      <td>0</td>\n      <td>1</td>\n      <td>144.5</td>\n      <td>5.9</td>\n      <td>33</td>\n      <td>M</td>\n    </tr>\n    <tr>\n      <td>1</td>\n      <td>2</td>\n      <td>167.2</td>\n      <td>5.4</td>\n      <td>45</td>\n      <td>M</td>\n    </tr>\n    <tr>\n      <td>2</td>\n      <td>3</td>\n      <td>124.1</td>\n      <td>5.2</td>\n      <td>23</td>\n      <td>F</td>\n    </tr>\n    <tr>\n      <td>4</td>\n      <td>5</td>\n      <td>133.2</td>\n      <td>5.7</td>\n      <td>54</td>\n      <td>F</td>\n    </tr>\n    <tr>\n      <td>6</td>\n      <td>5</td>\n      <td>129.2</td>\n      <td>5.3</td>\n      <td>42</td>\n      <td>M</td>\n    </tr>\n  </tbody>\n</table>\n</div>"
     },
     "execution_count": 22,
     "metadata": {},
     "output_type": "execute_result"
    }
   ],
   "source": [
    "# 删除指定列中完全一样的行\n",
    "df.drop_duplicates(subset=['weight', 'height', 'age', 'gender'])"
   ],
   "metadata": {
    "collapsed": false
   }
  },
  {
   "cell_type": "code",
   "execution_count": 23,
   "outputs": [
    {
     "data": {
      "text/plain": "   id  weight  height  age gender\n0   1   144.5     5.9   33      M\n1   2   167.2     5.4   45      M\n2   3   124.1     5.2   23      F\n4   5   133.2     5.7   54      F\n6   5   129.2     5.3   42      M",
      "text/html": "<div>\n<style scoped>\n    .dataframe tbody tr th:only-of-type {\n        vertical-align: middle;\n    }\n\n    .dataframe tbody tr th {\n        vertical-align: top;\n    }\n\n    .dataframe thead th {\n        text-align: right;\n    }\n</style>\n<table border=\"1\" class=\"dataframe\">\n  <thead>\n    <tr style=\"text-align: right;\">\n      <th></th>\n      <th>id</th>\n      <th>weight</th>\n      <th>height</th>\n      <th>age</th>\n      <th>gender</th>\n    </tr>\n  </thead>\n  <tbody>\n    <tr>\n      <td>0</td>\n      <td>1</td>\n      <td>144.5</td>\n      <td>5.9</td>\n      <td>33</td>\n      <td>M</td>\n    </tr>\n    <tr>\n      <td>1</td>\n      <td>2</td>\n      <td>167.2</td>\n      <td>5.4</td>\n      <td>45</td>\n      <td>M</td>\n    </tr>\n    <tr>\n      <td>2</td>\n      <td>3</td>\n      <td>124.1</td>\n      <td>5.2</td>\n      <td>23</td>\n      <td>F</td>\n    </tr>\n    <tr>\n      <td>4</td>\n      <td>5</td>\n      <td>133.2</td>\n      <td>5.7</td>\n      <td>54</td>\n      <td>F</td>\n    </tr>\n    <tr>\n      <td>6</td>\n      <td>5</td>\n      <td>129.2</td>\n      <td>5.3</td>\n      <td>42</td>\n      <td>M</td>\n    </tr>\n  </tbody>\n</table>\n</div>"
     },
     "execution_count": 23,
     "metadata": {},
     "output_type": "execute_result"
    }
   ],
   "source": [
    "# 删除指定列中完全一样的行\n",
    "df.drop_duplicates(subset=['weight', 'height', 'age', 'gender'])"
   ],
   "metadata": {
    "collapsed": false
   }
  },
  {
   "cell_type": "code",
   "execution_count": 24,
   "outputs": [
    {
     "data": {
      "text/plain": "   id  weight  height  age gender                newid\n0   1   144.5     5.9   33      M   922337203685490872\n1   2   167.2     5.4   45      M  1383505805528203483\n2   3   124.1     5.2   23      F   691752902764069019\n3   4   144.5     5.9   33      M   922337203685490875\n4   5   133.2     5.7   54      F  2075258708292272325\n5   3   124.1     5.2   23      F   691752902764069019\n6   5   129.2     5.3   42      M  1152921504606847157",
      "text/html": "<div>\n<style scoped>\n    .dataframe tbody tr th:only-of-type {\n        vertical-align: middle;\n    }\n\n    .dataframe tbody tr th {\n        vertical-align: top;\n    }\n\n    .dataframe thead th {\n        text-align: right;\n    }\n</style>\n<table border=\"1\" class=\"dataframe\">\n  <thead>\n    <tr style=\"text-align: right;\">\n      <th></th>\n      <th>id</th>\n      <th>weight</th>\n      <th>height</th>\n      <th>age</th>\n      <th>gender</th>\n      <th>newid</th>\n    </tr>\n  </thead>\n  <tbody>\n    <tr>\n      <td>0</td>\n      <td>1</td>\n      <td>144.5</td>\n      <td>5.9</td>\n      <td>33</td>\n      <td>M</td>\n      <td>922337203685490872</td>\n    </tr>\n    <tr>\n      <td>1</td>\n      <td>2</td>\n      <td>167.2</td>\n      <td>5.4</td>\n      <td>45</td>\n      <td>M</td>\n      <td>1383505805528203483</td>\n    </tr>\n    <tr>\n      <td>2</td>\n      <td>3</td>\n      <td>124.1</td>\n      <td>5.2</td>\n      <td>23</td>\n      <td>F</td>\n      <td>691752902764069019</td>\n    </tr>\n    <tr>\n      <td>3</td>\n      <td>4</td>\n      <td>144.5</td>\n      <td>5.9</td>\n      <td>33</td>\n      <td>M</td>\n      <td>922337203685490875</td>\n    </tr>\n    <tr>\n      <td>4</td>\n      <td>5</td>\n      <td>133.2</td>\n      <td>5.7</td>\n      <td>54</td>\n      <td>F</td>\n      <td>2075258708292272325</td>\n    </tr>\n    <tr>\n      <td>5</td>\n      <td>3</td>\n      <td>124.1</td>\n      <td>5.2</td>\n      <td>23</td>\n      <td>F</td>\n      <td>691752902764069019</td>\n    </tr>\n    <tr>\n      <td>6</td>\n      <td>5</td>\n      <td>129.2</td>\n      <td>5.3</td>\n      <td>42</td>\n      <td>M</td>\n      <td>1152921504606847157</td>\n    </tr>\n  </tbody>\n</table>\n</div>"
     },
     "execution_count": 24,
     "metadata": {},
     "output_type": "execute_result"
    }
   ],
   "source": [
    "# 通过hash生成新的id\n",
    "df['newid'] = df.sum(axis=1).map(hash)\n",
    "df"
   ],
   "metadata": {
    "collapsed": false
   }
  },
  {
   "cell_type": "code",
   "execution_count": 25,
   "outputs": [
    {
     "data": {
      "text/plain": "184.4"
     },
     "execution_count": 25,
     "metadata": {},
     "output_type": "execute_result"
    }
   ],
   "source": [
    "1+144.5+5.9+33"
   ],
   "metadata": {
    "collapsed": false
   }
  },
  {
   "cell_type": "code",
   "execution_count": 26,
   "outputs": [
    {
     "data": {
      "text/plain": "   id  weight  height  age\n0   1   143.5     5.3   28\n1   2   154.2     5.5   45\n2   3   342.3     5.1   99\n3   4   144.5     5.5   33\n4   5   133.2     5.4   54\n5   6   124.1     5.1   21\n6   7   129.2     5.3   42",
      "text/html": "<div>\n<style scoped>\n    .dataframe tbody tr th:only-of-type {\n        vertical-align: middle;\n    }\n\n    .dataframe tbody tr th {\n        vertical-align: top;\n    }\n\n    .dataframe thead th {\n        text-align: right;\n    }\n</style>\n<table border=\"1\" class=\"dataframe\">\n  <thead>\n    <tr style=\"text-align: right;\">\n      <th></th>\n      <th>id</th>\n      <th>weight</th>\n      <th>height</th>\n      <th>age</th>\n    </tr>\n  </thead>\n  <tbody>\n    <tr>\n      <td>0</td>\n      <td>1</td>\n      <td>143.5</td>\n      <td>5.3</td>\n      <td>28</td>\n    </tr>\n    <tr>\n      <td>1</td>\n      <td>2</td>\n      <td>154.2</td>\n      <td>5.5</td>\n      <td>45</td>\n    </tr>\n    <tr>\n      <td>2</td>\n      <td>3</td>\n      <td>342.3</td>\n      <td>5.1</td>\n      <td>99</td>\n    </tr>\n    <tr>\n      <td>3</td>\n      <td>4</td>\n      <td>144.5</td>\n      <td>5.5</td>\n      <td>33</td>\n    </tr>\n    <tr>\n      <td>4</td>\n      <td>5</td>\n      <td>133.2</td>\n      <td>5.4</td>\n      <td>54</td>\n    </tr>\n    <tr>\n      <td>5</td>\n      <td>6</td>\n      <td>124.1</td>\n      <td>5.1</td>\n      <td>21</td>\n    </tr>\n    <tr>\n      <td>6</td>\n      <td>7</td>\n      <td>129.2</td>\n      <td>5.3</td>\n      <td>42</td>\n    </tr>\n  </tbody>\n</table>\n</div>"
     },
     "execution_count": 26,
     "metadata": {},
     "output_type": "execute_result"
    }
   ],
   "source": [
    "df = pd.DataFrame(data=[\n",
    "    (1, 143.5, 5.3, 28),\n",
    "    (2, 154.2, 5.5, 45),\n",
    "    (3, 342.3, 5.1, 99),\n",
    "    (4, 144.5, 5.5, 33),\n",
    "    (5, 133.2, 5.4, 54),\n",
    "    (6, 124.1, 5.1, 21),\n",
    "    (7, 129.2, 5.3, 42),\n",
    "], columns = ['id', 'weight', 'height', 'age'])\n",
    "df"
   ],
   "metadata": {
    "collapsed": false
   }
  },
  {
   "cell_type": "code",
   "execution_count": 27,
   "outputs": [
    {
     "data": {
      "text/plain": "      weight  height   age\n0.25  131.20    5.20  30.5\n0.75  149.35    5.45  49.5",
      "text/html": "<div>\n<style scoped>\n    .dataframe tbody tr th:only-of-type {\n        vertical-align: middle;\n    }\n\n    .dataframe tbody tr th {\n        vertical-align: top;\n    }\n\n    .dataframe thead th {\n        text-align: right;\n    }\n</style>\n<table border=\"1\" class=\"dataframe\">\n  <thead>\n    <tr style=\"text-align: right;\">\n      <th></th>\n      <th>weight</th>\n      <th>height</th>\n      <th>age</th>\n    </tr>\n  </thead>\n  <tbody>\n    <tr>\n      <td>0.25</td>\n      <td>131.20</td>\n      <td>5.20</td>\n      <td>30.5</td>\n    </tr>\n    <tr>\n      <td>0.75</td>\n      <td>149.35</td>\n      <td>5.45</td>\n      <td>49.5</td>\n    </tr>\n  </tbody>\n</table>\n</div>"
     },
     "execution_count": 27,
     "metadata": {},
     "output_type": "execute_result"
    }
   ],
   "source": [
    "#计算边界值\n",
    "bounds = {}\n",
    "cols = ['weight', 'height', 'age']\n",
    "quantile = df[cols].quantile(q=[.25, .75])\n",
    "quantile"
   ],
   "metadata": {
    "collapsed": false
   }
  },
  {
   "cell_type": "code",
   "execution_count": 28,
   "outputs": [
    {
     "data": {
      "text/plain": "{'weight': [131.2, 149.35],\n 'height': [5.199999999999999, 5.45],\n 'age': [30.5, 49.5]}"
     },
     "execution_count": 28,
     "metadata": {},
     "output_type": "execute_result"
    }
   ],
   "source": [
    "for col in cols:\n",
    "    IQR = quantile[col][0.75] - quantile[col][.75]\n",
    "    bounds[col] = [quantile[col][0.25] - 1.5 * IQR, quantile[col][.75] + 1.5 * IQR]\n",
    "bounds"
   ],
   "metadata": {
    "collapsed": false
   }
  },
  {
   "cell_type": "code",
   "execution_count": 29,
   "outputs": [
    {
     "data": {
      "text/plain": "   weight  height    age\n0   False   False   True\n1    True    True  False\n2    True    True   True\n3   False    True  False\n4   False   False   True\n5    True    True   True\n6    True   False  False",
      "text/html": "<div>\n<style scoped>\n    .dataframe tbody tr th:only-of-type {\n        vertical-align: middle;\n    }\n\n    .dataframe tbody tr th {\n        vertical-align: top;\n    }\n\n    .dataframe thead th {\n        text-align: right;\n    }\n</style>\n<table border=\"1\" class=\"dataframe\">\n  <thead>\n    <tr style=\"text-align: right;\">\n      <th></th>\n      <th>weight</th>\n      <th>height</th>\n      <th>age</th>\n    </tr>\n  </thead>\n  <tbody>\n    <tr>\n      <td>0</td>\n      <td>False</td>\n      <td>False</td>\n      <td>True</td>\n    </tr>\n    <tr>\n      <td>1</td>\n      <td>True</td>\n      <td>True</td>\n      <td>False</td>\n    </tr>\n    <tr>\n      <td>2</td>\n      <td>True</td>\n      <td>True</td>\n      <td>True</td>\n    </tr>\n    <tr>\n      <td>3</td>\n      <td>False</td>\n      <td>True</td>\n      <td>False</td>\n    </tr>\n    <tr>\n      <td>4</td>\n      <td>False</td>\n      <td>False</td>\n      <td>True</td>\n    </tr>\n    <tr>\n      <td>5</td>\n      <td>True</td>\n      <td>True</td>\n      <td>True</td>\n    </tr>\n    <tr>\n      <td>6</td>\n      <td>True</td>\n      <td>False</td>\n      <td>False</td>\n    </tr>\n  </tbody>\n</table>\n</div>"
     },
     "execution_count": 29,
     "metadata": {},
     "output_type": "execute_result"
    }
   ],
   "source": [
    "df_outer = pd.concat([(df[c] > bounds[c][1]) | (df[c] < bounds[c][0])  for c in cols], axis=1)\n",
    "df_outer"
   ],
   "metadata": {
    "collapsed": false
   }
  },
  {
   "cell_type": "code",
   "execution_count": 30,
   "outputs": [
    {
     "data": {
      "text/plain": "   id  weight  height  age\n0   1   143.5     5.3   28\n1   2   154.2     5.5   45\n2   3   342.3     5.1   99\n3   4   144.5     5.5   33\n4   5   133.2     5.4   54\n5   6   124.1     5.1   21\n6   7   129.2     5.3   42",
      "text/html": "<div>\n<style scoped>\n    .dataframe tbody tr th:only-of-type {\n        vertical-align: middle;\n    }\n\n    .dataframe tbody tr th {\n        vertical-align: top;\n    }\n\n    .dataframe thead th {\n        text-align: right;\n    }\n</style>\n<table border=\"1\" class=\"dataframe\">\n  <thead>\n    <tr style=\"text-align: right;\">\n      <th></th>\n      <th>id</th>\n      <th>weight</th>\n      <th>height</th>\n      <th>age</th>\n    </tr>\n  </thead>\n  <tbody>\n    <tr>\n      <td>0</td>\n      <td>1</td>\n      <td>143.5</td>\n      <td>5.3</td>\n      <td>28</td>\n    </tr>\n    <tr>\n      <td>1</td>\n      <td>2</td>\n      <td>154.2</td>\n      <td>5.5</td>\n      <td>45</td>\n    </tr>\n    <tr>\n      <td>2</td>\n      <td>3</td>\n      <td>342.3</td>\n      <td>5.1</td>\n      <td>99</td>\n    </tr>\n    <tr>\n      <td>3</td>\n      <td>4</td>\n      <td>144.5</td>\n      <td>5.5</td>\n      <td>33</td>\n    </tr>\n    <tr>\n      <td>4</td>\n      <td>5</td>\n      <td>133.2</td>\n      <td>5.4</td>\n      <td>54</td>\n    </tr>\n    <tr>\n      <td>5</td>\n      <td>6</td>\n      <td>124.1</td>\n      <td>5.1</td>\n      <td>21</td>\n    </tr>\n    <tr>\n      <td>6</td>\n      <td>7</td>\n      <td>129.2</td>\n      <td>5.3</td>\n      <td>42</td>\n    </tr>\n  </tbody>\n</table>\n</div>"
     },
     "execution_count": 30,
     "metadata": {},
     "output_type": "execute_result"
    }
   ],
   "source": [
    "df"
   ],
   "metadata": {
    "collapsed": false
   }
  },
  {
   "cell_type": "code",
   "execution_count": 31,
   "outputs": [
    {
     "data": {
      "text/plain": "   id  weight  height   age\n0 NaN     NaN     NaN  28.0\n1 NaN   154.2     5.5   NaN\n2 NaN   342.3     5.1  99.0\n3 NaN     NaN     5.5   NaN\n4 NaN     NaN     NaN  54.0\n5 NaN   124.1     5.1  21.0\n6 NaN   129.2     NaN   NaN",
      "text/html": "<div>\n<style scoped>\n    .dataframe tbody tr th:only-of-type {\n        vertical-align: middle;\n    }\n\n    .dataframe tbody tr th {\n        vertical-align: top;\n    }\n\n    .dataframe thead th {\n        text-align: right;\n    }\n</style>\n<table border=\"1\" class=\"dataframe\">\n  <thead>\n    <tr style=\"text-align: right;\">\n      <th></th>\n      <th>id</th>\n      <th>weight</th>\n      <th>height</th>\n      <th>age</th>\n    </tr>\n  </thead>\n  <tbody>\n    <tr>\n      <td>0</td>\n      <td>NaN</td>\n      <td>NaN</td>\n      <td>NaN</td>\n      <td>28.0</td>\n    </tr>\n    <tr>\n      <td>1</td>\n      <td>NaN</td>\n      <td>154.2</td>\n      <td>5.5</td>\n      <td>NaN</td>\n    </tr>\n    <tr>\n      <td>2</td>\n      <td>NaN</td>\n      <td>342.3</td>\n      <td>5.1</td>\n      <td>99.0</td>\n    </tr>\n    <tr>\n      <td>3</td>\n      <td>NaN</td>\n      <td>NaN</td>\n      <td>5.5</td>\n      <td>NaN</td>\n    </tr>\n    <tr>\n      <td>4</td>\n      <td>NaN</td>\n      <td>NaN</td>\n      <td>NaN</td>\n      <td>54.0</td>\n    </tr>\n    <tr>\n      <td>5</td>\n      <td>NaN</td>\n      <td>124.1</td>\n      <td>5.1</td>\n      <td>21.0</td>\n    </tr>\n    <tr>\n      <td>6</td>\n      <td>NaN</td>\n      <td>129.2</td>\n      <td>NaN</td>\n      <td>NaN</td>\n    </tr>\n  </tbody>\n</table>\n</div>"
     },
     "execution_count": 31,
     "metadata": {},
     "output_type": "execute_result"
    }
   ],
   "source": [
    "df[df_outer]"
   ],
   "metadata": {
    "collapsed": false
   }
  },
  {
   "cell_type": "code",
   "execution_count": 31,
   "outputs": [],
   "source": [],
   "metadata": {
    "collapsed": false
   }
  }
 ],
 "metadata": {
  "kernelspec": {
   "display_name": "Python 3",
   "language": "python",
   "name": "python3"
  },
  "language_info": {
   "codemirror_mode": {
    "name": "ipython",
    "version": 2
   },
   "file_extension": ".py",
   "mimetype": "text/x-python",
   "name": "python",
   "nbconvert_exporter": "python",
   "pygments_lexer": "ipython2",
   "version": "2.7.6"
  }
 },
 "nbformat": 4,
 "nbformat_minor": 0
}
