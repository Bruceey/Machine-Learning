{
 "cells": [
  {
   "cell_type": "code",
   "execution_count": 2,
   "metadata": {
    "collapsed": true
   },
   "outputs": [],
   "source": [
    "import numpy as np\n",
    "import pandas as pd\n",
    "import matplotlib.pyplot as plt\n",
    "import os\n",
    "import sys\n",
    "\n",
    "if sys.platform == 'win32':\n",
    "    dir = r\"D:\\黑马课程\\人工智能V3.0（尊享无忧）\\00 课程资料\\3.阶段三数据处理与统计分析\\数据处理与统计分析v3.0视频（第二部分）\\资料\"\n",
    "else:\n",
    "    dir = r'/Users/wangrui/Desktop/00 课程资料/3.阶段三数据处理与统计分析/数据处理与统计分析v3.0视频（第二部分）/资料'\n",
    "os.chdir(dir)"
   ]
  },
  {
   "cell_type": "code",
   "execution_count": 3,
   "outputs": [
    {
     "data": {
      "text/plain": "          country continent  year  lifeExp       pop   gdpPercap\n0     Afghanistan      Asia  1952   28.801   8425333  779.445314\n1     Afghanistan      Asia  1957   30.332   9240934  820.853030\n2     Afghanistan      Asia  1962   31.997  10267083  853.100710\n3     Afghanistan      Asia  1967   34.020  11537966  836.197138\n4     Afghanistan      Asia  1972   36.088  13079460  739.981106\n...           ...       ...   ...      ...       ...         ...\n1699     Zimbabwe    Africa  1987   62.351   9216418  706.157306\n1700     Zimbabwe    Africa  1992   60.377  10704340  693.420786\n1701     Zimbabwe    Africa  1997   46.809  11404948  792.449960\n1702     Zimbabwe    Africa  2002   39.989  11926563  672.038623\n1703     Zimbabwe    Africa  2007   43.487  12311143  469.709298\n\n[1704 rows x 6 columns]",
      "text/html": "<div>\n<style scoped>\n    .dataframe tbody tr th:only-of-type {\n        vertical-align: middle;\n    }\n\n    .dataframe tbody tr th {\n        vertical-align: top;\n    }\n\n    .dataframe thead th {\n        text-align: right;\n    }\n</style>\n<table border=\"1\" class=\"dataframe\">\n  <thead>\n    <tr style=\"text-align: right;\">\n      <th></th>\n      <th>country</th>\n      <th>continent</th>\n      <th>year</th>\n      <th>lifeExp</th>\n      <th>pop</th>\n      <th>gdpPercap</th>\n    </tr>\n  </thead>\n  <tbody>\n    <tr>\n      <td>0</td>\n      <td>Afghanistan</td>\n      <td>Asia</td>\n      <td>1952</td>\n      <td>28.801</td>\n      <td>8425333</td>\n      <td>779.445314</td>\n    </tr>\n    <tr>\n      <td>1</td>\n      <td>Afghanistan</td>\n      <td>Asia</td>\n      <td>1957</td>\n      <td>30.332</td>\n      <td>9240934</td>\n      <td>820.853030</td>\n    </tr>\n    <tr>\n      <td>2</td>\n      <td>Afghanistan</td>\n      <td>Asia</td>\n      <td>1962</td>\n      <td>31.997</td>\n      <td>10267083</td>\n      <td>853.100710</td>\n    </tr>\n    <tr>\n      <td>3</td>\n      <td>Afghanistan</td>\n      <td>Asia</td>\n      <td>1967</td>\n      <td>34.020</td>\n      <td>11537966</td>\n      <td>836.197138</td>\n    </tr>\n    <tr>\n      <td>4</td>\n      <td>Afghanistan</td>\n      <td>Asia</td>\n      <td>1972</td>\n      <td>36.088</td>\n      <td>13079460</td>\n      <td>739.981106</td>\n    </tr>\n    <tr>\n      <td>...</td>\n      <td>...</td>\n      <td>...</td>\n      <td>...</td>\n      <td>...</td>\n      <td>...</td>\n      <td>...</td>\n    </tr>\n    <tr>\n      <td>1699</td>\n      <td>Zimbabwe</td>\n      <td>Africa</td>\n      <td>1987</td>\n      <td>62.351</td>\n      <td>9216418</td>\n      <td>706.157306</td>\n    </tr>\n    <tr>\n      <td>1700</td>\n      <td>Zimbabwe</td>\n      <td>Africa</td>\n      <td>1992</td>\n      <td>60.377</td>\n      <td>10704340</td>\n      <td>693.420786</td>\n    </tr>\n    <tr>\n      <td>1701</td>\n      <td>Zimbabwe</td>\n      <td>Africa</td>\n      <td>1997</td>\n      <td>46.809</td>\n      <td>11404948</td>\n      <td>792.449960</td>\n    </tr>\n    <tr>\n      <td>1702</td>\n      <td>Zimbabwe</td>\n      <td>Africa</td>\n      <td>2002</td>\n      <td>39.989</td>\n      <td>11926563</td>\n      <td>672.038623</td>\n    </tr>\n    <tr>\n      <td>1703</td>\n      <td>Zimbabwe</td>\n      <td>Africa</td>\n      <td>2007</td>\n      <td>43.487</td>\n      <td>12311143</td>\n      <td>469.709298</td>\n    </tr>\n  </tbody>\n</table>\n<p>1704 rows × 6 columns</p>\n</div>"
     },
     "execution_count": 3,
     "metadata": {},
     "output_type": "execute_result"
    }
   ],
   "source": [
    "df = pd.read_csv('data/gapminder.tsv', sep='\\t')\n",
    "df"
   ],
   "metadata": {
    "collapsed": false
   }
  },
  {
   "cell_type": "code",
   "execution_count": 4,
   "outputs": [
    {
     "data": {
      "text/plain": "year\n1952    49.057620\n1957    51.507401\n1962    53.609249\n1967    55.678290\n1972    57.647386\n1977    59.570157\n1982    61.533197\n1987    63.212613\n1992    64.160338\n1997    65.014676\n2002    65.694923\n2007    67.007423\nName: lifeExp, dtype: float64"
     },
     "execution_count": 4,
     "metadata": {},
     "output_type": "execute_result"
    }
   ],
   "source": [
    "df.groupby('year').lifeExp.mean()"
   ],
   "metadata": {
    "collapsed": false
   }
  },
  {
   "cell_type": "code",
   "execution_count": 5,
   "outputs": [
    {
     "data": {
      "text/plain": "array([1952, 1957, 1962, 1967, 1972, 1977, 1982, 1987, 1992, 1997, 2002,\n       2007], dtype=int64)"
     },
     "execution_count": 5,
     "metadata": {},
     "output_type": "execute_result"
    }
   ],
   "source": [
    "df.year.unique()"
   ],
   "metadata": {
    "collapsed": false
   }
  },
  {
   "cell_type": "code",
   "execution_count": 6,
   "outputs": [
    {
     "data": {
      "text/plain": "continent\nAfrica      48.865330\nAmericas    64.658737\nAsia        60.064903\nEurope      71.903686\nOceania     74.326208\nName: lifeExp, dtype: float64"
     },
     "execution_count": 6,
     "metadata": {},
     "output_type": "execute_result"
    }
   ],
   "source": [
    "df.groupby('continent').lifeExp.agg(np.mean)"
   ],
   "metadata": {
    "collapsed": false
   }
  },
  {
   "cell_type": "code",
   "execution_count": 7,
   "outputs": [
    {
     "data": {
      "text/plain": "year\n1952    49.057620\n1957    51.507401\n1962    53.609249\n1967    55.678290\n1972    57.647386\n1977    59.570157\n1982    61.533197\n1987    63.212613\n1992    64.160338\n1997    65.014676\n2002    65.694923\n2007    67.007423\nName: lifeExp, dtype: float64"
     },
     "execution_count": 7,
     "metadata": {},
     "output_type": "execute_result"
    }
   ],
   "source": [
    "def my_mean(values):\n",
    "    n = len(values)\n",
    "    sum = 0\n",
    "    for value in values:\n",
    "        sum += value\n",
    "    return sum / n\n",
    "df.groupby('year').lifeExp.agg(my_mean)"
   ],
   "metadata": {
    "collapsed": false
   }
  },
  {
   "cell_type": "code",
   "execution_count": 8,
   "outputs": [
    {
     "data": {
      "text/plain": "year\n1952   -10.416820\n1957    -7.967038\n1962    -5.865190\n1967    -3.796150\n1972    -1.827053\n1977     0.095718\n1982     2.058758\n1987     3.738173\n1992     4.685899\n1997     5.540237\n2002     6.220483\n2007     7.532983\nName: lifeExp, dtype: float64"
     },
     "execution_count": 8,
     "metadata": {},
     "output_type": "execute_result"
    }
   ],
   "source": [
    "def my_mean_diff(values, diff_value):\n",
    "    n = len(values)\n",
    "    sum = 0\n",
    "    for value in values:\n",
    "        sum += value\n",
    "    mean = sum / n\n",
    "    return mean - diff_value\n",
    "\n",
    "global_mean = df.lifeExp.mean()\n",
    "df.groupby('year').lifeExp.agg(my_mean_diff, diff_value=global_mean)"
   ],
   "metadata": {
    "collapsed": false
   }
  },
  {
   "cell_type": "code",
   "execution_count": 9,
   "outputs": [
    {
     "data": {
      "text/plain": "      count_nonzero       mean        std\nyear                                     \n1952          142.0  49.057620  12.225956\n1957          142.0  51.507401  12.231286\n1962          142.0  53.609249  12.097245\n1967          142.0  55.678290  11.718858\n1972          142.0  57.647386  11.381953\n1977          142.0  59.570157  11.227229\n1982          142.0  61.533197  10.770618\n1987          142.0  63.212613  10.556285\n1992          142.0  64.160338  11.227380\n1997          142.0  65.014676  11.559439\n2002          142.0  65.694923  12.279823\n2007          142.0  67.007423  12.073021",
      "text/html": "<div>\n<style scoped>\n    .dataframe tbody tr th:only-of-type {\n        vertical-align: middle;\n    }\n\n    .dataframe tbody tr th {\n        vertical-align: top;\n    }\n\n    .dataframe thead th {\n        text-align: right;\n    }\n</style>\n<table border=\"1\" class=\"dataframe\">\n  <thead>\n    <tr style=\"text-align: right;\">\n      <th></th>\n      <th>count_nonzero</th>\n      <th>mean</th>\n      <th>std</th>\n    </tr>\n    <tr>\n      <th>year</th>\n      <th></th>\n      <th></th>\n      <th></th>\n    </tr>\n  </thead>\n  <tbody>\n    <tr>\n      <td>1952</td>\n      <td>142.0</td>\n      <td>49.057620</td>\n      <td>12.225956</td>\n    </tr>\n    <tr>\n      <td>1957</td>\n      <td>142.0</td>\n      <td>51.507401</td>\n      <td>12.231286</td>\n    </tr>\n    <tr>\n      <td>1962</td>\n      <td>142.0</td>\n      <td>53.609249</td>\n      <td>12.097245</td>\n    </tr>\n    <tr>\n      <td>1967</td>\n      <td>142.0</td>\n      <td>55.678290</td>\n      <td>11.718858</td>\n    </tr>\n    <tr>\n      <td>1972</td>\n      <td>142.0</td>\n      <td>57.647386</td>\n      <td>11.381953</td>\n    </tr>\n    <tr>\n      <td>1977</td>\n      <td>142.0</td>\n      <td>59.570157</td>\n      <td>11.227229</td>\n    </tr>\n    <tr>\n      <td>1982</td>\n      <td>142.0</td>\n      <td>61.533197</td>\n      <td>10.770618</td>\n    </tr>\n    <tr>\n      <td>1987</td>\n      <td>142.0</td>\n      <td>63.212613</td>\n      <td>10.556285</td>\n    </tr>\n    <tr>\n      <td>1992</td>\n      <td>142.0</td>\n      <td>64.160338</td>\n      <td>11.227380</td>\n    </tr>\n    <tr>\n      <td>1997</td>\n      <td>142.0</td>\n      <td>65.014676</td>\n      <td>11.559439</td>\n    </tr>\n    <tr>\n      <td>2002</td>\n      <td>142.0</td>\n      <td>65.694923</td>\n      <td>12.279823</td>\n    </tr>\n    <tr>\n      <td>2007</td>\n      <td>142.0</td>\n      <td>67.007423</td>\n      <td>12.073021</td>\n    </tr>\n  </tbody>\n</table>\n</div>"
     },
     "execution_count": 9,
     "metadata": {},
     "output_type": "execute_result"
    }
   ],
   "source": [
    "#同时传入多个函数\n",
    "df.groupby('year').lifeExp.agg([np.count_nonzero, np.mean, np.std])"
   ],
   "metadata": {
    "collapsed": false
   }
  },
  {
   "cell_type": "code",
   "execution_count": 10,
   "outputs": [
    {
     "data": {
      "text/plain": "        lifeExp         pop    gdpPercap\nyear                                    \n1952  49.057620   3943953.0  1968.528344\n1957  51.507401   4282942.0  2173.220291\n1962  53.609249   4686039.5  2335.439533\n1967  55.678290   5170175.5  2678.334741\n1972  57.647386   5877996.5  3339.129407\n1977  59.570157   6404036.5  3798.609244\n1982  61.533197   7007320.0  4216.228428\n1987  63.212613   7774861.5  4280.300366\n1992  64.160338   8688686.5  4386.085502\n1997  65.014676   9735063.5  4781.825478\n2002  65.694923  10372918.5  5319.804524\n2007  67.007423  10517531.0  6124.371109",
      "text/html": "<div>\n<style scoped>\n    .dataframe tbody tr th:only-of-type {\n        vertical-align: middle;\n    }\n\n    .dataframe tbody tr th {\n        vertical-align: top;\n    }\n\n    .dataframe thead th {\n        text-align: right;\n    }\n</style>\n<table border=\"1\" class=\"dataframe\">\n  <thead>\n    <tr style=\"text-align: right;\">\n      <th></th>\n      <th>lifeExp</th>\n      <th>pop</th>\n      <th>gdpPercap</th>\n    </tr>\n    <tr>\n      <th>year</th>\n      <th></th>\n      <th></th>\n      <th></th>\n    </tr>\n  </thead>\n  <tbody>\n    <tr>\n      <td>1952</td>\n      <td>49.057620</td>\n      <td>3943953.0</td>\n      <td>1968.528344</td>\n    </tr>\n    <tr>\n      <td>1957</td>\n      <td>51.507401</td>\n      <td>4282942.0</td>\n      <td>2173.220291</td>\n    </tr>\n    <tr>\n      <td>1962</td>\n      <td>53.609249</td>\n      <td>4686039.5</td>\n      <td>2335.439533</td>\n    </tr>\n    <tr>\n      <td>1967</td>\n      <td>55.678290</td>\n      <td>5170175.5</td>\n      <td>2678.334741</td>\n    </tr>\n    <tr>\n      <td>1972</td>\n      <td>57.647386</td>\n      <td>5877996.5</td>\n      <td>3339.129407</td>\n    </tr>\n    <tr>\n      <td>1977</td>\n      <td>59.570157</td>\n      <td>6404036.5</td>\n      <td>3798.609244</td>\n    </tr>\n    <tr>\n      <td>1982</td>\n      <td>61.533197</td>\n      <td>7007320.0</td>\n      <td>4216.228428</td>\n    </tr>\n    <tr>\n      <td>1987</td>\n      <td>63.212613</td>\n      <td>7774861.5</td>\n      <td>4280.300366</td>\n    </tr>\n    <tr>\n      <td>1992</td>\n      <td>64.160338</td>\n      <td>8688686.5</td>\n      <td>4386.085502</td>\n    </tr>\n    <tr>\n      <td>1997</td>\n      <td>65.014676</td>\n      <td>9735063.5</td>\n      <td>4781.825478</td>\n    </tr>\n    <tr>\n      <td>2002</td>\n      <td>65.694923</td>\n      <td>10372918.5</td>\n      <td>5319.804524</td>\n    </tr>\n    <tr>\n      <td>2007</td>\n      <td>67.007423</td>\n      <td>10517531.0</td>\n      <td>6124.371109</td>\n    </tr>\n  </tbody>\n</table>\n</div>"
     },
     "execution_count": 10,
     "metadata": {},
     "output_type": "execute_result"
    }
   ],
   "source": [
    "#对不同字段进行不同聚合\n",
    "df.groupby('year').agg({'lifeExp': 'mean', 'pop': 'median', 'gdpPercap': 'median'})"
   ],
   "metadata": {
    "collapsed": false
   }
  },
  {
   "cell_type": "code",
   "execution_count": 11,
   "outputs": [
    {
     "data": {
      "text/plain": "    year       平均寿命          人口        人均Gdp\n0   1952  49.057620   3943953.0  1968.528344\n1   1957  51.507401   4282942.0  2173.220291\n2   1962  53.609249   4686039.5  2335.439533\n3   1967  55.678290   5170175.5  2678.334741\n4   1972  57.647386   5877996.5  3339.129407\n5   1977  59.570157   6404036.5  3798.609244\n6   1982  61.533197   7007320.0  4216.228428\n7   1987  63.212613   7774861.5  4280.300366\n8   1992  64.160338   8688686.5  4386.085502\n9   1997  65.014676   9735063.5  4781.825478\n10  2002  65.694923  10372918.5  5319.804524\n11  2007  67.007423  10517531.0  6124.371109",
      "text/html": "<div>\n<style scoped>\n    .dataframe tbody tr th:only-of-type {\n        vertical-align: middle;\n    }\n\n    .dataframe tbody tr th {\n        vertical-align: top;\n    }\n\n    .dataframe thead th {\n        text-align: right;\n    }\n</style>\n<table border=\"1\" class=\"dataframe\">\n  <thead>\n    <tr style=\"text-align: right;\">\n      <th></th>\n      <th>year</th>\n      <th>平均寿命</th>\n      <th>人口</th>\n      <th>人均Gdp</th>\n    </tr>\n  </thead>\n  <tbody>\n    <tr>\n      <td>0</td>\n      <td>1952</td>\n      <td>49.057620</td>\n      <td>3943953.0</td>\n      <td>1968.528344</td>\n    </tr>\n    <tr>\n      <td>1</td>\n      <td>1957</td>\n      <td>51.507401</td>\n      <td>4282942.0</td>\n      <td>2173.220291</td>\n    </tr>\n    <tr>\n      <td>2</td>\n      <td>1962</td>\n      <td>53.609249</td>\n      <td>4686039.5</td>\n      <td>2335.439533</td>\n    </tr>\n    <tr>\n      <td>3</td>\n      <td>1967</td>\n      <td>55.678290</td>\n      <td>5170175.5</td>\n      <td>2678.334741</td>\n    </tr>\n    <tr>\n      <td>4</td>\n      <td>1972</td>\n      <td>57.647386</td>\n      <td>5877996.5</td>\n      <td>3339.129407</td>\n    </tr>\n    <tr>\n      <td>5</td>\n      <td>1977</td>\n      <td>59.570157</td>\n      <td>6404036.5</td>\n      <td>3798.609244</td>\n    </tr>\n    <tr>\n      <td>6</td>\n      <td>1982</td>\n      <td>61.533197</td>\n      <td>7007320.0</td>\n      <td>4216.228428</td>\n    </tr>\n    <tr>\n      <td>7</td>\n      <td>1987</td>\n      <td>63.212613</td>\n      <td>7774861.5</td>\n      <td>4280.300366</td>\n    </tr>\n    <tr>\n      <td>8</td>\n      <td>1992</td>\n      <td>64.160338</td>\n      <td>8688686.5</td>\n      <td>4386.085502</td>\n    </tr>\n    <tr>\n      <td>9</td>\n      <td>1997</td>\n      <td>65.014676</td>\n      <td>9735063.5</td>\n      <td>4781.825478</td>\n    </tr>\n    <tr>\n      <td>10</td>\n      <td>2002</td>\n      <td>65.694923</td>\n      <td>10372918.5</td>\n      <td>5319.804524</td>\n    </tr>\n    <tr>\n      <td>11</td>\n      <td>2007</td>\n      <td>67.007423</td>\n      <td>10517531.0</td>\n      <td>6124.371109</td>\n    </tr>\n  </tbody>\n</table>\n</div>"
     },
     "execution_count": 11,
     "metadata": {},
     "output_type": "execute_result"
    }
   ],
   "source": [
    "#对列重命名\n",
    "df.groupby('year').agg({'lifeExp': 'mean', 'pop': 'median', 'gdpPercap': 'median'}).rename(columns={'lifeExp': '平均寿命', 'pop': '人口', 'gdpPercap': '人均Gdp'}).reset_index()"
   ],
   "metadata": {
    "collapsed": false
   }
  },
  {
   "cell_type": "code",
   "execution_count": 12,
   "outputs": [
    {
     "data": {
      "text/plain": "   Unnamed: 0  total_bill   tip     sex smoker   day    time  size\n0          24       19.82  3.18    Male     No   Sat  Dinner     2\n1           6         NaN  2.00    Male     No   Sun  Dinner     2\n2         153         NaN  2.00    Male     No   Sun  Dinner     4\n3         211       25.89  5.16    Male    Yes   Sat  Dinner     4\n4         198         NaN  2.00  Female    Yes  Thur   Lunch     2\n5         176       17.89  2.00    Male    Yes   Sun  Dinner     2\n6         192         NaN  2.56    Male    Yes  Thur   Lunch     2\n7         124       12.48  2.52  Female     No  Thur   Lunch     2\n8           9       14.78  3.23    Male     No   Sun  Dinner     2\n9         101       15.38  3.00  Female    Yes   Fri  Dinner     2",
      "text/html": "<div>\n<style scoped>\n    .dataframe tbody tr th:only-of-type {\n        vertical-align: middle;\n    }\n\n    .dataframe tbody tr th {\n        vertical-align: top;\n    }\n\n    .dataframe thead th {\n        text-align: right;\n    }\n</style>\n<table border=\"1\" class=\"dataframe\">\n  <thead>\n    <tr style=\"text-align: right;\">\n      <th></th>\n      <th>Unnamed: 0</th>\n      <th>total_bill</th>\n      <th>tip</th>\n      <th>sex</th>\n      <th>smoker</th>\n      <th>day</th>\n      <th>time</th>\n      <th>size</th>\n    </tr>\n  </thead>\n  <tbody>\n    <tr>\n      <td>0</td>\n      <td>24</td>\n      <td>19.82</td>\n      <td>3.18</td>\n      <td>Male</td>\n      <td>No</td>\n      <td>Sat</td>\n      <td>Dinner</td>\n      <td>2</td>\n    </tr>\n    <tr>\n      <td>1</td>\n      <td>6</td>\n      <td>NaN</td>\n      <td>2.00</td>\n      <td>Male</td>\n      <td>No</td>\n      <td>Sun</td>\n      <td>Dinner</td>\n      <td>2</td>\n    </tr>\n    <tr>\n      <td>2</td>\n      <td>153</td>\n      <td>NaN</td>\n      <td>2.00</td>\n      <td>Male</td>\n      <td>No</td>\n      <td>Sun</td>\n      <td>Dinner</td>\n      <td>4</td>\n    </tr>\n    <tr>\n      <td>3</td>\n      <td>211</td>\n      <td>25.89</td>\n      <td>5.16</td>\n      <td>Male</td>\n      <td>Yes</td>\n      <td>Sat</td>\n      <td>Dinner</td>\n      <td>4</td>\n    </tr>\n    <tr>\n      <td>4</td>\n      <td>198</td>\n      <td>NaN</td>\n      <td>2.00</td>\n      <td>Female</td>\n      <td>Yes</td>\n      <td>Thur</td>\n      <td>Lunch</td>\n      <td>2</td>\n    </tr>\n    <tr>\n      <td>5</td>\n      <td>176</td>\n      <td>17.89</td>\n      <td>2.00</td>\n      <td>Male</td>\n      <td>Yes</td>\n      <td>Sun</td>\n      <td>Dinner</td>\n      <td>2</td>\n    </tr>\n    <tr>\n      <td>6</td>\n      <td>192</td>\n      <td>NaN</td>\n      <td>2.56</td>\n      <td>Male</td>\n      <td>Yes</td>\n      <td>Thur</td>\n      <td>Lunch</td>\n      <td>2</td>\n    </tr>\n    <tr>\n      <td>7</td>\n      <td>124</td>\n      <td>12.48</td>\n      <td>2.52</td>\n      <td>Female</td>\n      <td>No</td>\n      <td>Thur</td>\n      <td>Lunch</td>\n      <td>2</td>\n    </tr>\n    <tr>\n      <td>8</td>\n      <td>9</td>\n      <td>14.78</td>\n      <td>3.23</td>\n      <td>Male</td>\n      <td>No</td>\n      <td>Sun</td>\n      <td>Dinner</td>\n      <td>2</td>\n    </tr>\n    <tr>\n      <td>9</td>\n      <td>101</td>\n      <td>15.38</td>\n      <td>3.00</td>\n      <td>Female</td>\n      <td>Yes</td>\n      <td>Fri</td>\n      <td>Dinner</td>\n      <td>2</td>\n    </tr>\n  </tbody>\n</table>\n</div>"
     },
     "execution_count": 12,
     "metadata": {},
     "output_type": "execute_result"
    }
   ],
   "source": [
    "#### transform转换\n",
    "tips_10 = pd.read_csv('data/tips_10.csv')\n",
    "tips_10"
   ],
   "metadata": {
    "collapsed": false
   }
  },
  {
   "cell_type": "code",
   "execution_count": 13,
   "outputs": [
    {
     "data": {
      "text/plain": "        Unnamed: 0  total_bill  tip  smoker  day  time  size\nsex                                                         \nFemale           3           2    3       3    3     3     3\nMale             7           4    7       7    7     7     7",
      "text/html": "<div>\n<style scoped>\n    .dataframe tbody tr th:only-of-type {\n        vertical-align: middle;\n    }\n\n    .dataframe tbody tr th {\n        vertical-align: top;\n    }\n\n    .dataframe thead th {\n        text-align: right;\n    }\n</style>\n<table border=\"1\" class=\"dataframe\">\n  <thead>\n    <tr style=\"text-align: right;\">\n      <th></th>\n      <th>Unnamed: 0</th>\n      <th>total_bill</th>\n      <th>tip</th>\n      <th>smoker</th>\n      <th>day</th>\n      <th>time</th>\n      <th>size</th>\n    </tr>\n    <tr>\n      <th>sex</th>\n      <th></th>\n      <th></th>\n      <th></th>\n      <th></th>\n      <th></th>\n      <th></th>\n      <th></th>\n    </tr>\n  </thead>\n  <tbody>\n    <tr>\n      <td>Female</td>\n      <td>3</td>\n      <td>2</td>\n      <td>3</td>\n      <td>3</td>\n      <td>3</td>\n      <td>3</td>\n      <td>3</td>\n    </tr>\n    <tr>\n      <td>Male</td>\n      <td>7</td>\n      <td>4</td>\n      <td>7</td>\n      <td>7</td>\n      <td>7</td>\n      <td>7</td>\n      <td>7</td>\n    </tr>\n  </tbody>\n</table>\n</div>"
     },
     "execution_count": 13,
     "metadata": {},
     "output_type": "execute_result"
    }
   ],
   "source": [
    "tips_10.groupby('sex').count()"
   ],
   "metadata": {
    "collapsed": false
   }
  },
  {
   "cell_type": "code",
   "execution_count": 14,
   "outputs": [
    {
     "data": {
      "text/plain": "0    19.820\n1    19.595\n2    19.595\n3    25.890\n4    13.930\n5    17.890\n6    19.595\n7    12.480\n8    14.780\n9    15.380\nName: total_bill, dtype: float64"
     },
     "execution_count": 14,
     "metadata": {},
     "output_type": "execute_result"
    }
   ],
   "source": [
    "def fill_na_mean(x):\n",
    "    avg = x.mean()\n",
    "    return x.fillna(avg)\n",
    "total_bill_group_mean = tips_10.groupby('sex').total_bill.transform(fill_na_mean)\n",
    "total_bill_group_mean"
   ],
   "metadata": {
    "collapsed": false
   }
  },
  {
   "cell_type": "code",
   "execution_count": 15,
   "outputs": [
    {
     "data": {
      "text/plain": "   Unnamed: 0  total_bill   tip     sex smoker   day    time  size  \\\n0          24       19.82  3.18    Male     No   Sat  Dinner     2   \n1           6         NaN  2.00    Male     No   Sun  Dinner     2   \n2         153         NaN  2.00    Male     No   Sun  Dinner     4   \n3         211       25.89  5.16    Male    Yes   Sat  Dinner     4   \n4         198         NaN  2.00  Female    Yes  Thur   Lunch     2   \n5         176       17.89  2.00    Male    Yes   Sun  Dinner     2   \n6         192         NaN  2.56    Male    Yes  Thur   Lunch     2   \n7         124       12.48  2.52  Female     No  Thur   Lunch     2   \n8           9       14.78  3.23    Male     No   Sun  Dinner     2   \n9         101       15.38  3.00  Female    Yes   Fri  Dinner     2   \n\n   fill_total_bill  \n0           19.820  \n1           19.595  \n2           19.595  \n3           25.890  \n4           13.930  \n5           17.890  \n6           19.595  \n7           12.480  \n8           14.780  \n9           15.380  ",
      "text/html": "<div>\n<style scoped>\n    .dataframe tbody tr th:only-of-type {\n        vertical-align: middle;\n    }\n\n    .dataframe tbody tr th {\n        vertical-align: top;\n    }\n\n    .dataframe thead th {\n        text-align: right;\n    }\n</style>\n<table border=\"1\" class=\"dataframe\">\n  <thead>\n    <tr style=\"text-align: right;\">\n      <th></th>\n      <th>Unnamed: 0</th>\n      <th>total_bill</th>\n      <th>tip</th>\n      <th>sex</th>\n      <th>smoker</th>\n      <th>day</th>\n      <th>time</th>\n      <th>size</th>\n      <th>fill_total_bill</th>\n    </tr>\n  </thead>\n  <tbody>\n    <tr>\n      <td>0</td>\n      <td>24</td>\n      <td>19.82</td>\n      <td>3.18</td>\n      <td>Male</td>\n      <td>No</td>\n      <td>Sat</td>\n      <td>Dinner</td>\n      <td>2</td>\n      <td>19.820</td>\n    </tr>\n    <tr>\n      <td>1</td>\n      <td>6</td>\n      <td>NaN</td>\n      <td>2.00</td>\n      <td>Male</td>\n      <td>No</td>\n      <td>Sun</td>\n      <td>Dinner</td>\n      <td>2</td>\n      <td>19.595</td>\n    </tr>\n    <tr>\n      <td>2</td>\n      <td>153</td>\n      <td>NaN</td>\n      <td>2.00</td>\n      <td>Male</td>\n      <td>No</td>\n      <td>Sun</td>\n      <td>Dinner</td>\n      <td>4</td>\n      <td>19.595</td>\n    </tr>\n    <tr>\n      <td>3</td>\n      <td>211</td>\n      <td>25.89</td>\n      <td>5.16</td>\n      <td>Male</td>\n      <td>Yes</td>\n      <td>Sat</td>\n      <td>Dinner</td>\n      <td>4</td>\n      <td>25.890</td>\n    </tr>\n    <tr>\n      <td>4</td>\n      <td>198</td>\n      <td>NaN</td>\n      <td>2.00</td>\n      <td>Female</td>\n      <td>Yes</td>\n      <td>Thur</td>\n      <td>Lunch</td>\n      <td>2</td>\n      <td>13.930</td>\n    </tr>\n    <tr>\n      <td>5</td>\n      <td>176</td>\n      <td>17.89</td>\n      <td>2.00</td>\n      <td>Male</td>\n      <td>Yes</td>\n      <td>Sun</td>\n      <td>Dinner</td>\n      <td>2</td>\n      <td>17.890</td>\n    </tr>\n    <tr>\n      <td>6</td>\n      <td>192</td>\n      <td>NaN</td>\n      <td>2.56</td>\n      <td>Male</td>\n      <td>Yes</td>\n      <td>Thur</td>\n      <td>Lunch</td>\n      <td>2</td>\n      <td>19.595</td>\n    </tr>\n    <tr>\n      <td>7</td>\n      <td>124</td>\n      <td>12.48</td>\n      <td>2.52</td>\n      <td>Female</td>\n      <td>No</td>\n      <td>Thur</td>\n      <td>Lunch</td>\n      <td>2</td>\n      <td>12.480</td>\n    </tr>\n    <tr>\n      <td>8</td>\n      <td>9</td>\n      <td>14.78</td>\n      <td>3.23</td>\n      <td>Male</td>\n      <td>No</td>\n      <td>Sun</td>\n      <td>Dinner</td>\n      <td>2</td>\n      <td>14.780</td>\n    </tr>\n    <tr>\n      <td>9</td>\n      <td>101</td>\n      <td>15.38</td>\n      <td>3.00</td>\n      <td>Female</td>\n      <td>Yes</td>\n      <td>Fri</td>\n      <td>Dinner</td>\n      <td>2</td>\n      <td>15.380</td>\n    </tr>\n  </tbody>\n</table>\n</div>"
     },
     "execution_count": 15,
     "metadata": {},
     "output_type": "execute_result"
    }
   ],
   "source": [
    "tips_10['fill_total_bill'] = total_bill_group_mean\n",
    "tips_10"
   ],
   "metadata": {
    "collapsed": false
   }
  },
  {
   "cell_type": "code",
   "execution_count": 16,
   "outputs": [
    {
     "data": {
      "text/plain": "0      -1.656854\n1      -1.731249\n2      -1.786543\n3      -1.848157\n4      -1.894173\n          ...   \n1699   -0.081621\n1700   -0.336974\n1701   -1.574962\n1702   -2.093346\n1703   -1.948180\nName: lifeExp, Length: 1704, dtype: float64"
     },
     "execution_count": 16,
     "metadata": {},
     "output_type": "execute_result"
    }
   ],
   "source": [
    "def my_zscore(x):\n",
    "    \"\"\"计算z分数\"\"\"\n",
    "    return (x - x.mean()) / x.std()\n",
    "df.groupby('year').lifeExp.transform(my_zscore)"
   ],
   "metadata": {
    "collapsed": false
   }
  },
  {
   "cell_type": "code",
   "execution_count": 17,
   "outputs": [
    {
     "data": {
      "text/plain": "     total_bill   tip     sex smoker   day    time  size\n0         16.99  1.01  Female     No   Sun  Dinner     2\n1         10.34  1.66    Male     No   Sun  Dinner     3\n2         21.01  3.50    Male     No   Sun  Dinner     3\n3         23.68  3.31    Male     No   Sun  Dinner     2\n4         24.59  3.61  Female     No   Sun  Dinner     4\n..          ...   ...     ...    ...   ...     ...   ...\n239       29.03  5.92    Male     No   Sat  Dinner     3\n240       27.18  2.00  Female    Yes   Sat  Dinner     2\n241       22.67  2.00    Male    Yes   Sat  Dinner     2\n242       17.82  1.75    Male     No   Sat  Dinner     2\n243       18.78  3.00  Female     No  Thur  Dinner     2\n\n[244 rows x 7 columns]",
      "text/html": "<div>\n<style scoped>\n    .dataframe tbody tr th:only-of-type {\n        vertical-align: middle;\n    }\n\n    .dataframe tbody tr th {\n        vertical-align: top;\n    }\n\n    .dataframe thead th {\n        text-align: right;\n    }\n</style>\n<table border=\"1\" class=\"dataframe\">\n  <thead>\n    <tr style=\"text-align: right;\">\n      <th></th>\n      <th>total_bill</th>\n      <th>tip</th>\n      <th>sex</th>\n      <th>smoker</th>\n      <th>day</th>\n      <th>time</th>\n      <th>size</th>\n    </tr>\n  </thead>\n  <tbody>\n    <tr>\n      <td>0</td>\n      <td>16.99</td>\n      <td>1.01</td>\n      <td>Female</td>\n      <td>No</td>\n      <td>Sun</td>\n      <td>Dinner</td>\n      <td>2</td>\n    </tr>\n    <tr>\n      <td>1</td>\n      <td>10.34</td>\n      <td>1.66</td>\n      <td>Male</td>\n      <td>No</td>\n      <td>Sun</td>\n      <td>Dinner</td>\n      <td>3</td>\n    </tr>\n    <tr>\n      <td>2</td>\n      <td>21.01</td>\n      <td>3.50</td>\n      <td>Male</td>\n      <td>No</td>\n      <td>Sun</td>\n      <td>Dinner</td>\n      <td>3</td>\n    </tr>\n    <tr>\n      <td>3</td>\n      <td>23.68</td>\n      <td>3.31</td>\n      <td>Male</td>\n      <td>No</td>\n      <td>Sun</td>\n      <td>Dinner</td>\n      <td>2</td>\n    </tr>\n    <tr>\n      <td>4</td>\n      <td>24.59</td>\n      <td>3.61</td>\n      <td>Female</td>\n      <td>No</td>\n      <td>Sun</td>\n      <td>Dinner</td>\n      <td>4</td>\n    </tr>\n    <tr>\n      <td>...</td>\n      <td>...</td>\n      <td>...</td>\n      <td>...</td>\n      <td>...</td>\n      <td>...</td>\n      <td>...</td>\n      <td>...</td>\n    </tr>\n    <tr>\n      <td>239</td>\n      <td>29.03</td>\n      <td>5.92</td>\n      <td>Male</td>\n      <td>No</td>\n      <td>Sat</td>\n      <td>Dinner</td>\n      <td>3</td>\n    </tr>\n    <tr>\n      <td>240</td>\n      <td>27.18</td>\n      <td>2.00</td>\n      <td>Female</td>\n      <td>Yes</td>\n      <td>Sat</td>\n      <td>Dinner</td>\n      <td>2</td>\n    </tr>\n    <tr>\n      <td>241</td>\n      <td>22.67</td>\n      <td>2.00</td>\n      <td>Male</td>\n      <td>Yes</td>\n      <td>Sat</td>\n      <td>Dinner</td>\n      <td>2</td>\n    </tr>\n    <tr>\n      <td>242</td>\n      <td>17.82</td>\n      <td>1.75</td>\n      <td>Male</td>\n      <td>No</td>\n      <td>Sat</td>\n      <td>Dinner</td>\n      <td>2</td>\n    </tr>\n    <tr>\n      <td>243</td>\n      <td>18.78</td>\n      <td>3.00</td>\n      <td>Female</td>\n      <td>No</td>\n      <td>Thur</td>\n      <td>Dinner</td>\n      <td>2</td>\n    </tr>\n  </tbody>\n</table>\n<p>244 rows × 7 columns</p>\n</div>"
     },
     "execution_count": 17,
     "metadata": {},
     "output_type": "execute_result"
    }
   ],
   "source": [
    "# 过滤\n",
    "tips = pd.read_csv('data/tips.csv')\n",
    "tips"
   ],
   "metadata": {
    "collapsed": false
   }
  },
  {
   "cell_type": "code",
   "execution_count": 19,
   "outputs": [
    {
     "data": {
      "text/plain": "2    156\n3     38\n4     37\n5      5\n6      4\n1      4\nName: size, dtype: int64"
     },
     "execution_count": 19,
     "metadata": {},
     "output_type": "execute_result"
    }
   ],
   "source": [
    "tips['size'].value_counts()"
   ],
   "metadata": {
    "collapsed": false
   }
  },
  {
   "cell_type": "code",
   "execution_count": 21,
   "outputs": [
    {
     "data": {
      "text/plain": "     total_bill   tip     sex smoker   day    time  size\n0         16.99  1.01  Female     No   Sun  Dinner     2\n1         10.34  1.66    Male     No   Sun  Dinner     3\n2         21.01  3.50    Male     No   Sun  Dinner     3\n3         23.68  3.31    Male     No   Sun  Dinner     2\n4         24.59  3.61  Female     No   Sun  Dinner     4\n..          ...   ...     ...    ...   ...     ...   ...\n239       29.03  5.92    Male     No   Sat  Dinner     3\n240       27.18  2.00  Female    Yes   Sat  Dinner     2\n241       22.67  2.00    Male    Yes   Sat  Dinner     2\n242       17.82  1.75    Male     No   Sat  Dinner     2\n243       18.78  3.00  Female     No  Thur  Dinner     2\n\n[231 rows x 7 columns]",
      "text/html": "<div>\n<style scoped>\n    .dataframe tbody tr th:only-of-type {\n        vertical-align: middle;\n    }\n\n    .dataframe tbody tr th {\n        vertical-align: top;\n    }\n\n    .dataframe thead th {\n        text-align: right;\n    }\n</style>\n<table border=\"1\" class=\"dataframe\">\n  <thead>\n    <tr style=\"text-align: right;\">\n      <th></th>\n      <th>total_bill</th>\n      <th>tip</th>\n      <th>sex</th>\n      <th>smoker</th>\n      <th>day</th>\n      <th>time</th>\n      <th>size</th>\n    </tr>\n  </thead>\n  <tbody>\n    <tr>\n      <td>0</td>\n      <td>16.99</td>\n      <td>1.01</td>\n      <td>Female</td>\n      <td>No</td>\n      <td>Sun</td>\n      <td>Dinner</td>\n      <td>2</td>\n    </tr>\n    <tr>\n      <td>1</td>\n      <td>10.34</td>\n      <td>1.66</td>\n      <td>Male</td>\n      <td>No</td>\n      <td>Sun</td>\n      <td>Dinner</td>\n      <td>3</td>\n    </tr>\n    <tr>\n      <td>2</td>\n      <td>21.01</td>\n      <td>3.50</td>\n      <td>Male</td>\n      <td>No</td>\n      <td>Sun</td>\n      <td>Dinner</td>\n      <td>3</td>\n    </tr>\n    <tr>\n      <td>3</td>\n      <td>23.68</td>\n      <td>3.31</td>\n      <td>Male</td>\n      <td>No</td>\n      <td>Sun</td>\n      <td>Dinner</td>\n      <td>2</td>\n    </tr>\n    <tr>\n      <td>4</td>\n      <td>24.59</td>\n      <td>3.61</td>\n      <td>Female</td>\n      <td>No</td>\n      <td>Sun</td>\n      <td>Dinner</td>\n      <td>4</td>\n    </tr>\n    <tr>\n      <td>...</td>\n      <td>...</td>\n      <td>...</td>\n      <td>...</td>\n      <td>...</td>\n      <td>...</td>\n      <td>...</td>\n      <td>...</td>\n    </tr>\n    <tr>\n      <td>239</td>\n      <td>29.03</td>\n      <td>5.92</td>\n      <td>Male</td>\n      <td>No</td>\n      <td>Sat</td>\n      <td>Dinner</td>\n      <td>3</td>\n    </tr>\n    <tr>\n      <td>240</td>\n      <td>27.18</td>\n      <td>2.00</td>\n      <td>Female</td>\n      <td>Yes</td>\n      <td>Sat</td>\n      <td>Dinner</td>\n      <td>2</td>\n    </tr>\n    <tr>\n      <td>241</td>\n      <td>22.67</td>\n      <td>2.00</td>\n      <td>Male</td>\n      <td>Yes</td>\n      <td>Sat</td>\n      <td>Dinner</td>\n      <td>2</td>\n    </tr>\n    <tr>\n      <td>242</td>\n      <td>17.82</td>\n      <td>1.75</td>\n      <td>Male</td>\n      <td>No</td>\n      <td>Sat</td>\n      <td>Dinner</td>\n      <td>2</td>\n    </tr>\n    <tr>\n      <td>243</td>\n      <td>18.78</td>\n      <td>3.00</td>\n      <td>Female</td>\n      <td>No</td>\n      <td>Thur</td>\n      <td>Dinner</td>\n      <td>2</td>\n    </tr>\n  </tbody>\n</table>\n<p>231 rows × 7 columns</p>\n</div>"
     },
     "execution_count": 21,
     "metadata": {},
     "output_type": "execute_result"
    }
   ],
   "source": [
    "tips_filtered = tips.groupby('size').filter(lambda x: x['size'].count() > 30)\n",
    "tips_filtered"
   ],
   "metadata": {
    "collapsed": false
   }
  },
  {
   "cell_type": "code",
   "execution_count": 22,
   "outputs": [
    {
     "data": {
      "text/plain": "2    156\n3     38\n4     37\nName: size, dtype: int64"
     },
     "execution_count": 22,
     "metadata": {},
     "output_type": "execute_result"
    }
   ],
   "source": [
    "tips_filtered['size'].value_counts()"
   ],
   "metadata": {
    "collapsed": false
   }
  },
  {
   "cell_type": "code",
   "execution_count": 23,
   "outputs": [
    {
     "data": {
      "text/plain": "               Unnamed: 0  total_bill       tip      size  fill_total_bill\nsex    time                                                               \nFemale Dinner       101.0      15.380  3.000000  2.000000           15.380\n       Lunch        161.0      12.480  2.260000  2.000000           13.205\nMale   Dinner        96.5      19.595  2.928333  2.666667           19.595\n       Lunch        192.0         NaN  2.560000  2.000000           19.595",
      "text/html": "<div>\n<style scoped>\n    .dataframe tbody tr th:only-of-type {\n        vertical-align: middle;\n    }\n\n    .dataframe tbody tr th {\n        vertical-align: top;\n    }\n\n    .dataframe thead th {\n        text-align: right;\n    }\n</style>\n<table border=\"1\" class=\"dataframe\">\n  <thead>\n    <tr style=\"text-align: right;\">\n      <th></th>\n      <th></th>\n      <th>Unnamed: 0</th>\n      <th>total_bill</th>\n      <th>tip</th>\n      <th>size</th>\n      <th>fill_total_bill</th>\n    </tr>\n    <tr>\n      <th>sex</th>\n      <th>time</th>\n      <th></th>\n      <th></th>\n      <th></th>\n      <th></th>\n      <th></th>\n    </tr>\n  </thead>\n  <tbody>\n    <tr>\n      <td rowspan=\"2\" valign=\"top\">Female</td>\n      <td>Dinner</td>\n      <td>101.0</td>\n      <td>15.380</td>\n      <td>3.000000</td>\n      <td>2.000000</td>\n      <td>15.380</td>\n    </tr>\n    <tr>\n      <td>Lunch</td>\n      <td>161.0</td>\n      <td>12.480</td>\n      <td>2.260000</td>\n      <td>2.000000</td>\n      <td>13.205</td>\n    </tr>\n    <tr>\n      <td rowspan=\"2\" valign=\"top\">Male</td>\n      <td>Dinner</td>\n      <td>96.5</td>\n      <td>19.595</td>\n      <td>2.928333</td>\n      <td>2.666667</td>\n      <td>19.595</td>\n    </tr>\n    <tr>\n      <td>Lunch</td>\n      <td>192.0</td>\n      <td>NaN</td>\n      <td>2.560000</td>\n      <td>2.000000</td>\n      <td>19.595</td>\n    </tr>\n  </tbody>\n</table>\n</div>"
     },
     "execution_count": 23,
     "metadata": {},
     "output_type": "execute_result"
    }
   ],
   "source": [
    "group_avg = tips_10.groupby(['sex','time']).mean()\n",
    "group_avg"
   ],
   "metadata": {
    "collapsed": false
   }
  },
  {
   "cell_type": "code",
   "execution_count": 24,
   "outputs": [
    {
     "data": {
      "text/plain": "MultiIndex([('Female', 'Dinner'),\n            ('Female',  'Lunch'),\n            (  'Male', 'Dinner'),\n            (  'Male',  'Lunch')],\n           names=['sex', 'time'])"
     },
     "execution_count": 24,
     "metadata": {},
     "output_type": "execute_result"
    }
   ],
   "source": [
    "group_avg.index"
   ],
   "metadata": {
    "collapsed": false
   }
  },
  {
   "cell_type": "code",
   "execution_count": null,
   "outputs": [],
   "source": [],
   "metadata": {
    "collapsed": false
   }
  }
 ],
 "metadata": {
  "kernelspec": {
   "display_name": "Python 3",
   "language": "python",
   "name": "python3"
  },
  "language_info": {
   "codemirror_mode": {
    "name": "ipython",
    "version": 2
   },
   "file_extension": ".py",
   "mimetype": "text/x-python",
   "name": "python",
   "nbconvert_exporter": "python",
   "pygments_lexer": "ipython2",
   "version": "2.7.6"
  }
 },
 "nbformat": 4,
 "nbformat_minor": 0
}
