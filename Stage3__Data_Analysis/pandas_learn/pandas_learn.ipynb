{
 "cells": [
  {
   "cell_type": "code",
   "execution_count": 1,
   "metadata": {
    "collapsed": true
   },
   "outputs": [],
   "source": [
    "import numpy as np\n",
    "import pandas as pd\n",
    "import matplotlib.pyplot as plt"
   ]
  },
  {
   "cell_type": "code",
   "execution_count": 2,
   "outputs": [],
   "source": [
    "import os\n",
    "import sys\n",
    "if sys.platform == 'win32':\n",
    "    dir = r\"D:\\黑马课程\\人工智能V3.0（尊享无忧）\\00 课程资料\\3.阶段三数据处理与统计分析\\数据处理与统计分析v3.0视频（第二部分）\\资料\\data\"\n",
    "else:\n",
    "    dir = r'/Users/wangrui/Desktop/00 课程资料/3.阶段三数据处理与统计分析/数据处理与统计分析v3.0视频（第二部分）/资料/data'"
   ],
   "metadata": {
    "collapsed": false
   }
  },
  {
   "cell_type": "code",
   "execution_count": 3,
   "outputs": [
    {
     "data": {
      "text/plain": "0    banana\n1        42\ndtype: object"
     },
     "execution_count": 3,
     "metadata": {},
     "output_type": "execute_result"
    }
   ],
   "source": [
    "s = pd.Series(['banana', 42])\n",
    "s"
   ],
   "metadata": {
    "collapsed": false
   }
  },
  {
   "cell_type": "code",
   "execution_count": 4,
   "outputs": [
    {
     "data": {
      "text/plain": "Name      Wes McKinney\nGender            Male\ndtype: object"
     },
     "execution_count": 4,
     "metadata": {},
     "output_type": "execute_result"
    }
   ],
   "source": [
    "s = pd.Series(['Wes McKinney','Male'],index = ['Name','Gender'])\n",
    "s"
   ],
   "metadata": {
    "collapsed": false
   }
  },
  {
   "cell_type": "code",
   "execution_count": 5,
   "outputs": [
    {
     "data": {
      "text/plain": "  Name   Occupation  age\n0  Tom      Teacher   28\n1  Bob  IT Engineer   36",
      "text/html": "<div>\n<style scoped>\n    .dataframe tbody tr th:only-of-type {\n        vertical-align: middle;\n    }\n\n    .dataframe tbody tr th {\n        vertical-align: top;\n    }\n\n    .dataframe thead th {\n        text-align: right;\n    }\n</style>\n<table border=\"1\" class=\"dataframe\">\n  <thead>\n    <tr style=\"text-align: right;\">\n      <th></th>\n      <th>Name</th>\n      <th>Occupation</th>\n      <th>age</th>\n    </tr>\n  </thead>\n  <tbody>\n    <tr>\n      <td>0</td>\n      <td>Tom</td>\n      <td>Teacher</td>\n      <td>28</td>\n    </tr>\n    <tr>\n      <td>1</td>\n      <td>Bob</td>\n      <td>IT Engineer</td>\n      <td>36</td>\n    </tr>\n  </tbody>\n</table>\n</div>"
     },
     "execution_count": 5,
     "metadata": {},
     "output_type": "execute_result"
    }
   ],
   "source": [
    "name_list = pd.DataFrame(\n",
    "    {'Name':['Tom','Bob'],\n",
    "     'Occupation':['Teacher','IT Engineer'],\n",
    "     'age':[28,36]})\n",
    "name_list"
   ],
   "metadata": {
    "collapsed": false
   }
  },
  {
   "cell_type": "code",
   "execution_count": 6,
   "outputs": [
    {
     "name": "stdout",
     "output_type": "stream",
     "text": [
      "     Age   Occupation\n",
      "Tom   28      Teacher\n",
      "Bob   36  IT Engineer\n"
     ]
    }
   ],
   "source": [
    "name_list = pd.DataFrame(data = {'Occupation':['Teacher','IT Engineer'],'Age':[28,36]},columns=['Age','Occupation'],index=['Tom','Bob'])\n",
    "print(name_list)"
   ],
   "metadata": {
    "collapsed": false
   }
  },
  {
   "cell_type": "code",
   "execution_count": 7,
   "outputs": [
    {
     "data": {
      "text/plain": "     year    category overallMotivation         firstname      surname  \\\nid                                                                       \n941  2017     physics               NaN            Rainer        Weiss   \n942  2017     physics               NaN          Barry C.       Barish   \n943  2017     physics               NaN            Kip S.       Thorne   \n944  2017   chemistry               NaN           Jacques     Dubochet   \n945  2017   chemistry               NaN           Joachim        Frank   \n..    ...         ...               ...               ...          ...   \n160  1901   chemistry               NaN  Jacobus Henricus  van 't Hoff   \n293  1901    medicine               NaN        Emil Adolf  von Behring   \n569  1901  literature               NaN             Sully    Prudhomme   \n462  1901       peace               NaN        Jean Henry       Dunant   \n463  1901       peace               NaN          Frédéric        Passy   \n\n                                            motivation  share  \nid                                                             \n941  \"for decisive contributions to the LIGO detect...      2  \n942  \"for decisive contributions to the LIGO detect...      4  \n943  \"for decisive contributions to the LIGO detect...      4  \n944  \"for developing cryo-electron microscopy for t...      3  \n945  \"for developing cryo-electron microscopy for t...      3  \n..                                                 ...    ...  \n160  \"in recognition of the extraordinary services ...      1  \n293  \"for his work on serum therapy, especially its...      1  \n569  \"in special recognition of his poetic composit...      1  \n462                                                NaN      2  \n463                                                NaN      2  \n\n[923 rows x 7 columns]",
      "text/html": "<div>\n<style scoped>\n    .dataframe tbody tr th:only-of-type {\n        vertical-align: middle;\n    }\n\n    .dataframe tbody tr th {\n        vertical-align: top;\n    }\n\n    .dataframe thead th {\n        text-align: right;\n    }\n</style>\n<table border=\"1\" class=\"dataframe\">\n  <thead>\n    <tr style=\"text-align: right;\">\n      <th></th>\n      <th>year</th>\n      <th>category</th>\n      <th>overallMotivation</th>\n      <th>firstname</th>\n      <th>surname</th>\n      <th>motivation</th>\n      <th>share</th>\n    </tr>\n    <tr>\n      <th>id</th>\n      <th></th>\n      <th></th>\n      <th></th>\n      <th></th>\n      <th></th>\n      <th></th>\n      <th></th>\n    </tr>\n  </thead>\n  <tbody>\n    <tr>\n      <td>941</td>\n      <td>2017</td>\n      <td>physics</td>\n      <td>NaN</td>\n      <td>Rainer</td>\n      <td>Weiss</td>\n      <td>\"for decisive contributions to the LIGO detect...</td>\n      <td>2</td>\n    </tr>\n    <tr>\n      <td>942</td>\n      <td>2017</td>\n      <td>physics</td>\n      <td>NaN</td>\n      <td>Barry C.</td>\n      <td>Barish</td>\n      <td>\"for decisive contributions to the LIGO detect...</td>\n      <td>4</td>\n    </tr>\n    <tr>\n      <td>943</td>\n      <td>2017</td>\n      <td>physics</td>\n      <td>NaN</td>\n      <td>Kip S.</td>\n      <td>Thorne</td>\n      <td>\"for decisive contributions to the LIGO detect...</td>\n      <td>4</td>\n    </tr>\n    <tr>\n      <td>944</td>\n      <td>2017</td>\n      <td>chemistry</td>\n      <td>NaN</td>\n      <td>Jacques</td>\n      <td>Dubochet</td>\n      <td>\"for developing cryo-electron microscopy for t...</td>\n      <td>3</td>\n    </tr>\n    <tr>\n      <td>945</td>\n      <td>2017</td>\n      <td>chemistry</td>\n      <td>NaN</td>\n      <td>Joachim</td>\n      <td>Frank</td>\n      <td>\"for developing cryo-electron microscopy for t...</td>\n      <td>3</td>\n    </tr>\n    <tr>\n      <td>...</td>\n      <td>...</td>\n      <td>...</td>\n      <td>...</td>\n      <td>...</td>\n      <td>...</td>\n      <td>...</td>\n      <td>...</td>\n    </tr>\n    <tr>\n      <td>160</td>\n      <td>1901</td>\n      <td>chemistry</td>\n      <td>NaN</td>\n      <td>Jacobus Henricus</td>\n      <td>van 't Hoff</td>\n      <td>\"in recognition of the extraordinary services ...</td>\n      <td>1</td>\n    </tr>\n    <tr>\n      <td>293</td>\n      <td>1901</td>\n      <td>medicine</td>\n      <td>NaN</td>\n      <td>Emil Adolf</td>\n      <td>von Behring</td>\n      <td>\"for his work on serum therapy, especially its...</td>\n      <td>1</td>\n    </tr>\n    <tr>\n      <td>569</td>\n      <td>1901</td>\n      <td>literature</td>\n      <td>NaN</td>\n      <td>Sully</td>\n      <td>Prudhomme</td>\n      <td>\"in special recognition of his poetic composit...</td>\n      <td>1</td>\n    </tr>\n    <tr>\n      <td>462</td>\n      <td>1901</td>\n      <td>peace</td>\n      <td>NaN</td>\n      <td>Jean Henry</td>\n      <td>Dunant</td>\n      <td>NaN</td>\n      <td>2</td>\n    </tr>\n    <tr>\n      <td>463</td>\n      <td>1901</td>\n      <td>peace</td>\n      <td>NaN</td>\n      <td>Frédéric</td>\n      <td>Passy</td>\n      <td>NaN</td>\n      <td>2</td>\n    </tr>\n  </tbody>\n</table>\n<p>923 rows × 7 columns</p>\n</div>"
     },
     "execution_count": 7,
     "metadata": {},
     "output_type": "execute_result"
    }
   ],
   "source": [
    "path = os.path.join(dir, 'nobel_prizes.csv')\n",
    "data = pd.read_csv(path, index_col='id')\n",
    "data"
   ],
   "metadata": {
    "collapsed": false
   }
  },
  {
   "cell_type": "code",
   "execution_count": 8,
   "outputs": [
    {
     "data": {
      "text/plain": "year                                                              2017\ncategory                                                       physics\noverallMotivation                                                  NaN\nfirstname                                                       Rainer\nsurname                                                          Weiss\nmotivation           \"for decisive contributions to the LIGO detect...\nshare                                                                2\nName: 941, dtype: object"
     },
     "execution_count": 8,
     "metadata": {},
     "output_type": "execute_result"
    }
   ],
   "source": [
    "first_row = data.iloc[0]\n",
    "first_row"
   ],
   "metadata": {
    "collapsed": false
   }
  },
  {
   "cell_type": "code",
   "execution_count": 9,
   "outputs": [
    {
     "data": {
      "text/plain": "pandas.core.series.Series"
     },
     "execution_count": 9,
     "metadata": {},
     "output_type": "execute_result"
    }
   ],
   "source": [
    "type(first_row)"
   ],
   "metadata": {
    "collapsed": false
   }
  },
  {
   "cell_type": "code",
   "execution_count": 10,
   "outputs": [
    {
     "data": {
      "text/plain": "Index(['year', 'category', 'overallMotivation', 'firstname', 'surname',\n       'motivation', 'share'],\n      dtype='object')"
     },
     "execution_count": 10,
     "metadata": {},
     "output_type": "execute_result"
    }
   ],
   "source": [
    "first_row.index"
   ],
   "metadata": {
    "collapsed": false
   }
  },
  {
   "cell_type": "code",
   "execution_count": 11,
   "outputs": [
    {
     "data": {
      "text/plain": "1.982665222101842"
     },
     "execution_count": 11,
     "metadata": {},
     "output_type": "execute_result"
    }
   ],
   "source": [
    "share = data.share\n",
    "share.mean()"
   ],
   "metadata": {
    "collapsed": false
   }
  },
  {
   "cell_type": "code",
   "execution_count": 12,
   "outputs": [
    {
     "data": {
      "text/plain": "4"
     },
     "execution_count": 12,
     "metadata": {},
     "output_type": "execute_result"
    }
   ],
   "source": [
    "share.max()"
   ],
   "metadata": {
    "collapsed": false
   }
  },
  {
   "cell_type": "code",
   "execution_count": 13,
   "outputs": [
    {
     "data": {
      "text/plain": "1"
     },
     "execution_count": 13,
     "metadata": {},
     "output_type": "execute_result"
    }
   ],
   "source": [
    "share.min()"
   ],
   "metadata": {
    "collapsed": false
   }
  },
  {
   "cell_type": "code",
   "execution_count": 14,
   "outputs": [
    {
     "data": {
      "text/plain": "0.9324952202244672"
     },
     "execution_count": 14,
     "metadata": {},
     "output_type": "execute_result"
    }
   ],
   "source": [
    "share.std()"
   ],
   "metadata": {
    "collapsed": false
   }
  },
  {
   "cell_type": "code",
   "execution_count": 15,
   "outputs": [
    {
     "data": {
      "text/plain": "      color      director_name  num_critic_for_reviews  duration  \\\n0     Color      James Cameron                   723.0     178.0   \n1     Color     Gore Verbinski                   302.0     169.0   \n2     Color         Sam Mendes                   602.0     148.0   \n3     Color  Christopher Nolan                   813.0     164.0   \n4       NaN        Doug Walker                     NaN       NaN   \n...     ...                ...                     ...       ...   \n4911  Color        Scott Smith                     1.0      87.0   \n4912  Color                NaN                    43.0      43.0   \n4913  Color   Benjamin Roberds                    13.0      76.0   \n4914  Color        Daniel Hsia                    14.0     100.0   \n4915  Color           Jon Gunn                    43.0      90.0   \n\n      director_facebook_likes  actor_3_facebook_likes      actor_2_name  \\\n0                         0.0                   855.0  Joel David Moore   \n1                       563.0                  1000.0     Orlando Bloom   \n2                         0.0                   161.0      Rory Kinnear   \n3                     22000.0                 23000.0    Christian Bale   \n4                       131.0                     NaN        Rob Walker   \n...                       ...                     ...               ...   \n4911                      2.0                   318.0     Daphne Zuniga   \n4912                      NaN                   319.0     Valorie Curry   \n4913                      0.0                     0.0     Maxwell Moody   \n4914                      0.0                   489.0     Daniel Henney   \n4915                     16.0                    16.0  Brian Herzlinger   \n\n      actor_1_facebook_likes        gross                           genres  \\\n0                     1000.0  760505847.0  Action|Adventure|Fantasy|Sci-Fi   \n1                    40000.0  309404152.0         Action|Adventure|Fantasy   \n2                    11000.0  200074175.0        Action|Adventure|Thriller   \n3                    27000.0  448130642.0                  Action|Thriller   \n4                      131.0          NaN                      Documentary   \n...                      ...          ...                              ...   \n4911                   637.0          NaN                     Comedy|Drama   \n4912                   841.0          NaN     Crime|Drama|Mystery|Thriller   \n4913                     0.0          NaN            Drama|Horror|Thriller   \n4914                   946.0      10443.0             Comedy|Drama|Romance   \n4915                    86.0      85222.0                      Documentary   \n\n      ... num_user_for_reviews language  country  content_rating       budget  \\\n0     ...               3054.0  English      USA           PG-13  237000000.0   \n1     ...               1238.0  English      USA           PG-13  300000000.0   \n2     ...                994.0  English       UK           PG-13  245000000.0   \n3     ...               2701.0  English      USA           PG-13  250000000.0   \n4     ...                  NaN      NaN      NaN             NaN          NaN   \n...   ...                  ...      ...      ...             ...          ...   \n4911  ...                  6.0  English   Canada             NaN          NaN   \n4912  ...                359.0  English      USA           TV-14          NaN   \n4913  ...                  3.0  English      USA             NaN       1400.0   \n4914  ...                  9.0  English      USA           PG-13          NaN   \n4915  ...                 84.0  English      USA              PG       1100.0   \n\n      title_year actor_2_facebook_likes imdb_score  aspect_ratio  \\\n0         2009.0                  936.0        7.9          1.78   \n1         2007.0                 5000.0        7.1          2.35   \n2         2015.0                  393.0        6.8          2.35   \n3         2012.0                23000.0        8.5          2.35   \n4            NaN                   12.0        7.1           NaN   \n...          ...                    ...        ...           ...   \n4911      2013.0                  470.0        7.7           NaN   \n4912         NaN                  593.0        7.5         16.00   \n4913      2013.0                    0.0        6.3           NaN   \n4914      2012.0                  719.0        6.3          2.35   \n4915      2004.0                   23.0        6.6          1.85   \n\n     movie_facebook_likes  \n0                   33000  \n1                       0  \n2                   85000  \n3                  164000  \n4                       0  \n...                   ...  \n4911                   84  \n4912                32000  \n4913                   16  \n4914                  660  \n4915                  456  \n\n[4916 rows x 28 columns]",
      "text/html": "<div>\n<style scoped>\n    .dataframe tbody tr th:only-of-type {\n        vertical-align: middle;\n    }\n\n    .dataframe tbody tr th {\n        vertical-align: top;\n    }\n\n    .dataframe thead th {\n        text-align: right;\n    }\n</style>\n<table border=\"1\" class=\"dataframe\">\n  <thead>\n    <tr style=\"text-align: right;\">\n      <th></th>\n      <th>color</th>\n      <th>director_name</th>\n      <th>num_critic_for_reviews</th>\n      <th>duration</th>\n      <th>director_facebook_likes</th>\n      <th>actor_3_facebook_likes</th>\n      <th>actor_2_name</th>\n      <th>actor_1_facebook_likes</th>\n      <th>gross</th>\n      <th>genres</th>\n      <th>...</th>\n      <th>num_user_for_reviews</th>\n      <th>language</th>\n      <th>country</th>\n      <th>content_rating</th>\n      <th>budget</th>\n      <th>title_year</th>\n      <th>actor_2_facebook_likes</th>\n      <th>imdb_score</th>\n      <th>aspect_ratio</th>\n      <th>movie_facebook_likes</th>\n    </tr>\n  </thead>\n  <tbody>\n    <tr>\n      <td>0</td>\n      <td>Color</td>\n      <td>James Cameron</td>\n      <td>723.0</td>\n      <td>178.0</td>\n      <td>0.0</td>\n      <td>855.0</td>\n      <td>Joel David Moore</td>\n      <td>1000.0</td>\n      <td>760505847.0</td>\n      <td>Action|Adventure|Fantasy|Sci-Fi</td>\n      <td>...</td>\n      <td>3054.0</td>\n      <td>English</td>\n      <td>USA</td>\n      <td>PG-13</td>\n      <td>237000000.0</td>\n      <td>2009.0</td>\n      <td>936.0</td>\n      <td>7.9</td>\n      <td>1.78</td>\n      <td>33000</td>\n    </tr>\n    <tr>\n      <td>1</td>\n      <td>Color</td>\n      <td>Gore Verbinski</td>\n      <td>302.0</td>\n      <td>169.0</td>\n      <td>563.0</td>\n      <td>1000.0</td>\n      <td>Orlando Bloom</td>\n      <td>40000.0</td>\n      <td>309404152.0</td>\n      <td>Action|Adventure|Fantasy</td>\n      <td>...</td>\n      <td>1238.0</td>\n      <td>English</td>\n      <td>USA</td>\n      <td>PG-13</td>\n      <td>300000000.0</td>\n      <td>2007.0</td>\n      <td>5000.0</td>\n      <td>7.1</td>\n      <td>2.35</td>\n      <td>0</td>\n    </tr>\n    <tr>\n      <td>2</td>\n      <td>Color</td>\n      <td>Sam Mendes</td>\n      <td>602.0</td>\n      <td>148.0</td>\n      <td>0.0</td>\n      <td>161.0</td>\n      <td>Rory Kinnear</td>\n      <td>11000.0</td>\n      <td>200074175.0</td>\n      <td>Action|Adventure|Thriller</td>\n      <td>...</td>\n      <td>994.0</td>\n      <td>English</td>\n      <td>UK</td>\n      <td>PG-13</td>\n      <td>245000000.0</td>\n      <td>2015.0</td>\n      <td>393.0</td>\n      <td>6.8</td>\n      <td>2.35</td>\n      <td>85000</td>\n    </tr>\n    <tr>\n      <td>3</td>\n      <td>Color</td>\n      <td>Christopher Nolan</td>\n      <td>813.0</td>\n      <td>164.0</td>\n      <td>22000.0</td>\n      <td>23000.0</td>\n      <td>Christian Bale</td>\n      <td>27000.0</td>\n      <td>448130642.0</td>\n      <td>Action|Thriller</td>\n      <td>...</td>\n      <td>2701.0</td>\n      <td>English</td>\n      <td>USA</td>\n      <td>PG-13</td>\n      <td>250000000.0</td>\n      <td>2012.0</td>\n      <td>23000.0</td>\n      <td>8.5</td>\n      <td>2.35</td>\n      <td>164000</td>\n    </tr>\n    <tr>\n      <td>4</td>\n      <td>NaN</td>\n      <td>Doug Walker</td>\n      <td>NaN</td>\n      <td>NaN</td>\n      <td>131.0</td>\n      <td>NaN</td>\n      <td>Rob Walker</td>\n      <td>131.0</td>\n      <td>NaN</td>\n      <td>Documentary</td>\n      <td>...</td>\n      <td>NaN</td>\n      <td>NaN</td>\n      <td>NaN</td>\n      <td>NaN</td>\n      <td>NaN</td>\n      <td>NaN</td>\n      <td>12.0</td>\n      <td>7.1</td>\n      <td>NaN</td>\n      <td>0</td>\n    </tr>\n    <tr>\n      <td>...</td>\n      <td>...</td>\n      <td>...</td>\n      <td>...</td>\n      <td>...</td>\n      <td>...</td>\n      <td>...</td>\n      <td>...</td>\n      <td>...</td>\n      <td>...</td>\n      <td>...</td>\n      <td>...</td>\n      <td>...</td>\n      <td>...</td>\n      <td>...</td>\n      <td>...</td>\n      <td>...</td>\n      <td>...</td>\n      <td>...</td>\n      <td>...</td>\n      <td>...</td>\n      <td>...</td>\n    </tr>\n    <tr>\n      <td>4911</td>\n      <td>Color</td>\n      <td>Scott Smith</td>\n      <td>1.0</td>\n      <td>87.0</td>\n      <td>2.0</td>\n      <td>318.0</td>\n      <td>Daphne Zuniga</td>\n      <td>637.0</td>\n      <td>NaN</td>\n      <td>Comedy|Drama</td>\n      <td>...</td>\n      <td>6.0</td>\n      <td>English</td>\n      <td>Canada</td>\n      <td>NaN</td>\n      <td>NaN</td>\n      <td>2013.0</td>\n      <td>470.0</td>\n      <td>7.7</td>\n      <td>NaN</td>\n      <td>84</td>\n    </tr>\n    <tr>\n      <td>4912</td>\n      <td>Color</td>\n      <td>NaN</td>\n      <td>43.0</td>\n      <td>43.0</td>\n      <td>NaN</td>\n      <td>319.0</td>\n      <td>Valorie Curry</td>\n      <td>841.0</td>\n      <td>NaN</td>\n      <td>Crime|Drama|Mystery|Thriller</td>\n      <td>...</td>\n      <td>359.0</td>\n      <td>English</td>\n      <td>USA</td>\n      <td>TV-14</td>\n      <td>NaN</td>\n      <td>NaN</td>\n      <td>593.0</td>\n      <td>7.5</td>\n      <td>16.00</td>\n      <td>32000</td>\n    </tr>\n    <tr>\n      <td>4913</td>\n      <td>Color</td>\n      <td>Benjamin Roberds</td>\n      <td>13.0</td>\n      <td>76.0</td>\n      <td>0.0</td>\n      <td>0.0</td>\n      <td>Maxwell Moody</td>\n      <td>0.0</td>\n      <td>NaN</td>\n      <td>Drama|Horror|Thriller</td>\n      <td>...</td>\n      <td>3.0</td>\n      <td>English</td>\n      <td>USA</td>\n      <td>NaN</td>\n      <td>1400.0</td>\n      <td>2013.0</td>\n      <td>0.0</td>\n      <td>6.3</td>\n      <td>NaN</td>\n      <td>16</td>\n    </tr>\n    <tr>\n      <td>4914</td>\n      <td>Color</td>\n      <td>Daniel Hsia</td>\n      <td>14.0</td>\n      <td>100.0</td>\n      <td>0.0</td>\n      <td>489.0</td>\n      <td>Daniel Henney</td>\n      <td>946.0</td>\n      <td>10443.0</td>\n      <td>Comedy|Drama|Romance</td>\n      <td>...</td>\n      <td>9.0</td>\n      <td>English</td>\n      <td>USA</td>\n      <td>PG-13</td>\n      <td>NaN</td>\n      <td>2012.0</td>\n      <td>719.0</td>\n      <td>6.3</td>\n      <td>2.35</td>\n      <td>660</td>\n    </tr>\n    <tr>\n      <td>4915</td>\n      <td>Color</td>\n      <td>Jon Gunn</td>\n      <td>43.0</td>\n      <td>90.0</td>\n      <td>16.0</td>\n      <td>16.0</td>\n      <td>Brian Herzlinger</td>\n      <td>86.0</td>\n      <td>85222.0</td>\n      <td>Documentary</td>\n      <td>...</td>\n      <td>84.0</td>\n      <td>English</td>\n      <td>USA</td>\n      <td>PG</td>\n      <td>1100.0</td>\n      <td>2004.0</td>\n      <td>23.0</td>\n      <td>6.6</td>\n      <td>1.85</td>\n      <td>456</td>\n    </tr>\n  </tbody>\n</table>\n<p>4916 rows × 28 columns</p>\n</div>"
     },
     "execution_count": 15,
     "metadata": {},
     "output_type": "execute_result"
    }
   ],
   "source": [
    "movie = pd.read_csv(os.path.join(dir, 'movie.csv'))\n",
    "movie"
   ],
   "metadata": {
    "collapsed": false
   }
  },
  {
   "cell_type": "code",
   "execution_count": 16,
   "outputs": [
    {
     "data": {
      "text/plain": "0           James Cameron\n1          Gore Verbinski\n2              Sam Mendes\n3       Christopher Nolan\n4             Doug Walker\n              ...        \n4911          Scott Smith\n4912                  NaN\n4913     Benjamin Roberds\n4914          Daniel Hsia\n4915             Jon Gunn\nName: director_name, Length: 4916, dtype: object"
     },
     "execution_count": 16,
     "metadata": {},
     "output_type": "execute_result"
    }
   ],
   "source": [
    "director = movie.director_name\n",
    "actor_1_fb_likes = movie.actor_1_facebook_likes\n",
    "director"
   ],
   "metadata": {
    "collapsed": false
   }
  },
  {
   "cell_type": "code",
   "execution_count": 17,
   "outputs": [
    {
     "data": {
      "text/plain": "Steven Spielberg    26\nWoody Allen         22\nMartin Scorsese     20\nClint Eastwood      20\nRidley Scott        16\n                    ..\nRingo Lam            1\nTravis Cluff         1\nMorgan Neville       1\nDaniel Sackheim      1\nRick Bieber          1\nName: director_name, Length: 2397, dtype: int64"
     },
     "execution_count": 17,
     "metadata": {},
     "output_type": "execute_result"
    }
   ],
   "source": [
    "director.value_counts()"
   ],
   "metadata": {
    "collapsed": false
   }
  },
  {
   "cell_type": "code",
   "execution_count": 18,
   "outputs": [
    {
     "data": {
      "text/plain": "4814"
     },
     "execution_count": 18,
     "metadata": {},
     "output_type": "execute_result"
    }
   ],
   "source": [
    "director.count()"
   ],
   "metadata": {
    "collapsed": false
   }
  },
  {
   "cell_type": "code",
   "execution_count": 19,
   "outputs": [
    {
     "data": {
      "text/plain": "(4916,)"
     },
     "execution_count": 19,
     "metadata": {},
     "output_type": "execute_result"
    }
   ],
   "source": [
    "director.shape"
   ],
   "metadata": {
    "collapsed": false
   }
  },
  {
   "cell_type": "code",
   "execution_count": 20,
   "outputs": [
    {
     "data": {
      "text/plain": "count      4909.000000\nmean       6494.488491\nstd       15106.986884\nmin           0.000000\n25%         607.000000\n50%         982.000000\n75%       11000.000000\nmax      640000.000000\nName: actor_1_facebook_likes, dtype: float64"
     },
     "execution_count": 20,
     "metadata": {},
     "output_type": "execute_result"
    }
   ],
   "source": [
    "actor_1_fb_likes.describe()"
   ],
   "metadata": {
    "collapsed": false
   }
  },
  {
   "cell_type": "code",
   "execution_count": 21,
   "outputs": [
    {
     "data": {
      "text/plain": "                   Name        Born        Died  Age          Occupation\n0     Rosaline Franklin  1920-07-25  1958-04-16   37             Chemist\n1        William Gosset  1876-06-13  1937-10-16   61        Statistician\n2  Florence Nightingale  1820-05-12  1910-08-13   90               Nurse\n3           Marie Curie  1867-11-07  1934-07-04   66             Chemist\n4         Rachel Carson  1907-05-27  1964-04-14   56           Biologist\n5             John Snow  1813-03-15  1858-06-16   45           Physician\n6           Alan Turing  1912-06-23  1954-06-07   41  Computer Scientist\n7          Johann Gauss  1777-04-30  1855-02-23   77       Mathematician",
      "text/html": "<div>\n<style scoped>\n    .dataframe tbody tr th:only-of-type {\n        vertical-align: middle;\n    }\n\n    .dataframe tbody tr th {\n        vertical-align: top;\n    }\n\n    .dataframe thead th {\n        text-align: right;\n    }\n</style>\n<table border=\"1\" class=\"dataframe\">\n  <thead>\n    <tr style=\"text-align: right;\">\n      <th></th>\n      <th>Name</th>\n      <th>Born</th>\n      <th>Died</th>\n      <th>Age</th>\n      <th>Occupation</th>\n    </tr>\n  </thead>\n  <tbody>\n    <tr>\n      <td>0</td>\n      <td>Rosaline Franklin</td>\n      <td>1920-07-25</td>\n      <td>1958-04-16</td>\n      <td>37</td>\n      <td>Chemist</td>\n    </tr>\n    <tr>\n      <td>1</td>\n      <td>William Gosset</td>\n      <td>1876-06-13</td>\n      <td>1937-10-16</td>\n      <td>61</td>\n      <td>Statistician</td>\n    </tr>\n    <tr>\n      <td>2</td>\n      <td>Florence Nightingale</td>\n      <td>1820-05-12</td>\n      <td>1910-08-13</td>\n      <td>90</td>\n      <td>Nurse</td>\n    </tr>\n    <tr>\n      <td>3</td>\n      <td>Marie Curie</td>\n      <td>1867-11-07</td>\n      <td>1934-07-04</td>\n      <td>66</td>\n      <td>Chemist</td>\n    </tr>\n    <tr>\n      <td>4</td>\n      <td>Rachel Carson</td>\n      <td>1907-05-27</td>\n      <td>1964-04-14</td>\n      <td>56</td>\n      <td>Biologist</td>\n    </tr>\n    <tr>\n      <td>5</td>\n      <td>John Snow</td>\n      <td>1813-03-15</td>\n      <td>1858-06-16</td>\n      <td>45</td>\n      <td>Physician</td>\n    </tr>\n    <tr>\n      <td>6</td>\n      <td>Alan Turing</td>\n      <td>1912-06-23</td>\n      <td>1954-06-07</td>\n      <td>41</td>\n      <td>Computer Scientist</td>\n    </tr>\n    <tr>\n      <td>7</td>\n      <td>Johann Gauss</td>\n      <td>1777-04-30</td>\n      <td>1855-02-23</td>\n      <td>77</td>\n      <td>Mathematician</td>\n    </tr>\n  </tbody>\n</table>\n</div>"
     },
     "execution_count": 21,
     "metadata": {},
     "output_type": "execute_result"
    }
   ],
   "source": [
    "scientists = pd.read_csv(os.path.join(dir, 'scientists.csv'))\n",
    "scientists"
   ],
   "metadata": {
    "collapsed": false
   }
  },
  {
   "cell_type": "code",
   "execution_count": 22,
   "outputs": [
    {
     "data": {
      "text/plain": "      color      director_name  num_critic_for_reviews  duration  \\\n0     Color      James Cameron                   723.0     178.0   \n1     Color     Gore Verbinski                   302.0     169.0   \n2     Color         Sam Mendes                   602.0     148.0   \n3     Color  Christopher Nolan                   813.0     164.0   \n5     Color     Andrew Stanton                   462.0     132.0   \n...     ...                ...                     ...       ...   \n4891  Color      Alex Kendrick                     5.0     120.0   \n4893    NaN    Brandon Landers                     NaN     143.0   \n4898  Color        John Waters                    73.0     108.0   \n4899  Color    Olivier Assayas                    81.0     110.0   \n4902  Color   Kiyoshi Kurosawa                    78.0     111.0   \n\n      director_facebook_likes  actor_3_facebook_likes      actor_2_name  \\\n0                         0.0                   855.0  Joel David Moore   \n1                       563.0                  1000.0     Orlando Bloom   \n2                         0.0                   161.0      Rory Kinnear   \n3                     22000.0                 23000.0    Christian Bale   \n5                       475.0                   530.0   Samantha Morton   \n...                       ...                     ...               ...   \n4891                    589.0                     4.0       Lisa Arnold   \n4893                      8.0                     8.0   Alana Kaniewski   \n4898                      0.0                   105.0        Mink Stole   \n4899                    107.0                    45.0    Béatrice Dalle   \n4902                     62.0                     6.0     Anna Nakagawa   \n\n      actor_1_facebook_likes        gross                           genres  \\\n0                     1000.0  760505847.0  Action|Adventure|Fantasy|Sci-Fi   \n1                    40000.0  309404152.0         Action|Adventure|Fantasy   \n2                    11000.0  200074175.0        Action|Adventure|Thriller   \n3                    27000.0  448130642.0                  Action|Thriller   \n5                      640.0   73058679.0          Action|Adventure|Sci-Fi   \n...                      ...          ...                              ...   \n4891                    51.0          NaN                            Drama   \n4893                   720.0          NaN            Drama|Horror|Thriller   \n4898                   462.0     180483.0              Comedy|Crime|Horror   \n4899                   576.0     136007.0              Drama|Music|Romance   \n4902                    89.0      94596.0    Crime|Horror|Mystery|Thriller   \n\n      ... num_user_for_reviews  language  country  content_rating  \\\n0     ...               3054.0   English      USA           PG-13   \n1     ...               1238.0   English      USA           PG-13   \n2     ...                994.0   English       UK           PG-13   \n3     ...               2701.0   English      USA           PG-13   \n5     ...                738.0   English      USA           PG-13   \n...   ...                  ...       ...      ...             ...   \n4891  ...                 49.0   English      USA             NaN   \n4893  ...                  8.0   English      USA             NaN   \n4898  ...                183.0   English      USA           NC-17   \n4899  ...                 39.0    French   France               R   \n4902  ...                 50.0  Japanese    Japan             NaN   \n\n           budget  title_year actor_2_facebook_likes imdb_score  aspect_ratio  \\\n0     237000000.0      2009.0                  936.0        7.9          1.78   \n1     300000000.0      2007.0                 5000.0        7.1          2.35   \n2     245000000.0      2015.0                  393.0        6.8          2.35   \n3     250000000.0      2012.0                23000.0        8.5          2.35   \n5     263700000.0      2012.0                  632.0        6.6          2.35   \n...           ...         ...                    ...        ...           ...   \n4891      20000.0      2003.0                   49.0        6.9          1.85   \n4893      17350.0      2011.0                   19.0        3.0           NaN   \n4898      10000.0      1972.0                  143.0        6.1          1.37   \n4899       4500.0      2004.0                  133.0        6.9          2.35   \n4902    1000000.0      1997.0                   13.0        7.4          1.85   \n\n     movie_facebook_likes  \n0                   33000  \n1                       0  \n2                   85000  \n3                  164000  \n5                   24000  \n...                   ...  \n4891                  725  \n4893                   33  \n4898                    0  \n4899                  171  \n4902                  817  \n\n[2006 rows x 28 columns]",
      "text/html": "<div>\n<style scoped>\n    .dataframe tbody tr th:only-of-type {\n        vertical-align: middle;\n    }\n\n    .dataframe tbody tr th {\n        vertical-align: top;\n    }\n\n    .dataframe thead th {\n        text-align: right;\n    }\n</style>\n<table border=\"1\" class=\"dataframe\">\n  <thead>\n    <tr style=\"text-align: right;\">\n      <th></th>\n      <th>color</th>\n      <th>director_name</th>\n      <th>num_critic_for_reviews</th>\n      <th>duration</th>\n      <th>director_facebook_likes</th>\n      <th>actor_3_facebook_likes</th>\n      <th>actor_2_name</th>\n      <th>actor_1_facebook_likes</th>\n      <th>gross</th>\n      <th>genres</th>\n      <th>...</th>\n      <th>num_user_for_reviews</th>\n      <th>language</th>\n      <th>country</th>\n      <th>content_rating</th>\n      <th>budget</th>\n      <th>title_year</th>\n      <th>actor_2_facebook_likes</th>\n      <th>imdb_score</th>\n      <th>aspect_ratio</th>\n      <th>movie_facebook_likes</th>\n    </tr>\n  </thead>\n  <tbody>\n    <tr>\n      <td>0</td>\n      <td>Color</td>\n      <td>James Cameron</td>\n      <td>723.0</td>\n      <td>178.0</td>\n      <td>0.0</td>\n      <td>855.0</td>\n      <td>Joel David Moore</td>\n      <td>1000.0</td>\n      <td>760505847.0</td>\n      <td>Action|Adventure|Fantasy|Sci-Fi</td>\n      <td>...</td>\n      <td>3054.0</td>\n      <td>English</td>\n      <td>USA</td>\n      <td>PG-13</td>\n      <td>237000000.0</td>\n      <td>2009.0</td>\n      <td>936.0</td>\n      <td>7.9</td>\n      <td>1.78</td>\n      <td>33000</td>\n    </tr>\n    <tr>\n      <td>1</td>\n      <td>Color</td>\n      <td>Gore Verbinski</td>\n      <td>302.0</td>\n      <td>169.0</td>\n      <td>563.0</td>\n      <td>1000.0</td>\n      <td>Orlando Bloom</td>\n      <td>40000.0</td>\n      <td>309404152.0</td>\n      <td>Action|Adventure|Fantasy</td>\n      <td>...</td>\n      <td>1238.0</td>\n      <td>English</td>\n      <td>USA</td>\n      <td>PG-13</td>\n      <td>300000000.0</td>\n      <td>2007.0</td>\n      <td>5000.0</td>\n      <td>7.1</td>\n      <td>2.35</td>\n      <td>0</td>\n    </tr>\n    <tr>\n      <td>2</td>\n      <td>Color</td>\n      <td>Sam Mendes</td>\n      <td>602.0</td>\n      <td>148.0</td>\n      <td>0.0</td>\n      <td>161.0</td>\n      <td>Rory Kinnear</td>\n      <td>11000.0</td>\n      <td>200074175.0</td>\n      <td>Action|Adventure|Thriller</td>\n      <td>...</td>\n      <td>994.0</td>\n      <td>English</td>\n      <td>UK</td>\n      <td>PG-13</td>\n      <td>245000000.0</td>\n      <td>2015.0</td>\n      <td>393.0</td>\n      <td>6.8</td>\n      <td>2.35</td>\n      <td>85000</td>\n    </tr>\n    <tr>\n      <td>3</td>\n      <td>Color</td>\n      <td>Christopher Nolan</td>\n      <td>813.0</td>\n      <td>164.0</td>\n      <td>22000.0</td>\n      <td>23000.0</td>\n      <td>Christian Bale</td>\n      <td>27000.0</td>\n      <td>448130642.0</td>\n      <td>Action|Thriller</td>\n      <td>...</td>\n      <td>2701.0</td>\n      <td>English</td>\n      <td>USA</td>\n      <td>PG-13</td>\n      <td>250000000.0</td>\n      <td>2012.0</td>\n      <td>23000.0</td>\n      <td>8.5</td>\n      <td>2.35</td>\n      <td>164000</td>\n    </tr>\n    <tr>\n      <td>5</td>\n      <td>Color</td>\n      <td>Andrew Stanton</td>\n      <td>462.0</td>\n      <td>132.0</td>\n      <td>475.0</td>\n      <td>530.0</td>\n      <td>Samantha Morton</td>\n      <td>640.0</td>\n      <td>73058679.0</td>\n      <td>Action|Adventure|Sci-Fi</td>\n      <td>...</td>\n      <td>738.0</td>\n      <td>English</td>\n      <td>USA</td>\n      <td>PG-13</td>\n      <td>263700000.0</td>\n      <td>2012.0</td>\n      <td>632.0</td>\n      <td>6.6</td>\n      <td>2.35</td>\n      <td>24000</td>\n    </tr>\n    <tr>\n      <td>...</td>\n      <td>...</td>\n      <td>...</td>\n      <td>...</td>\n      <td>...</td>\n      <td>...</td>\n      <td>...</td>\n      <td>...</td>\n      <td>...</td>\n      <td>...</td>\n      <td>...</td>\n      <td>...</td>\n      <td>...</td>\n      <td>...</td>\n      <td>...</td>\n      <td>...</td>\n      <td>...</td>\n      <td>...</td>\n      <td>...</td>\n      <td>...</td>\n      <td>...</td>\n      <td>...</td>\n    </tr>\n    <tr>\n      <td>4891</td>\n      <td>Color</td>\n      <td>Alex Kendrick</td>\n      <td>5.0</td>\n      <td>120.0</td>\n      <td>589.0</td>\n      <td>4.0</td>\n      <td>Lisa Arnold</td>\n      <td>51.0</td>\n      <td>NaN</td>\n      <td>Drama</td>\n      <td>...</td>\n      <td>49.0</td>\n      <td>English</td>\n      <td>USA</td>\n      <td>NaN</td>\n      <td>20000.0</td>\n      <td>2003.0</td>\n      <td>49.0</td>\n      <td>6.9</td>\n      <td>1.85</td>\n      <td>725</td>\n    </tr>\n    <tr>\n      <td>4893</td>\n      <td>NaN</td>\n      <td>Brandon Landers</td>\n      <td>NaN</td>\n      <td>143.0</td>\n      <td>8.0</td>\n      <td>8.0</td>\n      <td>Alana Kaniewski</td>\n      <td>720.0</td>\n      <td>NaN</td>\n      <td>Drama|Horror|Thriller</td>\n      <td>...</td>\n      <td>8.0</td>\n      <td>English</td>\n      <td>USA</td>\n      <td>NaN</td>\n      <td>17350.0</td>\n      <td>2011.0</td>\n      <td>19.0</td>\n      <td>3.0</td>\n      <td>NaN</td>\n      <td>33</td>\n    </tr>\n    <tr>\n      <td>4898</td>\n      <td>Color</td>\n      <td>John Waters</td>\n      <td>73.0</td>\n      <td>108.0</td>\n      <td>0.0</td>\n      <td>105.0</td>\n      <td>Mink Stole</td>\n      <td>462.0</td>\n      <td>180483.0</td>\n      <td>Comedy|Crime|Horror</td>\n      <td>...</td>\n      <td>183.0</td>\n      <td>English</td>\n      <td>USA</td>\n      <td>NC-17</td>\n      <td>10000.0</td>\n      <td>1972.0</td>\n      <td>143.0</td>\n      <td>6.1</td>\n      <td>1.37</td>\n      <td>0</td>\n    </tr>\n    <tr>\n      <td>4899</td>\n      <td>Color</td>\n      <td>Olivier Assayas</td>\n      <td>81.0</td>\n      <td>110.0</td>\n      <td>107.0</td>\n      <td>45.0</td>\n      <td>Béatrice Dalle</td>\n      <td>576.0</td>\n      <td>136007.0</td>\n      <td>Drama|Music|Romance</td>\n      <td>...</td>\n      <td>39.0</td>\n      <td>French</td>\n      <td>France</td>\n      <td>R</td>\n      <td>4500.0</td>\n      <td>2004.0</td>\n      <td>133.0</td>\n      <td>6.9</td>\n      <td>2.35</td>\n      <td>171</td>\n    </tr>\n    <tr>\n      <td>4902</td>\n      <td>Color</td>\n      <td>Kiyoshi Kurosawa</td>\n      <td>78.0</td>\n      <td>111.0</td>\n      <td>62.0</td>\n      <td>6.0</td>\n      <td>Anna Nakagawa</td>\n      <td>89.0</td>\n      <td>94596.0</td>\n      <td>Crime|Horror|Mystery|Thriller</td>\n      <td>...</td>\n      <td>50.0</td>\n      <td>Japanese</td>\n      <td>Japan</td>\n      <td>NaN</td>\n      <td>1000000.0</td>\n      <td>1997.0</td>\n      <td>13.0</td>\n      <td>7.4</td>\n      <td>1.85</td>\n      <td>817</td>\n    </tr>\n  </tbody>\n</table>\n<p>2006 rows × 28 columns</p>\n</div>"
     },
     "execution_count": 22,
     "metadata": {},
     "output_type": "execute_result"
    }
   ],
   "source": [
    "movie[movie.duration > movie.duration.mean()]"
   ],
   "metadata": {
    "collapsed": false
   }
  },
  {
   "cell_type": "code",
   "execution_count": 23,
   "outputs": [
    {
     "data": {
      "text/plain": "                                            color      director_name  \\\nmovie_title                                                            \nAvatar                                      Color      James Cameron   \nPirates of the Caribbean: At World's End    Color     Gore Verbinski   \nSpectre                                     Color         Sam Mendes   \nThe Dark Knight Rises                       Color  Christopher Nolan   \nStar Wars: Episode VII - The Force Awakens    NaN        Doug Walker   \n...                                           ...                ...   \nSigned Sealed Delivered                     Color        Scott Smith   \nThe Following                               Color                NaN   \nA Plague So Pleasant                        Color   Benjamin Roberds   \nShanghai Calling                            Color        Daniel Hsia   \nMy Date with Drew                           Color           Jon Gunn   \n\n                                            num_critic_for_reviews  duration  \\\nmovie_title                                                                    \nAvatar                                                       723.0     178.0   \nPirates of the Caribbean: At World's End                     302.0     169.0   \nSpectre                                                      602.0     148.0   \nThe Dark Knight Rises                                        813.0     164.0   \nStar Wars: Episode VII - The Force Awakens                     NaN       NaN   \n...                                                            ...       ...   \nSigned Sealed Delivered                                        1.0      87.0   \nThe Following                                                 43.0      43.0   \nA Plague So Pleasant                                          13.0      76.0   \nShanghai Calling                                              14.0     100.0   \nMy Date with Drew                                             43.0      90.0   \n\n                                            director_facebook_likes  \\\nmovie_title                                                           \nAvatar                                                          0.0   \nPirates of the Caribbean: At World's End                      563.0   \nSpectre                                                         0.0   \nThe Dark Knight Rises                                       22000.0   \nStar Wars: Episode VII - The Force Awakens                    131.0   \n...                                                             ...   \nSigned Sealed Delivered                                         2.0   \nThe Following                                                   NaN   \nA Plague So Pleasant                                            0.0   \nShanghai Calling                                                0.0   \nMy Date with Drew                                              16.0   \n\n                                            actor_3_facebook_likes  \\\nmovie_title                                                          \nAvatar                                                       855.0   \nPirates of the Caribbean: At World's End                    1000.0   \nSpectre                                                      161.0   \nThe Dark Knight Rises                                      23000.0   \nStar Wars: Episode VII - The Force Awakens                     NaN   \n...                                                            ...   \nSigned Sealed Delivered                                      318.0   \nThe Following                                                319.0   \nA Plague So Pleasant                                           0.0   \nShanghai Calling                                             489.0   \nMy Date with Drew                                             16.0   \n\n                                                actor_2_name  \\\nmovie_title                                                    \nAvatar                                      Joel David Moore   \nPirates of the Caribbean: At World's End       Orlando Bloom   \nSpectre                                         Rory Kinnear   \nThe Dark Knight Rises                         Christian Bale   \nStar Wars: Episode VII - The Force Awakens        Rob Walker   \n...                                                      ...   \nSigned Sealed Delivered                        Daphne Zuniga   \nThe Following                                  Valorie Curry   \nA Plague So Pleasant                           Maxwell Moody   \nShanghai Calling                               Daniel Henney   \nMy Date with Drew                           Brian Herzlinger   \n\n                                            actor_1_facebook_likes  \\\nmovie_title                                                          \nAvatar                                                      1000.0   \nPirates of the Caribbean: At World's End                   40000.0   \nSpectre                                                    11000.0   \nThe Dark Knight Rises                                      27000.0   \nStar Wars: Episode VII - The Force Awakens                   131.0   \n...                                                            ...   \nSigned Sealed Delivered                                      637.0   \nThe Following                                                841.0   \nA Plague So Pleasant                                           0.0   \nShanghai Calling                                             946.0   \nMy Date with Drew                                             86.0   \n\n                                                  gross  \\\nmovie_title                                               \nAvatar                                      760505847.0   \nPirates of the Caribbean: At World's End    309404152.0   \nSpectre                                     200074175.0   \nThe Dark Knight Rises                       448130642.0   \nStar Wars: Episode VII - The Force Awakens          NaN   \n...                                                 ...   \nSigned Sealed Delivered                             NaN   \nThe Following                                       NaN   \nA Plague So Pleasant                                NaN   \nShanghai Calling                                10443.0   \nMy Date with Drew                               85222.0   \n\n                                                                     genres  \\\nmovie_title                                                                   \nAvatar                                      Action|Adventure|Fantasy|Sci-Fi   \nPirates of the Caribbean: At World's End           Action|Adventure|Fantasy   \nSpectre                                           Action|Adventure|Thriller   \nThe Dark Knight Rises                                       Action|Thriller   \nStar Wars: Episode VII - The Force Awakens                      Documentary   \n...                                                                     ...   \nSigned Sealed Delivered                                        Comedy|Drama   \nThe Following                                  Crime|Drama|Mystery|Thriller   \nA Plague So Pleasant                                  Drama|Horror|Thriller   \nShanghai Calling                                       Comedy|Drama|Romance   \nMy Date with Drew                                               Documentary   \n\n                                            ... num_user_for_reviews  \\\nmovie_title                                 ...                        \nAvatar                                      ...               3054.0   \nPirates of the Caribbean: At World's End    ...               1238.0   \nSpectre                                     ...                994.0   \nThe Dark Knight Rises                       ...               2701.0   \nStar Wars: Episode VII - The Force Awakens  ...                  NaN   \n...                                         ...                  ...   \nSigned Sealed Delivered                     ...                  6.0   \nThe Following                               ...                359.0   \nA Plague So Pleasant                        ...                  3.0   \nShanghai Calling                            ...                  9.0   \nMy Date with Drew                           ...                 84.0   \n\n                                            language  country content_rating  \\\nmovie_title                                                                    \nAvatar                                       English      USA          PG-13   \nPirates of the Caribbean: At World's End     English      USA          PG-13   \nSpectre                                      English       UK          PG-13   \nThe Dark Knight Rises                        English      USA          PG-13   \nStar Wars: Episode VII - The Force Awakens       NaN      NaN            NaN   \n...                                              ...      ...            ...   \nSigned Sealed Delivered                      English   Canada            NaN   \nThe Following                                English      USA          TV-14   \nA Plague So Pleasant                         English      USA            NaN   \nShanghai Calling                             English      USA          PG-13   \nMy Date with Drew                            English      USA             PG   \n\n                                                 budget title_year  \\\nmovie_title                                                          \nAvatar                                      237000000.0     2009.0   \nPirates of the Caribbean: At World's End    300000000.0     2007.0   \nSpectre                                     245000000.0     2015.0   \nThe Dark Knight Rises                       250000000.0     2012.0   \nStar Wars: Episode VII - The Force Awakens          NaN        NaN   \n...                                                 ...        ...   \nSigned Sealed Delivered                             NaN     2013.0   \nThe Following                                       NaN        NaN   \nA Plague So Pleasant                             1400.0     2013.0   \nShanghai Calling                                    NaN     2012.0   \nMy Date with Drew                                1100.0     2004.0   \n\n                                           actor_2_facebook_likes  imdb_score  \\\nmovie_title                                                                     \nAvatar                                                      936.0         7.9   \nPirates of the Caribbean: At World's End                   5000.0         7.1   \nSpectre                                                     393.0         6.8   \nThe Dark Knight Rises                                     23000.0         8.5   \nStar Wars: Episode VII - The Force Awakens                   12.0         7.1   \n...                                                           ...         ...   \nSigned Sealed Delivered                                     470.0         7.7   \nThe Following                                               593.0         7.5   \nA Plague So Pleasant                                          0.0         6.3   \nShanghai Calling                                            719.0         6.3   \nMy Date with Drew                                            23.0         6.6   \n\n                                           aspect_ratio movie_facebook_likes  \nmovie_title                                                                   \nAvatar                                             1.78                33000  \nPirates of the Caribbean: At World's End           2.35                    0  \nSpectre                                            2.35                85000  \nThe Dark Knight Rises                              2.35               164000  \nStar Wars: Episode VII - The Force Awakens          NaN                    0  \n...                                                 ...                  ...  \nSigned Sealed Delivered                             NaN                   84  \nThe Following                                     16.00                32000  \nA Plague So Pleasant                                NaN                   16  \nShanghai Calling                                   2.35                  660  \nMy Date with Drew                                  1.85                  456  \n\n[4916 rows x 27 columns]",
      "text/html": "<div>\n<style scoped>\n    .dataframe tbody tr th:only-of-type {\n        vertical-align: middle;\n    }\n\n    .dataframe tbody tr th {\n        vertical-align: top;\n    }\n\n    .dataframe thead th {\n        text-align: right;\n    }\n</style>\n<table border=\"1\" class=\"dataframe\">\n  <thead>\n    <tr style=\"text-align: right;\">\n      <th></th>\n      <th>color</th>\n      <th>director_name</th>\n      <th>num_critic_for_reviews</th>\n      <th>duration</th>\n      <th>director_facebook_likes</th>\n      <th>actor_3_facebook_likes</th>\n      <th>actor_2_name</th>\n      <th>actor_1_facebook_likes</th>\n      <th>gross</th>\n      <th>genres</th>\n      <th>...</th>\n      <th>num_user_for_reviews</th>\n      <th>language</th>\n      <th>country</th>\n      <th>content_rating</th>\n      <th>budget</th>\n      <th>title_year</th>\n      <th>actor_2_facebook_likes</th>\n      <th>imdb_score</th>\n      <th>aspect_ratio</th>\n      <th>movie_facebook_likes</th>\n    </tr>\n    <tr>\n      <th>movie_title</th>\n      <th></th>\n      <th></th>\n      <th></th>\n      <th></th>\n      <th></th>\n      <th></th>\n      <th></th>\n      <th></th>\n      <th></th>\n      <th></th>\n      <th></th>\n      <th></th>\n      <th></th>\n      <th></th>\n      <th></th>\n      <th></th>\n      <th></th>\n      <th></th>\n      <th></th>\n      <th></th>\n      <th></th>\n    </tr>\n  </thead>\n  <tbody>\n    <tr>\n      <td>Avatar</td>\n      <td>Color</td>\n      <td>James Cameron</td>\n      <td>723.0</td>\n      <td>178.0</td>\n      <td>0.0</td>\n      <td>855.0</td>\n      <td>Joel David Moore</td>\n      <td>1000.0</td>\n      <td>760505847.0</td>\n      <td>Action|Adventure|Fantasy|Sci-Fi</td>\n      <td>...</td>\n      <td>3054.0</td>\n      <td>English</td>\n      <td>USA</td>\n      <td>PG-13</td>\n      <td>237000000.0</td>\n      <td>2009.0</td>\n      <td>936.0</td>\n      <td>7.9</td>\n      <td>1.78</td>\n      <td>33000</td>\n    </tr>\n    <tr>\n      <td>Pirates of the Caribbean: At World's End</td>\n      <td>Color</td>\n      <td>Gore Verbinski</td>\n      <td>302.0</td>\n      <td>169.0</td>\n      <td>563.0</td>\n      <td>1000.0</td>\n      <td>Orlando Bloom</td>\n      <td>40000.0</td>\n      <td>309404152.0</td>\n      <td>Action|Adventure|Fantasy</td>\n      <td>...</td>\n      <td>1238.0</td>\n      <td>English</td>\n      <td>USA</td>\n      <td>PG-13</td>\n      <td>300000000.0</td>\n      <td>2007.0</td>\n      <td>5000.0</td>\n      <td>7.1</td>\n      <td>2.35</td>\n      <td>0</td>\n    </tr>\n    <tr>\n      <td>Spectre</td>\n      <td>Color</td>\n      <td>Sam Mendes</td>\n      <td>602.0</td>\n      <td>148.0</td>\n      <td>0.0</td>\n      <td>161.0</td>\n      <td>Rory Kinnear</td>\n      <td>11000.0</td>\n      <td>200074175.0</td>\n      <td>Action|Adventure|Thriller</td>\n      <td>...</td>\n      <td>994.0</td>\n      <td>English</td>\n      <td>UK</td>\n      <td>PG-13</td>\n      <td>245000000.0</td>\n      <td>2015.0</td>\n      <td>393.0</td>\n      <td>6.8</td>\n      <td>2.35</td>\n      <td>85000</td>\n    </tr>\n    <tr>\n      <td>The Dark Knight Rises</td>\n      <td>Color</td>\n      <td>Christopher Nolan</td>\n      <td>813.0</td>\n      <td>164.0</td>\n      <td>22000.0</td>\n      <td>23000.0</td>\n      <td>Christian Bale</td>\n      <td>27000.0</td>\n      <td>448130642.0</td>\n      <td>Action|Thriller</td>\n      <td>...</td>\n      <td>2701.0</td>\n      <td>English</td>\n      <td>USA</td>\n      <td>PG-13</td>\n      <td>250000000.0</td>\n      <td>2012.0</td>\n      <td>23000.0</td>\n      <td>8.5</td>\n      <td>2.35</td>\n      <td>164000</td>\n    </tr>\n    <tr>\n      <td>Star Wars: Episode VII - The Force Awakens</td>\n      <td>NaN</td>\n      <td>Doug Walker</td>\n      <td>NaN</td>\n      <td>NaN</td>\n      <td>131.0</td>\n      <td>NaN</td>\n      <td>Rob Walker</td>\n      <td>131.0</td>\n      <td>NaN</td>\n      <td>Documentary</td>\n      <td>...</td>\n      <td>NaN</td>\n      <td>NaN</td>\n      <td>NaN</td>\n      <td>NaN</td>\n      <td>NaN</td>\n      <td>NaN</td>\n      <td>12.0</td>\n      <td>7.1</td>\n      <td>NaN</td>\n      <td>0</td>\n    </tr>\n    <tr>\n      <td>...</td>\n      <td>...</td>\n      <td>...</td>\n      <td>...</td>\n      <td>...</td>\n      <td>...</td>\n      <td>...</td>\n      <td>...</td>\n      <td>...</td>\n      <td>...</td>\n      <td>...</td>\n      <td>...</td>\n      <td>...</td>\n      <td>...</td>\n      <td>...</td>\n      <td>...</td>\n      <td>...</td>\n      <td>...</td>\n      <td>...</td>\n      <td>...</td>\n      <td>...</td>\n      <td>...</td>\n    </tr>\n    <tr>\n      <td>Signed Sealed Delivered</td>\n      <td>Color</td>\n      <td>Scott Smith</td>\n      <td>1.0</td>\n      <td>87.0</td>\n      <td>2.0</td>\n      <td>318.0</td>\n      <td>Daphne Zuniga</td>\n      <td>637.0</td>\n      <td>NaN</td>\n      <td>Comedy|Drama</td>\n      <td>...</td>\n      <td>6.0</td>\n      <td>English</td>\n      <td>Canada</td>\n      <td>NaN</td>\n      <td>NaN</td>\n      <td>2013.0</td>\n      <td>470.0</td>\n      <td>7.7</td>\n      <td>NaN</td>\n      <td>84</td>\n    </tr>\n    <tr>\n      <td>The Following</td>\n      <td>Color</td>\n      <td>NaN</td>\n      <td>43.0</td>\n      <td>43.0</td>\n      <td>NaN</td>\n      <td>319.0</td>\n      <td>Valorie Curry</td>\n      <td>841.0</td>\n      <td>NaN</td>\n      <td>Crime|Drama|Mystery|Thriller</td>\n      <td>...</td>\n      <td>359.0</td>\n      <td>English</td>\n      <td>USA</td>\n      <td>TV-14</td>\n      <td>NaN</td>\n      <td>NaN</td>\n      <td>593.0</td>\n      <td>7.5</td>\n      <td>16.00</td>\n      <td>32000</td>\n    </tr>\n    <tr>\n      <td>A Plague So Pleasant</td>\n      <td>Color</td>\n      <td>Benjamin Roberds</td>\n      <td>13.0</td>\n      <td>76.0</td>\n      <td>0.0</td>\n      <td>0.0</td>\n      <td>Maxwell Moody</td>\n      <td>0.0</td>\n      <td>NaN</td>\n      <td>Drama|Horror|Thriller</td>\n      <td>...</td>\n      <td>3.0</td>\n      <td>English</td>\n      <td>USA</td>\n      <td>NaN</td>\n      <td>1400.0</td>\n      <td>2013.0</td>\n      <td>0.0</td>\n      <td>6.3</td>\n      <td>NaN</td>\n      <td>16</td>\n    </tr>\n    <tr>\n      <td>Shanghai Calling</td>\n      <td>Color</td>\n      <td>Daniel Hsia</td>\n      <td>14.0</td>\n      <td>100.0</td>\n      <td>0.0</td>\n      <td>489.0</td>\n      <td>Daniel Henney</td>\n      <td>946.0</td>\n      <td>10443.0</td>\n      <td>Comedy|Drama|Romance</td>\n      <td>...</td>\n      <td>9.0</td>\n      <td>English</td>\n      <td>USA</td>\n      <td>PG-13</td>\n      <td>NaN</td>\n      <td>2012.0</td>\n      <td>719.0</td>\n      <td>6.3</td>\n      <td>2.35</td>\n      <td>660</td>\n    </tr>\n    <tr>\n      <td>My Date with Drew</td>\n      <td>Color</td>\n      <td>Jon Gunn</td>\n      <td>43.0</td>\n      <td>90.0</td>\n      <td>16.0</td>\n      <td>16.0</td>\n      <td>Brian Herzlinger</td>\n      <td>86.0</td>\n      <td>85222.0</td>\n      <td>Documentary</td>\n      <td>...</td>\n      <td>84.0</td>\n      <td>English</td>\n      <td>USA</td>\n      <td>PG</td>\n      <td>1100.0</td>\n      <td>2004.0</td>\n      <td>23.0</td>\n      <td>6.6</td>\n      <td>1.85</td>\n      <td>456</td>\n    </tr>\n  </tbody>\n</table>\n<p>4916 rows × 27 columns</p>\n</div>"
     },
     "execution_count": 23,
     "metadata": {},
     "output_type": "execute_result"
    }
   ],
   "source": [
    "movie2 = movie.set_index('movie_title')\n",
    "movie2"
   ],
   "metadata": {
    "collapsed": false
   }
  },
  {
   "cell_type": "code",
   "execution_count": 23,
   "outputs": [],
   "source": [],
   "metadata": {
    "collapsed": false
   }
  }
 ],
 "metadata": {
  "kernelspec": {
   "display_name": "Python 3",
   "language": "python",
   "name": "python3"
  },
  "language_info": {
   "codemirror_mode": {
    "name": "ipython",
    "version": 2
   },
   "file_extension": ".py",
   "mimetype": "text/x-python",
   "name": "python",
   "nbconvert_exporter": "python",
   "pygments_lexer": "ipython2",
   "version": "2.7.6"
  }
 },
 "nbformat": 4,
 "nbformat_minor": 0
}
