{
 "cells": [
  {
   "cell_type": "code",
   "execution_count": 6,
   "metadata": {
    "collapsed": true
   },
   "outputs": [],
   "source": [
    "import numpy as np\n",
    "import pandas as pd\n",
    "import matplotlib.pyplot as plt\n",
    "import seaborn as sns\n",
    "import os\n",
    "import sys\n",
    "\n",
    "if sys.platform == 'win32':\n",
    "    dir = r\"D:\\黑马课程\\人工智能V3.0（尊享无忧）\\00 课程资料\\3.阶段三数据处理与统计分析\\数据处理与统计分析v3.0视频（第二部分）\\资料\"\n",
    "else:\n",
    "    dir = r'/Users/wangrui/Desktop/00 课程资料/3.阶段三数据处理与统计分析/数据处理与统计分析v3.0视频（第二部分）/资料'\n",
    "os.chdir(dir)"
   ]
  },
  {
   "cell_type": "code",
   "execution_count": 7,
   "outputs": [],
   "source": [
    "sheet_names = ['2015', '2016', '2017', '2018', '会员等级']\n",
    "sheet_datas = [pd.read_excel('data/sales.xlsx', sheet_name=i) for i in sheet_names]"
   ],
   "metadata": {
    "collapsed": false
   }
  },
  {
   "cell_type": "code",
   "execution_count": 8,
   "outputs": [
    {
     "name": "stdout",
     "output_type": "stream",
     "text": [
      "[data summary for =============2015===============]\n",
      "Overview: \n",
      "           会员ID         订单号       提交日期    订单金额\n",
      "0  15278002468  3000304681 2015-01-01   499.0\n",
      "1  39236378972  3000305791 2015-01-01  2588.0\n",
      "2  38722039578  3000641787 2015-01-01   498.0\n",
      "3  11049640063  3000798913 2015-01-01  1572.0\n",
      "DESC: \n",
      "                会员ID           订单号           订单金额\n",
      "count  3.077400e+04  3.077400e+04   30774.000000\n",
      "mean   2.918779e+10  4.020414e+09     960.991161\n",
      "std    1.385333e+10  2.630510e+08    2068.107231\n",
      "min    2.670000e+02  3.000305e+09       0.500000\n",
      "25%    1.944122e+10  3.885510e+09      59.000000\n",
      "50%    3.746545e+10  4.117491e+09     139.000000\n",
      "75%    3.923593e+10  4.234882e+09     899.000000\n",
      "max    3.954613e+10  4.282025e+09  111750.000000\n",
      "NA records 0\n",
      "<class 'pandas.core.frame.DataFrame'>\n",
      "RangeIndex: 30774 entries, 0 to 30773\n",
      "Data columns (total 4 columns):\n",
      " #   Column  Non-Null Count  Dtype         \n",
      "---  ------  --------------  -----         \n",
      " 0   会员ID    30774 non-null  int64         \n",
      " 1   订单号     30774 non-null  int64         \n",
      " 2   提交日期    30774 non-null  datetime64[ns]\n",
      " 3   订单金额    30774 non-null  float64       \n",
      "dtypes: datetime64[ns](1), float64(1), int64(2)\n",
      "memory usage: 961.8 KB\n",
      "Dtypes None\n",
      "[data summary for =============2016===============]\n",
      "Overview: \n",
      "           会员ID         订单号       提交日期    订单金额\n",
      "0  39288120141  4282025766 2016-01-01    76.0\n",
      "1  39293812118  4282037929 2016-01-01  7599.0\n",
      "2  27596340905  4282038740 2016-01-01   802.0\n",
      "3  15111475509  4282043819 2016-01-01    65.0\n",
      "DESC: \n",
      "                会员ID           订单号           订单金额\n",
      "count  4.127800e+04  4.127800e+04   41277.000000\n",
      "mean   2.908415e+10  4.313583e+09     957.106694\n",
      "std    1.389468e+10  1.094572e+07    2478.560036\n",
      "min    8.100000e+01  4.282026e+09       0.100000\n",
      "25%    1.934990e+10  4.309457e+09      59.000000\n",
      "50%    3.730339e+10  4.317545e+09     147.000000\n",
      "75%    3.923182e+10  4.321132e+09     888.000000\n",
      "max    3.954554e+10  4.324911e+09  174900.000000\n",
      "NA records 1\n",
      "<class 'pandas.core.frame.DataFrame'>\n",
      "RangeIndex: 41278 entries, 0 to 41277\n",
      "Data columns (total 4 columns):\n",
      " #   Column  Non-Null Count  Dtype         \n",
      "---  ------  --------------  -----         \n",
      " 0   会员ID    41278 non-null  int64         \n",
      " 1   订单号     41278 non-null  int64         \n",
      " 2   提交日期    41278 non-null  datetime64[ns]\n",
      " 3   订单金额    41277 non-null  float64       \n",
      "dtypes: datetime64[ns](1), float64(1), int64(2)\n",
      "memory usage: 1.3 MB\n",
      "Dtypes None\n",
      "[data summary for =============2017===============]\n",
      "Overview: \n",
      "           会员ID         订单号       提交日期    订单金额\n",
      "0  38765290840  4324911135 2017-01-01  1799.0\n",
      "1  39305832102  4324911213 2017-01-01   369.0\n",
      "2  34190994969  4324911251 2017-01-01   189.0\n",
      "3  38986333210  4324911283 2017-01-01   169.0\n",
      "DESC: \n",
      "                会员ID           订单号           订单金额\n",
      "count  5.083900e+04  5.083900e+04   50839.000000\n",
      "mean   2.882368e+10  4.332466e+09     963.587872\n",
      "std    1.409416e+10  4.404350e+06    2178.727261\n",
      "min    2.780000e+02  4.324911e+09       0.300000\n",
      "25%    1.869274e+10  4.328415e+09      59.000000\n",
      "50%    3.688044e+10  4.331989e+09     149.000000\n",
      "75%    3.923020e+10  4.337515e+09     898.000000\n",
      "max    3.954554e+10  4.338764e+09  123609.000000\n",
      "NA records 0\n",
      "<class 'pandas.core.frame.DataFrame'>\n",
      "RangeIndex: 50839 entries, 0 to 50838\n",
      "Data columns (total 4 columns):\n",
      " #   Column  Non-Null Count  Dtype         \n",
      "---  ------  --------------  -----         \n",
      " 0   会员ID    50839 non-null  int64         \n",
      " 1   订单号     50839 non-null  int64         \n",
      " 2   提交日期    50839 non-null  datetime64[ns]\n",
      " 3   订单金额    50839 non-null  float64       \n",
      "dtypes: datetime64[ns](1), float64(1), int64(2)\n",
      "memory usage: 1.6 MB\n",
      "Dtypes None\n",
      "[data summary for =============2018===============]\n",
      "Overview: \n",
      "           会员ID         订单号       提交日期    订单金额\n",
      "0  39229691808  4338764262 2018-01-01  3646.0\n",
      "1  39293668916  4338764363 2018-01-01  3999.0\n",
      "2  35059646224  4338764376 2018-01-01    10.1\n",
      "3      1084397  4338770013 2018-01-01   828.0\n",
      "DESC: \n",
      "                会员ID           订单号           订单金额\n",
      "count  8.134900e+04  8.134900e+04   81348.000000\n",
      "mean   2.902317e+10  4.348372e+09     966.582792\n",
      "std    1.404116e+10  4.183774e+06    2204.969534\n",
      "min    2.780000e+02  4.338764e+09       0.000000\n",
      "25%    1.902755e+10  4.345654e+09      60.000000\n",
      "50%    3.740121e+10  4.349448e+09     149.000000\n",
      "75%    3.923380e+10  4.351639e+09     899.000000\n",
      "max    3.954614e+10  4.354235e+09  174900.000000\n",
      "NA records 1\n",
      "<class 'pandas.core.frame.DataFrame'>\n",
      "RangeIndex: 81349 entries, 0 to 81348\n",
      "Data columns (total 4 columns):\n",
      " #   Column  Non-Null Count  Dtype         \n",
      "---  ------  --------------  -----         \n",
      " 0   会员ID    81349 non-null  int64         \n",
      " 1   订单号     81349 non-null  int64         \n",
      " 2   提交日期    81349 non-null  datetime64[ns]\n",
      " 3   订单金额    81348 non-null  float64       \n",
      "dtypes: datetime64[ns](1), float64(1), int64(2)\n",
      "memory usage: 2.5 MB\n",
      "Dtypes None\n",
      "[data summary for =============会员等级===============]\n",
      "Overview: \n",
      "           会员ID  会员等级\n",
      "0       100090     3\n",
      "1  10012905801     1\n",
      "2  10012935109     1\n",
      "3  10013498043     1\n",
      "DESC: \n",
      "                会员ID           会员等级\n",
      "count  1.543850e+05  154385.000000\n",
      "mean   2.980055e+10       2.259701\n",
      "std    1.365654e+10       1.346408\n",
      "min    8.100000e+01       1.000000\n",
      "25%    2.213894e+10       1.000000\n",
      "50%    3.833022e+10       2.000000\n",
      "75%    3.927932e+10       3.000000\n",
      "max    3.954614e+10       5.000000\n",
      "NA records 0\n",
      "<class 'pandas.core.frame.DataFrame'>\n",
      "RangeIndex: 154385 entries, 0 to 154384\n",
      "Data columns (total 2 columns):\n",
      " #   Column  Non-Null Count   Dtype\n",
      "---  ------  --------------   -----\n",
      " 0   会员ID    154385 non-null  int64\n",
      " 1   会员等级    154385 non-null  int64\n",
      "dtypes: int64(2)\n",
      "memory usage: 2.4 MB\n",
      "Dtypes None\n"
     ]
    }
   ],
   "source": [
    "for each_name, each_data in zip(sheet_names, sheet_datas):\n",
    "    print(f'[data summary for ============={each_name}===============]')\n",
    "    print('Overview:','\\n',each_data.head(4))# 展示数据前4条\n",
    "    print('DESC:','\\n',each_data.describe())# 数据描述性信息\n",
    "    print('NA records',each_data.isnull().any(axis=1).sum()) # 缺失值记录数\n",
    "    print('Dtypes',each_data.info()) # 数据类型"
   ],
   "metadata": {
    "collapsed": false
   }
  },
  {
   "cell_type": "code",
   "execution_count": 9,
   "outputs": [
    {
     "data": {
      "text/plain": "Timestamp('2015-12-31 00:00:00')"
     },
     "execution_count": 9,
     "metadata": {},
     "output_type": "execute_result"
    }
   ],
   "source": [
    "sheet_datas[0].提交日期.max()"
   ],
   "metadata": {
    "collapsed": false
   }
  },
  {
   "cell_type": "code",
   "execution_count": 10,
   "outputs": [],
   "source": [
    "##去除缺失值和异常值\n",
    "for i, each_data in enumerate(sheet_datas[:-1]):\n",
    "    sheet_datas[i] = each_data.dropna() #丢弃\n",
    "    sheet_datas[i] = sheet_datas[i][sheet_datas[i]['订单金额'] > 1] # 丢弃订单金额<=1的记录\n",
    "    sheet_datas[i]['max_year_date'] = each_data['提交日期'].max() # 增加一列最大日期值"
   ],
   "metadata": {
    "collapsed": false,
    "pycharm": {
     "name": "#%%qu'chu\n"
    }
   }
  },
  {
   "cell_type": "code",
   "execution_count": 11,
   "outputs": [
    {
     "data": {
      "text/plain": "              会员ID         订单号       提交日期    订单金额 max_year_date\n0      15278002468  3000304681 2015-01-01   499.0    2015-12-31\n1      39236378972  3000305791 2015-01-01  2588.0    2015-12-31\n2      38722039578  3000641787 2015-01-01   498.0    2015-12-31\n3      11049640063  3000798913 2015-01-01  1572.0    2015-12-31\n4      35038752292  3000821546 2015-01-01    10.1    2015-12-31\n...            ...         ...        ...     ...           ...\n30769  39368100847  4281994827 2015-12-31   828.0    2015-12-31\n30770       409757  4282010457 2015-12-31   199.0    2015-12-31\n30771  38380526114  4282017675 2015-12-31   208.0    2015-12-31\n30772     28074988  4282019440 2015-12-31    89.0    2015-12-31\n30773  39460363230  4282025309 2015-12-31   719.0    2015-12-31\n\n[30574 rows x 5 columns]",
      "text/html": "<div>\n<style scoped>\n    .dataframe tbody tr th:only-of-type {\n        vertical-align: middle;\n    }\n\n    .dataframe tbody tr th {\n        vertical-align: top;\n    }\n\n    .dataframe thead th {\n        text-align: right;\n    }\n</style>\n<table border=\"1\" class=\"dataframe\">\n  <thead>\n    <tr style=\"text-align: right;\">\n      <th></th>\n      <th>会员ID</th>\n      <th>订单号</th>\n      <th>提交日期</th>\n      <th>订单金额</th>\n      <th>max_year_date</th>\n    </tr>\n  </thead>\n  <tbody>\n    <tr>\n      <th>0</th>\n      <td>15278002468</td>\n      <td>3000304681</td>\n      <td>2015-01-01</td>\n      <td>499.0</td>\n      <td>2015-12-31</td>\n    </tr>\n    <tr>\n      <th>1</th>\n      <td>39236378972</td>\n      <td>3000305791</td>\n      <td>2015-01-01</td>\n      <td>2588.0</td>\n      <td>2015-12-31</td>\n    </tr>\n    <tr>\n      <th>2</th>\n      <td>38722039578</td>\n      <td>3000641787</td>\n      <td>2015-01-01</td>\n      <td>498.0</td>\n      <td>2015-12-31</td>\n    </tr>\n    <tr>\n      <th>3</th>\n      <td>11049640063</td>\n      <td>3000798913</td>\n      <td>2015-01-01</td>\n      <td>1572.0</td>\n      <td>2015-12-31</td>\n    </tr>\n    <tr>\n      <th>4</th>\n      <td>35038752292</td>\n      <td>3000821546</td>\n      <td>2015-01-01</td>\n      <td>10.1</td>\n      <td>2015-12-31</td>\n    </tr>\n    <tr>\n      <th>...</th>\n      <td>...</td>\n      <td>...</td>\n      <td>...</td>\n      <td>...</td>\n      <td>...</td>\n    </tr>\n    <tr>\n      <th>30769</th>\n      <td>39368100847</td>\n      <td>4281994827</td>\n      <td>2015-12-31</td>\n      <td>828.0</td>\n      <td>2015-12-31</td>\n    </tr>\n    <tr>\n      <th>30770</th>\n      <td>409757</td>\n      <td>4282010457</td>\n      <td>2015-12-31</td>\n      <td>199.0</td>\n      <td>2015-12-31</td>\n    </tr>\n    <tr>\n      <th>30771</th>\n      <td>38380526114</td>\n      <td>4282017675</td>\n      <td>2015-12-31</td>\n      <td>208.0</td>\n      <td>2015-12-31</td>\n    </tr>\n    <tr>\n      <th>30772</th>\n      <td>28074988</td>\n      <td>4282019440</td>\n      <td>2015-12-31</td>\n      <td>89.0</td>\n      <td>2015-12-31</td>\n    </tr>\n    <tr>\n      <th>30773</th>\n      <td>39460363230</td>\n      <td>4282025309</td>\n      <td>2015-12-31</td>\n      <td>719.0</td>\n      <td>2015-12-31</td>\n    </tr>\n  </tbody>\n</table>\n<p>30574 rows × 5 columns</p>\n</div>"
     },
     "execution_count": 11,
     "metadata": {},
     "output_type": "execute_result"
    }
   ],
   "source": [
    "sheet_datas[0]"
   ],
   "metadata": {
    "collapsed": false
   }
  },
  {
   "cell_type": "code",
   "execution_count": 12,
   "outputs": [
    {
     "data": {
      "text/plain": "          会员ID         订单号       提交日期    订单金额 max_year_date  date_interval  \\\n0  15278002468  3000304681 2015-01-01   499.0    2015-12-31            364   \n1  39236378972  3000305791 2015-01-01  2588.0    2015-12-31            364   \n2  38722039578  3000641787 2015-01-01   498.0    2015-12-31            364   \n3  11049640063  3000798913 2015-01-01  1572.0    2015-12-31            364   \n4  35038752292  3000821546 2015-01-01    10.1    2015-12-31            364   \n\n   year  \n0  2015  \n1  2015  \n2  2015  \n3  2015  \n4  2015  ",
      "text/html": "<div>\n<style scoped>\n    .dataframe tbody tr th:only-of-type {\n        vertical-align: middle;\n    }\n\n    .dataframe tbody tr th {\n        vertical-align: top;\n    }\n\n    .dataframe thead th {\n        text-align: right;\n    }\n</style>\n<table border=\"1\" class=\"dataframe\">\n  <thead>\n    <tr style=\"text-align: right;\">\n      <th></th>\n      <th>会员ID</th>\n      <th>订单号</th>\n      <th>提交日期</th>\n      <th>订单金额</th>\n      <th>max_year_date</th>\n      <th>date_interval</th>\n      <th>year</th>\n    </tr>\n  </thead>\n  <tbody>\n    <tr>\n      <th>0</th>\n      <td>15278002468</td>\n      <td>3000304681</td>\n      <td>2015-01-01</td>\n      <td>499.0</td>\n      <td>2015-12-31</td>\n      <td>364</td>\n      <td>2015</td>\n    </tr>\n    <tr>\n      <th>1</th>\n      <td>39236378972</td>\n      <td>3000305791</td>\n      <td>2015-01-01</td>\n      <td>2588.0</td>\n      <td>2015-12-31</td>\n      <td>364</td>\n      <td>2015</td>\n    </tr>\n    <tr>\n      <th>2</th>\n      <td>38722039578</td>\n      <td>3000641787</td>\n      <td>2015-01-01</td>\n      <td>498.0</td>\n      <td>2015-12-31</td>\n      <td>364</td>\n      <td>2015</td>\n    </tr>\n    <tr>\n      <th>3</th>\n      <td>11049640063</td>\n      <td>3000798913</td>\n      <td>2015-01-01</td>\n      <td>1572.0</td>\n      <td>2015-12-31</td>\n      <td>364</td>\n      <td>2015</td>\n    </tr>\n    <tr>\n      <th>4</th>\n      <td>35038752292</td>\n      <td>3000821546</td>\n      <td>2015-01-01</td>\n      <td>10.1</td>\n      <td>2015-12-31</td>\n      <td>364</td>\n      <td>2015</td>\n    </tr>\n  </tbody>\n</table>\n</div>"
     },
     "execution_count": 12,
     "metadata": {},
     "output_type": "execute_result"
    }
   ],
   "source": [
    "#汇总所有数据\n",
    "data_merge = pd.concat(sheet_datas[:-1])\n",
    "data_merge['date_interval'] =data_merge['max_year_date'] - data_merge['提交日期']\n",
    "data_merge['date_interval'] = data_merge['date_interval'].apply(lambda x: x.days)\n",
    "data_merge['year'] = data_merge['提交日期'].dt.year\n",
    "data_merge.head()"
   ],
   "metadata": {
    "collapsed": false
   }
  },
  {
   "cell_type": "code",
   "execution_count": 13,
   "outputs": [
    {
     "name": "stdout",
     "output_type": "stream",
     "text": [
      "<class 'pandas.core.frame.DataFrame'>\n",
      "Int64Index: 202827 entries, 0 to 81348\n",
      "Data columns (total 7 columns):\n",
      " #   Column         Non-Null Count   Dtype         \n",
      "---  ------         --------------   -----         \n",
      " 0   会员ID           202827 non-null  int64         \n",
      " 1   订单号            202827 non-null  int64         \n",
      " 2   提交日期           202827 non-null  datetime64[ns]\n",
      " 3   订单金额           202827 non-null  float64       \n",
      " 4   max_year_date  202827 non-null  datetime64[ns]\n",
      " 5   date_interval  202827 non-null  int64         \n",
      " 6   year           202827 non-null  int64         \n",
      "dtypes: datetime64[ns](2), float64(1), int64(4)\n",
      "memory usage: 12.4 MB\n"
     ]
    }
   ],
   "source": [
    "data_merge.info()"
   ],
   "metadata": {
    "collapsed": false
   }
  },
  {
   "cell_type": "code",
   "execution_count": 17,
   "outputs": [
    {
     "data": {
      "text/plain": "        year         会员ID    R  F       M\n0       2015          267  197  2   105.0\n1       2015          282  251  1    29.7\n2       2015          283  340  1  5398.0\n3       2015          343  300  1   118.0\n4       2015          525   37  3   213.0\n...      ...          ...  ... ..     ...\n148586  2018  39538034299  272  1    49.0\n148587  2018  39538034662  189  1  3558.0\n148588  2018  39538035729  179  1  3699.0\n148589  2018  39545237824  275  1    49.0\n148590  2018  39546136285  163  1    19.9\n\n[148591 rows x 5 columns]",
      "text/html": "<div>\n<style scoped>\n    .dataframe tbody tr th:only-of-type {\n        vertical-align: middle;\n    }\n\n    .dataframe tbody tr th {\n        vertical-align: top;\n    }\n\n    .dataframe thead th {\n        text-align: right;\n    }\n</style>\n<table border=\"1\" class=\"dataframe\">\n  <thead>\n    <tr style=\"text-align: right;\">\n      <th></th>\n      <th>year</th>\n      <th>会员ID</th>\n      <th>R</th>\n      <th>F</th>\n      <th>M</th>\n    </tr>\n  </thead>\n  <tbody>\n    <tr>\n      <th>0</th>\n      <td>2015</td>\n      <td>267</td>\n      <td>197</td>\n      <td>2</td>\n      <td>105.0</td>\n    </tr>\n    <tr>\n      <th>1</th>\n      <td>2015</td>\n      <td>282</td>\n      <td>251</td>\n      <td>1</td>\n      <td>29.7</td>\n    </tr>\n    <tr>\n      <th>2</th>\n      <td>2015</td>\n      <td>283</td>\n      <td>340</td>\n      <td>1</td>\n      <td>5398.0</td>\n    </tr>\n    <tr>\n      <th>3</th>\n      <td>2015</td>\n      <td>343</td>\n      <td>300</td>\n      <td>1</td>\n      <td>118.0</td>\n    </tr>\n    <tr>\n      <th>4</th>\n      <td>2015</td>\n      <td>525</td>\n      <td>37</td>\n      <td>3</td>\n      <td>213.0</td>\n    </tr>\n    <tr>\n      <th>...</th>\n      <td>...</td>\n      <td>...</td>\n      <td>...</td>\n      <td>...</td>\n      <td>...</td>\n    </tr>\n    <tr>\n      <th>148586</th>\n      <td>2018</td>\n      <td>39538034299</td>\n      <td>272</td>\n      <td>1</td>\n      <td>49.0</td>\n    </tr>\n    <tr>\n      <th>148587</th>\n      <td>2018</td>\n      <td>39538034662</td>\n      <td>189</td>\n      <td>1</td>\n      <td>3558.0</td>\n    </tr>\n    <tr>\n      <th>148588</th>\n      <td>2018</td>\n      <td>39538035729</td>\n      <td>179</td>\n      <td>1</td>\n      <td>3699.0</td>\n    </tr>\n    <tr>\n      <th>148589</th>\n      <td>2018</td>\n      <td>39545237824</td>\n      <td>275</td>\n      <td>1</td>\n      <td>49.0</td>\n    </tr>\n    <tr>\n      <th>148590</th>\n      <td>2018</td>\n      <td>39546136285</td>\n      <td>163</td>\n      <td>1</td>\n      <td>19.9</td>\n    </tr>\n  </tbody>\n</table>\n<p>148591 rows × 5 columns</p>\n</div>"
     },
     "execution_count": 17,
     "metadata": {},
     "output_type": "execute_result"
    }
   ],
   "source": [
    "#按会员ID做汇总\n",
    "rfm_gb = data_merge.groupby(['year', '会员ID'], as_index=False).agg({\n",
    "    'date_interval': 'min', #计算最近一次订单时间\n",
    "    '提交日期': 'count', #订单数量\n",
    "    '订单金额': 'sum' # 订单总金额\n",
    "})\n",
    "rfm_gb.columns =  ['year','会员ID','R','F','M']\n",
    "rfm_gb"
   ],
   "metadata": {
    "collapsed": false
   }
  },
  {
   "cell_type": "code",
   "execution_count": 18,
   "outputs": [
    {
     "data": {
      "text/plain": "      count         mean          std  min   25%    50%     75%       max\nR  148591.0   165.524043   101.988472  0.0  79.0  156.0   255.0     365.0\nF  148591.0     1.365002     2.626953  1.0   1.0    1.0     1.0     130.0\nM  148591.0  1323.741329  3753.906883  1.5  69.0  189.0  1199.0  206251.8",
      "text/html": "<div>\n<style scoped>\n    .dataframe tbody tr th:only-of-type {\n        vertical-align: middle;\n    }\n\n    .dataframe tbody tr th {\n        vertical-align: top;\n    }\n\n    .dataframe thead th {\n        text-align: right;\n    }\n</style>\n<table border=\"1\" class=\"dataframe\">\n  <thead>\n    <tr style=\"text-align: right;\">\n      <th></th>\n      <th>count</th>\n      <th>mean</th>\n      <th>std</th>\n      <th>min</th>\n      <th>25%</th>\n      <th>50%</th>\n      <th>75%</th>\n      <th>max</th>\n    </tr>\n  </thead>\n  <tbody>\n    <tr>\n      <th>R</th>\n      <td>148591.0</td>\n      <td>165.524043</td>\n      <td>101.988472</td>\n      <td>0.0</td>\n      <td>79.0</td>\n      <td>156.0</td>\n      <td>255.0</td>\n      <td>365.0</td>\n    </tr>\n    <tr>\n      <th>F</th>\n      <td>148591.0</td>\n      <td>1.365002</td>\n      <td>2.626953</td>\n      <td>1.0</td>\n      <td>1.0</td>\n      <td>1.0</td>\n      <td>1.0</td>\n      <td>130.0</td>\n    </tr>\n    <tr>\n      <th>M</th>\n      <td>148591.0</td>\n      <td>1323.741329</td>\n      <td>3753.906883</td>\n      <td>1.5</td>\n      <td>69.0</td>\n      <td>189.0</td>\n      <td>1199.0</td>\n      <td>206251.8</td>\n    </tr>\n  </tbody>\n</table>\n</div>"
     },
     "execution_count": 18,
     "metadata": {},
     "output_type": "execute_result"
    }
   ],
   "source": [
    "rfm_gb.iloc[:,2:].describe().T"
   ],
   "metadata": {
    "collapsed": false
   }
  },
  {
   "cell_type": "code",
   "execution_count": 19,
   "outputs": [],
   "source": [
    "# 定义区间边界\n",
    "r_bins = [-1,79,255,365] # 注意起始边界小于最小值\n",
    "f_bins = [0,2,5,130] # 通过和业务部门沟通得到\n",
    "m_bins = [0,69,1199,206252]"
   ],
   "metadata": {
    "collapsed": false
   }
  },
  {
   "cell_type": "code",
   "execution_count": 20,
   "outputs": [],
   "source": [
    "# RFM分箱得分\n",
    "rfm_gb['r_score'] = pd.cut(rfm_gb.R, r_bins, labels=[i for i in range(len(r_bins) - 1, 0, -1)])\n",
    "rfm_gb['f_score'] = pd.cut(rfm_gb.F, f_bins, labels=[i + 1 for i in range(len(f_bins) - 1)])\n",
    "rfm_gb['m_score'] = pd.cut(rfm_gb.M, m_bins, labels=[i + 1 for i in range(len(m_bins) - 1)])"
   ],
   "metadata": {
    "collapsed": false
   }
  },
  {
   "cell_type": "code",
   "execution_count": 21,
   "outputs": [
    {
     "data": {
      "text/plain": "        year         会员ID    R  F       M r_score f_score m_score\n0       2015          267  197  2   105.0       2       1       2\n1       2015          282  251  1    29.7       2       1       1\n2       2015          283  340  1  5398.0       1       1       3\n3       2015          343  300  1   118.0       1       1       2\n4       2015          525   37  3   213.0       3       2       2\n...      ...          ...  ... ..     ...     ...     ...     ...\n148586  2018  39538034299  272  1    49.0       1       1       1\n148587  2018  39538034662  189  1  3558.0       2       1       3\n148588  2018  39538035729  179  1  3699.0       2       1       3\n148589  2018  39545237824  275  1    49.0       1       1       1\n148590  2018  39546136285  163  1    19.9       2       1       1\n\n[148591 rows x 8 columns]",
      "text/html": "<div>\n<style scoped>\n    .dataframe tbody tr th:only-of-type {\n        vertical-align: middle;\n    }\n\n    .dataframe tbody tr th {\n        vertical-align: top;\n    }\n\n    .dataframe thead th {\n        text-align: right;\n    }\n</style>\n<table border=\"1\" class=\"dataframe\">\n  <thead>\n    <tr style=\"text-align: right;\">\n      <th></th>\n      <th>year</th>\n      <th>会员ID</th>\n      <th>R</th>\n      <th>F</th>\n      <th>M</th>\n      <th>r_score</th>\n      <th>f_score</th>\n      <th>m_score</th>\n    </tr>\n  </thead>\n  <tbody>\n    <tr>\n      <th>0</th>\n      <td>2015</td>\n      <td>267</td>\n      <td>197</td>\n      <td>2</td>\n      <td>105.0</td>\n      <td>2</td>\n      <td>1</td>\n      <td>2</td>\n    </tr>\n    <tr>\n      <th>1</th>\n      <td>2015</td>\n      <td>282</td>\n      <td>251</td>\n      <td>1</td>\n      <td>29.7</td>\n      <td>2</td>\n      <td>1</td>\n      <td>1</td>\n    </tr>\n    <tr>\n      <th>2</th>\n      <td>2015</td>\n      <td>283</td>\n      <td>340</td>\n      <td>1</td>\n      <td>5398.0</td>\n      <td>1</td>\n      <td>1</td>\n      <td>3</td>\n    </tr>\n    <tr>\n      <th>3</th>\n      <td>2015</td>\n      <td>343</td>\n      <td>300</td>\n      <td>1</td>\n      <td>118.0</td>\n      <td>1</td>\n      <td>1</td>\n      <td>2</td>\n    </tr>\n    <tr>\n      <th>4</th>\n      <td>2015</td>\n      <td>525</td>\n      <td>37</td>\n      <td>3</td>\n      <td>213.0</td>\n      <td>3</td>\n      <td>2</td>\n      <td>2</td>\n    </tr>\n    <tr>\n      <th>...</th>\n      <td>...</td>\n      <td>...</td>\n      <td>...</td>\n      <td>...</td>\n      <td>...</td>\n      <td>...</td>\n      <td>...</td>\n      <td>...</td>\n    </tr>\n    <tr>\n      <th>148586</th>\n      <td>2018</td>\n      <td>39538034299</td>\n      <td>272</td>\n      <td>1</td>\n      <td>49.0</td>\n      <td>1</td>\n      <td>1</td>\n      <td>1</td>\n    </tr>\n    <tr>\n      <th>148587</th>\n      <td>2018</td>\n      <td>39538034662</td>\n      <td>189</td>\n      <td>1</td>\n      <td>3558.0</td>\n      <td>2</td>\n      <td>1</td>\n      <td>3</td>\n    </tr>\n    <tr>\n      <th>148588</th>\n      <td>2018</td>\n      <td>39538035729</td>\n      <td>179</td>\n      <td>1</td>\n      <td>3699.0</td>\n      <td>2</td>\n      <td>1</td>\n      <td>3</td>\n    </tr>\n    <tr>\n      <th>148589</th>\n      <td>2018</td>\n      <td>39545237824</td>\n      <td>275</td>\n      <td>1</td>\n      <td>49.0</td>\n      <td>1</td>\n      <td>1</td>\n      <td>1</td>\n    </tr>\n    <tr>\n      <th>148590</th>\n      <td>2018</td>\n      <td>39546136285</td>\n      <td>163</td>\n      <td>1</td>\n      <td>19.9</td>\n      <td>2</td>\n      <td>1</td>\n      <td>1</td>\n    </tr>\n  </tbody>\n</table>\n<p>148591 rows × 8 columns</p>\n</div>"
     },
     "execution_count": 21,
     "metadata": {},
     "output_type": "execute_result"
    }
   ],
   "source": [
    "rfm_gb"
   ],
   "metadata": {
    "collapsed": false
   }
  },
  {
   "cell_type": "code",
   "execution_count": 22,
   "outputs": [
    {
     "name": "stdout",
     "output_type": "stream",
     "text": [
      "<class 'pandas.core.frame.DataFrame'>\n",
      "RangeIndex: 148591 entries, 0 to 148590\n",
      "Data columns (total 8 columns):\n",
      " #   Column   Non-Null Count   Dtype   \n",
      "---  ------   --------------   -----   \n",
      " 0   year     148591 non-null  int64   \n",
      " 1   会员ID     148591 non-null  int64   \n",
      " 2   R        148591 non-null  int64   \n",
      " 3   F        148591 non-null  int64   \n",
      " 4   M        148591 non-null  float64 \n",
      " 5   r_score  148591 non-null  category\n",
      " 6   f_score  148591 non-null  category\n",
      " 7   m_score  148591 non-null  category\n",
      "dtypes: category(3), float64(1), int64(4)\n",
      "memory usage: 6.1 MB\n"
     ]
    }
   ],
   "source": [
    "rfm_gb.info()"
   ],
   "metadata": {
    "collapsed": false
   }
  },
  {
   "cell_type": "code",
   "execution_count": 23,
   "outputs": [
    {
     "data": {
      "text/plain": "        year         会员ID    R  F       M r_score f_score m_score rfm_group\n0       2015          267  197  2   105.0       2       1       2       212\n1       2015          282  251  1    29.7       2       1       1       211\n2       2015          283  340  1  5398.0       1       1       3       113\n3       2015          343  300  1   118.0       1       1       2       112\n4       2015          525   37  3   213.0       3       2       2       322\n...      ...          ...  ... ..     ...     ...     ...     ...       ...\n148586  2018  39538034299  272  1    49.0       1       1       1       111\n148587  2018  39538034662  189  1  3558.0       2       1       3       213\n148588  2018  39538035729  179  1  3699.0       2       1       3       213\n148589  2018  39545237824  275  1    49.0       1       1       1       111\n148590  2018  39546136285  163  1    19.9       2       1       1       211\n\n[148591 rows x 9 columns]",
      "text/html": "<div>\n<style scoped>\n    .dataframe tbody tr th:only-of-type {\n        vertical-align: middle;\n    }\n\n    .dataframe tbody tr th {\n        vertical-align: top;\n    }\n\n    .dataframe thead th {\n        text-align: right;\n    }\n</style>\n<table border=\"1\" class=\"dataframe\">\n  <thead>\n    <tr style=\"text-align: right;\">\n      <th></th>\n      <th>year</th>\n      <th>会员ID</th>\n      <th>R</th>\n      <th>F</th>\n      <th>M</th>\n      <th>r_score</th>\n      <th>f_score</th>\n      <th>m_score</th>\n      <th>rfm_group</th>\n    </tr>\n  </thead>\n  <tbody>\n    <tr>\n      <th>0</th>\n      <td>2015</td>\n      <td>267</td>\n      <td>197</td>\n      <td>2</td>\n      <td>105.0</td>\n      <td>2</td>\n      <td>1</td>\n      <td>2</td>\n      <td>212</td>\n    </tr>\n    <tr>\n      <th>1</th>\n      <td>2015</td>\n      <td>282</td>\n      <td>251</td>\n      <td>1</td>\n      <td>29.7</td>\n      <td>2</td>\n      <td>1</td>\n      <td>1</td>\n      <td>211</td>\n    </tr>\n    <tr>\n      <th>2</th>\n      <td>2015</td>\n      <td>283</td>\n      <td>340</td>\n      <td>1</td>\n      <td>5398.0</td>\n      <td>1</td>\n      <td>1</td>\n      <td>3</td>\n      <td>113</td>\n    </tr>\n    <tr>\n      <th>3</th>\n      <td>2015</td>\n      <td>343</td>\n      <td>300</td>\n      <td>1</td>\n      <td>118.0</td>\n      <td>1</td>\n      <td>1</td>\n      <td>2</td>\n      <td>112</td>\n    </tr>\n    <tr>\n      <th>4</th>\n      <td>2015</td>\n      <td>525</td>\n      <td>37</td>\n      <td>3</td>\n      <td>213.0</td>\n      <td>3</td>\n      <td>2</td>\n      <td>2</td>\n      <td>322</td>\n    </tr>\n    <tr>\n      <th>...</th>\n      <td>...</td>\n      <td>...</td>\n      <td>...</td>\n      <td>...</td>\n      <td>...</td>\n      <td>...</td>\n      <td>...</td>\n      <td>...</td>\n      <td>...</td>\n    </tr>\n    <tr>\n      <th>148586</th>\n      <td>2018</td>\n      <td>39538034299</td>\n      <td>272</td>\n      <td>1</td>\n      <td>49.0</td>\n      <td>1</td>\n      <td>1</td>\n      <td>1</td>\n      <td>111</td>\n    </tr>\n    <tr>\n      <th>148587</th>\n      <td>2018</td>\n      <td>39538034662</td>\n      <td>189</td>\n      <td>1</td>\n      <td>3558.0</td>\n      <td>2</td>\n      <td>1</td>\n      <td>3</td>\n      <td>213</td>\n    </tr>\n    <tr>\n      <th>148588</th>\n      <td>2018</td>\n      <td>39538035729</td>\n      <td>179</td>\n      <td>1</td>\n      <td>3699.0</td>\n      <td>2</td>\n      <td>1</td>\n      <td>3</td>\n      <td>213</td>\n    </tr>\n    <tr>\n      <th>148589</th>\n      <td>2018</td>\n      <td>39545237824</td>\n      <td>275</td>\n      <td>1</td>\n      <td>49.0</td>\n      <td>1</td>\n      <td>1</td>\n      <td>1</td>\n      <td>111</td>\n    </tr>\n    <tr>\n      <th>148590</th>\n      <td>2018</td>\n      <td>39546136285</td>\n      <td>163</td>\n      <td>1</td>\n      <td>19.9</td>\n      <td>2</td>\n      <td>1</td>\n      <td>1</td>\n      <td>211</td>\n    </tr>\n  </tbody>\n</table>\n<p>148591 rows × 9 columns</p>\n</div>"
     },
     "execution_count": 23,
     "metadata": {},
     "output_type": "execute_result"
    }
   ],
   "source": [
    "#计算RFM组合\n",
    "rfm_gb['r_score'] = rfm_gb['r_score'].astype(np.str)\n",
    "rfm_gb['f_score'] = rfm_gb['f_score'].astype(np.str)\n",
    "rfm_gb['m_score'] = rfm_gb['m_score'].astype(np.str)\n",
    "rfm_gb['rfm_group'] = rfm_gb['r_score'].str.cat(rfm_gb['f_score']).str.cat(\n",
    "    rfm_gb['m_score'])\n",
    "rfm_gb"
   ],
   "metadata": {
    "collapsed": false
   }
  },
  {
   "cell_type": "code",
   "execution_count": 24,
   "outputs": [
    {
     "name": "stdout",
     "output_type": "stream",
     "text": [
      "<class 'pandas.core.frame.DataFrame'>\n",
      "RangeIndex: 148591 entries, 0 to 148590\n",
      "Data columns (total 9 columns):\n",
      " #   Column     Non-Null Count   Dtype  \n",
      "---  ------     --------------   -----  \n",
      " 0   year       148591 non-null  int64  \n",
      " 1   会员ID       148591 non-null  int64  \n",
      " 2   R          148591 non-null  int64  \n",
      " 3   F          148591 non-null  int64  \n",
      " 4   M          148591 non-null  float64\n",
      " 5   r_score    148591 non-null  object \n",
      " 6   f_score    148591 non-null  object \n",
      " 7   m_score    148591 non-null  object \n",
      " 8   rfm_group  148591 non-null  object \n",
      "dtypes: float64(1), int64(4), object(4)\n",
      "memory usage: 10.2+ MB\n"
     ]
    }
   ],
   "source": [
    "rfm_gb.info()"
   ],
   "metadata": {
    "collapsed": false
   }
  },
  {
   "cell_type": "code",
   "execution_count": 25,
   "outputs": [],
   "source": [
    "path = r'C:\\Users\\17634\\DataspellProjects\\ds-project\\Stage3__Data_Analysis'\n",
    "os.chdir(path)\n",
    "rfm_gb.to_excel('sales_rfm_score1.xlsx')  # 保存数据为Excel"
   ],
   "metadata": {
    "collapsed": false
   }
  },
  {
   "cell_type": "code",
   "execution_count": 31,
   "outputs": [],
   "source": [
    "import pymysql\n",
    "import time\n",
    "# 数据库信息\n",
    "config = {'host': 'localhost',\n",
    "          'user': 'root',  # 用户名\n",
    "          'password': '123456',  # 密码\n",
    "          'port': 3306,  # 端口，默认为3306\n",
    "          'database': 'test',  # 数据库名称\n",
    "          'charset': 'utf8'  # 字符编码\n",
    "          }\n",
    "table_name = 'sales_rfm_score'  # 要写库的表名"
   ],
   "metadata": {
    "collapsed": false
   }
  },
  {
   "cell_type": "code",
   "execution_count": 32,
   "outputs": [],
   "source": [
    "conn = pymysql.connect(**config)\n",
    "with conn:\n",
    "    with conn.cursor() as cursor:\n",
    "        #梳理数据\n",
    "        write_db_data = rfm_gb[['会员ID','r_score','f_score','m_score','rfm_group']] # 主要数据\n",
    "        timestamp = time.strftime('%Y-%m-%d', time.localtime())\n",
    "        #写库\n",
    "        for each_value in write_db_data.values:\n",
    "            insert_sql = \"INSERT INTO `{}` VALUES ('{}',{},{},{},'{}','{}')\".format(table_name, *each_value, timestamp)\n",
    "            cursor.execute(insert_sql)\n",
    "            conn.commit()"
   ],
   "metadata": {
    "collapsed": false
   }
  },
  {
   "cell_type": "code",
   "execution_count": 33,
   "outputs": [
    {
     "data": {
      "text/plain": "   rfm_group  year  number\n0        111  2015    2180\n1        111  2016    1498\n2        111  2017    3169\n3        111  2018    2271\n4        112  2015    3811",
      "text/html": "<div>\n<style scoped>\n    .dataframe tbody tr th:only-of-type {\n        vertical-align: middle;\n    }\n\n    .dataframe tbody tr th {\n        vertical-align: top;\n    }\n\n    .dataframe thead th {\n        text-align: right;\n    }\n</style>\n<table border=\"1\" class=\"dataframe\">\n  <thead>\n    <tr style=\"text-align: right;\">\n      <th></th>\n      <th>rfm_group</th>\n      <th>year</th>\n      <th>number</th>\n    </tr>\n  </thead>\n  <tbody>\n    <tr>\n      <th>0</th>\n      <td>111</td>\n      <td>2015</td>\n      <td>2180</td>\n    </tr>\n    <tr>\n      <th>1</th>\n      <td>111</td>\n      <td>2016</td>\n      <td>1498</td>\n    </tr>\n    <tr>\n      <th>2</th>\n      <td>111</td>\n      <td>2017</td>\n      <td>3169</td>\n    </tr>\n    <tr>\n      <th>3</th>\n      <td>111</td>\n      <td>2018</td>\n      <td>2271</td>\n    </tr>\n    <tr>\n      <th>4</th>\n      <td>112</td>\n      <td>2015</td>\n      <td>3811</td>\n    </tr>\n  </tbody>\n</table>\n</div>"
     },
     "execution_count": 33,
     "metadata": {},
     "output_type": "execute_result"
    }
   ],
   "source": [
    "# 图形数据汇总\n",
    "display_data = rfm_gb.groupby(['rfm_group','year'],as_index=False)['会员ID'].count()\n",
    "display_data.columns = ['rfm_group','year','number']\n",
    "display_data['rfm_group'] = display_data['rfm_group'].astype(np.int32)\n",
    "display_data.head()"
   ],
   "metadata": {
    "collapsed": false
   }
  },
  {
   "cell_type": "code",
   "execution_count": 34,
   "outputs": [
    {
     "data": {
      "text/plain": "'C:\\\\Users\\\\17634\\\\DataspellProjects\\\\ds-project\\\\Stage3__Data_Analysis\\\\render.html'"
     },
     "execution_count": 34,
     "metadata": {},
     "output_type": "execute_result"
    }
   ],
   "source": [
    "# 显示图形\n",
    "from pyecharts.charts import Bar3D\n",
    "from pyecharts import options as opts\n",
    "from pyecharts.commons.utils import JsCode\n",
    "range_color = ['#313695', '#4575b4', '#74add1', '#abd9e9', '#e0f3f8', '#ffffbf',\n",
    "               '#fee090', '#fdae61', '#f46d43', '#d73027', '#a50026']\n",
    "range_max = int(display_data['number'].max())\n",
    "c = (\n",
    "    Bar3D()#设置了一个3D柱形图对象\n",
    "    .add(\n",
    "        \"\",#标题\n",
    "        [d.tolist() for d in display_data.values],#数据\n",
    "        xaxis3d_opts=opts.Axis3DOpts( type_=\"category\",name='分组名称'),#x轴数据类型，名称\n",
    "        yaxis3d_opts=opts.Axis3DOpts( type_=\"category\",name='年份'),#y轴数据类型，名称\n",
    "        zaxis3d_opts=opts.Axis3DOpts(type_=\"value\",name='会员数量'),#z轴数据类型，名称\n",
    "    )\n",
    "    .set_global_opts(#设置颜色，及不同取值对应的颜色\n",
    "        visualmap_opts=opts.VisualMapOpts(max_=range_max,range_color=range_color),\n",
    "        title_opts=opts.TitleOpts(title=\"RFM分组结果\"),#设置标题\n",
    "    )\n",
    ")\n",
    "c.render() #在html中显示\n"
   ],
   "metadata": {
    "collapsed": false
   }
  }
 ],
 "metadata": {
  "kernelspec": {
   "display_name": "Python 3",
   "language": "python",
   "name": "python3"
  },
  "language_info": {
   "codemirror_mode": {
    "name": "ipython",
    "version": 2
   },
   "file_extension": ".py",
   "mimetype": "text/x-python",
   "name": "python",
   "nbconvert_exporter": "python",
   "pygments_lexer": "ipython2",
   "version": "2.7.6"
  }
 },
 "nbformat": 4,
 "nbformat_minor": 0
}
