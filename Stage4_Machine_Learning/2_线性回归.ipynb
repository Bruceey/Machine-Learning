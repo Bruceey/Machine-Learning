{
 "cells": [
  {
   "cell_type": "code",
   "execution_count": 1,
   "metadata": {
    "collapsed": true,
    "ExecuteTime": {
     "end_time": "2023-06-19T04:47:17.753668Z",
     "start_time": "2023-06-19T04:47:16.375863Z"
    }
   },
   "outputs": [],
   "source": [
    "from sklearn.linear_model import LinearRegression\n",
    "from sklearn.linear_model import SGDRegressor, Ridge"
   ]
  },
  {
   "cell_type": "code",
   "execution_count": 2,
   "outputs": [],
   "source": [
    "x = [[80, 86],\n",
    "     [82, 80],\n",
    "     [85, 78],\n",
    "     [90, 90],\n",
    "     [86, 82],\n",
    "     [82, 90],\n",
    "     [78, 80],\n",
    "     [92, 94]]\n",
    "y = [84.2, 80.6, 80.1, 90, 83.2, 87.6, 79.4, 93.4]"
   ],
   "metadata": {
    "collapsed": false,
    "ExecuteTime": {
     "end_time": "2023-06-19T04:47:24.224962Z",
     "start_time": "2023-06-19T04:47:23.278564Z"
    }
   }
  },
  {
   "cell_type": "code",
   "execution_count": 3,
   "outputs": [
    {
     "data": {
      "text/plain": "array([0.3, 0.7])"
     },
     "execution_count": 3,
     "metadata": {},
     "output_type": "execute_result"
    }
   ],
   "source": [
    "estimator = LinearRegression()\n",
    "estimator.fit(x, y)\n",
    "estimator.coef_"
   ],
   "metadata": {
    "collapsed": false
   }
  },
  {
   "cell_type": "code",
   "execution_count": 4,
   "outputs": [
    {
     "data": {
      "text/plain": "array([86.])"
     },
     "execution_count": 4,
     "metadata": {},
     "output_type": "execute_result"
    }
   ],
   "source": [
    "estimator.predict([[100, 80]])"
   ],
   "metadata": {
    "collapsed": false
   }
  },
  {
   "cell_type": "code",
   "execution_count": 6,
   "outputs": [],
   "source": [
    "from sklearn.model_selection import train_test_split\n",
    "from sklearn.preprocessing import StandardScaler\n",
    "from sklearn.metrics import mean_squared_error\n",
    "from sklearn.datasets import load_boston"
   ],
   "metadata": {
    "collapsed": false
   }
  },
  {
   "cell_type": "code",
   "execution_count": 8,
   "outputs": [
    {
     "name": "stdout",
     "output_type": "stream",
     "text": [
      "预测值为:\n",
      " [28.14790667 31.30481159 20.5173895  31.4803076  19.01576648 18.26058425\n",
      " 20.57439825 18.45232382 18.46065155 32.93661269 20.3603692  27.24886071\n",
      " 14.81691426 19.20872297 37.01503458 18.32036009  7.71389628 17.56196944\n",
      " 30.18543811 23.60655873 18.14917545 33.84385342 28.48976083 16.9967041\n",
      " 34.76065063 26.22246312 34.83857168 26.62310118 18.64402278 13.21154037\n",
      " 30.37364532 14.70785748 37.18173708  8.88049446 15.06699441 16.14502168\n",
      "  7.19990762 19.17049423 39.56848262 28.23663    24.62411509 16.75182833\n",
      " 37.84465582  5.71770376 21.21547924 24.63882018 18.8561516  19.93416672\n",
      " 15.19839712 26.29892968  7.4274177  27.14300763 29.18745146 16.27895854\n",
      "  7.99799673 35.46394958 32.38905222 20.83161049 16.41464618 20.87141783\n",
      " 22.92150844 23.60828508 19.32245804 38.33751529 23.87463642 18.98494066\n",
      " 12.63480997  6.12915396 41.44675745 21.08894595 16.27561572 21.48546861\n",
      " 40.74502107 20.4839158  36.82098808 27.0452329  19.79437176 19.64484428\n",
      " 24.58763105 21.08454269 30.91968983 19.3326693  22.30088735 31.0904808\n",
      " 26.36418084 20.25648139 28.81879823 20.82632806 26.01779216 19.37871837\n",
      " 24.9599814  22.31091614 18.94468902 18.77414161 14.07143768 17.44450331\n",
      " 24.19727889 15.86077811 20.09007025 26.51946463 20.1336741  17.02456077\n",
      " 23.86647679 22.84428441 21.00754322 36.17169898 14.67959839 20.5656347\n",
      " 32.46704858 33.24183156 19.81162376 26.55899048 20.90676734 16.42301853\n",
      " 20.76605527 20.54658755 26.86304808 24.14176193 23.23824644 13.81640493\n",
      " 15.37727091  2.79513898 28.89744167 19.80407672 21.50002831 27.5410586\n",
      " 28.54270527]\n",
      "模型中的系数为:\n",
      " [-0.64817766  1.14673408 -0.05949444  0.74216553 -1.95515269  2.70902585\n",
      " -0.07737374 -3.29889391  2.50267196 -1.85679269 -1.75044624  0.87341624\n",
      " -3.91336869]\n",
      "模型中的偏置为:\n",
      " 22.62137203166228\n",
      "误差为:\n",
      " 20.062193990359795\n",
      "score为\n",
      " 0.7608593568991628\n"
     ]
    },
    {
     "name": "stderr",
     "output_type": "stream",
     "text": [
      "C:\\Users\\17634\\Anaconda3\\lib\\site-packages\\sklearn\\utils\\deprecation.py:87: FutureWarning: Function load_boston is deprecated; `load_boston` is deprecated in 1.0 and will be removed in 1.2.\n",
      "\n",
      "    The Boston housing prices dataset has an ethical problem. You can refer to\n",
      "    the documentation of this function for further details.\n",
      "\n",
      "    The scikit-learn maintainers therefore strongly discourage the use of this\n",
      "    dataset unless the purpose of the code is to study and educate about\n",
      "    ethical issues in data science and machine learning.\n",
      "\n",
      "    In this special case, you can fetch the dataset from the original\n",
      "    source::\n",
      "\n",
      "        import pandas as pd\n",
      "        import numpy as np\n",
      "\n",
      "\n",
      "        data_url = \"http://lib.stat.cmu.edu/datasets/boston\"\n",
      "        raw_df = pd.read_csv(data_url, sep=\"\\s+\", skiprows=22, header=None)\n",
      "        data = np.hstack([raw_df.values[::2, :], raw_df.values[1::2, :2]])\n",
      "        target = raw_df.values[1::2, 2]\n",
      "\n",
      "    Alternative datasets include the California housing dataset (i.e.\n",
      "    :func:`~sklearn.datasets.fetch_california_housing`) and the Ames housing\n",
      "    dataset. You can load the datasets as follows::\n",
      "\n",
      "        from sklearn.datasets import fetch_california_housing\n",
      "        housing = fetch_california_housing()\n",
      "\n",
      "    for the California housing dataset and::\n",
      "\n",
      "        from sklearn.datasets import fetch_openml\n",
      "        housing = fetch_openml(name=\"house_prices\", as_frame=True)\n",
      "\n",
      "    for the Ames housing dataset.\n",
      "    \n",
      "  warnings.warn(msg, category=FutureWarning)\n"
     ]
    }
   ],
   "source": [
    "# 正规方程\n",
    "\n",
    "def linear_model1():\n",
    "    \"\"\"\n",
    "    线性回归:正规方程\n",
    "    :return:None\n",
    "    \"\"\"\n",
    "    # 1.获取数据\n",
    "    data = load_boston()\n",
    "\n",
    "    # 2.数据集划分\n",
    "    x_train, x_test, y_train, y_test = train_test_split(data.data, data.target, random_state=22)\n",
    "\n",
    "    # 3.特征工程-标准化\n",
    "    transfer = StandardScaler()\n",
    "    x_train = transfer.fit_transform(x_train)\n",
    "    x_test = transfer.fit_transform(x_test)\n",
    "\n",
    "    # 4.机器学习-线性回归(正规方程)\n",
    "    estimator = LinearRegression()\n",
    "    estimator.fit(x_train, y_train)\n",
    "\n",
    "    # 5.模型评估\n",
    "    # 5.1 获取系数等值\n",
    "    y_predict = estimator.predict(x_test)\n",
    "    print(\"预测值为:\\n\", y_predict)\n",
    "    print(\"模型中的系数为:\\n\", estimator.coef_)\n",
    "    print(\"模型中的偏置为:\\n\", estimator.intercept_)\n",
    "\n",
    "    # 5.2 评价\n",
    "    # 均方误差\n",
    "    error = mean_squared_error(y_test, y_predict)\n",
    "    print(\"误差为:\\n\", error)\n",
    "    print('score为\\n', estimator.score(x_test, y_test))\n",
    "linear_model1()"
   ],
   "metadata": {
    "collapsed": false
   }
  },
  {
   "cell_type": "code",
   "execution_count": 10,
   "outputs": [
    {
     "name": "stdout",
     "output_type": "stream",
     "text": [
      "预测值为:\n",
      " [28.25331402 31.52470216 20.83796468 31.57002609 19.41091526 18.00524898\n",
      " 20.77517508 18.51757368 18.75989851 32.77701149 20.67242036 26.69481901\n",
      " 14.5672424  19.19934272 37.21553461 17.94622926  7.94406877 17.74849614\n",
      " 30.65792399 23.77033989 17.84214374 33.96463236 28.16006665 16.41375411\n",
      " 34.86235936 26.11233022 34.55711987 26.91051238 18.20794869 14.56198671\n",
      " 30.4491424  12.85842881 37.82812402  8.90596015 15.28535322 15.28945488\n",
      "  6.77548042 18.63188249 39.85113666 28.99612523 24.81185708 16.55360062\n",
      " 38.46850609  4.85865222 20.62309902 24.3782866  19.2585154  19.97421616\n",
      " 14.79688325 26.10203025  8.24085645 26.88444138 29.37541408 15.87452373\n",
      "  7.62717603 35.51805819 31.48126771 22.38238978 16.44256817 21.00087503\n",
      " 23.03836128 23.41027134 19.72188996 38.28183772 25.41474838 18.50317715\n",
      " 12.45893441  5.29935202 42.05544162 21.12034583 15.38194715 21.92949426\n",
      " 41.24316235 21.08744857 37.0235879  26.97912277 21.26988335 19.83144728\n",
      " 24.87747083 23.3298545  31.5353626  19.28855587 22.34291749 31.29001954\n",
      " 26.89894513 19.97153594 28.81061444 21.26840986 26.51313543 17.59657829\n",
      " 24.64218247 22.09350963 18.7169873  19.35724892 13.87297313 17.03184379\n",
      " 23.96257745 15.4895123  19.47327971 26.61921404 19.67262496 16.82595849\n",
      " 23.52922496 22.63525603 19.32266944 35.91990053 14.9196308  21.93064844\n",
      " 32.52917554 32.75803132 19.77460043 25.38965395 21.65834807 16.80649206\n",
      " 20.75755174 21.01027032 27.04737691 24.75691719 23.12047939 13.06719648\n",
      " 15.13598657  1.82014213 29.02941758 19.55622657 21.60119337 27.78164543\n",
      " 28.07275502]\n",
      "模型中的系数为:\n",
      " [-0.50510057  0.85373866 -0.53146466  0.81332942 -1.57517491  2.92951327\n",
      " -0.19054692 -2.92763457  1.45283155 -0.83603415 -1.72874317  0.90211859\n",
      " -3.90189167]\n",
      "模型中的偏置为:\n",
      " [22.62541703]\n",
      "误差为:\n",
      " 20.18939483259282\n",
      "score为\n",
      " 0.7593431273567115\n"
     ]
    },
    {
     "name": "stderr",
     "output_type": "stream",
     "text": [
      "C:\\Users\\17634\\Anaconda3\\lib\\site-packages\\sklearn\\utils\\deprecation.py:87: FutureWarning: Function load_boston is deprecated; `load_boston` is deprecated in 1.0 and will be removed in 1.2.\n",
      "\n",
      "    The Boston housing prices dataset has an ethical problem. You can refer to\n",
      "    the documentation of this function for further details.\n",
      "\n",
      "    The scikit-learn maintainers therefore strongly discourage the use of this\n",
      "    dataset unless the purpose of the code is to study and educate about\n",
      "    ethical issues in data science and machine learning.\n",
      "\n",
      "    In this special case, you can fetch the dataset from the original\n",
      "    source::\n",
      "\n",
      "        import pandas as pd\n",
      "        import numpy as np\n",
      "\n",
      "\n",
      "        data_url = \"http://lib.stat.cmu.edu/datasets/boston\"\n",
      "        raw_df = pd.read_csv(data_url, sep=\"\\s+\", skiprows=22, header=None)\n",
      "        data = np.hstack([raw_df.values[::2, :], raw_df.values[1::2, :2]])\n",
      "        target = raw_df.values[1::2, 2]\n",
      "\n",
      "    Alternative datasets include the California housing dataset (i.e.\n",
      "    :func:`~sklearn.datasets.fetch_california_housing`) and the Ames housing\n",
      "    dataset. You can load the datasets as follows::\n",
      "\n",
      "        from sklearn.datasets import fetch_california_housing\n",
      "        housing = fetch_california_housing()\n",
      "\n",
      "    for the California housing dataset and::\n",
      "\n",
      "        from sklearn.datasets import fetch_openml\n",
      "        housing = fetch_openml(name=\"house_prices\", as_frame=True)\n",
      "\n",
      "    for the Ames housing dataset.\n",
      "    \n",
      "  warnings.warn(msg, category=FutureWarning)\n"
     ]
    }
   ],
   "source": [
    "# 梯度下降\n",
    "\n",
    "def linear_model2():\n",
    "    \"\"\"\n",
    "    线性回归:梯度下降法\n",
    "    :return:None\n",
    "    \"\"\"\n",
    "    # 1.获取数据\n",
    "    data = load_boston()\n",
    "\n",
    "    # 2.数据集划分\n",
    "    x_train, x_test, y_train, y_test = train_test_split(data.data, data.target, random_state=22)\n",
    "\n",
    "    # 3.特征工程-标准化\n",
    "    transfer = StandardScaler()\n",
    "    x_train = transfer.fit_transform(x_train)\n",
    "    x_test = transfer.fit_transform(x_test)\n",
    "\n",
    "    # 4.机器学习-线性回归(特征方程)\n",
    "    estimator = SGDRegressor(max_iter=1000)\n",
    "    estimator.fit(x_train, y_train)\n",
    "\n",
    "    # 5.模型评估\n",
    "    # 5.1 获取系数等值\n",
    "    y_predict = estimator.predict(x_test)\n",
    "    print(\"预测值为:\\n\", y_predict)\n",
    "    print(\"模型中的系数为:\\n\", estimator.coef_)\n",
    "    print(\"模型中的偏置为:\\n\", estimator.intercept_)\n",
    "\n",
    "    # 5.2 评价\n",
    "    # 均方误差\n",
    "    error = mean_squared_error(y_test, y_predict)\n",
    "    print(\"误差为:\\n\", error)\n",
    "    print('score为\\n', estimator.score(x_test, y_test))\n",
    "linear_model2()"
   ],
   "metadata": {
    "collapsed": false
   }
  },
  {
   "cell_type": "code",
   "execution_count": 13,
   "outputs": [
    {
     "name": "stdout",
     "output_type": "stream",
     "text": [
      "预测值为:\n",
      " [28.13514381 31.28742806 20.54637256 31.45779505 19.05568933 18.26035004\n",
      " 20.59277879 18.46395399 18.49310689 32.89149735 20.38916336 27.19539571\n",
      " 14.82641534 19.22385973 36.98699955 18.29852297  7.78481347 17.58930015\n",
      " 30.19228148 23.61186682 18.14688039 33.81334203 28.44588593 16.97492092\n",
      " 34.72357533 26.19400705 34.77212916 26.62689656 18.63066492 13.34246426\n",
      " 30.35128911 14.59472585 37.18259957  8.93178571 15.10673508 16.1072542\n",
      "  7.22299512 19.14535184 39.53308652 28.26937936 24.62676357 16.76310494\n",
      " 37.85719041  5.71249289 21.17777272 24.60640023 18.90197753 19.95020929\n",
      " 15.1922374  26.27853095  7.55102357 27.10160025 29.17947182 16.275476\n",
      "  8.02888564 35.42165713 32.28262473 20.9525814  16.43494393 20.88177884\n",
      " 22.92764493 23.58271167 19.35870763 38.27704421 23.98459232 18.96691367\n",
      " 12.66552625  6.122414   41.44033214 21.09214394 16.23412117 21.51649375\n",
      " 40.72274345 20.53192898 36.78646575 27.01972904 19.91315009 19.66906691\n",
      " 24.59629369 21.2589005  30.93402996 19.33386041 22.3055747  31.07671682\n",
      " 26.39230161 20.24709071 28.79113538 20.85968277 26.04247756 19.25344252\n",
      " 24.9235031  22.29606909 18.94734935 18.83346051 14.09641763 17.43434945\n",
      " 24.16599713 15.86179766 20.05792005 26.51141362 20.11472351 17.03501767\n",
      " 23.83611956 22.82305362 20.88305157 36.10592864 14.72050619 20.67225818\n",
      " 32.43628539 33.17614341 19.8129561  26.45401305 20.97734485 16.47095097\n",
      " 20.76417338 20.58558754 26.85985053 24.18030055 23.22217136 13.7919355\n",
      " 15.38830634  2.78927979 28.87941047 19.80046894 21.50479706 27.53668749\n",
      " 28.48598562]\n",
      "模型中的系数为:\n",
      " [-0.63591916  1.12109181 -0.09319611  0.74628129 -1.91888749  2.71927719\n",
      " -0.08590464 -3.25882705  2.41315949 -1.76930347 -1.74279405  0.87205004\n",
      " -3.89758657]\n",
      "模型中的偏置为:\n",
      " 22.62137203166228\n",
      "误差为:\n",
      " 20.064724392806887\n",
      "score为\n",
      " 0.7608291945914516\n"
     ]
    },
    {
     "name": "stderr",
     "output_type": "stream",
     "text": [
      "C:\\Users\\17634\\Anaconda3\\lib\\site-packages\\sklearn\\utils\\deprecation.py:87: FutureWarning: Function load_boston is deprecated; `load_boston` is deprecated in 1.0 and will be removed in 1.2.\n",
      "\n",
      "    The Boston housing prices dataset has an ethical problem. You can refer to\n",
      "    the documentation of this function for further details.\n",
      "\n",
      "    The scikit-learn maintainers therefore strongly discourage the use of this\n",
      "    dataset unless the purpose of the code is to study and educate about\n",
      "    ethical issues in data science and machine learning.\n",
      "\n",
      "    In this special case, you can fetch the dataset from the original\n",
      "    source::\n",
      "\n",
      "        import pandas as pd\n",
      "        import numpy as np\n",
      "\n",
      "\n",
      "        data_url = \"http://lib.stat.cmu.edu/datasets/boston\"\n",
      "        raw_df = pd.read_csv(data_url, sep=\"\\s+\", skiprows=22, header=None)\n",
      "        data = np.hstack([raw_df.values[::2, :], raw_df.values[1::2, :2]])\n",
      "        target = raw_df.values[1::2, 2]\n",
      "\n",
      "    Alternative datasets include the California housing dataset (i.e.\n",
      "    :func:`~sklearn.datasets.fetch_california_housing`) and the Ames housing\n",
      "    dataset. You can load the datasets as follows::\n",
      "\n",
      "        from sklearn.datasets import fetch_california_housing\n",
      "        housing = fetch_california_housing()\n",
      "\n",
      "    for the California housing dataset and::\n",
      "\n",
      "        from sklearn.datasets import fetch_openml\n",
      "        housing = fetch_openml(name=\"house_prices\", as_frame=True)\n",
      "\n",
      "    for the Ames housing dataset.\n",
      "    \n",
      "  warnings.warn(msg, category=FutureWarning)\n"
     ]
    }
   ],
   "source": [
    "def linear_model3():\n",
    "    \"\"\"\n",
    "    线性回归:岭回归\n",
    "    :return:\n",
    "    \"\"\"\n",
    "    # 1.获取数据\n",
    "    data = load_boston()\n",
    "\n",
    "    # 2.数据集划分\n",
    "    x_train, x_test, y_train, y_test = train_test_split(data.data, data.target, random_state=22)\n",
    "\n",
    "    # 3.特征工程-标准化\n",
    "    transfer = StandardScaler()\n",
    "    x_train = transfer.fit_transform(x_train)\n",
    "    x_test = transfer.fit_transform(x_test)\n",
    "\n",
    "    # 4.机器学习-线性回归(岭回归)\n",
    "    estimator = Ridge(alpha=1)\n",
    "    # estimator = RidgeCV(alphas=(0.1, 1, 10))\n",
    "    estimator.fit(x_train, y_train)\n",
    "\n",
    "    # 5.模型评估\n",
    "    # 5.1 获取系数等值\n",
    "    y_predict = estimator.predict(x_test)\n",
    "    print(\"预测值为:\\n\", y_predict)\n",
    "    print(\"模型中的系数为:\\n\", estimator.coef_)\n",
    "    print(\"模型中的偏置为:\\n\", estimator.intercept_)\n",
    "\n",
    "    # 5.2 评价\n",
    "    # 均方误差\n",
    "    error = mean_squared_error(y_test, y_predict)\n",
    "    print(\"误差为:\\n\", error)\n",
    "    print('score为\\n', estimator.score(x_test, y_test))\n",
    "linear_model3()"
   ],
   "metadata": {
    "collapsed": false
   }
  },
  {
   "cell_type": "code",
   "execution_count": 14,
   "outputs": [
    {
     "data": {
      "text/plain": "'1.0.2'"
     },
     "execution_count": 14,
     "metadata": {},
     "output_type": "execute_result"
    }
   ],
   "source": [
    "import sklearn\n",
    "sklearn.__version__"
   ],
   "metadata": {
    "collapsed": false
   }
  },
  {
   "cell_type": "code",
   "execution_count": null,
   "outputs": [],
   "source": [
    "# 模型保存\n",
    "import joblib\n",
    "def load_dump_demo():\n",
    "    \"\"\"\n",
    "    模型保存和加载\n",
    "    :return:\n",
    "    \"\"\"\n",
    "    # 1.获取数据\n",
    "    data = load_boston()\n",
    "\n",
    "    # 2.数据集划分\n",
    "    x_train, x_test, y_train, y_test = train_test_split(data.data, data.target, random_state=22)\n",
    "\n",
    "    # 3.特征工程-标准化\n",
    "    transfer = StandardScaler()\n",
    "    x_train = transfer.fit_transform(x_train)\n",
    "    x_test = transfer.fit_transform(x_test)\n",
    "\n",
    "    # 4.机器学习-线性回归(岭回归)\n",
    "    # # 4.1 模型训练\n",
    "    # estimator = Ridge(alpha=1)\n",
    "    # estimator.fit(x_train, y_train)\n",
    "    #\n",
    "    # # 4.2 模型保存\n",
    "    # joblib.dump(estimator, \"./data/test.pkl\")\n",
    "\n",
    "    # 4.3 模型加载\n",
    "    estimator = joblib.load(\"./data/test.pkl\")\n",
    "\n",
    "    # 5.模型评估\n",
    "    # 5.1 获取系数等值\n",
    "    y_predict = estimator.predict(x_test)\n",
    "    print(\"预测值为:\\n\", y_predict)\n",
    "    print(\"模型中的系数为:\\n\", estimator.coef_)\n",
    "    print(\"模型中的偏置为:\\n\", estimator.intercept_)\n",
    "\n",
    "    # 5.2 评价\n",
    "    # 均方误差\n",
    "    error = mean_squared_error(y_test, y_predict)\n",
    "    print(\"误差为:\\n\", error)"
   ],
   "metadata": {
    "collapsed": false
   }
  }
 ],
 "metadata": {
  "kernelspec": {
   "display_name": "Python 3",
   "language": "python",
   "name": "python3"
  },
  "language_info": {
   "codemirror_mode": {
    "name": "ipython",
    "version": 2
   },
   "file_extension": ".py",
   "mimetype": "text/x-python",
   "name": "python",
   "nbconvert_exporter": "python",
   "pygments_lexer": "ipython2",
   "version": "2.7.6"
  }
 },
 "nbformat": 4,
 "nbformat_minor": 0
}
