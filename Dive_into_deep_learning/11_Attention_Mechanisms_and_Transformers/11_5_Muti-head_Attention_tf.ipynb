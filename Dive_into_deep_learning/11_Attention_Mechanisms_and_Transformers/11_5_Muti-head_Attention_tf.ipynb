{
 "cells": [
  {
   "cell_type": "code",
   "execution_count": null,
   "id": "initial_id",
   "metadata": {
    "collapsed": true
   },
   "outputs": [],
   "source": [
    "import tensorflow as tf\n",
    "from Dive_into_deep_learning.d2l import tensorflow as d2l"
   ]
  },
  {
   "cell_type": "code",
   "execution_count": null,
   "outputs": [],
   "source": [
    "class MultiHeadAttention(d2l.Module):\n",
    "    def __init__(self, key_size, query_size, value_size, num_hiddens, num_heads, dropout, bias=False, **kwargs):\n",
    "        super().__init__()\n",
    "        self.num_heads = num_heads\n",
    "        self.attention = d2l.DotProductAttention(dropout)\n",
    "        self.W_q = tf.keras.layers.Dense(num_hiddens, use_bias=bias)\n",
    "        self.W_k = tf.keras.layers.Dense(num_hiddens, use_bias=bias)\n",
    "        self.W_v = tf.keras.layers.Dense(num_hiddens, use_bias=bias)\n",
    "        self.W_o = tf.keras.layers.Dense(num_hiddens, use_bias=bias)\n",
    "        \n",
    "    def call(self, queries, keys, values, valid_lens, **kwargs):\n",
    "        queries = self.transpose_qkv(self.W_q(queries))\n",
    "        keys = self.transpose_qkv(self.W_k(keys))\n",
    "        values = self.transpose_qkv(self.W_v(values))\n",
    "        \n",
    "        if valid_lens is not None:\n",
    "            valid_lens = tf.repeat(valid_lens, repeats=self.num_heads, axis=0)\n",
    "        \n",
    "        output = self.attention(queries, keys, values, valid_lens, **kwargs)\n",
    "        \n",
    "        output_concat = self.transpose_output(output)\n",
    "        return self.W_o(output_concat)\n",
    "        \n",
    "        \n",
    "    \n",
    "    def transpose_qkv(self, X):\n",
    "        \"\"\"\n",
    "        :param X: (batch_size, no. of queries or key-value pairs, num_hiddens)\n",
    "        :return: (batch_size * num_heads, no. of queries of key-value pairs, num_hiddens / num_heads)\n",
    "        \"\"\"\n",
    "        X = tf.reshape(X, (X.shape[0], X.shape[1], self.num_heads, -1))\n",
    "        X = tf.transpose(X, (0, 2, 1, 3))\n",
    "        return tf.reshape(X, (-1, X.shape[2], X.shape[3]))\n",
    "    \n",
    "    def transpose_output(self, X):\n",
    "        \"\"\"\n",
    "        transpose_qkv方法的逆操作\n",
    "        :param X: (batch_size * num_heads, no. of queries of key-value pairs, num_hiddens / num_heads)\n",
    "        :return: (batch_size, no. of queries or key-value pairs, num_hiddens)\n",
    "        \"\"\"\n",
    "        X = tf.reshape(X, (-1, self.num_heads, X.shape[1], X.shape[2]))\n",
    "        X = tf.transpose(X, (0, 2, 1, 3))\n",
    "        return tf.reshape(X, (X.shape[0], X.shape[1], -1))"
   ],
   "metadata": {
    "collapsed": false
   },
   "id": "450eb4ea9374be8d"
  },
  {
   "cell_type": "code",
   "execution_count": null,
   "outputs": [],
   "source": [
    "num_hiddens, num_heads = 100, 5\n",
    "attention = MultiHeadAttention(num_hiddens, num_hiddens, num_hiddens,\n",
    "                               num_hiddens, num_heads, 0.5)\n",
    "\n",
    "batch_size, num_queries, num_kvpairs = 2, 4, 6\n",
    "valid_lens = tf.constant([3, 2])\n",
    "X = tf.ones((batch_size, num_queries, num_hiddens))\n",
    "Y = tf.ones((batch_size, num_kvpairs, num_hiddens))\n",
    "d2l.check_shape(attention(X, Y, Y, valid_lens, training=False),\n",
    "                (batch_size, num_queries, num_hiddens))"
   ],
   "metadata": {
    "collapsed": false
   },
   "id": "bb9f8ce0be34d805"
  }
 ],
 "metadata": {
  "kernelspec": {
   "display_name": "Python 3",
   "language": "python",
   "name": "python3"
  },
  "language_info": {
   "codemirror_mode": {
    "name": "ipython",
    "version": 2
   },
   "file_extension": ".py",
   "mimetype": "text/x-python",
   "name": "python",
   "nbconvert_exporter": "python",
   "pygments_lexer": "ipython2",
   "version": "2.7.6"
  }
 },
 "nbformat": 4,
 "nbformat_minor": 5
}
