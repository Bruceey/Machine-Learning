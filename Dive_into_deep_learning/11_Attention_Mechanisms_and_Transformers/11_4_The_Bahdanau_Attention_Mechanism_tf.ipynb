{
 "cells": [
  {
   "cell_type": "code",
   "execution_count": null,
   "outputs": [],
   "source": [
    "import tensorflow as tf\n",
    "from Dive_into_deep_learning.d2l import tensorflow as d2l"
   ],
   "metadata": {
    "collapsed": false
   },
   "id": "20c304b4c8ccddba"
  },
  {
   "cell_type": "code",
   "execution_count": null,
   "outputs": [],
   "source": [
    "class AttentionDecoder(d2l.Decoder):\n",
    "    \"\"\"The base attention-based decoder interface\"\"\"\n",
    "    def __init__(self):\n",
    "        super().__init__()\n",
    "        \n",
    "    @property\n",
    "    def attention_weights(self):\n",
    "        raise NotImplementedError"
   ],
   "metadata": {
    "collapsed": false
   },
   "id": "97e4f4e198d9d9fe"
  },
  {
   "cell_type": "code",
   "execution_count": null,
   "outputs": [],
   "source": [
    "class Seq2SeqAttentionDecoder(AttentionDecoder):\n",
    "    def __init__(self, vocab_size, embed_size, num_hiddens, num_layers, dropout=0):\n",
    "        super().__init__()\n",
    "        self.attention = d2l.AdditiveAttention(num_hiddens, num_hiddens, num_hiddens, dropout)\n",
    "        self.embedding = tf.keras.layers.Embedding(vocab_size, embed_size)\n",
    "        self.rnn = tf.keras.layers.RNN(tf.keras.layers.StackedRNNCells(\n",
    "            [tf.keras.layers.GRUCell(num_hiddens, dropout=dropout) for _ in range(num_layers)]\n",
    "        ), return_sequences=True, return_state=True)\n",
    "        self.dense = tf.keras.layers.Dense(vocab_size)\n",
    "        \n",
    "    def init_state(self, enc_outputs, enc_valid_lens):\n",
    "        outputs, hidden_state = enc_outputs\n",
    "        return tf.transpose(outputs, (1, 0, 2)), hidden_state, enc_valid_lens\n",
    "    \n",
    "    def call(self, X, state, **kwargs):\n",
    "        enc_outputs, hidden_state, enc_valid_lens = state"
   ],
   "metadata": {
    "collapsed": false
   },
   "id": "534f2ad5f6637be1"
  }
 ],
 "metadata": {
  "kernelspec": {
   "display_name": "Python 3",
   "language": "python",
   "name": "python3"
  },
  "language_info": {
   "codemirror_mode": {
    "name": "ipython",
    "version": 2
   },
   "file_extension": ".py",
   "mimetype": "text/x-python",
   "name": "python",
   "nbconvert_exporter": "python",
   "pygments_lexer": "ipython2",
   "version": "2.7.6"
  }
 },
 "nbformat": 4,
 "nbformat_minor": 5
}
