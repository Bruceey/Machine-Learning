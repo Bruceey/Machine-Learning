{
 "cells": [
  {
   "cell_type": "code",
   "execution_count": 1,
   "id": "initial_id",
   "metadata": {
    "collapsed": true,
    "ExecuteTime": {
     "end_time": "2023-08-20T06:17:40.570611Z",
     "start_time": "2023-08-20T06:17:35.587102Z"
    }
   },
   "outputs": [
    {
     "name": "stderr",
     "output_type": "stream",
     "text": [
      "2023-08-20 14:17:35.672444: I tensorflow/core/platform/cpu_feature_guard.cc:193] This TensorFlow binary is optimized with oneAPI Deep Neural Network Library (oneDNN) to use the following CPU instructions in performance-critical operations:  SSE4.1 SSE4.2 AVX AVX2 FMA\n",
      "To enable them in other operations, rebuild TensorFlow with the appropriate compiler flags.\n"
     ]
    }
   ],
   "source": [
    "import tensorflow as tf\n",
    "from Dive_into_deep_learning.d2l import tensorflow as d2l"
   ]
  },
  {
   "cell_type": "code",
   "execution_count": 2,
   "outputs": [],
   "source": [
    "class PositionWiseFFN(tf.keras.layers.Layer):\n",
    "    \"\"\"The positionwise feed-forward network\"\"\"\n",
    "\n",
    "    def __init__(self, ffn_num_hidens, ffn_num_outputs):\n",
    "        super().__init__()\n",
    "        self.dense1 = tf.keras.layers.Dense(ffn_num_hidens)\n",
    "        self.relu = tf.keras.layers.ReLU()\n",
    "        self.dense2 = tf.keras.layers.Dense(ffn_num_outputs)\n",
    "\n",
    "    def call(self, X):\n",
    "        return self.dense2(self.relu(self.dense1(X)))"
   ],
   "metadata": {
    "collapsed": false,
    "ExecuteTime": {
     "end_time": "2023-08-20T06:17:40.576913Z",
     "start_time": "2023-08-20T06:17:40.568895Z"
    }
   },
   "id": "135f596eb1004721"
  },
  {
   "cell_type": "code",
   "execution_count": 3,
   "outputs": [],
   "source": [
    "class AddNorm(tf.keras.layers.Layer):\n",
    "    def __init__(self, norm_shape, dropout):\n",
    "        super().__init__()\n",
    "        self.dropout = tf.keras.layers.Dropout(dropout)\n",
    "        self.ln = tf.keras.layers.LayerNormalization(norm_shape)\n",
    "\n",
    "    def call(self, X, Y, **kwargs):\n",
    "        return self.ln(X + self.dropout(Y, **kwargs))"
   ],
   "metadata": {
    "collapsed": false,
    "ExecuteTime": {
     "end_time": "2023-08-20T06:17:40.588171Z",
     "start_time": "2023-08-20T06:17:40.575569Z"
    }
   },
   "id": "ec02b2e3f0639936"
  },
  {
   "cell_type": "code",
   "execution_count": 4,
   "outputs": [],
   "source": [
    "class TransformerEncoderBlock(tf.keras.layers.Layer):\n",
    "    \"\"\"The Transformer encoder block\"\"\"\n",
    "    def __init__(self, key_size, query_size, value_size, num_hiddens,\n",
    "                 norm_shape, ffn_num_hiddens, num_heads, dropout, bias=False):\n",
    "        super().__init__()\n",
    "        self.attention = d2l.MultiHeadAttention(key_size, query_size, value_size, num_hiddens, num_heads, dropout, bias)\n",
    "        self.addnorm1 = AddNorm(norm_shape, dropout)\n",
    "        self.ffn = PositionWiseFFN(ffn_num_hiddens, num_hiddens)\n",
    "        self.addnorm2 = AddNorm(norm_shape, dropout)\n",
    "        \n",
    "    def call(self, X, valid_lens, **kwargs):\n",
    "        Y = self.addnorm1(X, self.attention(X, X, X, valid_lens, **kwargs), **kwargs)\n",
    "        return self.addnorm2(Y, self.ffn(Y), **kwargs)"
   ],
   "metadata": {
    "collapsed": false,
    "ExecuteTime": {
     "end_time": "2023-08-20T06:17:40.588562Z",
     "start_time": "2023-08-20T06:17:40.583807Z"
    }
   },
   "id": "b2f231310671978a"
  },
  {
   "cell_type": "code",
   "execution_count": 5,
   "outputs": [],
   "source": [
    "class TransformerEncoder(d2l.Encoder):\n",
    "    \"\"\"The Transformer encoder.\"\"\"\n",
    "    def __init__(self, vocab_size, key_size, query_size, value_size, \n",
    "                 num_hiddens, norm_shape, ffn_num_hiddens, num_heads, \n",
    "                 num_blks, dropout, bias=False):\n",
    "        super().__init__()\n",
    "        self.num_hiddens = num_hiddens\n",
    "        self.embedding = tf.keras.layers.Embedding(vocab_size, num_hiddens)\n",
    "        self.pos_encoding = d2l.PositionalEncoding(num_hiddens, dropout)\n",
    "        self.blks = [TransformerEncoderBlock(\n",
    "            key_size, query_size, value_size, num_hiddens, norm_shape, \n",
    "            ffn_num_hiddens, num_heads, dropout, bias) for _ in range(num_blks)]\n",
    "        \n",
    "    def call(self, X, valid_lens, **kwargs):\n",
    "        X = self.pos_encoding(self.embedding(X) * tf.math.sqrt(\n",
    "            tf.cast(self.num_hiddens, dtype=tf.float32)), **kwargs)\n",
    "        self.attention_weights = [None] * len(self.blks)\n",
    "        \n",
    "        for i, blk in enumerate(self.blks):\n",
    "            X = blk(X, valid_lens, **kwargs)\n",
    "            self.attention_weights[i] = blk.attention.attention.attention_weights\n",
    "        return X"
   ],
   "metadata": {
    "collapsed": false,
    "ExecuteTime": {
     "end_time": "2023-08-20T06:17:40.606976Z",
     "start_time": "2023-08-20T06:17:40.594411Z"
    }
   },
   "id": "1d3ebaf9d9e91025"
  },
  {
   "cell_type": "code",
   "execution_count": 6,
   "outputs": [
    {
     "name": "stderr",
     "output_type": "stream",
     "text": [
      "2023-08-20 14:17:40.598086: I tensorflow/core/platform/cpu_feature_guard.cc:193] This TensorFlow binary is optimized with oneAPI Deep Neural Network Library (oneDNN) to use the following CPU instructions in performance-critical operations:  SSE4.1 SSE4.2 AVX AVX2 FMA\n",
      "To enable them in other operations, rebuild TensorFlow with the appropriate compiler flags.\n"
     ]
    }
   ],
   "source": [
    "valid_lens = tf.constant([3, 2])\n",
    "encoder = TransformerEncoder(200, 24, 24, 24, 24, [1, 2], 48, 8, 2, 0.5)\n",
    "d2l.check_shape(encoder(tf.ones((2, 100)), valid_lens, training=False),\n",
    "                (2, 100, 24))"
   ],
   "metadata": {
    "collapsed": false,
    "ExecuteTime": {
     "end_time": "2023-08-20T06:17:40.903051Z",
     "start_time": "2023-08-20T06:17:40.597374Z"
    }
   },
   "id": "896fc086d822416d"
  }
 ],
 "metadata": {
  "kernelspec": {
   "display_name": "Python 3",
   "language": "python",
   "name": "python3"
  },
  "language_info": {
   "codemirror_mode": {
    "name": "ipython",
    "version": 2
   },
   "file_extension": ".py",
   "mimetype": "text/x-python",
   "name": "python",
   "nbconvert_exporter": "python",
   "pygments_lexer": "ipython2",
   "version": "2.7.6"
  }
 },
 "nbformat": 4,
 "nbformat_minor": 5
}
