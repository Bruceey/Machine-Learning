{
 "cells": [
  {
   "cell_type": "code",
   "execution_count": 1,
   "id": "initial_id",
   "metadata": {
    "collapsed": true,
    "ExecuteTime": {
     "end_time": "2023-08-02T14:12:29.088790500Z",
     "start_time": "2023-08-02T14:12:15.416279800Z"
    }
   },
   "outputs": [],
   "source": [
    "import collections\n",
    "import re\n",
    "from Dive_into_deep_learning.d2l import tensorflow as d2l"
   ]
  },
  {
   "cell_type": "markdown",
   "source": [
    "# 1. 读取数据集"
   ],
   "metadata": {
    "collapsed": false
   },
   "id": "efe7ef77a55ab647"
  },
  {
   "cell_type": "code",
   "execution_count": 2,
   "outputs": [
    {
     "name": "stdout",
     "output_type": "stream",
     "text": [
      "Downloading ../data\\timemachine.txt from http://d2l-data.s3-accelerate.amazonaws.com/timemachine.txt...\n",
      "# 文本总行数: 3221\n",
      "the time machine by h g wells\n",
      "twinkled and his usually pale face was flushed and animated the\n"
     ]
    }
   ],
   "source": [
    "d2l.DATA_HUB['time_machine'] = (d2l.DATA_URL + 'timemachine.txt',\n",
    "                                '090b5e7e70c295757f55df93cb0a180b9691891a')\n",
    "\n",
    "def read_time_machine():\n",
    "    \"\"\"将时间机器数据加载到文本行的列表中\"\"\"\n",
    "    with open(d2l.download('time_machine', '../data'), 'r') as f:\n",
    "        lines = f.readlines()\n",
    "        return [re.sub('[^A-Za-z]+', ' ', line).strip().lower() for line in lines]\n",
    "\n",
    "lines = read_time_machine()\n",
    "print(f'# 文本总行数: {len(lines)}')\n",
    "print(lines[0])\n",
    "print(lines[10])"
   ],
   "metadata": {
    "collapsed": false,
    "ExecuteTime": {
     "end_time": "2023-08-02T14:51:50.573376100Z",
     "start_time": "2023-08-02T14:51:49.352779900Z"
    }
   },
   "id": "49d8ceaeb0d61d05"
  },
  {
   "cell_type": "markdown",
   "source": [
    "# 2. 词元化"
   ],
   "metadata": {
    "collapsed": false
   },
   "id": "88126e2b33333634"
  },
  {
   "cell_type": "code",
   "execution_count": null,
   "outputs": [],
   "source": [
    "def tokenize(lines, token='word'):\n",
    "    \"\"\"将文本行拆分为单词或字符词元\"\"\"\n",
    "    if token == 'word':\n",
    "        return [line.split() for line in lines]"
   ],
   "metadata": {
    "collapsed": false
   },
   "id": "14cd81fd5318b376"
  }
 ],
 "metadata": {
  "kernelspec": {
   "display_name": "Python 3",
   "language": "python",
   "name": "python3"
  },
  "language_info": {
   "codemirror_mode": {
    "name": "ipython",
    "version": 2
   },
   "file_extension": ".py",
   "mimetype": "text/x-python",
   "name": "python",
   "nbconvert_exporter": "python",
   "pygments_lexer": "ipython2",
   "version": "2.7.6"
  }
 },
 "nbformat": 4,
 "nbformat_minor": 5
}
