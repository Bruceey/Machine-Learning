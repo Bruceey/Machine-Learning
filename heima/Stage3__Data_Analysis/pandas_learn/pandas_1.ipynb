{
 "cells": [
  {
   "cell_type": "code",
   "execution_count": 13,
   "metadata": {
    "collapsed": true
   },
   "outputs": [],
   "source": [
    "import pandas as pd\n",
    "import matplotlib.pyplot as plt"
   ]
  },
  {
   "cell_type": "code",
   "execution_count": 14,
   "outputs": [],
   "source": [
    "import os\n",
    "import sys\n",
    "if sys.platform == 'win32':\n",
    "    dir = r\"D:\\黑马课程\\人工智能V3.0（尊享无忧）\\00 课程资料\\3.阶段三数据处理与统计分析\\数据处理与统计分析v3.0视频（第二部分）\\资料\\data\"\n",
    "else:\n",
    "    dir = r'/Users/wangrui/Desktop/00 课程资料/3.阶段三数据处理与统计分析/数据处理与统计分析v3.0视频（第二部分）/资料/data'"
   ],
   "metadata": {
    "collapsed": false
   }
  },
  {
   "cell_type": "code",
   "execution_count": 15,
   "outputs": [
    {
     "data": {
      "text/plain": "     year    category overallMotivation         firstname      surname  \\\nid                                                                       \n941  2017     physics               NaN            Rainer        Weiss   \n942  2017     physics               NaN          Barry C.       Barish   \n943  2017     physics               NaN            Kip S.       Thorne   \n944  2017   chemistry               NaN           Jacques     Dubochet   \n945  2017   chemistry               NaN           Joachim        Frank   \n..    ...         ...               ...               ...          ...   \n160  1901   chemistry               NaN  Jacobus Henricus  van 't Hoff   \n293  1901    medicine               NaN        Emil Adolf  von Behring   \n569  1901  literature               NaN             Sully    Prudhomme   \n462  1901       peace               NaN        Jean Henry       Dunant   \n463  1901       peace               NaN          Frédéric        Passy   \n\n                                            motivation  share  \nid                                                             \n941  \"for decisive contributions to the LIGO detect...      2  \n942  \"for decisive contributions to the LIGO detect...      4  \n943  \"for decisive contributions to the LIGO detect...      4  \n944  \"for developing cryo-electron microscopy for t...      3  \n945  \"for developing cryo-electron microscopy for t...      3  \n..                                                 ...    ...  \n160  \"in recognition of the extraordinary services ...      1  \n293  \"for his work on serum therapy, especially its...      1  \n569  \"in special recognition of his poetic composit...      1  \n462                                                NaN      2  \n463                                                NaN      2  \n\n[923 rows x 7 columns]",
      "text/html": "<div>\n<style scoped>\n    .dataframe tbody tr th:only-of-type {\n        vertical-align: middle;\n    }\n\n    .dataframe tbody tr th {\n        vertical-align: top;\n    }\n\n    .dataframe thead th {\n        text-align: right;\n    }\n</style>\n<table border=\"1\" class=\"dataframe\">\n  <thead>\n    <tr style=\"text-align: right;\">\n      <th></th>\n      <th>year</th>\n      <th>category</th>\n      <th>overallMotivation</th>\n      <th>firstname</th>\n      <th>surname</th>\n      <th>motivation</th>\n      <th>share</th>\n    </tr>\n    <tr>\n      <th>id</th>\n      <th></th>\n      <th></th>\n      <th></th>\n      <th></th>\n      <th></th>\n      <th></th>\n      <th></th>\n    </tr>\n  </thead>\n  <tbody>\n    <tr>\n      <td>941</td>\n      <td>2017</td>\n      <td>physics</td>\n      <td>NaN</td>\n      <td>Rainer</td>\n      <td>Weiss</td>\n      <td>\"for decisive contributions to the LIGO detect...</td>\n      <td>2</td>\n    </tr>\n    <tr>\n      <td>942</td>\n      <td>2017</td>\n      <td>physics</td>\n      <td>NaN</td>\n      <td>Barry C.</td>\n      <td>Barish</td>\n      <td>\"for decisive contributions to the LIGO detect...</td>\n      <td>4</td>\n    </tr>\n    <tr>\n      <td>943</td>\n      <td>2017</td>\n      <td>physics</td>\n      <td>NaN</td>\n      <td>Kip S.</td>\n      <td>Thorne</td>\n      <td>\"for decisive contributions to the LIGO detect...</td>\n      <td>4</td>\n    </tr>\n    <tr>\n      <td>944</td>\n      <td>2017</td>\n      <td>chemistry</td>\n      <td>NaN</td>\n      <td>Jacques</td>\n      <td>Dubochet</td>\n      <td>\"for developing cryo-electron microscopy for t...</td>\n      <td>3</td>\n    </tr>\n    <tr>\n      <td>945</td>\n      <td>2017</td>\n      <td>chemistry</td>\n      <td>NaN</td>\n      <td>Joachim</td>\n      <td>Frank</td>\n      <td>\"for developing cryo-electron microscopy for t...</td>\n      <td>3</td>\n    </tr>\n    <tr>\n      <td>...</td>\n      <td>...</td>\n      <td>...</td>\n      <td>...</td>\n      <td>...</td>\n      <td>...</td>\n      <td>...</td>\n      <td>...</td>\n    </tr>\n    <tr>\n      <td>160</td>\n      <td>1901</td>\n      <td>chemistry</td>\n      <td>NaN</td>\n      <td>Jacobus Henricus</td>\n      <td>van 't Hoff</td>\n      <td>\"in recognition of the extraordinary services ...</td>\n      <td>1</td>\n    </tr>\n    <tr>\n      <td>293</td>\n      <td>1901</td>\n      <td>medicine</td>\n      <td>NaN</td>\n      <td>Emil Adolf</td>\n      <td>von Behring</td>\n      <td>\"for his work on serum therapy, especially its...</td>\n      <td>1</td>\n    </tr>\n    <tr>\n      <td>569</td>\n      <td>1901</td>\n      <td>literature</td>\n      <td>NaN</td>\n      <td>Sully</td>\n      <td>Prudhomme</td>\n      <td>\"in special recognition of his poetic composit...</td>\n      <td>1</td>\n    </tr>\n    <tr>\n      <td>462</td>\n      <td>1901</td>\n      <td>peace</td>\n      <td>NaN</td>\n      <td>Jean Henry</td>\n      <td>Dunant</td>\n      <td>NaN</td>\n      <td>2</td>\n    </tr>\n    <tr>\n      <td>463</td>\n      <td>1901</td>\n      <td>peace</td>\n      <td>NaN</td>\n      <td>Frédéric</td>\n      <td>Passy</td>\n      <td>NaN</td>\n      <td>2</td>\n    </tr>\n  </tbody>\n</table>\n<p>923 rows × 7 columns</p>\n</div>"
     },
     "execution_count": 15,
     "metadata": {},
     "output_type": "execute_result"
    }
   ],
   "source": [
    "nobel = pd.read_csv(os.path.join(dir, 'nobel_prizes.csv'), index_col='id')\n",
    "nobel"
   ],
   "metadata": {
    "collapsed": false
   }
  },
  {
   "cell_type": "markdown",
   "source": [],
   "metadata": {
    "collapsed": false
   }
  },
  {
   "cell_type": "code",
   "execution_count": 16,
   "outputs": [
    {
     "data": {
      "text/plain": "          country continent  year  lifeExp       pop   gdpPercap\n0     Afghanistan      Asia  1952   28.801   8425333  779.445314\n1     Afghanistan      Asia  1957   30.332   9240934  820.853030\n2     Afghanistan      Asia  1962   31.997  10267083  853.100710\n3     Afghanistan      Asia  1967   34.020  11537966  836.197138\n4     Afghanistan      Asia  1972   36.088  13079460  739.981106\n...           ...       ...   ...      ...       ...         ...\n1699     Zimbabwe    Africa  1987   62.351   9216418  706.157306\n1700     Zimbabwe    Africa  1992   60.377  10704340  693.420786\n1701     Zimbabwe    Africa  1997   46.809  11404948  792.449960\n1702     Zimbabwe    Africa  2002   39.989  11926563  672.038623\n1703     Zimbabwe    Africa  2007   43.487  12311143  469.709298\n\n[1704 rows x 6 columns]",
      "text/html": "<div>\n<style scoped>\n    .dataframe tbody tr th:only-of-type {\n        vertical-align: middle;\n    }\n\n    .dataframe tbody tr th {\n        vertical-align: top;\n    }\n\n    .dataframe thead th {\n        text-align: right;\n    }\n</style>\n<table border=\"1\" class=\"dataframe\">\n  <thead>\n    <tr style=\"text-align: right;\">\n      <th></th>\n      <th>country</th>\n      <th>continent</th>\n      <th>year</th>\n      <th>lifeExp</th>\n      <th>pop</th>\n      <th>gdpPercap</th>\n    </tr>\n  </thead>\n  <tbody>\n    <tr>\n      <td>0</td>\n      <td>Afghanistan</td>\n      <td>Asia</td>\n      <td>1952</td>\n      <td>28.801</td>\n      <td>8425333</td>\n      <td>779.445314</td>\n    </tr>\n    <tr>\n      <td>1</td>\n      <td>Afghanistan</td>\n      <td>Asia</td>\n      <td>1957</td>\n      <td>30.332</td>\n      <td>9240934</td>\n      <td>820.853030</td>\n    </tr>\n    <tr>\n      <td>2</td>\n      <td>Afghanistan</td>\n      <td>Asia</td>\n      <td>1962</td>\n      <td>31.997</td>\n      <td>10267083</td>\n      <td>853.100710</td>\n    </tr>\n    <tr>\n      <td>3</td>\n      <td>Afghanistan</td>\n      <td>Asia</td>\n      <td>1967</td>\n      <td>34.020</td>\n      <td>11537966</td>\n      <td>836.197138</td>\n    </tr>\n    <tr>\n      <td>4</td>\n      <td>Afghanistan</td>\n      <td>Asia</td>\n      <td>1972</td>\n      <td>36.088</td>\n      <td>13079460</td>\n      <td>739.981106</td>\n    </tr>\n    <tr>\n      <td>...</td>\n      <td>...</td>\n      <td>...</td>\n      <td>...</td>\n      <td>...</td>\n      <td>...</td>\n      <td>...</td>\n    </tr>\n    <tr>\n      <td>1699</td>\n      <td>Zimbabwe</td>\n      <td>Africa</td>\n      <td>1987</td>\n      <td>62.351</td>\n      <td>9216418</td>\n      <td>706.157306</td>\n    </tr>\n    <tr>\n      <td>1700</td>\n      <td>Zimbabwe</td>\n      <td>Africa</td>\n      <td>1992</td>\n      <td>60.377</td>\n      <td>10704340</td>\n      <td>693.420786</td>\n    </tr>\n    <tr>\n      <td>1701</td>\n      <td>Zimbabwe</td>\n      <td>Africa</td>\n      <td>1997</td>\n      <td>46.809</td>\n      <td>11404948</td>\n      <td>792.449960</td>\n    </tr>\n    <tr>\n      <td>1702</td>\n      <td>Zimbabwe</td>\n      <td>Africa</td>\n      <td>2002</td>\n      <td>39.989</td>\n      <td>11926563</td>\n      <td>672.038623</td>\n    </tr>\n    <tr>\n      <td>1703</td>\n      <td>Zimbabwe</td>\n      <td>Africa</td>\n      <td>2007</td>\n      <td>43.487</td>\n      <td>12311143</td>\n      <td>469.709298</td>\n    </tr>\n  </tbody>\n</table>\n<p>1704 rows × 6 columns</p>\n</div>"
     },
     "execution_count": 16,
     "metadata": {},
     "output_type": "execute_result"
    }
   ],
   "source": [
    "gapminder = pd.read_csv(os.path.join(dir, 'gapminder.tsv'), sep='\\t')\n",
    "gapminder"
   ],
   "metadata": {
    "collapsed": false
   }
  },
  {
   "cell_type": "code",
   "execution_count": 17,
   "outputs": [
    {
     "data": {
      "text/plain": "year\n1952    49.057620\n1957    51.507401\n1962    53.609249\n1967    55.678290\n1972    57.647386\n1977    59.570157\n1982    61.533197\n1987    63.212613\n1992    64.160338\n1997    65.014676\n2002    65.694923\n2007    67.007423\nName: lifeExp, dtype: float64"
     },
     "execution_count": 17,
     "metadata": {},
     "output_type": "execute_result"
    }
   ],
   "source": [
    "gapminder.groupby('year').lifeExp.mean()"
   ],
   "metadata": {
    "collapsed": false
   }
  },
  {
   "cell_type": "code",
   "execution_count": 18,
   "outputs": [
    {
     "data": {
      "text/plain": "continent\nAfrica      52\nAmericas    25\nAsia        33\nEurope      30\nOceania      2\nName: country, dtype: int64"
     },
     "execution_count": 18,
     "metadata": {},
     "output_type": "execute_result"
    }
   ],
   "source": [
    "gapminder.groupby('continent')['country'].nunique()"
   ],
   "metadata": {
    "collapsed": false
   }
  },
  {
   "cell_type": "code",
   "execution_count": 19,
   "outputs": [
    {
     "data": {
      "text/plain": "year\n1952    49.057620\n1957    51.507401\n1962    53.609249\n1967    55.678290\n1972    57.647386\n1977    59.570157\n1982    61.533197\n1987    63.212613\n1992    64.160338\n1997    65.014676\n2002    65.694923\n2007    67.007423\nName: lifeExp, dtype: float64"
     },
     "execution_count": 19,
     "metadata": {},
     "output_type": "execute_result"
    }
   ],
   "source": [
    "global_yearly_life_expectancy = gapminder.groupby('year').lifeExp.mean()\n",
    "global_yearly_life_expectancy"
   ],
   "metadata": {
    "collapsed": false
   }
  },
  {
   "cell_type": "code",
   "execution_count": 20,
   "outputs": [
    {
     "data": {
      "text/plain": "<AxesSubplot:xlabel='year'>"
     },
     "execution_count": 20,
     "metadata": {},
     "output_type": "execute_result"
    },
    {
     "data": {
      "text/plain": "<Figure size 432x288 with 1 Axes>",
      "image/png": "[encoded data removed]"
     },
     "metadata": {
      "needs_background": "light"
     },
     "output_type": "display_data"
    }
   ],
   "source": [
    "global_yearly_life_expectancy.plot()"
   ],
   "metadata": {
    "collapsed": false
   }
  },
  {
   "cell_type": "code",
   "execution_count": 21,
   "outputs": [
    {
     "data": {
      "text/plain": "                                                 INSTNM              CITY  \\\n0                              Alabama A & M University            Normal   \n1                   University of Alabama at Birmingham        Birmingham   \n2                                    Amridge University        Montgomery   \n3                   University of Alabama in Huntsville        Huntsville   \n4                              Alabama State University        Montgomery   \n...                                                 ...               ...   \n7530         SAE Institute of Technology  San Francisco        Emeryville   \n7531                  Rasmussen College - Overland Park     Overland Park   \n7532  National Personal Training Institute of Cleveland  Highland Heights   \n7533  Bay Area Medical Academy - San Jose Satellite ...          San Jose   \n7534            Excel Learning Center-San Antonio South       San Antonio   \n\n     STABBR  HBCU  MENONLY  WOMENONLY  RELAFFIL  SATVRMID  SATMTMID  \\\n0        AL   1.0      0.0        0.0         0     424.0     420.0   \n1        AL   0.0      0.0        0.0         0     570.0     565.0   \n2        AL   0.0      0.0        0.0         1       NaN       NaN   \n3        AL   0.0      0.0        0.0         0     595.0     590.0   \n4        AL   1.0      0.0        0.0         0     425.0     430.0   \n...     ...   ...      ...        ...       ...       ...       ...   \n7530     CA   NaN      NaN        NaN         1       NaN       NaN   \n7531     KS   NaN      NaN        NaN         1       NaN       NaN   \n7532     OH   NaN      NaN        NaN         1       NaN       NaN   \n7533     CA   NaN      NaN        NaN         1       NaN       NaN   \n7534     TX   NaN      NaN        NaN         1       NaN       NaN   \n\n      DISTANCEONLY  ...  UGDS_2MOR  UGDS_NRA  UGDS_UNKN  PPTUG_EF  CURROPER  \\\n0              0.0  ...     0.0000    0.0059     0.0138    0.0656         1   \n1              0.0  ...     0.0368    0.0179     0.0100    0.2607         1   \n2              1.0  ...     0.0000    0.0000     0.2715    0.4536         1   \n3              0.0  ...     0.0172    0.0332     0.0350    0.2146         1   \n4              0.0  ...     0.0098    0.0243     0.0137    0.0892         1   \n...            ...  ...        ...       ...        ...       ...       ...   \n7530           NaN  ...        NaN       NaN        NaN       NaN         1   \n7531           NaN  ...        NaN       NaN        NaN       NaN         1   \n7532           NaN  ...        NaN       NaN        NaN       NaN         1   \n7533           NaN  ...        NaN       NaN        NaN       NaN         1   \n7534           NaN  ...        NaN       NaN        NaN       NaN         1   \n\n      PCTPELL  PCTFLOAN  UG25ABV  MD_EARN_WNE_P10  GRAD_DEBT_MDN_SUPP  \n0      0.7356    0.8284   0.1049            30300               33888  \n1      0.3460    0.5214   0.2422            39700             21941.5  \n2      0.6801    0.7795   0.8540            40100               23370  \n3      0.3072    0.4596   0.2640            45500               24097  \n4      0.7347    0.7554   0.1270            26600             33118.5  \n...       ...       ...      ...              ...                 ...  \n7530      NaN       NaN      NaN              NaN                9500  \n7531      NaN       NaN      NaN              NaN               21163  \n7532      NaN       NaN      NaN              NaN                6333  \n7533      NaN       NaN      NaN              NaN   PrivacySuppressed  \n7534      NaN       NaN      NaN              NaN               12125  \n\n[7535 rows x 27 columns]",
      "text/html": "<div>\n<style scoped>\n    .dataframe tbody tr th:only-of-type {\n        vertical-align: middle;\n    }\n\n    .dataframe tbody tr th {\n        vertical-align: top;\n    }\n\n    .dataframe thead th {\n        text-align: right;\n    }\n</style>\n<table border=\"1\" class=\"dataframe\">\n  <thead>\n    <tr style=\"text-align: right;\">\n      <th></th>\n      <th>INSTNM</th>\n      <th>CITY</th>\n      <th>STABBR</th>\n      <th>HBCU</th>\n      <th>MENONLY</th>\n      <th>WOMENONLY</th>\n      <th>RELAFFIL</th>\n      <th>SATVRMID</th>\n      <th>SATMTMID</th>\n      <th>DISTANCEONLY</th>\n      <th>...</th>\n      <th>UGDS_2MOR</th>\n      <th>UGDS_NRA</th>\n      <th>UGDS_UNKN</th>\n      <th>PPTUG_EF</th>\n      <th>CURROPER</th>\n      <th>PCTPELL</th>\n      <th>PCTFLOAN</th>\n      <th>UG25ABV</th>\n      <th>MD_EARN_WNE_P10</th>\n      <th>GRAD_DEBT_MDN_SUPP</th>\n    </tr>\n  </thead>\n  <tbody>\n    <tr>\n      <td>0</td>\n      <td>Alabama A &amp; M University</td>\n      <td>Normal</td>\n      <td>AL</td>\n      <td>1.0</td>\n      <td>0.0</td>\n      <td>0.0</td>\n      <td>0</td>\n      <td>424.0</td>\n      <td>420.0</td>\n      <td>0.0</td>\n      <td>...</td>\n      <td>0.0000</td>\n      <td>0.0059</td>\n      <td>0.0138</td>\n      <td>0.0656</td>\n      <td>1</td>\n      <td>0.7356</td>\n      <td>0.8284</td>\n      <td>0.1049</td>\n      <td>30300</td>\n      <td>33888</td>\n    </tr>\n    <tr>\n      <td>1</td>\n      <td>University of Alabama at Birmingham</td>\n      <td>Birmingham</td>\n      <td>AL</td>\n      <td>0.0</td>\n      <td>0.0</td>\n      <td>0.0</td>\n      <td>0</td>\n      <td>570.0</td>\n      <td>565.0</td>\n      <td>0.0</td>\n      <td>...</td>\n      <td>0.0368</td>\n      <td>0.0179</td>\n      <td>0.0100</td>\n      <td>0.2607</td>\n      <td>1</td>\n      <td>0.3460</td>\n      <td>0.5214</td>\n      <td>0.2422</td>\n      <td>39700</td>\n      <td>21941.5</td>\n    </tr>\n    <tr>\n      <td>2</td>\n      <td>Amridge University</td>\n      <td>Montgomery</td>\n      <td>AL</td>\n      <td>0.0</td>\n      <td>0.0</td>\n      <td>0.0</td>\n      <td>1</td>\n      <td>NaN</td>\n      <td>NaN</td>\n      <td>1.0</td>\n      <td>...</td>\n      <td>0.0000</td>\n      <td>0.0000</td>\n      <td>0.2715</td>\n      <td>0.4536</td>\n      <td>1</td>\n      <td>0.6801</td>\n      <td>0.7795</td>\n      <td>0.8540</td>\n      <td>40100</td>\n      <td>23370</td>\n    </tr>\n    <tr>\n      <td>3</td>\n      <td>University of Alabama in Huntsville</td>\n      <td>Huntsville</td>\n      <td>AL</td>\n      <td>0.0</td>\n      <td>0.0</td>\n      <td>0.0</td>\n      <td>0</td>\n      <td>595.0</td>\n      <td>590.0</td>\n      <td>0.0</td>\n      <td>...</td>\n      <td>0.0172</td>\n      <td>0.0332</td>\n      <td>0.0350</td>\n      <td>0.2146</td>\n      <td>1</td>\n      <td>0.3072</td>\n      <td>0.4596</td>\n      <td>0.2640</td>\n      <td>45500</td>\n      <td>24097</td>\n    </tr>\n    <tr>\n      <td>4</td>\n      <td>Alabama State University</td>\n      <td>Montgomery</td>\n      <td>AL</td>\n      <td>1.0</td>\n      <td>0.0</td>\n      <td>0.0</td>\n      <td>0</td>\n      <td>425.0</td>\n      <td>430.0</td>\n      <td>0.0</td>\n      <td>...</td>\n      <td>0.0098</td>\n      <td>0.0243</td>\n      <td>0.0137</td>\n      <td>0.0892</td>\n      <td>1</td>\n      <td>0.7347</td>\n      <td>0.7554</td>\n      <td>0.1270</td>\n      <td>26600</td>\n      <td>33118.5</td>\n    </tr>\n    <tr>\n      <td>...</td>\n      <td>...</td>\n      <td>...</td>\n      <td>...</td>\n      <td>...</td>\n      <td>...</td>\n      <td>...</td>\n      <td>...</td>\n      <td>...</td>\n      <td>...</td>\n      <td>...</td>\n      <td>...</td>\n      <td>...</td>\n      <td>...</td>\n      <td>...</td>\n      <td>...</td>\n      <td>...</td>\n      <td>...</td>\n      <td>...</td>\n      <td>...</td>\n      <td>...</td>\n      <td>...</td>\n    </tr>\n    <tr>\n      <td>7530</td>\n      <td>SAE Institute of Technology  San Francisco</td>\n      <td>Emeryville</td>\n      <td>CA</td>\n      <td>NaN</td>\n      <td>NaN</td>\n      <td>NaN</td>\n      <td>1</td>\n      <td>NaN</td>\n      <td>NaN</td>\n      <td>NaN</td>\n      <td>...</td>\n      <td>NaN</td>\n      <td>NaN</td>\n      <td>NaN</td>\n      <td>NaN</td>\n      <td>1</td>\n      <td>NaN</td>\n      <td>NaN</td>\n      <td>NaN</td>\n      <td>NaN</td>\n      <td>9500</td>\n    </tr>\n    <tr>\n      <td>7531</td>\n      <td>Rasmussen College - Overland Park</td>\n      <td>Overland Park</td>\n      <td>KS</td>\n      <td>NaN</td>\n      <td>NaN</td>\n      <td>NaN</td>\n      <td>1</td>\n      <td>NaN</td>\n      <td>NaN</td>\n      <td>NaN</td>\n      <td>...</td>\n      <td>NaN</td>\n      <td>NaN</td>\n      <td>NaN</td>\n      <td>NaN</td>\n      <td>1</td>\n      <td>NaN</td>\n      <td>NaN</td>\n      <td>NaN</td>\n      <td>NaN</td>\n      <td>21163</td>\n    </tr>\n    <tr>\n      <td>7532</td>\n      <td>National Personal Training Institute of Cleveland</td>\n      <td>Highland Heights</td>\n      <td>OH</td>\n      <td>NaN</td>\n      <td>NaN</td>\n      <td>NaN</td>\n      <td>1</td>\n      <td>NaN</td>\n      <td>NaN</td>\n      <td>NaN</td>\n      <td>...</td>\n      <td>NaN</td>\n      <td>NaN</td>\n      <td>NaN</td>\n      <td>NaN</td>\n      <td>1</td>\n      <td>NaN</td>\n      <td>NaN</td>\n      <td>NaN</td>\n      <td>NaN</td>\n      <td>6333</td>\n    </tr>\n    <tr>\n      <td>7533</td>\n      <td>Bay Area Medical Academy - San Jose Satellite ...</td>\n      <td>San Jose</td>\n      <td>CA</td>\n      <td>NaN</td>\n      <td>NaN</td>\n      <td>NaN</td>\n      <td>1</td>\n      <td>NaN</td>\n      <td>NaN</td>\n      <td>NaN</td>\n      <td>...</td>\n      <td>NaN</td>\n      <td>NaN</td>\n      <td>NaN</td>\n      <td>NaN</td>\n      <td>1</td>\n      <td>NaN</td>\n      <td>NaN</td>\n      <td>NaN</td>\n      <td>NaN</td>\n      <td>PrivacySuppressed</td>\n    </tr>\n    <tr>\n      <td>7534</td>\n      <td>Excel Learning Center-San Antonio South</td>\n      <td>San Antonio</td>\n      <td>TX</td>\n      <td>NaN</td>\n      <td>NaN</td>\n      <td>NaN</td>\n      <td>1</td>\n      <td>NaN</td>\n      <td>NaN</td>\n      <td>NaN</td>\n      <td>...</td>\n      <td>NaN</td>\n      <td>NaN</td>\n      <td>NaN</td>\n      <td>NaN</td>\n      <td>1</td>\n      <td>NaN</td>\n      <td>NaN</td>\n      <td>NaN</td>\n      <td>NaN</td>\n      <td>12125</td>\n    </tr>\n  </tbody>\n</table>\n<p>7535 rows × 27 columns</p>\n</div>"
     },
     "execution_count": 21,
     "metadata": {},
     "output_type": "execute_result"
    }
   ],
   "source": [
    "college = pd.read_csv(os.path.join(dir, 'college.csv'))\n",
    "college"
   ],
   "metadata": {
    "collapsed": false
   }
  },
  {
   "cell_type": "code",
   "execution_count": 22,
   "outputs": [
    {
     "data": {
      "text/plain": "Index(['INSTNM', 'CITY', 'STABBR', 'HBCU', 'MENONLY', 'WOMENONLY', 'RELAFFIL',\n       'SATVRMID', 'SATMTMID', 'DISTANCEONLY', 'UGDS', 'UGDS_WHITE',\n       'UGDS_BLACK', 'UGDS_HISP', 'UGDS_ASIAN', 'UGDS_AIAN', 'UGDS_NHPI',\n       'UGDS_2MOR', 'UGDS_NRA', 'UGDS_UNKN', 'PPTUG_EF', 'CURROPER', 'PCTPELL',\n       'PCTFLOAN', 'UG25ABV', 'MD_EARN_WNE_P10', 'GRAD_DEBT_MDN_SUPP'],\n      dtype='object')"
     },
     "execution_count": 22,
     "metadata": {},
     "output_type": "execute_result"
    }
   ],
   "source": [
    "college.columns"
   ],
   "metadata": {
    "collapsed": false
   }
  },
  {
   "cell_type": "code",
   "execution_count": 23,
   "outputs": [
    {
     "data": {
      "text/plain": "(7535, 27)"
     },
     "execution_count": 23,
     "metadata": {},
     "output_type": "execute_result"
    }
   ],
   "source": [
    "college.shape"
   ],
   "metadata": {
    "collapsed": false
   }
  },
  {
   "cell_type": "code",
   "execution_count": 24,
   "outputs": [
    {
     "data": {
      "text/plain": "               count         mean          std    min         25%        50%  \\\nHBCU          7164.0     0.014238     0.118478    0.0    0.000000    0.00000   \nMENONLY       7164.0     0.009213     0.095546    0.0    0.000000    0.00000   \nWOMENONLY     7164.0     0.005304     0.072642    0.0    0.000000    0.00000   \nRELAFFIL      7535.0     0.190975     0.393096    0.0    0.000000    0.00000   \nSATVRMID      1185.0   522.819409    68.578862  290.0  475.000000  510.00000   \nSATMTMID      1196.0   530.765050    73.469767  310.0  482.000000  520.00000   \nDISTANCEONLY  7164.0     0.005583     0.074519    0.0    0.000000    0.00000   \nUGDS          6874.0  2356.837940  5474.275871    0.0  117.000000  412.50000   \nUGDS_WHITE    6874.0     0.510207     0.286958    0.0    0.267500    0.55570   \nUGDS_BLACK    6874.0     0.189997     0.224587    0.0    0.036125    0.10005   \nUGDS_HISP     6874.0     0.161635     0.221854    0.0    0.027600    0.07140   \nUGDS_ASIAN    6874.0     0.033544     0.073777    0.0    0.002500    0.01290   \nUGDS_AIAN     6874.0     0.013813     0.070196    0.0    0.000000    0.00260   \nUGDS_NHPI     6874.0     0.004569     0.033125    0.0    0.000000    0.00000   \nUGDS_2MOR     6874.0     0.023950     0.031288    0.0    0.000000    0.01750   \nUGDS_NRA      6874.0     0.016086     0.050172    0.0    0.000000    0.00000   \nUGDS_UNKN     6874.0     0.045181     0.093440    0.0    0.000000    0.01430   \nPPTUG_EF      6853.0     0.226639     0.246470    0.0    0.000000    0.15040   \nCURROPER      7535.0     0.923291     0.266146    0.0    1.000000    1.00000   \nPCTPELL       6849.0     0.530643     0.225544    0.0    0.357800    0.52150   \nPCTFLOAN      6849.0     0.522211     0.283616    0.0    0.332900    0.58330   \nUG25ABV       6718.0     0.410021     0.228939    0.0    0.241500    0.40075   \n\n                      75%          max  \nHBCU             0.000000       1.0000  \nMENONLY          0.000000       1.0000  \nWOMENONLY        0.000000       1.0000  \nRELAFFIL         0.000000       1.0000  \nSATVRMID       555.000000     765.0000  \nSATMTMID       565.000000     785.0000  \nDISTANCEONLY     0.000000       1.0000  \nUGDS          1929.500000  151558.0000  \nUGDS_WHITE       0.747875       1.0000  \nUGDS_BLACK       0.257700       1.0000  \nUGDS_HISP        0.198875       1.0000  \nUGDS_ASIAN       0.032700       0.9727  \nUGDS_AIAN        0.007300       1.0000  \nUGDS_NHPI        0.002500       0.9983  \nUGDS_2MOR        0.033900       0.5333  \nUGDS_NRA         0.011700       0.9286  \nUGDS_UNKN        0.045400       0.9027  \nPPTUG_EF         0.376900       1.0000  \nCURROPER         1.000000       1.0000  \nPCTPELL          0.712900       1.0000  \nPCTFLOAN         0.745000       1.0000  \nUG25ABV          0.572275       1.0000  ",
      "text/html": "<div>\n<style scoped>\n    .dataframe tbody tr th:only-of-type {\n        vertical-align: middle;\n    }\n\n    .dataframe tbody tr th {\n        vertical-align: top;\n    }\n\n    .dataframe thead th {\n        text-align: right;\n    }\n</style>\n<table border=\"1\" class=\"dataframe\">\n  <thead>\n    <tr style=\"text-align: right;\">\n      <th></th>\n      <th>count</th>\n      <th>mean</th>\n      <th>std</th>\n      <th>min</th>\n      <th>25%</th>\n      <th>50%</th>\n      <th>75%</th>\n      <th>max</th>\n    </tr>\n  </thead>\n  <tbody>\n    <tr>\n      <td>HBCU</td>\n      <td>7164.0</td>\n      <td>0.014238</td>\n      <td>0.118478</td>\n      <td>0.0</td>\n      <td>0.000000</td>\n      <td>0.00000</td>\n      <td>0.000000</td>\n      <td>1.0000</td>\n    </tr>\n    <tr>\n      <td>MENONLY</td>\n      <td>7164.0</td>\n      <td>0.009213</td>\n      <td>0.095546</td>\n      <td>0.0</td>\n      <td>0.000000</td>\n      <td>0.00000</td>\n      <td>0.000000</td>\n      <td>1.0000</td>\n    </tr>\n    <tr>\n      <td>WOMENONLY</td>\n      <td>7164.0</td>\n      <td>0.005304</td>\n      <td>0.072642</td>\n      <td>0.0</td>\n      <td>0.000000</td>\n      <td>0.00000</td>\n      <td>0.000000</td>\n      <td>1.0000</td>\n    </tr>\n    <tr>\n      <td>RELAFFIL</td>\n      <td>7535.0</td>\n      <td>0.190975</td>\n      <td>0.393096</td>\n      <td>0.0</td>\n      <td>0.000000</td>\n      <td>0.00000</td>\n      <td>0.000000</td>\n      <td>1.0000</td>\n    </tr>\n    <tr>\n      <td>SATVRMID</td>\n      <td>1185.0</td>\n      <td>522.819409</td>\n      <td>68.578862</td>\n      <td>290.0</td>\n      <td>475.000000</td>\n      <td>510.00000</td>\n      <td>555.000000</td>\n      <td>765.0000</td>\n    </tr>\n    <tr>\n      <td>SATMTMID</td>\n      <td>1196.0</td>\n      <td>530.765050</td>\n      <td>73.469767</td>\n      <td>310.0</td>\n      <td>482.000000</td>\n      <td>520.00000</td>\n      <td>565.000000</td>\n      <td>785.0000</td>\n    </tr>\n    <tr>\n      <td>DISTANCEONLY</td>\n      <td>7164.0</td>\n      <td>0.005583</td>\n      <td>0.074519</td>\n      <td>0.0</td>\n      <td>0.000000</td>\n      <td>0.00000</td>\n      <td>0.000000</td>\n      <td>1.0000</td>\n    </tr>\n    <tr>\n      <td>UGDS</td>\n      <td>6874.0</td>\n      <td>2356.837940</td>\n      <td>5474.275871</td>\n      <td>0.0</td>\n      <td>117.000000</td>\n      <td>412.50000</td>\n      <td>1929.500000</td>\n      <td>151558.0000</td>\n    </tr>\n    <tr>\n      <td>UGDS_WHITE</td>\n      <td>6874.0</td>\n      <td>0.510207</td>\n      <td>0.286958</td>\n      <td>0.0</td>\n      <td>0.267500</td>\n      <td>0.55570</td>\n      <td>0.747875</td>\n      <td>1.0000</td>\n    </tr>\n    <tr>\n      <td>UGDS_BLACK</td>\n      <td>6874.0</td>\n      <td>0.189997</td>\n      <td>0.224587</td>\n      <td>0.0</td>\n      <td>0.036125</td>\n      <td>0.10005</td>\n      <td>0.257700</td>\n      <td>1.0000</td>\n    </tr>\n    <tr>\n      <td>UGDS_HISP</td>\n      <td>6874.0</td>\n      <td>0.161635</td>\n      <td>0.221854</td>\n      <td>0.0</td>\n      <td>0.027600</td>\n      <td>0.07140</td>\n      <td>0.198875</td>\n      <td>1.0000</td>\n    </tr>\n    <tr>\n      <td>UGDS_ASIAN</td>\n      <td>6874.0</td>\n      <td>0.033544</td>\n      <td>0.073777</td>\n      <td>0.0</td>\n      <td>0.002500</td>\n      <td>0.01290</td>\n      <td>0.032700</td>\n      <td>0.9727</td>\n    </tr>\n    <tr>\n      <td>UGDS_AIAN</td>\n      <td>6874.0</td>\n      <td>0.013813</td>\n      <td>0.070196</td>\n      <td>0.0</td>\n      <td>0.000000</td>\n      <td>0.00260</td>\n      <td>0.007300</td>\n      <td>1.0000</td>\n    </tr>\n    <tr>\n      <td>UGDS_NHPI</td>\n      <td>6874.0</td>\n      <td>0.004569</td>\n      <td>0.033125</td>\n      <td>0.0</td>\n      <td>0.000000</td>\n      <td>0.00000</td>\n      <td>0.002500</td>\n      <td>0.9983</td>\n    </tr>\n    <tr>\n      <td>UGDS_2MOR</td>\n      <td>6874.0</td>\n      <td>0.023950</td>\n      <td>0.031288</td>\n      <td>0.0</td>\n      <td>0.000000</td>\n      <td>0.01750</td>\n      <td>0.033900</td>\n      <td>0.5333</td>\n    </tr>\n    <tr>\n      <td>UGDS_NRA</td>\n      <td>6874.0</td>\n      <td>0.016086</td>\n      <td>0.050172</td>\n      <td>0.0</td>\n      <td>0.000000</td>\n      <td>0.00000</td>\n      <td>0.011700</td>\n      <td>0.9286</td>\n    </tr>\n    <tr>\n      <td>UGDS_UNKN</td>\n      <td>6874.0</td>\n      <td>0.045181</td>\n      <td>0.093440</td>\n      <td>0.0</td>\n      <td>0.000000</td>\n      <td>0.01430</td>\n      <td>0.045400</td>\n      <td>0.9027</td>\n    </tr>\n    <tr>\n      <td>PPTUG_EF</td>\n      <td>6853.0</td>\n      <td>0.226639</td>\n      <td>0.246470</td>\n      <td>0.0</td>\n      <td>0.000000</td>\n      <td>0.15040</td>\n      <td>0.376900</td>\n      <td>1.0000</td>\n    </tr>\n    <tr>\n      <td>CURROPER</td>\n      <td>7535.0</td>\n      <td>0.923291</td>\n      <td>0.266146</td>\n      <td>0.0</td>\n      <td>1.000000</td>\n      <td>1.00000</td>\n      <td>1.000000</td>\n      <td>1.0000</td>\n    </tr>\n    <tr>\n      <td>PCTPELL</td>\n      <td>6849.0</td>\n      <td>0.530643</td>\n      <td>0.225544</td>\n      <td>0.0</td>\n      <td>0.357800</td>\n      <td>0.52150</td>\n      <td>0.712900</td>\n      <td>1.0000</td>\n    </tr>\n    <tr>\n      <td>PCTFLOAN</td>\n      <td>6849.0</td>\n      <td>0.522211</td>\n      <td>0.283616</td>\n      <td>0.0</td>\n      <td>0.332900</td>\n      <td>0.58330</td>\n      <td>0.745000</td>\n      <td>1.0000</td>\n    </tr>\n    <tr>\n      <td>UG25ABV</td>\n      <td>6718.0</td>\n      <td>0.410021</td>\n      <td>0.228939</td>\n      <td>0.0</td>\n      <td>0.241500</td>\n      <td>0.40075</td>\n      <td>0.572275</td>\n      <td>1.0000</td>\n    </tr>\n  </tbody>\n</table>\n</div>"
     },
     "execution_count": 24,
     "metadata": {},
     "output_type": "execute_result"
    }
   ],
   "source": [
    "college.describe().T"
   ],
   "metadata": {
    "collapsed": false
   }
  },
  {
   "cell_type": "code",
   "execution_count": 25,
   "outputs": [
    {
     "name": "stdout",
     "output_type": "stream",
     "text": [
      "<class 'pandas.core.frame.DataFrame'>\n",
      "RangeIndex: 7535 entries, 0 to 7534\n",
      "Data columns (total 27 columns):\n",
      "INSTNM                7535 non-null object\n",
      "CITY                  7535 non-null object\n",
      "STABBR                7535 non-null object\n",
      "HBCU                  7164 non-null float64\n",
      "MENONLY               7164 non-null float64\n",
      "WOMENONLY             7164 non-null float64\n",
      "RELAFFIL              7535 non-null int64\n",
      "SATVRMID              1185 non-null float64\n",
      "SATMTMID              1196 non-null float64\n",
      "DISTANCEONLY          7164 non-null float64\n",
      "UGDS                  6874 non-null float64\n",
      "UGDS_WHITE            6874 non-null float64\n",
      "UGDS_BLACK            6874 non-null float64\n",
      "UGDS_HISP             6874 non-null float64\n",
      "UGDS_ASIAN            6874 non-null float64\n",
      "UGDS_AIAN             6874 non-null float64\n",
      "UGDS_NHPI             6874 non-null float64\n",
      "UGDS_2MOR             6874 non-null float64\n",
      "UGDS_NRA              6874 non-null float64\n",
      "UGDS_UNKN             6874 non-null float64\n",
      "PPTUG_EF              6853 non-null float64\n",
      "CURROPER              7535 non-null int64\n",
      "PCTPELL               6849 non-null float64\n",
      "PCTFLOAN              6849 non-null float64\n",
      "UG25ABV               6718 non-null float64\n",
      "MD_EARN_WNE_P10       6413 non-null object\n",
      "GRAD_DEBT_MDN_SUPP    7503 non-null object\n",
      "dtypes: float64(20), int64(2), object(5)\n",
      "memory usage: 1.6+ MB\n"
     ]
    }
   ],
   "source": [
    "college.info()"
   ],
   "metadata": {
    "collapsed": false
   }
  },
  {
   "cell_type": "code",
   "execution_count": 26,
   "outputs": [
    {
     "data": {
      "text/plain": "      color      director_name  num_critic_for_reviews  duration  \\\n0     Color      James Cameron                   723.0     178.0   \n1     Color     Gore Verbinski                   302.0     169.0   \n2     Color         Sam Mendes                   602.0     148.0   \n3     Color  Christopher Nolan                   813.0     164.0   \n4       NaN        Doug Walker                     NaN       NaN   \n...     ...                ...                     ...       ...   \n4911  Color        Scott Smith                     1.0      87.0   \n4912  Color                NaN                    43.0      43.0   \n4913  Color   Benjamin Roberds                    13.0      76.0   \n4914  Color        Daniel Hsia                    14.0     100.0   \n4915  Color           Jon Gunn                    43.0      90.0   \n\n      director_facebook_likes  actor_3_facebook_likes      actor_2_name  \\\n0                         0.0                   855.0  Joel David Moore   \n1                       563.0                  1000.0     Orlando Bloom   \n2                         0.0                   161.0      Rory Kinnear   \n3                     22000.0                 23000.0    Christian Bale   \n4                       131.0                     NaN        Rob Walker   \n...                       ...                     ...               ...   \n4911                      2.0                   318.0     Daphne Zuniga   \n4912                      NaN                   319.0     Valorie Curry   \n4913                      0.0                     0.0     Maxwell Moody   \n4914                      0.0                   489.0     Daniel Henney   \n4915                     16.0                    16.0  Brian Herzlinger   \n\n      actor_1_facebook_likes        gross                           genres  \\\n0                     1000.0  760505847.0  Action|Adventure|Fantasy|Sci-Fi   \n1                    40000.0  309404152.0         Action|Adventure|Fantasy   \n2                    11000.0  200074175.0        Action|Adventure|Thriller   \n3                    27000.0  448130642.0                  Action|Thriller   \n4                      131.0          NaN                      Documentary   \n...                      ...          ...                              ...   \n4911                   637.0          NaN                     Comedy|Drama   \n4912                   841.0          NaN     Crime|Drama|Mystery|Thriller   \n4913                     0.0          NaN            Drama|Horror|Thriller   \n4914                   946.0      10443.0             Comedy|Drama|Romance   \n4915                    86.0      85222.0                      Documentary   \n\n      ... num_user_for_reviews language  country  content_rating       budget  \\\n0     ...               3054.0  English      USA           PG-13  237000000.0   \n1     ...               1238.0  English      USA           PG-13  300000000.0   \n2     ...                994.0  English       UK           PG-13  245000000.0   \n3     ...               2701.0  English      USA           PG-13  250000000.0   \n4     ...                  NaN      NaN      NaN             NaN          NaN   \n...   ...                  ...      ...      ...             ...          ...   \n4911  ...                  6.0  English   Canada             NaN          NaN   \n4912  ...                359.0  English      USA           TV-14          NaN   \n4913  ...                  3.0  English      USA             NaN       1400.0   \n4914  ...                  9.0  English      USA           PG-13          NaN   \n4915  ...                 84.0  English      USA              PG       1100.0   \n\n      title_year actor_2_facebook_likes imdb_score  aspect_ratio  \\\n0         2009.0                  936.0        7.9          1.78   \n1         2007.0                 5000.0        7.1          2.35   \n2         2015.0                  393.0        6.8          2.35   \n3         2012.0                23000.0        8.5          2.35   \n4            NaN                   12.0        7.1           NaN   \n...          ...                    ...        ...           ...   \n4911      2013.0                  470.0        7.7           NaN   \n4912         NaN                  593.0        7.5         16.00   \n4913      2013.0                    0.0        6.3           NaN   \n4914      2012.0                  719.0        6.3          2.35   \n4915      2004.0                   23.0        6.6          1.85   \n\n     movie_facebook_likes  \n0                   33000  \n1                       0  \n2                   85000  \n3                  164000  \n4                       0  \n...                   ...  \n4911                   84  \n4912                32000  \n4913                   16  \n4914                  660  \n4915                  456  \n\n[4916 rows x 28 columns]",
      "text/html": "<div>\n<style scoped>\n    .dataframe tbody tr th:only-of-type {\n        vertical-align: middle;\n    }\n\n    .dataframe tbody tr th {\n        vertical-align: top;\n    }\n\n    .dataframe thead th {\n        text-align: right;\n    }\n</style>\n<table border=\"1\" class=\"dataframe\">\n  <thead>\n    <tr style=\"text-align: right;\">\n      <th></th>\n      <th>color</th>\n      <th>director_name</th>\n      <th>num_critic_for_reviews</th>\n      <th>duration</th>\n      <th>director_facebook_likes</th>\n      <th>actor_3_facebook_likes</th>\n      <th>actor_2_name</th>\n      <th>actor_1_facebook_likes</th>\n      <th>gross</th>\n      <th>genres</th>\n      <th>...</th>\n      <th>num_user_for_reviews</th>\n      <th>language</th>\n      <th>country</th>\n      <th>content_rating</th>\n      <th>budget</th>\n      <th>title_year</th>\n      <th>actor_2_facebook_likes</th>\n      <th>imdb_score</th>\n      <th>aspect_ratio</th>\n      <th>movie_facebook_likes</th>\n    </tr>\n  </thead>\n  <tbody>\n    <tr>\n      <td>0</td>\n      <td>Color</td>\n      <td>James Cameron</td>\n      <td>723.0</td>\n      <td>178.0</td>\n      <td>0.0</td>\n      <td>855.0</td>\n      <td>Joel David Moore</td>\n      <td>1000.0</td>\n      <td>760505847.0</td>\n      <td>Action|Adventure|Fantasy|Sci-Fi</td>\n      <td>...</td>\n      <td>3054.0</td>\n      <td>English</td>\n      <td>USA</td>\n      <td>PG-13</td>\n      <td>237000000.0</td>\n      <td>2009.0</td>\n      <td>936.0</td>\n      <td>7.9</td>\n      <td>1.78</td>\n      <td>33000</td>\n    </tr>\n    <tr>\n      <td>1</td>\n      <td>Color</td>\n      <td>Gore Verbinski</td>\n      <td>302.0</td>\n      <td>169.0</td>\n      <td>563.0</td>\n      <td>1000.0</td>\n      <td>Orlando Bloom</td>\n      <td>40000.0</td>\n      <td>309404152.0</td>\n      <td>Action|Adventure|Fantasy</td>\n      <td>...</td>\n      <td>1238.0</td>\n      <td>English</td>\n      <td>USA</td>\n      <td>PG-13</td>\n      <td>300000000.0</td>\n      <td>2007.0</td>\n      <td>5000.0</td>\n      <td>7.1</td>\n      <td>2.35</td>\n      <td>0</td>\n    </tr>\n    <tr>\n      <td>2</td>\n      <td>Color</td>\n      <td>Sam Mendes</td>\n      <td>602.0</td>\n      <td>148.0</td>\n      <td>0.0</td>\n      <td>161.0</td>\n      <td>Rory Kinnear</td>\n      <td>11000.0</td>\n      <td>200074175.0</td>\n      <td>Action|Adventure|Thriller</td>\n      <td>...</td>\n      <td>994.0</td>\n      <td>English</td>\n      <td>UK</td>\n      <td>PG-13</td>\n      <td>245000000.0</td>\n      <td>2015.0</td>\n      <td>393.0</td>\n      <td>6.8</td>\n      <td>2.35</td>\n      <td>85000</td>\n    </tr>\n    <tr>\n      <td>3</td>\n      <td>Color</td>\n      <td>Christopher Nolan</td>\n      <td>813.0</td>\n      <td>164.0</td>\n      <td>22000.0</td>\n      <td>23000.0</td>\n      <td>Christian Bale</td>\n      <td>27000.0</td>\n      <td>448130642.0</td>\n      <td>Action|Thriller</td>\n      <td>...</td>\n      <td>2701.0</td>\n      <td>English</td>\n      <td>USA</td>\n      <td>PG-13</td>\n      <td>250000000.0</td>\n      <td>2012.0</td>\n      <td>23000.0</td>\n      <td>8.5</td>\n      <td>2.35</td>\n      <td>164000</td>\n    </tr>\n    <tr>\n      <td>4</td>\n      <td>NaN</td>\n      <td>Doug Walker</td>\n      <td>NaN</td>\n      <td>NaN</td>\n      <td>131.0</td>\n      <td>NaN</td>\n      <td>Rob Walker</td>\n      <td>131.0</td>\n      <td>NaN</td>\n      <td>Documentary</td>\n      <td>...</td>\n      <td>NaN</td>\n      <td>NaN</td>\n      <td>NaN</td>\n      <td>NaN</td>\n      <td>NaN</td>\n      <td>NaN</td>\n      <td>12.0</td>\n      <td>7.1</td>\n      <td>NaN</td>\n      <td>0</td>\n    </tr>\n    <tr>\n      <td>...</td>\n      <td>...</td>\n      <td>...</td>\n      <td>...</td>\n      <td>...</td>\n      <td>...</td>\n      <td>...</td>\n      <td>...</td>\n      <td>...</td>\n      <td>...</td>\n      <td>...</td>\n      <td>...</td>\n      <td>...</td>\n      <td>...</td>\n      <td>...</td>\n      <td>...</td>\n      <td>...</td>\n      <td>...</td>\n      <td>...</td>\n      <td>...</td>\n      <td>...</td>\n      <td>...</td>\n    </tr>\n    <tr>\n      <td>4911</td>\n      <td>Color</td>\n      <td>Scott Smith</td>\n      <td>1.0</td>\n      <td>87.0</td>\n      <td>2.0</td>\n      <td>318.0</td>\n      <td>Daphne Zuniga</td>\n      <td>637.0</td>\n      <td>NaN</td>\n      <td>Comedy|Drama</td>\n      <td>...</td>\n      <td>6.0</td>\n      <td>English</td>\n      <td>Canada</td>\n      <td>NaN</td>\n      <td>NaN</td>\n      <td>2013.0</td>\n      <td>470.0</td>\n      <td>7.7</td>\n      <td>NaN</td>\n      <td>84</td>\n    </tr>\n    <tr>\n      <td>4912</td>\n      <td>Color</td>\n      <td>NaN</td>\n      <td>43.0</td>\n      <td>43.0</td>\n      <td>NaN</td>\n      <td>319.0</td>\n      <td>Valorie Curry</td>\n      <td>841.0</td>\n      <td>NaN</td>\n      <td>Crime|Drama|Mystery|Thriller</td>\n      <td>...</td>\n      <td>359.0</td>\n      <td>English</td>\n      <td>USA</td>\n      <td>TV-14</td>\n      <td>NaN</td>\n      <td>NaN</td>\n      <td>593.0</td>\n      <td>7.5</td>\n      <td>16.00</td>\n      <td>32000</td>\n    </tr>\n    <tr>\n      <td>4913</td>\n      <td>Color</td>\n      <td>Benjamin Roberds</td>\n      <td>13.0</td>\n      <td>76.0</td>\n      <td>0.0</td>\n      <td>0.0</td>\n      <td>Maxwell Moody</td>\n      <td>0.0</td>\n      <td>NaN</td>\n      <td>Drama|Horror|Thriller</td>\n      <td>...</td>\n      <td>3.0</td>\n      <td>English</td>\n      <td>USA</td>\n      <td>NaN</td>\n      <td>1400.0</td>\n      <td>2013.0</td>\n      <td>0.0</td>\n      <td>6.3</td>\n      <td>NaN</td>\n      <td>16</td>\n    </tr>\n    <tr>\n      <td>4914</td>\n      <td>Color</td>\n      <td>Daniel Hsia</td>\n      <td>14.0</td>\n      <td>100.0</td>\n      <td>0.0</td>\n      <td>489.0</td>\n      <td>Daniel Henney</td>\n      <td>946.0</td>\n      <td>10443.0</td>\n      <td>Comedy|Drama|Romance</td>\n      <td>...</td>\n      <td>9.0</td>\n      <td>English</td>\n      <td>USA</td>\n      <td>PG-13</td>\n      <td>NaN</td>\n      <td>2012.0</td>\n      <td>719.0</td>\n      <td>6.3</td>\n      <td>2.35</td>\n      <td>660</td>\n    </tr>\n    <tr>\n      <td>4915</td>\n      <td>Color</td>\n      <td>Jon Gunn</td>\n      <td>43.0</td>\n      <td>90.0</td>\n      <td>16.0</td>\n      <td>16.0</td>\n      <td>Brian Herzlinger</td>\n      <td>86.0</td>\n      <td>85222.0</td>\n      <td>Documentary</td>\n      <td>...</td>\n      <td>84.0</td>\n      <td>English</td>\n      <td>USA</td>\n      <td>PG</td>\n      <td>1100.0</td>\n      <td>2004.0</td>\n      <td>23.0</td>\n      <td>6.6</td>\n      <td>1.85</td>\n      <td>456</td>\n    </tr>\n  </tbody>\n</table>\n<p>4916 rows × 28 columns</p>\n</div>"
     },
     "execution_count": 26,
     "metadata": {},
     "output_type": "execute_result"
    }
   ],
   "source": [
    "movie = pd.read_csv(os.path.join(dir, 'movie.csv'))\n",
    "movie"
   ],
   "metadata": {
    "collapsed": false
   }
  },
  {
   "cell_type": "code",
   "execution_count": 27,
   "outputs": [
    {
     "data": {
      "text/plain": "                                     movie_title  imdb_score       budget\n0                                         Avatar         7.9  237000000.0\n1       Pirates of the Caribbean: At World's End         7.1  300000000.0\n2                                        Spectre         6.8  245000000.0\n3                          The Dark Knight Rises         8.5  250000000.0\n4     Star Wars: Episode VII - The Force Awakens         7.1          NaN\n...                                          ...         ...          ...\n4911                     Signed Sealed Delivered         7.7          NaN\n4912                               The Following         7.5          NaN\n4913                        A Plague So Pleasant         6.3       1400.0\n4914                            Shanghai Calling         6.3          NaN\n4915                           My Date with Drew         6.6       1100.0\n\n[4916 rows x 3 columns]",
      "text/html": "<div>\n<style scoped>\n    .dataframe tbody tr th:only-of-type {\n        vertical-align: middle;\n    }\n\n    .dataframe tbody tr th {\n        vertical-align: top;\n    }\n\n    .dataframe thead th {\n        text-align: right;\n    }\n</style>\n<table border=\"1\" class=\"dataframe\">\n  <thead>\n    <tr style=\"text-align: right;\">\n      <th></th>\n      <th>movie_title</th>\n      <th>imdb_score</th>\n      <th>budget</th>\n    </tr>\n  </thead>\n  <tbody>\n    <tr>\n      <td>0</td>\n      <td>Avatar</td>\n      <td>7.9</td>\n      <td>237000000.0</td>\n    </tr>\n    <tr>\n      <td>1</td>\n      <td>Pirates of the Caribbean: At World's End</td>\n      <td>7.1</td>\n      <td>300000000.0</td>\n    </tr>\n    <tr>\n      <td>2</td>\n      <td>Spectre</td>\n      <td>6.8</td>\n      <td>245000000.0</td>\n    </tr>\n    <tr>\n      <td>3</td>\n      <td>The Dark Knight Rises</td>\n      <td>8.5</td>\n      <td>250000000.0</td>\n    </tr>\n    <tr>\n      <td>4</td>\n      <td>Star Wars: Episode VII - The Force Awakens</td>\n      <td>7.1</td>\n      <td>NaN</td>\n    </tr>\n    <tr>\n      <td>...</td>\n      <td>...</td>\n      <td>...</td>\n      <td>...</td>\n    </tr>\n    <tr>\n      <td>4911</td>\n      <td>Signed Sealed Delivered</td>\n      <td>7.7</td>\n      <td>NaN</td>\n    </tr>\n    <tr>\n      <td>4912</td>\n      <td>The Following</td>\n      <td>7.5</td>\n      <td>NaN</td>\n    </tr>\n    <tr>\n      <td>4913</td>\n      <td>A Plague So Pleasant</td>\n      <td>6.3</td>\n      <td>1400.0</td>\n    </tr>\n    <tr>\n      <td>4914</td>\n      <td>Shanghai Calling</td>\n      <td>6.3</td>\n      <td>NaN</td>\n    </tr>\n    <tr>\n      <td>4915</td>\n      <td>My Date with Drew</td>\n      <td>6.6</td>\n      <td>1100.0</td>\n    </tr>\n  </tbody>\n</table>\n<p>4916 rows × 3 columns</p>\n</div>"
     },
     "execution_count": 27,
     "metadata": {},
     "output_type": "execute_result"
    }
   ],
   "source": [
    "movie2 = movie[['movie_title', 'imdb_score', 'budget']]\n",
    "movie2"
   ],
   "metadata": {
    "collapsed": false
   }
  },
  {
   "cell_type": "code",
   "execution_count": 28,
   "outputs": [
    {
     "data": {
      "text/plain": "                   movie_title  imdb_score      budget\n2725          Towering Inferno         9.5         NaN\n1920  The Shawshank Redemption         9.3  25000000.0\n3402             The Godfather         9.2   6000000.0\n2779                   Dekalog         9.1         NaN\n4312      Kickboxer: Vengeance         9.1  17000000.0\n...                        ...         ...         ...\n4023                    Oldboy         8.4   3000000.0\n4163     To Kill a Mockingbird         8.4   2000000.0\n4395            Reservoir Dogs         8.4   1200000.0\n4550              A Separation         8.4    500000.0\n4636      The Other Dream Team         8.4    500000.0\n\n[100 rows x 3 columns]",
      "text/html": "<div>\n<style scoped>\n    .dataframe tbody tr th:only-of-type {\n        vertical-align: middle;\n    }\n\n    .dataframe tbody tr th {\n        vertical-align: top;\n    }\n\n    .dataframe thead th {\n        text-align: right;\n    }\n</style>\n<table border=\"1\" class=\"dataframe\">\n  <thead>\n    <tr style=\"text-align: right;\">\n      <th></th>\n      <th>movie_title</th>\n      <th>imdb_score</th>\n      <th>budget</th>\n    </tr>\n  </thead>\n  <tbody>\n    <tr>\n      <td>2725</td>\n      <td>Towering Inferno</td>\n      <td>9.5</td>\n      <td>NaN</td>\n    </tr>\n    <tr>\n      <td>1920</td>\n      <td>The Shawshank Redemption</td>\n      <td>9.3</td>\n      <td>25000000.0</td>\n    </tr>\n    <tr>\n      <td>3402</td>\n      <td>The Godfather</td>\n      <td>9.2</td>\n      <td>6000000.0</td>\n    </tr>\n    <tr>\n      <td>2779</td>\n      <td>Dekalog</td>\n      <td>9.1</td>\n      <td>NaN</td>\n    </tr>\n    <tr>\n      <td>4312</td>\n      <td>Kickboxer: Vengeance</td>\n      <td>9.1</td>\n      <td>17000000.0</td>\n    </tr>\n    <tr>\n      <td>...</td>\n      <td>...</td>\n      <td>...</td>\n      <td>...</td>\n    </tr>\n    <tr>\n      <td>4023</td>\n      <td>Oldboy</td>\n      <td>8.4</td>\n      <td>3000000.0</td>\n    </tr>\n    <tr>\n      <td>4163</td>\n      <td>To Kill a Mockingbird</td>\n      <td>8.4</td>\n      <td>2000000.0</td>\n    </tr>\n    <tr>\n      <td>4395</td>\n      <td>Reservoir Dogs</td>\n      <td>8.4</td>\n      <td>1200000.0</td>\n    </tr>\n    <tr>\n      <td>4550</td>\n      <td>A Separation</td>\n      <td>8.4</td>\n      <td>500000.0</td>\n    </tr>\n    <tr>\n      <td>4636</td>\n      <td>The Other Dream Team</td>\n      <td>8.4</td>\n      <td>500000.0</td>\n    </tr>\n  </tbody>\n</table>\n<p>100 rows × 3 columns</p>\n</div>"
     },
     "execution_count": 28,
     "metadata": {},
     "output_type": "execute_result"
    }
   ],
   "source": [
    "#选出分数最高的100个\n",
    "movie2.nlargest(100, 'imdb_score')"
   ],
   "metadata": {
    "collapsed": false
   }
  },
  {
   "cell_type": "code",
   "execution_count": 29,
   "outputs": [
    {
     "data": {
      "text/plain": "               movie_title  imdb_score    budget\n4804        Butterfly Girl         8.7  180000.0\n4801    Children of Heaven         8.5  180000.0\n4706          12 Angry Men         8.9  350000.0\n4550          A Separation         8.4  500000.0\n4636  The Other Dream Team         8.4  500000.0",
      "text/html": "<div>\n<style scoped>\n    .dataframe tbody tr th:only-of-type {\n        vertical-align: middle;\n    }\n\n    .dataframe tbody tr th {\n        vertical-align: top;\n    }\n\n    .dataframe thead th {\n        text-align: right;\n    }\n</style>\n<table border=\"1\" class=\"dataframe\">\n  <thead>\n    <tr style=\"text-align: right;\">\n      <th></th>\n      <th>movie_title</th>\n      <th>imdb_score</th>\n      <th>budget</th>\n    </tr>\n  </thead>\n  <tbody>\n    <tr>\n      <td>4804</td>\n      <td>Butterfly Girl</td>\n      <td>8.7</td>\n      <td>180000.0</td>\n    </tr>\n    <tr>\n      <td>4801</td>\n      <td>Children of Heaven</td>\n      <td>8.5</td>\n      <td>180000.0</td>\n    </tr>\n    <tr>\n      <td>4706</td>\n      <td>12 Angry Men</td>\n      <td>8.9</td>\n      <td>350000.0</td>\n    </tr>\n    <tr>\n      <td>4550</td>\n      <td>A Separation</td>\n      <td>8.4</td>\n      <td>500000.0</td>\n    </tr>\n    <tr>\n      <td>4636</td>\n      <td>The Other Dream Team</td>\n      <td>8.4</td>\n      <td>500000.0</td>\n    </tr>\n  </tbody>\n</table>\n</div>"
     },
     "execution_count": 29,
     "metadata": {},
     "output_type": "execute_result"
    }
   ],
   "source": [
    "movie2.nlargest(100, 'imdb_score').nsmallest(5, 'budget')"
   ],
   "metadata": {
    "collapsed": false
   }
  },
  {
   "cell_type": "code",
   "execution_count": 30,
   "outputs": [
    {
     "data": {
      "text/plain": "                       movie_title  title_year  imdb_score\n3884                      The Veil      2016.0         4.7\n2375    My Big Fat Greek Wedding 2      2016.0         6.1\n2794          Miracles from Heaven      2016.0         6.8\n92    Independence Day: Resurgence      2016.0         5.5\n153                Kung Fu Panda 3      2016.0         7.2",
      "text/html": "<div>\n<style scoped>\n    .dataframe tbody tr th:only-of-type {\n        vertical-align: middle;\n    }\n\n    .dataframe tbody tr th {\n        vertical-align: top;\n    }\n\n    .dataframe thead th {\n        text-align: right;\n    }\n</style>\n<table border=\"1\" class=\"dataframe\">\n  <thead>\n    <tr style=\"text-align: right;\">\n      <th></th>\n      <th>movie_title</th>\n      <th>title_year</th>\n      <th>imdb_score</th>\n    </tr>\n  </thead>\n  <tbody>\n    <tr>\n      <td>3884</td>\n      <td>The Veil</td>\n      <td>2016.0</td>\n      <td>4.7</td>\n    </tr>\n    <tr>\n      <td>2375</td>\n      <td>My Big Fat Greek Wedding 2</td>\n      <td>2016.0</td>\n      <td>6.1</td>\n    </tr>\n    <tr>\n      <td>2794</td>\n      <td>Miracles from Heaven</td>\n      <td>2016.0</td>\n      <td>6.8</td>\n    </tr>\n    <tr>\n      <td>92</td>\n      <td>Independence Day: Resurgence</td>\n      <td>2016.0</td>\n      <td>5.5</td>\n    </tr>\n    <tr>\n      <td>153</td>\n      <td>Kung Fu Panda 3</td>\n      <td>2016.0</td>\n      <td>7.2</td>\n    </tr>\n  </tbody>\n</table>\n</div>"
     },
     "execution_count": 30,
     "metadata": {},
     "output_type": "execute_result"
    }
   ],
   "source": [
    "movie2 = movie[['movie_title', 'title_year', 'imdb_score']]\n",
    "movie2.sort_values('title_year', ascending=False).head()"
   ],
   "metadata": {
    "collapsed": false
   }
  },
  {
   "cell_type": "code",
   "execution_count": 31,
   "outputs": [
    {
     "data": {
      "text/plain": "                      movie_title  title_year  imdb_score\n4312         Kickboxer: Vengeance      2016.0         9.1\n4277  A Beginner's Guide to Snuff      2016.0         8.7\n3798                      Airlift      2016.0         8.5\n27     Captain America: Civil War      2016.0         8.2\n98            Godzilla Resurgence      2016.0         8.2\n...                           ...         ...         ...\n1391                    Rush Hour         NaN         5.8\n4031                     Creature         NaN         5.0\n2165              Meet the Browns         NaN         3.5\n3246   The Bold and the Beautiful         NaN         3.5\n2119                 The Bachelor         NaN         2.9\n\n[4916 rows x 3 columns]",
      "text/html": "<div>\n<style scoped>\n    .dataframe tbody tr th:only-of-type {\n        vertical-align: middle;\n    }\n\n    .dataframe tbody tr th {\n        vertical-align: top;\n    }\n\n    .dataframe thead th {\n        text-align: right;\n    }\n</style>\n<table border=\"1\" class=\"dataframe\">\n  <thead>\n    <tr style=\"text-align: right;\">\n      <th></th>\n      <th>movie_title</th>\n      <th>title_year</th>\n      <th>imdb_score</th>\n    </tr>\n  </thead>\n  <tbody>\n    <tr>\n      <td>4312</td>\n      <td>Kickboxer: Vengeance</td>\n      <td>2016.0</td>\n      <td>9.1</td>\n    </tr>\n    <tr>\n      <td>4277</td>\n      <td>A Beginner's Guide to Snuff</td>\n      <td>2016.0</td>\n      <td>8.7</td>\n    </tr>\n    <tr>\n      <td>3798</td>\n      <td>Airlift</td>\n      <td>2016.0</td>\n      <td>8.5</td>\n    </tr>\n    <tr>\n      <td>27</td>\n      <td>Captain America: Civil War</td>\n      <td>2016.0</td>\n      <td>8.2</td>\n    </tr>\n    <tr>\n      <td>98</td>\n      <td>Godzilla Resurgence</td>\n      <td>2016.0</td>\n      <td>8.2</td>\n    </tr>\n    <tr>\n      <td>...</td>\n      <td>...</td>\n      <td>...</td>\n      <td>...</td>\n    </tr>\n    <tr>\n      <td>1391</td>\n      <td>Rush Hour</td>\n      <td>NaN</td>\n      <td>5.8</td>\n    </tr>\n    <tr>\n      <td>4031</td>\n      <td>Creature</td>\n      <td>NaN</td>\n      <td>5.0</td>\n    </tr>\n    <tr>\n      <td>2165</td>\n      <td>Meet the Browns</td>\n      <td>NaN</td>\n      <td>3.5</td>\n    </tr>\n    <tr>\n      <td>3246</td>\n      <td>The Bold and the Beautiful</td>\n      <td>NaN</td>\n      <td>3.5</td>\n    </tr>\n    <tr>\n      <td>2119</td>\n      <td>The Bachelor</td>\n      <td>NaN</td>\n      <td>2.9</td>\n    </tr>\n  </tbody>\n</table>\n<p>4916 rows × 3 columns</p>\n</div>"
     },
     "execution_count": 31,
     "metadata": {},
     "output_type": "execute_result"
    }
   ],
   "source": [
    "movie3 = movie2.sort_values(['title_year', 'imdb_score'], ascending=False)\n",
    "movie3"
   ],
   "metadata": {
    "collapsed": false
   }
  },
  {
   "cell_type": "code",
   "execution_count": 32,
   "outputs": [
    {
     "data": {
      "text/plain": "                                           movie_title  title_year  imdb_score\n4312                              Kickboxer: Vengeance      2016.0         9.1\n3745                                   Running Forever      2015.0         8.6\n4369                            Queen of the Mountains      2014.0         8.7\n3935           Batman: The Dark Knight Returns, Part 2      2013.0         8.4\n3                                The Dark Knight Rises      2012.0         8.5\n...                                                ...         ...         ...\n2694                                        Metropolis      1927.0         8.3\n4767                                    The Big Parade      1925.0         8.3\n4833                    Over the Hill to the Poorhouse      1920.0         4.8\n4695  Intolerance: Love's Struggle Throughout the Ages      1916.0         8.0\n2725                                  Towering Inferno         NaN         9.5\n\n[92 rows x 3 columns]",
      "text/html": "<div>\n<style scoped>\n    .dataframe tbody tr th:only-of-type {\n        vertical-align: middle;\n    }\n\n    .dataframe tbody tr th {\n        vertical-align: top;\n    }\n\n    .dataframe thead th {\n        text-align: right;\n    }\n</style>\n<table border=\"1\" class=\"dataframe\">\n  <thead>\n    <tr style=\"text-align: right;\">\n      <th></th>\n      <th>movie_title</th>\n      <th>title_year</th>\n      <th>imdb_score</th>\n    </tr>\n  </thead>\n  <tbody>\n    <tr>\n      <td>4312</td>\n      <td>Kickboxer: Vengeance</td>\n      <td>2016.0</td>\n      <td>9.1</td>\n    </tr>\n    <tr>\n      <td>3745</td>\n      <td>Running Forever</td>\n      <td>2015.0</td>\n      <td>8.6</td>\n    </tr>\n    <tr>\n      <td>4369</td>\n      <td>Queen of the Mountains</td>\n      <td>2014.0</td>\n      <td>8.7</td>\n    </tr>\n    <tr>\n      <td>3935</td>\n      <td>Batman: The Dark Knight Returns, Part 2</td>\n      <td>2013.0</td>\n      <td>8.4</td>\n    </tr>\n    <tr>\n      <td>3</td>\n      <td>The Dark Knight Rises</td>\n      <td>2012.0</td>\n      <td>8.5</td>\n    </tr>\n    <tr>\n      <td>...</td>\n      <td>...</td>\n      <td>...</td>\n      <td>...</td>\n    </tr>\n    <tr>\n      <td>2694</td>\n      <td>Metropolis</td>\n      <td>1927.0</td>\n      <td>8.3</td>\n    </tr>\n    <tr>\n      <td>4767</td>\n      <td>The Big Parade</td>\n      <td>1925.0</td>\n      <td>8.3</td>\n    </tr>\n    <tr>\n      <td>4833</td>\n      <td>Over the Hill to the Poorhouse</td>\n      <td>1920.0</td>\n      <td>4.8</td>\n    </tr>\n    <tr>\n      <td>4695</td>\n      <td>Intolerance: Love's Struggle Throughout the Ages</td>\n      <td>1916.0</td>\n      <td>8.0</td>\n    </tr>\n    <tr>\n      <td>2725</td>\n      <td>Towering Inferno</td>\n      <td>NaN</td>\n      <td>9.5</td>\n    </tr>\n  </tbody>\n</table>\n<p>92 rows × 3 columns</p>\n</div>"
     },
     "execution_count": 32,
     "metadata": {},
     "output_type": "execute_result"
    }
   ],
   "source": [
    "movie3.drop_duplicates('title_year')"
   ],
   "metadata": {
    "collapsed": false
   }
  },
  {
   "cell_type": "code",
   "execution_count": 33,
   "outputs": [
    {
     "data": {
      "text/plain": "                       movie_title  title_year content_rating     budget\n4026                     Compadres      2016.0              R  3000000.0\n3884                      The Veil      2016.0              R  4000000.0\n3682         Fifty Shades of Black      2016.0              R  5000000.0\n3685             The Perfect Match      2016.0              R  5000000.0\n3396                The Neon Demon      2016.0              R  7000000.0\n...                            ...         ...            ...        ...\n4196                      Get Real         NaN            NaN        NaN\n4234                         Wings         NaN            NaN        NaN\n4362  The Streets of San Francisco         NaN            NaN        NaN\n4416                    Wolf Creek         NaN            NaN        NaN\n4526                         Jesse         NaN            NaN        NaN\n\n[4916 rows x 4 columns]",
      "text/html": "<div>\n<style scoped>\n    .dataframe tbody tr th:only-of-type {\n        vertical-align: middle;\n    }\n\n    .dataframe tbody tr th {\n        vertical-align: top;\n    }\n\n    .dataframe thead th {\n        text-align: right;\n    }\n</style>\n<table border=\"1\" class=\"dataframe\">\n  <thead>\n    <tr style=\"text-align: right;\">\n      <th></th>\n      <th>movie_title</th>\n      <th>title_year</th>\n      <th>content_rating</th>\n      <th>budget</th>\n    </tr>\n  </thead>\n  <tbody>\n    <tr>\n      <td>4026</td>\n      <td>Compadres</td>\n      <td>2016.0</td>\n      <td>R</td>\n      <td>3000000.0</td>\n    </tr>\n    <tr>\n      <td>3884</td>\n      <td>The Veil</td>\n      <td>2016.0</td>\n      <td>R</td>\n      <td>4000000.0</td>\n    </tr>\n    <tr>\n      <td>3682</td>\n      <td>Fifty Shades of Black</td>\n      <td>2016.0</td>\n      <td>R</td>\n      <td>5000000.0</td>\n    </tr>\n    <tr>\n      <td>3685</td>\n      <td>The Perfect Match</td>\n      <td>2016.0</td>\n      <td>R</td>\n      <td>5000000.0</td>\n    </tr>\n    <tr>\n      <td>3396</td>\n      <td>The Neon Demon</td>\n      <td>2016.0</td>\n      <td>R</td>\n      <td>7000000.0</td>\n    </tr>\n    <tr>\n      <td>...</td>\n      <td>...</td>\n      <td>...</td>\n      <td>...</td>\n      <td>...</td>\n    </tr>\n    <tr>\n      <td>4196</td>\n      <td>Get Real</td>\n      <td>NaN</td>\n      <td>NaN</td>\n      <td>NaN</td>\n    </tr>\n    <tr>\n      <td>4234</td>\n      <td>Wings</td>\n      <td>NaN</td>\n      <td>NaN</td>\n      <td>NaN</td>\n    </tr>\n    <tr>\n      <td>4362</td>\n      <td>The Streets of San Francisco</td>\n      <td>NaN</td>\n      <td>NaN</td>\n      <td>NaN</td>\n    </tr>\n    <tr>\n      <td>4416</td>\n      <td>Wolf Creek</td>\n      <td>NaN</td>\n      <td>NaN</td>\n      <td>NaN</td>\n    </tr>\n    <tr>\n      <td>4526</td>\n      <td>Jesse</td>\n      <td>NaN</td>\n      <td>NaN</td>\n      <td>NaN</td>\n    </tr>\n  </tbody>\n</table>\n<p>4916 rows × 4 columns</p>\n</div>"
     },
     "execution_count": 33,
     "metadata": {},
     "output_type": "execute_result"
    }
   ],
   "source": [
    "movie4 = movie[['movie_title', 'title_year', 'content_rating', 'budget']]\n",
    "movie4_sorted = movie4.sort_values(['title_year', 'content_rating', 'budget'], ascending=[False, False, True])\n",
    "movie4_sorted"
   ],
   "metadata": {
    "collapsed": false
   }
  },
  {
   "cell_type": "code",
   "execution_count": 34,
   "outputs": [
    {
     "data": {
      "text/plain": "                                          movie_title  title_year  \\\n4026                                        Compadres      2016.0   \n4658                              Fight to the Finish      2016.0   \n4661                                       Rodeo Girl      2016.0   \n3252                                      The Wailing      2016.0   \n4659                   Alleluia! The Devil's Carnival      2016.0   \n4731                                          Bizarre      2015.0   \n812                                  The Ridiculous 6      2015.0   \n4831                                      The Gallows      2015.0   \n4825                                 Romantic Schemer      2015.0   \n3796  R.L. Stine's Monsterville: The Cabinet of Souls      2015.0   \n\n     content_rating     budget  \n4026              R  3000000.0  \n4658          PG-13   150000.0  \n4661             PG   500000.0  \n3252      Not Rated        NaN  \n4659            NaN   500000.0  \n4731        Unrated   500000.0  \n812           TV-14        NaN  \n4831              R   100000.0  \n4825          PG-13   125000.0  \n3796             PG  4400000.0  ",
      "text/html": "<div>\n<style scoped>\n    .dataframe tbody tr th:only-of-type {\n        vertical-align: middle;\n    }\n\n    .dataframe tbody tr th {\n        vertical-align: top;\n    }\n\n    .dataframe thead th {\n        text-align: right;\n    }\n</style>\n<table border=\"1\" class=\"dataframe\">\n  <thead>\n    <tr style=\"text-align: right;\">\n      <th></th>\n      <th>movie_title</th>\n      <th>title_year</th>\n      <th>content_rating</th>\n      <th>budget</th>\n    </tr>\n  </thead>\n  <tbody>\n    <tr>\n      <td>4026</td>\n      <td>Compadres</td>\n      <td>2016.0</td>\n      <td>R</td>\n      <td>3000000.0</td>\n    </tr>\n    <tr>\n      <td>4658</td>\n      <td>Fight to the Finish</td>\n      <td>2016.0</td>\n      <td>PG-13</td>\n      <td>150000.0</td>\n    </tr>\n    <tr>\n      <td>4661</td>\n      <td>Rodeo Girl</td>\n      <td>2016.0</td>\n      <td>PG</td>\n      <td>500000.0</td>\n    </tr>\n    <tr>\n      <td>3252</td>\n      <td>The Wailing</td>\n      <td>2016.0</td>\n      <td>Not Rated</td>\n      <td>NaN</td>\n    </tr>\n    <tr>\n      <td>4659</td>\n      <td>Alleluia! The Devil's Carnival</td>\n      <td>2016.0</td>\n      <td>NaN</td>\n      <td>500000.0</td>\n    </tr>\n    <tr>\n      <td>4731</td>\n      <td>Bizarre</td>\n      <td>2015.0</td>\n      <td>Unrated</td>\n      <td>500000.0</td>\n    </tr>\n    <tr>\n      <td>812</td>\n      <td>The Ridiculous 6</td>\n      <td>2015.0</td>\n      <td>TV-14</td>\n      <td>NaN</td>\n    </tr>\n    <tr>\n      <td>4831</td>\n      <td>The Gallows</td>\n      <td>2015.0</td>\n      <td>R</td>\n      <td>100000.0</td>\n    </tr>\n    <tr>\n      <td>4825</td>\n      <td>Romantic Schemer</td>\n      <td>2015.0</td>\n      <td>PG-13</td>\n      <td>125000.0</td>\n    </tr>\n    <tr>\n      <td>3796</td>\n      <td>R.L. Stine's Monsterville: The Cabinet of Souls</td>\n      <td>2015.0</td>\n      <td>PG</td>\n      <td>4400000.0</td>\n    </tr>\n  </tbody>\n</table>\n</div>"
     },
     "execution_count": 34,
     "metadata": {},
     "output_type": "execute_result"
    }
   ],
   "source": [
    "movie4_sorted.drop_duplicates(subset=['title_year', 'content_rating']).head(10)"
   ],
   "metadata": {
    "collapsed": false
   }
  },
  {
   "cell_type": "code",
   "execution_count": 35,
   "outputs": [
    {
     "data": {
      "text/plain": "         区域      地址                            标题    户型   面积     价格  \\\n0      燕莎租房     新源街  亮马桥 新源街  精装两居 交通便利 看房方便 随时入住  2室1厅   50   5800   \n1      望京租房    澳洲康都        澳洲康都东向精致两居室...........  2室1厅   79   7800   \n2     广安门租房    远见名苑        远见名苑 东向两居室 独立小区环境 适合居家  2室1厅   86   8000   \n3     天通苑租房  天通苑北一区          北一区简装两居，采光好，视野美，出行方便  2室1厅  103   5300   \n4     团结湖租房   团结湖北口        团结湖北口近地铁高楼层朝南向精装修正规两居室  2室1厅   63   6400   \n...     ...     ...                           ...   ...  ...    ...   \n2755   朝青租房   天鹅湾北区              天鹅湾北区 1室1厅 9500元  1室1厅   50   9500   \n2756  太阳宫租房     水星园      水星园精装一居室  可自带家具家电 业主也可配齐  1室1厅   68   9500   \n2757  六里桥租房    莲花小区          莲花小区 西南两居室 温馨舒适 楼层合适  2室1厅   84   7200   \n2758  陶然亭租房  中海紫御公馆            中海紫御公馆  把您的家安放在花园里  2室2厅   91  12000   \n2759  三元桥租房     曙光里              曙光里南向 高层两居室 随时看房  2室1厅   62   6200   \n\n             楼层        建造时间  朝向        更新时间  看房人数  \\\n0      中楼层(共6层)    1981年建板楼   南  2017.07.21    26   \n1     中楼层(共28层)  2005年建板塔结合   东  2017.07.23    33   \n2     低楼层(共25层)    2006年建塔楼   东  2017.07.20    34   \n3     低楼层(共13层)    2004年建板楼  东南  2017.07.25    30   \n4     高楼层(共16层)    1982年建塔楼   南  2017.07.26    30   \n...         ...         ...  ..         ...   ...   \n2755   中楼层(共8层)  2010年建板塔结合   南  2017.07.27    13   \n2756  中楼层(共23层)  2005年建板塔结合   北  2017.07.24    14   \n2757  低楼层(共28层)  1999年建板塔结合  西南  2017.07.26     7   \n2758  中楼层(共22层)  2010年建板塔结合   南  2017.07.26     6   \n2759  高楼层(共18层)    1992年建塔楼   南  2017.07.25    19   \n\n                                     备注  \\\n0                         随时看房 精装修 集中供暖   \n1      距离14号线(东段)东湖渠站731米 随时看房 精装修 集中供暖   \n2            距离7号线达官营站684米 随时看房 精装修 自供暖   \n3           距离5号线天通苑站927米 随时看房 精装修 集中供暖   \n4           距离10号线团结湖站88米 随时看房 精装修 集中供暖   \n...                                 ...   \n2755        距离6号线青年路站736米 随时看房 精装修 集中供暖   \n2756           距离10号线太阳宫站432米 随时看房 集中供暖   \n2757           距离10号线莲花桥站661米 随时看房 集中供暖   \n2758                      随时看房 精装修 集中供暖   \n2759            距离机场线三元桥站980米 随时看房 集中供暖   \n\n                                                 链接地址  \n0     https://bj.lianjia.com/zufang/101101803342.html  \n1     https://bj.lianjia.com/zufang/101101753126.html  \n2     https://bj.lianjia.com/zufang/101101756753.html  \n3     https://bj.lianjia.com/zufang/101101780034.html  \n4     https://bj.lianjia.com/zufang/101101781083.html  \n...                                               ...  \n2755  https://bj.lianjia.com/zufang/101101697995.html  \n2756  https://bj.lianjia.com/zufang/101101698013.html  \n2757  https://bj.lianjia.com/zufang/101101702130.html  \n2758  https://bj.lianjia.com/zufang/101101703605.html  \n2759  https://bj.lianjia.com/zufang/101101704735.html  \n\n[2760 rows x 13 columns]",
      "text/html": "<div>\n<style scoped>\n    .dataframe tbody tr th:only-of-type {\n        vertical-align: middle;\n    }\n\n    .dataframe tbody tr th {\n        vertical-align: top;\n    }\n\n    .dataframe thead th {\n        text-align: right;\n    }\n</style>\n<table border=\"1\" class=\"dataframe\">\n  <thead>\n    <tr style=\"text-align: right;\">\n      <th></th>\n      <th>区域</th>\n      <th>地址</th>\n      <th>标题</th>\n      <th>户型</th>\n      <th>面积</th>\n      <th>价格</th>\n      <th>楼层</th>\n      <th>建造时间</th>\n      <th>朝向</th>\n      <th>更新时间</th>\n      <th>看房人数</th>\n      <th>备注</th>\n      <th>链接地址</th>\n    </tr>\n  </thead>\n  <tbody>\n    <tr>\n      <td>0</td>\n      <td>燕莎租房</td>\n      <td>新源街</td>\n      <td>亮马桥 新源街  精装两居 交通便利 看房方便 随时入住</td>\n      <td>2室1厅</td>\n      <td>50</td>\n      <td>5800</td>\n      <td>中楼层(共6层)</td>\n      <td>1981年建板楼</td>\n      <td>南</td>\n      <td>2017.07.21</td>\n      <td>26</td>\n      <td>随时看房 精装修 集中供暖</td>\n      <td>https://bj.lianjia.com/zufang/101101803342.html</td>\n    </tr>\n    <tr>\n      <td>1</td>\n      <td>望京租房</td>\n      <td>澳洲康都</td>\n      <td>澳洲康都东向精致两居室...........</td>\n      <td>2室1厅</td>\n      <td>79</td>\n      <td>7800</td>\n      <td>中楼层(共28层)</td>\n      <td>2005年建板塔结合</td>\n      <td>东</td>\n      <td>2017.07.23</td>\n      <td>33</td>\n      <td>距离14号线(东段)东湖渠站731米 随时看房 精装修 集中供暖</td>\n      <td>https://bj.lianjia.com/zufang/101101753126.html</td>\n    </tr>\n    <tr>\n      <td>2</td>\n      <td>广安门租房</td>\n      <td>远见名苑</td>\n      <td>远见名苑 东向两居室 独立小区环境 适合居家</td>\n      <td>2室1厅</td>\n      <td>86</td>\n      <td>8000</td>\n      <td>低楼层(共25层)</td>\n      <td>2006年建塔楼</td>\n      <td>东</td>\n      <td>2017.07.20</td>\n      <td>34</td>\n      <td>距离7号线达官营站684米 随时看房 精装修 自供暖</td>\n      <td>https://bj.lianjia.com/zufang/101101756753.html</td>\n    </tr>\n    <tr>\n      <td>3</td>\n      <td>天通苑租房</td>\n      <td>天通苑北一区</td>\n      <td>北一区简装两居，采光好，视野美，出行方便</td>\n      <td>2室1厅</td>\n      <td>103</td>\n      <td>5300</td>\n      <td>低楼层(共13层)</td>\n      <td>2004年建板楼</td>\n      <td>东南</td>\n      <td>2017.07.25</td>\n      <td>30</td>\n      <td>距离5号线天通苑站927米 随时看房 精装修 集中供暖</td>\n      <td>https://bj.lianjia.com/zufang/101101780034.html</td>\n    </tr>\n    <tr>\n      <td>4</td>\n      <td>团结湖租房</td>\n      <td>团结湖北口</td>\n      <td>团结湖北口近地铁高楼层朝南向精装修正规两居室</td>\n      <td>2室1厅</td>\n      <td>63</td>\n      <td>6400</td>\n      <td>高楼层(共16层)</td>\n      <td>1982年建塔楼</td>\n      <td>南</td>\n      <td>2017.07.26</td>\n      <td>30</td>\n      <td>距离10号线团结湖站88米 随时看房 精装修 集中供暖</td>\n      <td>https://bj.lianjia.com/zufang/101101781083.html</td>\n    </tr>\n    <tr>\n      <td>...</td>\n      <td>...</td>\n      <td>...</td>\n      <td>...</td>\n      <td>...</td>\n      <td>...</td>\n      <td>...</td>\n      <td>...</td>\n      <td>...</td>\n      <td>...</td>\n      <td>...</td>\n      <td>...</td>\n      <td>...</td>\n      <td>...</td>\n    </tr>\n    <tr>\n      <td>2755</td>\n      <td>朝青租房</td>\n      <td>天鹅湾北区</td>\n      <td>天鹅湾北区 1室1厅 9500元</td>\n      <td>1室1厅</td>\n      <td>50</td>\n      <td>9500</td>\n      <td>中楼层(共8层)</td>\n      <td>2010年建板塔结合</td>\n      <td>南</td>\n      <td>2017.07.27</td>\n      <td>13</td>\n      <td>距离6号线青年路站736米 随时看房 精装修 集中供暖</td>\n      <td>https://bj.lianjia.com/zufang/101101697995.html</td>\n    </tr>\n    <tr>\n      <td>2756</td>\n      <td>太阳宫租房</td>\n      <td>水星园</td>\n      <td>水星园精装一居室  可自带家具家电 业主也可配齐</td>\n      <td>1室1厅</td>\n      <td>68</td>\n      <td>9500</td>\n      <td>中楼层(共23层)</td>\n      <td>2005年建板塔结合</td>\n      <td>北</td>\n      <td>2017.07.24</td>\n      <td>14</td>\n      <td>距离10号线太阳宫站432米 随时看房 集中供暖</td>\n      <td>https://bj.lianjia.com/zufang/101101698013.html</td>\n    </tr>\n    <tr>\n      <td>2757</td>\n      <td>六里桥租房</td>\n      <td>莲花小区</td>\n      <td>莲花小区 西南两居室 温馨舒适 楼层合适</td>\n      <td>2室1厅</td>\n      <td>84</td>\n      <td>7200</td>\n      <td>低楼层(共28层)</td>\n      <td>1999年建板塔结合</td>\n      <td>西南</td>\n      <td>2017.07.26</td>\n      <td>7</td>\n      <td>距离10号线莲花桥站661米 随时看房 集中供暖</td>\n      <td>https://bj.lianjia.com/zufang/101101702130.html</td>\n    </tr>\n    <tr>\n      <td>2758</td>\n      <td>陶然亭租房</td>\n      <td>中海紫御公馆</td>\n      <td>中海紫御公馆  把您的家安放在花园里</td>\n      <td>2室2厅</td>\n      <td>91</td>\n      <td>12000</td>\n      <td>中楼层(共22层)</td>\n      <td>2010年建板塔结合</td>\n      <td>南</td>\n      <td>2017.07.26</td>\n      <td>6</td>\n      <td>随时看房 精装修 集中供暖</td>\n      <td>https://bj.lianjia.com/zufang/101101703605.html</td>\n    </tr>\n    <tr>\n      <td>2759</td>\n      <td>三元桥租房</td>\n      <td>曙光里</td>\n      <td>曙光里南向 高层两居室 随时看房</td>\n      <td>2室1厅</td>\n      <td>62</td>\n      <td>6200</td>\n      <td>高楼层(共18层)</td>\n      <td>1992年建塔楼</td>\n      <td>南</td>\n      <td>2017.07.25</td>\n      <td>19</td>\n      <td>距离机场线三元桥站980米 随时看房 集中供暖</td>\n      <td>https://bj.lianjia.com/zufang/101101704735.html</td>\n    </tr>\n  </tbody>\n</table>\n<p>2760 rows × 13 columns</p>\n</div>"
     },
     "execution_count": 35,
     "metadata": {},
     "output_type": "execute_result"
    }
   ],
   "source": [
    "house_data = pd.read_csv(os.path.join(dir, 'LJdata.csv'))\n",
    "house_data"
   ],
   "metadata": {
    "collapsed": false
   }
  },
  {
   "cell_type": "code",
   "execution_count": 36,
   "outputs": [
    {
     "data": {
      "text/plain": "Index(['区域', '地址', '标题', '户型', '面积', '价格', '楼层', '建造时间', '朝向', '更新时间', '看房人数',\n       '备注', '链接地址'],\n      dtype='object')"
     },
     "execution_count": 36,
     "metadata": {},
     "output_type": "execute_result"
    }
   ],
   "source": [
    "house_data.columns"
   ],
   "metadata": {
    "collapsed": false
   }
  },
  {
   "cell_type": "code",
   "execution_count": 37,
   "outputs": [
    {
     "name": "stdout",
     "output_type": "stream",
     "text": [
      "<class 'pandas.core.frame.DataFrame'>\n",
      "RangeIndex: 2760 entries, 0 to 2759\n",
      "Data columns (total 13 columns):\n",
      "district       2760 non-null object\n",
      "address        2760 non-null object\n",
      "title          2760 non-null object\n",
      "house_type     2760 non-null object\n",
      "area           2760 non-null int64\n",
      "price          2760 non-null int64\n",
      "floor          2760 non-null object\n",
      "build_time     2758 non-null object\n",
      "direction      2760 non-null object\n",
      "update_time    2760 non-null object\n",
      "view_num       2760 non-null int64\n",
      "extra_info     2760 non-null object\n",
      "link           2760 non-null object\n",
      "dtypes: int64(3), object(10)\n",
      "memory usage: 280.4+ KB\n"
     ]
    }
   ],
   "source": [
    "house_data.columns = ['district', 'address', 'title', 'house_type', 'area', 'price', 'floor', 'build_time', 'direction', 'update_time', 'view_num', 'extra_info', 'link']\n",
    "house_data.info()"
   ],
   "metadata": {
    "collapsed": false
   }
  },
  {
   "cell_type": "code",
   "execution_count": 38,
   "outputs": [
    {
     "data": {
      "text/plain": "              area          price     view_num\ncount  2760.000000    2760.000000  2760.000000\nmean     87.658696    7570.800725    13.448913\nstd      41.862928    6316.204986    12.746202\nmin      19.000000    1300.000000     0.000000\n25%      58.000000    4500.000000     4.000000\n50%      80.000000    6000.000000    10.000000\n75%     103.000000    8500.000000    19.000000\nmax     720.000000  210000.000000   122.000000",
      "text/html": "<div>\n<style scoped>\n    .dataframe tbody tr th:only-of-type {\n        vertical-align: middle;\n    }\n\n    .dataframe tbody tr th {\n        vertical-align: top;\n    }\n\n    .dataframe thead th {\n        text-align: right;\n    }\n</style>\n<table border=\"1\" class=\"dataframe\">\n  <thead>\n    <tr style=\"text-align: right;\">\n      <th></th>\n      <th>area</th>\n      <th>price</th>\n      <th>view_num</th>\n    </tr>\n  </thead>\n  <tbody>\n    <tr>\n      <td>count</td>\n      <td>2760.000000</td>\n      <td>2760.000000</td>\n      <td>2760.000000</td>\n    </tr>\n    <tr>\n      <td>mean</td>\n      <td>87.658696</td>\n      <td>7570.800725</td>\n      <td>13.448913</td>\n    </tr>\n    <tr>\n      <td>std</td>\n      <td>41.862928</td>\n      <td>6316.204986</td>\n      <td>12.746202</td>\n    </tr>\n    <tr>\n      <td>min</td>\n      <td>19.000000</td>\n      <td>1300.000000</td>\n      <td>0.000000</td>\n    </tr>\n    <tr>\n      <td>25%</td>\n      <td>58.000000</td>\n      <td>4500.000000</td>\n      <td>4.000000</td>\n    </tr>\n    <tr>\n      <td>50%</td>\n      <td>80.000000</td>\n      <td>6000.000000</td>\n      <td>10.000000</td>\n    </tr>\n    <tr>\n      <td>75%</td>\n      <td>103.000000</td>\n      <td>8500.000000</td>\n      <td>19.000000</td>\n    </tr>\n    <tr>\n      <td>max</td>\n      <td>720.000000</td>\n      <td>210000.000000</td>\n      <td>122.000000</td>\n    </tr>\n  </tbody>\n</table>\n</div>"
     },
     "execution_count": 38,
     "metadata": {},
     "output_type": "execute_result"
    }
   ],
   "source": [
    "house_data.describe()"
   ],
   "metadata": {
    "collapsed": false
   }
  },
  {
   "cell_type": "code",
   "execution_count": 39,
   "outputs": [
    {
     "data": {
      "text/plain": "(2760, 13)"
     },
     "execution_count": 39,
     "metadata": {},
     "output_type": "execute_result"
    }
   ],
   "source": [
    "house_data.shape"
   ],
   "metadata": {
    "collapsed": false
   }
  },
  {
   "cell_type": "code",
   "execution_count": 40,
   "outputs": [
    {
     "data": {
      "text/plain": "     district  address                            title house_type  area  \\\n2527     良乡租房   伟业嘉园西里             半地下室 家电齐全 集中供暖 简单装修        1室1厅    46   \n591      北关租房    西潞苑小区       西潞苑小区 西向正规二居室 两个房间都有空调 短租房       2室1厅    78   \n629      北关租房    西潞苑小区       西潞苑小区 西向正规二居室 两个房间都有空调 短租房       2室1厅    78   \n1614     良乡租房   北关东路社区                北关东路社区 1室1厅 1700元       1室1厅    36   \n1040   鼓楼大街租房    北环里小区  中间楼层东向<span>开间</span> 简单装修 看房随时       1室1厅    41   \n...       ...      ...                              ...        ...   ...   \n2012    太阳宫租房     太阳公元             太阳公元双卧朝阳三居 欧式家具 看房方便       3室2厅   159   \n662     东直门租房  万国城MOMA         万国城大三居，小区中间位置，空房出租，可配家具！       3室2厅   244   \n2050     官园租房   西派国际公寓           西城 官园金融街 车公庄地铁 精装 看房方便       3室2厅   191   \n2010    酒仙桥租房     阳光上东              阳光上东丹麦南北西三面采光 精装随时住       4室2厅   285   \n2658    和平里租房   雍和家园二期               雍和家园 底商出租 使用面积720米       6室3厅   720   \n\n       price      floor  build_time direction update_time  view_num  \\\n2527    1300   地下室(共5层)      2005年建         南  2017.07.19        14   \n591     1500   中楼层(共4层)    1999年建板楼         西  2017.07.26         1   \n629     1500   中楼层(共4层)    1999年建板楼         西  2017.07.26         1   \n1614    1700   中楼层(共5层)      1979年建         南  2017.07.23         5   \n1040    1800   中楼层(共5层)    2004年建板楼         东  2017.07.23         9   \n...      ...        ...         ...       ...         ...       ...   \n2012   36000  低楼层(共25层)  2010年建板塔结合       南 北  2017.07.27        15   \n662    36500  高楼层(共22层)    2006年建塔楼        东南  2017.07.17        15   \n2050   40000  高楼层(共17层)    2009年建板楼     东 南 西  2017.07.20        25   \n2010   45000  高楼层(共29层)    2009年建板楼       南 北  2017.07.26         6   \n2658  210000   低楼层(共6层)    2005年建板楼         南  2017.07.26        21   \n\n                             extra_info  \\\n2527                          随时看房 集中供暖   \n591                           随时看房 集中供暖   \n629                           随时看房 集中供暖   \n1614                               随时看房   \n1040             距离昌平线昌平站909米 随时看房 集中供暖   \n...                                 ...   \n2012       距离13号线芍药居站851米 随时看房 精装修 集中供暖   \n662        距离2号线东直门站1101米 随时看房 精装修 集中供暖   \n2050        距离2号线车公庄站423米 随时看房 精装修 集中供暖   \n2010   距离14号线(东段)将台站1112米 随时看房 精装修 集中供暖   \n2658            距离2号线雍和宫站293米 随时看房 集中供暖   \n\n                                                 link  \n2527  https://bj.lianjia.com/zufang/101101538484.html  \n591   https://bj.lianjia.com/zufang/101101848906.html  \n629   https://bj.lianjia.com/zufang/101101848906.html  \n1614  https://bj.lianjia.com/zufang/101101846245.html  \n1040  https://bj.lianjia.com/zufang/101101770182.html  \n...                                               ...  \n2012  https://bj.lianjia.com/zufang/101100777313.html  \n662   https://bj.lianjia.com/zufang/101101714161.html  \n2050  https://bj.lianjia.com/zufang/101101462442.html  \n2010  https://bj.lianjia.com/zufang/101101613695.html  \n2658  https://bj.lianjia.com/zufang/101101672514.html  \n\n[2760 rows x 13 columns]",
      "text/html": "<div>\n<style scoped>\n    .dataframe tbody tr th:only-of-type {\n        vertical-align: middle;\n    }\n\n    .dataframe tbody tr th {\n        vertical-align: top;\n    }\n\n    .dataframe thead th {\n        text-align: right;\n    }\n</style>\n<table border=\"1\" class=\"dataframe\">\n  <thead>\n    <tr style=\"text-align: right;\">\n      <th></th>\n      <th>district</th>\n      <th>address</th>\n      <th>title</th>\n      <th>house_type</th>\n      <th>area</th>\n      <th>price</th>\n      <th>floor</th>\n      <th>build_time</th>\n      <th>direction</th>\n      <th>update_time</th>\n      <th>view_num</th>\n      <th>extra_info</th>\n      <th>link</th>\n    </tr>\n  </thead>\n  <tbody>\n    <tr>\n      <td>2527</td>\n      <td>良乡租房</td>\n      <td>伟业嘉园西里</td>\n      <td>半地下室 家电齐全 集中供暖 简单装修</td>\n      <td>1室1厅</td>\n      <td>46</td>\n      <td>1300</td>\n      <td>地下室(共5层)</td>\n      <td>2005年建</td>\n      <td>南</td>\n      <td>2017.07.19</td>\n      <td>14</td>\n      <td>随时看房 集中供暖</td>\n      <td>https://bj.lianjia.com/zufang/101101538484.html</td>\n    </tr>\n    <tr>\n      <td>591</td>\n      <td>北关租房</td>\n      <td>西潞苑小区</td>\n      <td>西潞苑小区 西向正规二居室 两个房间都有空调 短租房</td>\n      <td>2室1厅</td>\n      <td>78</td>\n      <td>1500</td>\n      <td>中楼层(共4层)</td>\n      <td>1999年建板楼</td>\n      <td>西</td>\n      <td>2017.07.26</td>\n      <td>1</td>\n      <td>随时看房 集中供暖</td>\n      <td>https://bj.lianjia.com/zufang/101101848906.html</td>\n    </tr>\n    <tr>\n      <td>629</td>\n      <td>北关租房</td>\n      <td>西潞苑小区</td>\n      <td>西潞苑小区 西向正规二居室 两个房间都有空调 短租房</td>\n      <td>2室1厅</td>\n      <td>78</td>\n      <td>1500</td>\n      <td>中楼层(共4层)</td>\n      <td>1999年建板楼</td>\n      <td>西</td>\n      <td>2017.07.26</td>\n      <td>1</td>\n      <td>随时看房 集中供暖</td>\n      <td>https://bj.lianjia.com/zufang/101101848906.html</td>\n    </tr>\n    <tr>\n      <td>1614</td>\n      <td>良乡租房</td>\n      <td>北关东路社区</td>\n      <td>北关东路社区 1室1厅 1700元</td>\n      <td>1室1厅</td>\n      <td>36</td>\n      <td>1700</td>\n      <td>中楼层(共5层)</td>\n      <td>1979年建</td>\n      <td>南</td>\n      <td>2017.07.23</td>\n      <td>5</td>\n      <td>随时看房</td>\n      <td>https://bj.lianjia.com/zufang/101101846245.html</td>\n    </tr>\n    <tr>\n      <td>1040</td>\n      <td>鼓楼大街租房</td>\n      <td>北环里小区</td>\n      <td>中间楼层东向&lt;span&gt;开间&lt;/span&gt; 简单装修 看房随时</td>\n      <td>1室1厅</td>\n      <td>41</td>\n      <td>1800</td>\n      <td>中楼层(共5层)</td>\n      <td>2004年建板楼</td>\n      <td>东</td>\n      <td>2017.07.23</td>\n      <td>9</td>\n      <td>距离昌平线昌平站909米 随时看房 集中供暖</td>\n      <td>https://bj.lianjia.com/zufang/101101770182.html</td>\n    </tr>\n    <tr>\n      <td>...</td>\n      <td>...</td>\n      <td>...</td>\n      <td>...</td>\n      <td>...</td>\n      <td>...</td>\n      <td>...</td>\n      <td>...</td>\n      <td>...</td>\n      <td>...</td>\n      <td>...</td>\n      <td>...</td>\n      <td>...</td>\n      <td>...</td>\n    </tr>\n    <tr>\n      <td>2012</td>\n      <td>太阳宫租房</td>\n      <td>太阳公元</td>\n      <td>太阳公元双卧朝阳三居 欧式家具 看房方便</td>\n      <td>3室2厅</td>\n      <td>159</td>\n      <td>36000</td>\n      <td>低楼层(共25层)</td>\n      <td>2010年建板塔结合</td>\n      <td>南 北</td>\n      <td>2017.07.27</td>\n      <td>15</td>\n      <td>距离13号线芍药居站851米 随时看房 精装修 集中供暖</td>\n      <td>https://bj.lianjia.com/zufang/101100777313.html</td>\n    </tr>\n    <tr>\n      <td>662</td>\n      <td>东直门租房</td>\n      <td>万国城MOMA</td>\n      <td>万国城大三居，小区中间位置，空房出租，可配家具！</td>\n      <td>3室2厅</td>\n      <td>244</td>\n      <td>36500</td>\n      <td>高楼层(共22层)</td>\n      <td>2006年建塔楼</td>\n      <td>东南</td>\n      <td>2017.07.17</td>\n      <td>15</td>\n      <td>距离2号线东直门站1101米 随时看房 精装修 集中供暖</td>\n      <td>https://bj.lianjia.com/zufang/101101714161.html</td>\n    </tr>\n    <tr>\n      <td>2050</td>\n      <td>官园租房</td>\n      <td>西派国际公寓</td>\n      <td>西城 官园金融街 车公庄地铁 精装 看房方便</td>\n      <td>3室2厅</td>\n      <td>191</td>\n      <td>40000</td>\n      <td>高楼层(共17层)</td>\n      <td>2009年建板楼</td>\n      <td>东 南 西</td>\n      <td>2017.07.20</td>\n      <td>25</td>\n      <td>距离2号线车公庄站423米 随时看房 精装修 集中供暖</td>\n      <td>https://bj.lianjia.com/zufang/101101462442.html</td>\n    </tr>\n    <tr>\n      <td>2010</td>\n      <td>酒仙桥租房</td>\n      <td>阳光上东</td>\n      <td>阳光上东丹麦南北西三面采光 精装随时住</td>\n      <td>4室2厅</td>\n      <td>285</td>\n      <td>45000</td>\n      <td>高楼层(共29层)</td>\n      <td>2009年建板楼</td>\n      <td>南 北</td>\n      <td>2017.07.26</td>\n      <td>6</td>\n      <td>距离14号线(东段)将台站1112米 随时看房 精装修 集中供暖</td>\n      <td>https://bj.lianjia.com/zufang/101101613695.html</td>\n    </tr>\n    <tr>\n      <td>2658</td>\n      <td>和平里租房</td>\n      <td>雍和家园二期</td>\n      <td>雍和家园 底商出租 使用面积720米</td>\n      <td>6室3厅</td>\n      <td>720</td>\n      <td>210000</td>\n      <td>低楼层(共6层)</td>\n      <td>2005年建板楼</td>\n      <td>南</td>\n      <td>2017.07.26</td>\n      <td>21</td>\n      <td>距离2号线雍和宫站293米 随时看房 集中供暖</td>\n      <td>https://bj.lianjia.com/zufang/101101672514.html</td>\n    </tr>\n  </tbody>\n</table>\n<p>2760 rows × 13 columns</p>\n</div>"
     },
     "execution_count": 40,
     "metadata": {},
     "output_type": "execute_result"
    }
   ],
   "source": [
    "house_data.sort_values('price')"
   ],
   "metadata": {
    "collapsed": false
   }
  },
  {
   "cell_type": "code",
   "execution_count": 41,
   "outputs": [
    {
     "data": {
      "text/plain": "     district address               title house_type  area   price     floor  \\\n2658    和平里租房  雍和家园二期  雍和家园 底商出租 使用面积720米       6室3厅   720  210000  低楼层(共6层)   \n\n     build_time direction update_time  view_num                extra_info  \\\n2658   2005年建板楼         南  2017.07.26        21   距离2号线雍和宫站293米 随时看房 集中供暖   \n\n                                                 link  \n2658  https://bj.lianjia.com/zufang/101101672514.html  ",
      "text/html": "<div>\n<style scoped>\n    .dataframe tbody tr th:only-of-type {\n        vertical-align: middle;\n    }\n\n    .dataframe tbody tr th {\n        vertical-align: top;\n    }\n\n    .dataframe thead th {\n        text-align: right;\n    }\n</style>\n<table border=\"1\" class=\"dataframe\">\n  <thead>\n    <tr style=\"text-align: right;\">\n      <th></th>\n      <th>district</th>\n      <th>address</th>\n      <th>title</th>\n      <th>house_type</th>\n      <th>area</th>\n      <th>price</th>\n      <th>floor</th>\n      <th>build_time</th>\n      <th>direction</th>\n      <th>update_time</th>\n      <th>view_num</th>\n      <th>extra_info</th>\n      <th>link</th>\n    </tr>\n  </thead>\n  <tbody>\n    <tr>\n      <td>2658</td>\n      <td>和平里租房</td>\n      <td>雍和家园二期</td>\n      <td>雍和家园 底商出租 使用面积720米</td>\n      <td>6室3厅</td>\n      <td>720</td>\n      <td>210000</td>\n      <td>低楼层(共6层)</td>\n      <td>2005年建板楼</td>\n      <td>南</td>\n      <td>2017.07.26</td>\n      <td>21</td>\n      <td>距离2号线雍和宫站293米 随时看房 集中供暖</td>\n      <td>https://bj.lianjia.com/zufang/101101672514.html</td>\n    </tr>\n  </tbody>\n</table>\n</div>"
     },
     "execution_count": 41,
     "metadata": {},
     "output_type": "execute_result"
    }
   ],
   "source": [
    "house_data.sort_values('price').tail(1)"
   ],
   "metadata": {
    "collapsed": false
   }
  },
  {
   "cell_type": "code",
   "execution_count": 42,
   "outputs": [
    {
     "data": {
      "text/plain": "     district address                 title house_type  area  price     floor  \\\n2527     良乡租房  伟业嘉园西里  半地下室 家电齐全 集中供暖 简单装修        1室1厅    46   1300  地下室(共5层)   \n\n     build_time direction update_time  view_num  extra_info  \\\n2527     2005年建         南  2017.07.19        14   随时看房 集中供暖   \n\n                                                 link  \n2527  https://bj.lianjia.com/zufang/101101538484.html  ",
      "text/html": "<div>\n<style scoped>\n    .dataframe tbody tr th:only-of-type {\n        vertical-align: middle;\n    }\n\n    .dataframe tbody tr th {\n        vertical-align: top;\n    }\n\n    .dataframe thead th {\n        text-align: right;\n    }\n</style>\n<table border=\"1\" class=\"dataframe\">\n  <thead>\n    <tr style=\"text-align: right;\">\n      <th></th>\n      <th>district</th>\n      <th>address</th>\n      <th>title</th>\n      <th>house_type</th>\n      <th>area</th>\n      <th>price</th>\n      <th>floor</th>\n      <th>build_time</th>\n      <th>direction</th>\n      <th>update_time</th>\n      <th>view_num</th>\n      <th>extra_info</th>\n      <th>link</th>\n    </tr>\n  </thead>\n  <tbody>\n    <tr>\n      <td>2527</td>\n      <td>良乡租房</td>\n      <td>伟业嘉园西里</td>\n      <td>半地下室 家电齐全 集中供暖 简单装修</td>\n      <td>1室1厅</td>\n      <td>46</td>\n      <td>1300</td>\n      <td>地下室(共5层)</td>\n      <td>2005年建</td>\n      <td>南</td>\n      <td>2017.07.19</td>\n      <td>14</td>\n      <td>随时看房 集中供暖</td>\n      <td>https://bj.lianjia.com/zufang/101101538484.html</td>\n    </tr>\n  </tbody>\n</table>\n</div>"
     },
     "execution_count": 42,
     "metadata": {},
     "output_type": "execute_result"
    }
   ],
   "source": [
    "house_data[house_data.price == house_data.price.min()]"
   ],
   "metadata": {
    "collapsed": false
   }
  },
  {
   "cell_type": "code",
   "execution_count": 43,
   "outputs": [
    {
     "data": {
      "text/plain": "     district address               title house_type  area   price     floor  \\\n2658    和平里租房  雍和家园二期  雍和家园 底商出租 使用面积720米       6室3厅   720  210000  低楼层(共6层)   \n\n     build_time direction update_time  view_num                extra_info  \\\n2658   2005年建板楼         南  2017.07.26        21   距离2号线雍和宫站293米 随时看房 集中供暖   \n\n                                                 link  \n2658  https://bj.lianjia.com/zufang/101101672514.html  ",
      "text/html": "<div>\n<style scoped>\n    .dataframe tbody tr th:only-of-type {\n        vertical-align: middle;\n    }\n\n    .dataframe tbody tr th {\n        vertical-align: top;\n    }\n\n    .dataframe thead th {\n        text-align: right;\n    }\n</style>\n<table border=\"1\" class=\"dataframe\">\n  <thead>\n    <tr style=\"text-align: right;\">\n      <th></th>\n      <th>district</th>\n      <th>address</th>\n      <th>title</th>\n      <th>house_type</th>\n      <th>area</th>\n      <th>price</th>\n      <th>floor</th>\n      <th>build_time</th>\n      <th>direction</th>\n      <th>update_time</th>\n      <th>view_num</th>\n      <th>extra_info</th>\n      <th>link</th>\n    </tr>\n  </thead>\n  <tbody>\n    <tr>\n      <td>2658</td>\n      <td>和平里租房</td>\n      <td>雍和家园二期</td>\n      <td>雍和家园 底商出租 使用面积720米</td>\n      <td>6室3厅</td>\n      <td>720</td>\n      <td>210000</td>\n      <td>低楼层(共6层)</td>\n      <td>2005年建板楼</td>\n      <td>南</td>\n      <td>2017.07.26</td>\n      <td>21</td>\n      <td>距离2号线雍和宫站293米 随时看房 集中供暖</td>\n      <td>https://bj.lianjia.com/zufang/101101672514.html</td>\n    </tr>\n  </tbody>\n</table>\n</div>"
     },
     "execution_count": 43,
     "metadata": {},
     "output_type": "execute_result"
    }
   ],
   "source": [
    "house_data.loc[house_data.price == house_data.price.max()]"
   ],
   "metadata": {
    "collapsed": false
   }
  },
  {
   "cell_type": "code",
   "execution_count": 44,
   "outputs": [
    {
     "data": {
      "text/plain": "     district address                 title house_type  area  price     floor  \\\n2527     良乡租房  伟业嘉园西里  半地下室 家电齐全 集中供暖 简单装修        1室1厅    46   1300  地下室(共5层)   \n\n     build_time direction update_time  view_num  extra_info  \\\n2527     2005年建         南  2017.07.19        14   随时看房 集中供暖   \n\n                                                 link  \n2527  https://bj.lianjia.com/zufang/101101538484.html  ",
      "text/html": "<div>\n<style scoped>\n    .dataframe tbody tr th:only-of-type {\n        vertical-align: middle;\n    }\n\n    .dataframe tbody tr th {\n        vertical-align: top;\n    }\n\n    .dataframe thead th {\n        text-align: right;\n    }\n</style>\n<table border=\"1\" class=\"dataframe\">\n  <thead>\n    <tr style=\"text-align: right;\">\n      <th></th>\n      <th>district</th>\n      <th>address</th>\n      <th>title</th>\n      <th>house_type</th>\n      <th>area</th>\n      <th>price</th>\n      <th>floor</th>\n      <th>build_time</th>\n      <th>direction</th>\n      <th>update_time</th>\n      <th>view_num</th>\n      <th>extra_info</th>\n      <th>link</th>\n    </tr>\n  </thead>\n  <tbody>\n    <tr>\n      <td>2527</td>\n      <td>良乡租房</td>\n      <td>伟业嘉园西里</td>\n      <td>半地下室 家电齐全 集中供暖 简单装修</td>\n      <td>1室1厅</td>\n      <td>46</td>\n      <td>1300</td>\n      <td>地下室(共5层)</td>\n      <td>2005年建</td>\n      <td>南</td>\n      <td>2017.07.19</td>\n      <td>14</td>\n      <td>随时看房 集中供暖</td>\n      <td>https://bj.lianjia.com/zufang/101101538484.html</td>\n    </tr>\n  </tbody>\n</table>\n</div>"
     },
     "execution_count": 44,
     "metadata": {},
     "output_type": "execute_result"
    }
   ],
   "source": [
    "house_data.sort_values('price').head(1)"
   ],
   "metadata": {
    "collapsed": false
   }
  },
  {
   "cell_type": "code",
   "execution_count": 45,
   "outputs": [
    {
     "data": {
      "text/plain": "     district  address                     title house_type  area   price  \\\n2012    太阳宫租房     太阳公元      太阳公元双卧朝阳三居 欧式家具 看房方便       3室2厅   159   36000   \n662     东直门租房  万国城MOMA  万国城大三居，小区中间位置，空房出租，可配家具！       3室2厅   244   36500   \n2050     官园租房   西派国际公寓    西城 官园金融街 车公庄地铁 精装 看房方便       3室2厅   191   40000   \n2010    酒仙桥租房     阳光上东       阳光上东丹麦南北西三面采光 精装随时住       4室2厅   285   45000   \n2658    和平里租房   雍和家园二期        雍和家园 底商出租 使用面积720米       6室3厅   720  210000   \n\n          floor  build_time direction update_time  view_num  \\\n2012  低楼层(共25层)  2010年建板塔结合       南 北  2017.07.27        15   \n662   高楼层(共22层)    2006年建塔楼        东南  2017.07.17        15   \n2050  高楼层(共17层)    2009年建板楼     东 南 西  2017.07.20        25   \n2010  高楼层(共29层)    2009年建板楼       南 北  2017.07.26         6   \n2658   低楼层(共6层)    2005年建板楼         南  2017.07.26        21   \n\n                             extra_info  \\\n2012       距离13号线芍药居站851米 随时看房 精装修 集中供暖   \n662        距离2号线东直门站1101米 随时看房 精装修 集中供暖   \n2050        距离2号线车公庄站423米 随时看房 精装修 集中供暖   \n2010   距离14号线(东段)将台站1112米 随时看房 精装修 集中供暖   \n2658            距离2号线雍和宫站293米 随时看房 集中供暖   \n\n                                                 link  \n2012  https://bj.lianjia.com/zufang/101100777313.html  \n662   https://bj.lianjia.com/zufang/101101714161.html  \n2050  https://bj.lianjia.com/zufang/101101462442.html  \n2010  https://bj.lianjia.com/zufang/101101613695.html  \n2658  https://bj.lianjia.com/zufang/101101672514.html  ",
      "text/html": "<div>\n<style scoped>\n    .dataframe tbody tr th:only-of-type {\n        vertical-align: middle;\n    }\n\n    .dataframe tbody tr th {\n        vertical-align: top;\n    }\n\n    .dataframe thead th {\n        text-align: right;\n    }\n</style>\n<table border=\"1\" class=\"dataframe\">\n  <thead>\n    <tr style=\"text-align: right;\">\n      <th></th>\n      <th>district</th>\n      <th>address</th>\n      <th>title</th>\n      <th>house_type</th>\n      <th>area</th>\n      <th>price</th>\n      <th>floor</th>\n      <th>build_time</th>\n      <th>direction</th>\n      <th>update_time</th>\n      <th>view_num</th>\n      <th>extra_info</th>\n      <th>link</th>\n    </tr>\n  </thead>\n  <tbody>\n    <tr>\n      <td>2012</td>\n      <td>太阳宫租房</td>\n      <td>太阳公元</td>\n      <td>太阳公元双卧朝阳三居 欧式家具 看房方便</td>\n      <td>3室2厅</td>\n      <td>159</td>\n      <td>36000</td>\n      <td>低楼层(共25层)</td>\n      <td>2010年建板塔结合</td>\n      <td>南 北</td>\n      <td>2017.07.27</td>\n      <td>15</td>\n      <td>距离13号线芍药居站851米 随时看房 精装修 集中供暖</td>\n      <td>https://bj.lianjia.com/zufang/101100777313.html</td>\n    </tr>\n    <tr>\n      <td>662</td>\n      <td>东直门租房</td>\n      <td>万国城MOMA</td>\n      <td>万国城大三居，小区中间位置，空房出租，可配家具！</td>\n      <td>3室2厅</td>\n      <td>244</td>\n      <td>36500</td>\n      <td>高楼层(共22层)</td>\n      <td>2006年建塔楼</td>\n      <td>东南</td>\n      <td>2017.07.17</td>\n      <td>15</td>\n      <td>距离2号线东直门站1101米 随时看房 精装修 集中供暖</td>\n      <td>https://bj.lianjia.com/zufang/101101714161.html</td>\n    </tr>\n    <tr>\n      <td>2050</td>\n      <td>官园租房</td>\n      <td>西派国际公寓</td>\n      <td>西城 官园金融街 车公庄地铁 精装 看房方便</td>\n      <td>3室2厅</td>\n      <td>191</td>\n      <td>40000</td>\n      <td>高楼层(共17层)</td>\n      <td>2009年建板楼</td>\n      <td>东 南 西</td>\n      <td>2017.07.20</td>\n      <td>25</td>\n      <td>距离2号线车公庄站423米 随时看房 精装修 集中供暖</td>\n      <td>https://bj.lianjia.com/zufang/101101462442.html</td>\n    </tr>\n    <tr>\n      <td>2010</td>\n      <td>酒仙桥租房</td>\n      <td>阳光上东</td>\n      <td>阳光上东丹麦南北西三面采光 精装随时住</td>\n      <td>4室2厅</td>\n      <td>285</td>\n      <td>45000</td>\n      <td>高楼层(共29层)</td>\n      <td>2009年建板楼</td>\n      <td>南 北</td>\n      <td>2017.07.26</td>\n      <td>6</td>\n      <td>距离14号线(东段)将台站1112米 随时看房 精装修 集中供暖</td>\n      <td>https://bj.lianjia.com/zufang/101101613695.html</td>\n    </tr>\n    <tr>\n      <td>2658</td>\n      <td>和平里租房</td>\n      <td>雍和家园二期</td>\n      <td>雍和家园 底商出租 使用面积720米</td>\n      <td>6室3厅</td>\n      <td>720</td>\n      <td>210000</td>\n      <td>低楼层(共6层)</td>\n      <td>2005年建板楼</td>\n      <td>南</td>\n      <td>2017.07.26</td>\n      <td>21</td>\n      <td>距离2号线雍和宫站293米 随时看房 集中供暖</td>\n      <td>https://bj.lianjia.com/zufang/101101672514.html</td>\n    </tr>\n  </tbody>\n</table>\n</div>"
     },
     "execution_count": 45,
     "metadata": {},
     "output_type": "execute_result"
    }
   ],
   "source": [
    "house_data.sort_values('price').tail(5)"
   ],
   "metadata": {
    "collapsed": false
   }
  },
  {
   "cell_type": "code",
   "execution_count": 46,
   "outputs": [
    {
     "data": {
      "text/plain": "     district    address                         title house_type  area  \\\n347      劲松租房       武圣西里            武圣西里正规三居室,低楼层,看房方便       3室1厅    73   \n1790    广安门租房       恒昌花园              广安门恒昌花园西向三居室集中供暖       3室2厅   159   \n2405   武夷花园租房       月亮城堡          月亮城堡精装修正规一居 南北通透 户型好       1室1厅   102   \n2639     常营租房     北京像素南区            北京像素 地铁6号线草房 北向开间       1房间1卫    48   \n2366     马甸租房      北太平庄路  牡丹园精装一居室 可当两居 350米到10号线 南北通透       1室1厅    33   \n405     东直门租房      海运仓小区           东四十条海运仓小区精装两居室诚意出租！       2室1厅    64   \n2538    四季青租房       观澜国际            观澜国际 带车位 二改三  家电齐全       3室1厅   122   \n407    武夷花园租房    京贸国际城西区       京贸国际城西区   全南两居室  家具家电齐全       2室1厅    91   \n2033    知春路租房       罗庄西里               罗庄西里两居室中等装修拎包即住       2室1厅    86   \n273     小西天租房  文慧园北路26号院    小西天积水潭 文慧园北路26号院精装双南二居拎包入住       2室0厅    55   \n\n      price      floor  build_time direction update_time  view_num  \\\n347    6500   低楼层(共6层)    1986年建板楼      东南 北  2017.07.27         0   \n1790  13500  高楼层(共28层)    1999年建塔楼         西  2017.07.27        12   \n2405   4500  低楼层(共11层)  2005年建板塔结合       南 北  2017.07.27        28   \n2639   3750  低楼层(共23层)  2012年建板塔结合         北  2017.07.27         3   \n2366   4000   低楼层(共5层)    1985年建板楼         南  2017.07.27        24   \n405    8500   中楼层(共8层)    2002年建板楼       东 西  2017.07.27        32   \n2538  13000  低楼层(共16层)    2004年建板楼       南 北  2017.07.27        13   \n407    4100  高楼层(共35层)    2011年建塔楼         南  2017.07.27        30   \n2033   8200  高楼层(共18层)    1998年建塔楼        东南  2017.07.27        18   \n273    5000  中楼层(共14层)    1989年建塔楼         南  2017.07.27        22   \n\n                         extra_info  \\\n347             距离10号线潘家园站965米 随时看房   \n1790        距离7号线达官营站292米 随时看房 集中供暖   \n2405                  随时看房 精装修 集中供暖   \n2639      距离6号线草房站66米 随时看房 精装修 集中供暖   \n2366   距离10号线牡丹园站335米 随时看房 精装修 集中供暖   \n405    距离2号线东四十条站808米 随时看房 精装修 集中供暖   \n2538    距离10号线车道沟站333米 随时看房 精装修 自供暖   \n407                   随时看房 精装修 集中供暖   \n2033       距离10号线知春路站698米 随时看房 集中供暖   \n273                       随时看房 集中供暖   \n\n                                                 link  \n347   https://bj.lianjia.com/zufang/101101862495.html  \n1790  https://bj.lianjia.com/zufang/101101692254.html  \n2405  https://bj.lianjia.com/zufang/101101495373.html  \n2639  https://bj.lianjia.com/zufang/101101852394.html  \n2366  https://bj.lianjia.com/zufang/101101622752.html  \n405   https://bj.lianjia.com/zufang/101101731530.html  \n2538  https://bj.lianjia.com/zufang/101101613246.html  \n407   https://bj.lianjia.com/zufang/101101708896.html  \n2033  https://bj.lianjia.com/zufang/101101414799.html  \n273   https://bj.lianjia.com/zufang/101101777561.html  ",
      "text/html": "<div>\n<style scoped>\n    .dataframe tbody tr th:only-of-type {\n        vertical-align: middle;\n    }\n\n    .dataframe tbody tr th {\n        vertical-align: top;\n    }\n\n    .dataframe thead th {\n        text-align: right;\n    }\n</style>\n<table border=\"1\" class=\"dataframe\">\n  <thead>\n    <tr style=\"text-align: right;\">\n      <th></th>\n      <th>district</th>\n      <th>address</th>\n      <th>title</th>\n      <th>house_type</th>\n      <th>area</th>\n      <th>price</th>\n      <th>floor</th>\n      <th>build_time</th>\n      <th>direction</th>\n      <th>update_time</th>\n      <th>view_num</th>\n      <th>extra_info</th>\n      <th>link</th>\n    </tr>\n  </thead>\n  <tbody>\n    <tr>\n      <td>347</td>\n      <td>劲松租房</td>\n      <td>武圣西里</td>\n      <td>武圣西里正规三居室,低楼层,看房方便</td>\n      <td>3室1厅</td>\n      <td>73</td>\n      <td>6500</td>\n      <td>低楼层(共6层)</td>\n      <td>1986年建板楼</td>\n      <td>东南 北</td>\n      <td>2017.07.27</td>\n      <td>0</td>\n      <td>距离10号线潘家园站965米 随时看房</td>\n      <td>https://bj.lianjia.com/zufang/101101862495.html</td>\n    </tr>\n    <tr>\n      <td>1790</td>\n      <td>广安门租房</td>\n      <td>恒昌花园</td>\n      <td>广安门恒昌花园西向三居室集中供暖</td>\n      <td>3室2厅</td>\n      <td>159</td>\n      <td>13500</td>\n      <td>高楼层(共28层)</td>\n      <td>1999年建塔楼</td>\n      <td>西</td>\n      <td>2017.07.27</td>\n      <td>12</td>\n      <td>距离7号线达官营站292米 随时看房 集中供暖</td>\n      <td>https://bj.lianjia.com/zufang/101101692254.html</td>\n    </tr>\n    <tr>\n      <td>2405</td>\n      <td>武夷花园租房</td>\n      <td>月亮城堡</td>\n      <td>月亮城堡精装修正规一居 南北通透 户型好</td>\n      <td>1室1厅</td>\n      <td>102</td>\n      <td>4500</td>\n      <td>低楼层(共11层)</td>\n      <td>2005年建板塔结合</td>\n      <td>南 北</td>\n      <td>2017.07.27</td>\n      <td>28</td>\n      <td>随时看房 精装修 集中供暖</td>\n      <td>https://bj.lianjia.com/zufang/101101495373.html</td>\n    </tr>\n    <tr>\n      <td>2639</td>\n      <td>常营租房</td>\n      <td>北京像素南区</td>\n      <td>北京像素 地铁6号线草房 北向开间</td>\n      <td>1房间1卫</td>\n      <td>48</td>\n      <td>3750</td>\n      <td>低楼层(共23层)</td>\n      <td>2012年建板塔结合</td>\n      <td>北</td>\n      <td>2017.07.27</td>\n      <td>3</td>\n      <td>距离6号线草房站66米 随时看房 精装修 集中供暖</td>\n      <td>https://bj.lianjia.com/zufang/101101852394.html</td>\n    </tr>\n    <tr>\n      <td>2366</td>\n      <td>马甸租房</td>\n      <td>北太平庄路</td>\n      <td>牡丹园精装一居室 可当两居 350米到10号线 南北通透</td>\n      <td>1室1厅</td>\n      <td>33</td>\n      <td>4000</td>\n      <td>低楼层(共5层)</td>\n      <td>1985年建板楼</td>\n      <td>南</td>\n      <td>2017.07.27</td>\n      <td>24</td>\n      <td>距离10号线牡丹园站335米 随时看房 精装修 集中供暖</td>\n      <td>https://bj.lianjia.com/zufang/101101622752.html</td>\n    </tr>\n    <tr>\n      <td>405</td>\n      <td>东直门租房</td>\n      <td>海运仓小区</td>\n      <td>东四十条海运仓小区精装两居室诚意出租！</td>\n      <td>2室1厅</td>\n      <td>64</td>\n      <td>8500</td>\n      <td>中楼层(共8层)</td>\n      <td>2002年建板楼</td>\n      <td>东 西</td>\n      <td>2017.07.27</td>\n      <td>32</td>\n      <td>距离2号线东四十条站808米 随时看房 精装修 集中供暖</td>\n      <td>https://bj.lianjia.com/zufang/101101731530.html</td>\n    </tr>\n    <tr>\n      <td>2538</td>\n      <td>四季青租房</td>\n      <td>观澜国际</td>\n      <td>观澜国际 带车位 二改三  家电齐全</td>\n      <td>3室1厅</td>\n      <td>122</td>\n      <td>13000</td>\n      <td>低楼层(共16层)</td>\n      <td>2004年建板楼</td>\n      <td>南 北</td>\n      <td>2017.07.27</td>\n      <td>13</td>\n      <td>距离10号线车道沟站333米 随时看房 精装修 自供暖</td>\n      <td>https://bj.lianjia.com/zufang/101101613246.html</td>\n    </tr>\n    <tr>\n      <td>407</td>\n      <td>武夷花园租房</td>\n      <td>京贸国际城西区</td>\n      <td>京贸国际城西区   全南两居室  家具家电齐全</td>\n      <td>2室1厅</td>\n      <td>91</td>\n      <td>4100</td>\n      <td>高楼层(共35层)</td>\n      <td>2011年建塔楼</td>\n      <td>南</td>\n      <td>2017.07.27</td>\n      <td>30</td>\n      <td>随时看房 精装修 集中供暖</td>\n      <td>https://bj.lianjia.com/zufang/101101708896.html</td>\n    </tr>\n    <tr>\n      <td>2033</td>\n      <td>知春路租房</td>\n      <td>罗庄西里</td>\n      <td>罗庄西里两居室中等装修拎包即住</td>\n      <td>2室1厅</td>\n      <td>86</td>\n      <td>8200</td>\n      <td>高楼层(共18层)</td>\n      <td>1998年建塔楼</td>\n      <td>东南</td>\n      <td>2017.07.27</td>\n      <td>18</td>\n      <td>距离10号线知春路站698米 随时看房 集中供暖</td>\n      <td>https://bj.lianjia.com/zufang/101101414799.html</td>\n    </tr>\n    <tr>\n      <td>273</td>\n      <td>小西天租房</td>\n      <td>文慧园北路26号院</td>\n      <td>小西天积水潭 文慧园北路26号院精装双南二居拎包入住</td>\n      <td>2室0厅</td>\n      <td>55</td>\n      <td>5000</td>\n      <td>中楼层(共14层)</td>\n      <td>1989年建塔楼</td>\n      <td>南</td>\n      <td>2017.07.27</td>\n      <td>22</td>\n      <td>随时看房 集中供暖</td>\n      <td>https://bj.lianjia.com/zufang/101101777561.html</td>\n    </tr>\n  </tbody>\n</table>\n</div>"
     },
     "execution_count": 46,
     "metadata": {},
     "output_type": "execute_result"
    }
   ],
   "source": [
    "house_data.sort_values('update_time', ascending=False).head(10)"
   ],
   "metadata": {
    "collapsed": false
   }
  },
  {
   "cell_type": "code",
   "execution_count": 47,
   "outputs": [
    {
     "data": {
      "text/plain": "array(['2017.07.21', '2017.07.23', '2017.07.20', '2017.07.25',\n       '2017.07.26', '2017.07.16', '2017.07.22', '2017.07.24',\n       '2017.07.27', '2017.07.19', '2017.07.14', '2017.07.15',\n       '2017.07.17', '2017.07.18'], dtype=object)"
     },
     "execution_count": 47,
     "metadata": {},
     "output_type": "execute_result"
    }
   ],
   "source": [
    "house_data.update_time.unique()"
   ],
   "metadata": {
    "collapsed": false
   }
  },
  {
   "cell_type": "code",
   "execution_count": 48,
   "outputs": [
    {
     "data": {
      "text/plain": "13.44891304347826"
     },
     "execution_count": 48,
     "metadata": {},
     "output_type": "execute_result"
    }
   ],
   "source": [
    "house_data.view_num.mean()"
   ],
   "metadata": {
    "collapsed": false
   }
  },
  {
   "cell_type": "code",
   "execution_count": 49,
   "outputs": [
    {
     "data": {
      "text/plain": "10.0"
     },
     "execution_count": 49,
     "metadata": {},
     "output_type": "execute_result"
    }
   ],
   "source": [
    "house_data.view_num.median()"
   ],
   "metadata": {
    "collapsed": false
   }
  },
  {
   "cell_type": "code",
   "execution_count": 50,
   "outputs": [
    {
     "data": {
      "text/plain": "   view_num  count\n0         0    152\n1         1    149\n2         2    143\n3         3    129\n4         4    147",
      "text/html": "<div>\n<style scoped>\n    .dataframe tbody tr th:only-of-type {\n        vertical-align: middle;\n    }\n\n    .dataframe tbody tr th {\n        vertical-align: top;\n    }\n\n    .dataframe thead th {\n        text-align: right;\n    }\n</style>\n<table border=\"1\" class=\"dataframe\">\n  <thead>\n    <tr style=\"text-align: right;\">\n      <th></th>\n      <th>view_num</th>\n      <th>count</th>\n    </tr>\n  </thead>\n  <tbody>\n    <tr>\n      <td>0</td>\n      <td>0</td>\n      <td>152</td>\n    </tr>\n    <tr>\n      <td>1</td>\n      <td>1</td>\n      <td>149</td>\n    </tr>\n    <tr>\n      <td>2</td>\n      <td>2</td>\n      <td>143</td>\n    </tr>\n    <tr>\n      <td>3</td>\n      <td>3</td>\n      <td>129</td>\n    </tr>\n    <tr>\n      <td>4</td>\n      <td>4</td>\n      <td>147</td>\n    </tr>\n  </tbody>\n</table>\n</div>"
     },
     "execution_count": 50,
     "metadata": {},
     "output_type": "execute_result"
    }
   ],
   "source": [
    "tmp_df = house_data.groupby('view_num',as_index=False)['district'].count()\n",
    "tmp_df.columns = ['view_num', 'count']\n",
    "tmp_df.head()"
   ],
   "metadata": {
    "collapsed": false
   }
  },
  {
   "cell_type": "code",
   "execution_count": 51,
   "outputs": [
    {
     "data": {
      "text/plain": "<AxesSubplot:>"
     },
     "execution_count": 51,
     "metadata": {},
     "output_type": "execute_result"
    },
    {
     "data": {
      "text/plain": "<Figure size 1440x720 with 1 Axes>",
      "image/png": "[encoded data removed]"
     },
     "metadata": {
      "needs_background": "light"
     },
     "output_type": "display_data"
    }
   ],
   "source": [
    "tmp_df['count'].plot(kind='bar',figsize=(20,10))"
   ],
   "metadata": {
    "collapsed": false
   }
  },
  {
   "cell_type": "code",
   "execution_count": 52,
   "outputs": [
    {
     "data": {
      "text/plain": "(7570.800724637681, 6316.204986067457, 6000.0)"
     },
     "execution_count": 52,
     "metadata": {},
     "output_type": "execute_result"
    }
   ],
   "source": [
    "house_data.price.mean(), house_data.price.std(), house_data.price.median()"
   ],
   "metadata": {
    "collapsed": false
   }
  },
  {
   "cell_type": "code",
   "execution_count": 53,
   "outputs": [
    {
     "data": {
      "text/plain": "   direction  view_num\n0          东      2224\n1       东 东北        34\n2       东 东南         8\n3     东 东南 南        21\n4        东 北       214\n5        东 南       456\n6      东 南 北       272\n7      东 南 西        57\n8    东 南 西 北        31\n9        东 西      1459\n10     东 西 北       120\n11      东 西北        49\n12      东 西南        12\n13        东北       939\n14        东南      2711\n15     东南 东北         3\n16      东南 北        90\n17      东南 南        54\n18      东南 西        11\n19     东南 西北        70\n20     东南 西南        44\n21         北      1817\n22         南      7449\n23       南 北     11785\n24       南 西       428\n25     南 西 北       278\n26      南 西北        62\n27      南 西南        19\n28         西      2106\n29       西 北       226\n30        西北      1344\n31        西南      2581\n32     西南 东北        36\n33      西南 北        84\n34      西南 西        25",
      "text/html": "<div>\n<style scoped>\n    .dataframe tbody tr th:only-of-type {\n        vertical-align: middle;\n    }\n\n    .dataframe tbody tr th {\n        vertical-align: top;\n    }\n\n    .dataframe thead th {\n        text-align: right;\n    }\n</style>\n<table border=\"1\" class=\"dataframe\">\n  <thead>\n    <tr style=\"text-align: right;\">\n      <th></th>\n      <th>direction</th>\n      <th>view_num</th>\n    </tr>\n  </thead>\n  <tbody>\n    <tr>\n      <td>0</td>\n      <td>东</td>\n      <td>2224</td>\n    </tr>\n    <tr>\n      <td>1</td>\n      <td>东 东北</td>\n      <td>34</td>\n    </tr>\n    <tr>\n      <td>2</td>\n      <td>东 东南</td>\n      <td>8</td>\n    </tr>\n    <tr>\n      <td>3</td>\n      <td>东 东南 南</td>\n      <td>21</td>\n    </tr>\n    <tr>\n      <td>4</td>\n      <td>东 北</td>\n      <td>214</td>\n    </tr>\n    <tr>\n      <td>5</td>\n      <td>东 南</td>\n      <td>456</td>\n    </tr>\n    <tr>\n      <td>6</td>\n      <td>东 南 北</td>\n      <td>272</td>\n    </tr>\n    <tr>\n      <td>7</td>\n      <td>东 南 西</td>\n      <td>57</td>\n    </tr>\n    <tr>\n      <td>8</td>\n      <td>东 南 西 北</td>\n      <td>31</td>\n    </tr>\n    <tr>\n      <td>9</td>\n      <td>东 西</td>\n      <td>1459</td>\n    </tr>\n    <tr>\n      <td>10</td>\n      <td>东 西 北</td>\n      <td>120</td>\n    </tr>\n    <tr>\n      <td>11</td>\n      <td>东 西北</td>\n      <td>49</td>\n    </tr>\n    <tr>\n      <td>12</td>\n      <td>东 西南</td>\n      <td>12</td>\n    </tr>\n    <tr>\n      <td>13</td>\n      <td>东北</td>\n      <td>939</td>\n    </tr>\n    <tr>\n      <td>14</td>\n      <td>东南</td>\n      <td>2711</td>\n    </tr>\n    <tr>\n      <td>15</td>\n      <td>东南 东北</td>\n      <td>3</td>\n    </tr>\n    <tr>\n      <td>16</td>\n      <td>东南 北</td>\n      <td>90</td>\n    </tr>\n    <tr>\n      <td>17</td>\n      <td>东南 南</td>\n      <td>54</td>\n    </tr>\n    <tr>\n      <td>18</td>\n      <td>东南 西</td>\n      <td>11</td>\n    </tr>\n    <tr>\n      <td>19</td>\n      <td>东南 西北</td>\n      <td>70</td>\n    </tr>\n    <tr>\n      <td>20</td>\n      <td>东南 西南</td>\n      <td>44</td>\n    </tr>\n    <tr>\n      <td>21</td>\n      <td>北</td>\n      <td>1817</td>\n    </tr>\n    <tr>\n      <td>22</td>\n      <td>南</td>\n      <td>7449</td>\n    </tr>\n    <tr>\n      <td>23</td>\n      <td>南 北</td>\n      <td>11785</td>\n    </tr>\n    <tr>\n      <td>24</td>\n      <td>南 西</td>\n      <td>428</td>\n    </tr>\n    <tr>\n      <td>25</td>\n      <td>南 西 北</td>\n      <td>278</td>\n    </tr>\n    <tr>\n      <td>26</td>\n      <td>南 西北</td>\n      <td>62</td>\n    </tr>\n    <tr>\n      <td>27</td>\n      <td>南 西南</td>\n      <td>19</td>\n    </tr>\n    <tr>\n      <td>28</td>\n      <td>西</td>\n      <td>2106</td>\n    </tr>\n    <tr>\n      <td>29</td>\n      <td>西 北</td>\n      <td>226</td>\n    </tr>\n    <tr>\n      <td>30</td>\n      <td>西北</td>\n      <td>1344</td>\n    </tr>\n    <tr>\n      <td>31</td>\n      <td>西南</td>\n      <td>2581</td>\n    </tr>\n    <tr>\n      <td>32</td>\n      <td>西南 东北</td>\n      <td>36</td>\n    </tr>\n    <tr>\n      <td>33</td>\n      <td>西南 北</td>\n      <td>84</td>\n    </tr>\n    <tr>\n      <td>34</td>\n      <td>西南 西</td>\n      <td>25</td>\n    </tr>\n  </tbody>\n</table>\n</div>"
     },
     "execution_count": 53,
     "metadata": {},
     "output_type": "execute_result"
    }
   ],
   "source": [
    "popular_direction = house_data.groupby('direction', as_index=False)[['view_num']].sum()\n",
    "popular_direction"
   ],
   "metadata": {
    "collapsed": false
   }
  },
  {
   "cell_type": "code",
   "execution_count": 54,
   "outputs": [
    {
     "data": {
      "text/plain": "   direction  view_num\n23       南 北     11785\n22         南      7449\n14        东南      2711\n31        西南      2581\n0          东      2224\n28         西      2106\n21         北      1817\n9        东 西      1459\n30        西北      1344\n13        东北       939\n5        东 南       456\n24       南 西       428\n25     南 西 北       278\n6      东 南 北       272\n29       西 北       226\n4        东 北       214\n10     东 西 北       120\n16      东南 北        90\n33      西南 北        84\n19     东南 西北        70\n26      南 西北        62\n7      东 南 西        57\n17      东南 南        54\n11      东 西北        49\n20     东南 西南        44\n32     西南 东北        36\n1       东 东北        34\n8    东 南 西 北        31\n34      西南 西        25\n3     东 东南 南        21\n27      南 西南        19\n12      东 西南        12\n18      东南 西        11\n2       东 东南         8\n15     东南 东北         3",
      "text/html": "<div>\n<style scoped>\n    .dataframe tbody tr th:only-of-type {\n        vertical-align: middle;\n    }\n\n    .dataframe tbody tr th {\n        vertical-align: top;\n    }\n\n    .dataframe thead th {\n        text-align: right;\n    }\n</style>\n<table border=\"1\" class=\"dataframe\">\n  <thead>\n    <tr style=\"text-align: right;\">\n      <th></th>\n      <th>direction</th>\n      <th>view_num</th>\n    </tr>\n  </thead>\n  <tbody>\n    <tr>\n      <td>23</td>\n      <td>南 北</td>\n      <td>11785</td>\n    </tr>\n    <tr>\n      <td>22</td>\n      <td>南</td>\n      <td>7449</td>\n    </tr>\n    <tr>\n      <td>14</td>\n      <td>东南</td>\n      <td>2711</td>\n    </tr>\n    <tr>\n      <td>31</td>\n      <td>西南</td>\n      <td>2581</td>\n    </tr>\n    <tr>\n      <td>0</td>\n      <td>东</td>\n      <td>2224</td>\n    </tr>\n    <tr>\n      <td>28</td>\n      <td>西</td>\n      <td>2106</td>\n    </tr>\n    <tr>\n      <td>21</td>\n      <td>北</td>\n      <td>1817</td>\n    </tr>\n    <tr>\n      <td>9</td>\n      <td>东 西</td>\n      <td>1459</td>\n    </tr>\n    <tr>\n      <td>30</td>\n      <td>西北</td>\n      <td>1344</td>\n    </tr>\n    <tr>\n      <td>13</td>\n      <td>东北</td>\n      <td>939</td>\n    </tr>\n    <tr>\n      <td>5</td>\n      <td>东 南</td>\n      <td>456</td>\n    </tr>\n    <tr>\n      <td>24</td>\n      <td>南 西</td>\n      <td>428</td>\n    </tr>\n    <tr>\n      <td>25</td>\n      <td>南 西 北</td>\n      <td>278</td>\n    </tr>\n    <tr>\n      <td>6</td>\n      <td>东 南 北</td>\n      <td>272</td>\n    </tr>\n    <tr>\n      <td>29</td>\n      <td>西 北</td>\n      <td>226</td>\n    </tr>\n    <tr>\n      <td>4</td>\n      <td>东 北</td>\n      <td>214</td>\n    </tr>\n    <tr>\n      <td>10</td>\n      <td>东 西 北</td>\n      <td>120</td>\n    </tr>\n    <tr>\n      <td>16</td>\n      <td>东南 北</td>\n      <td>90</td>\n    </tr>\n    <tr>\n      <td>33</td>\n      <td>西南 北</td>\n      <td>84</td>\n    </tr>\n    <tr>\n      <td>19</td>\n      <td>东南 西北</td>\n      <td>70</td>\n    </tr>\n    <tr>\n      <td>26</td>\n      <td>南 西北</td>\n      <td>62</td>\n    </tr>\n    <tr>\n      <td>7</td>\n      <td>东 南 西</td>\n      <td>57</td>\n    </tr>\n    <tr>\n      <td>17</td>\n      <td>东南 南</td>\n      <td>54</td>\n    </tr>\n    <tr>\n      <td>11</td>\n      <td>东 西北</td>\n      <td>49</td>\n    </tr>\n    <tr>\n      <td>20</td>\n      <td>东南 西南</td>\n      <td>44</td>\n    </tr>\n    <tr>\n      <td>32</td>\n      <td>西南 东北</td>\n      <td>36</td>\n    </tr>\n    <tr>\n      <td>1</td>\n      <td>东 东北</td>\n      <td>34</td>\n    </tr>\n    <tr>\n      <td>8</td>\n      <td>东 南 西 北</td>\n      <td>31</td>\n    </tr>\n    <tr>\n      <td>34</td>\n      <td>西南 西</td>\n      <td>25</td>\n    </tr>\n    <tr>\n      <td>3</td>\n      <td>东 东南 南</td>\n      <td>21</td>\n    </tr>\n    <tr>\n      <td>27</td>\n      <td>南 西南</td>\n      <td>19</td>\n    </tr>\n    <tr>\n      <td>12</td>\n      <td>东 西南</td>\n      <td>12</td>\n    </tr>\n    <tr>\n      <td>18</td>\n      <td>东南 西</td>\n      <td>11</td>\n    </tr>\n    <tr>\n      <td>2</td>\n      <td>东 东南</td>\n      <td>8</td>\n    </tr>\n    <tr>\n      <td>15</td>\n      <td>东南 东北</td>\n      <td>3</td>\n    </tr>\n  </tbody>\n</table>\n</div>"
     },
     "execution_count": 54,
     "metadata": {},
     "output_type": "execute_result"
    }
   ],
   "source": [
    "popular_direction.sort_values('view_num', ascending=False)"
   ],
   "metadata": {
    "collapsed": false
   }
  },
  {
   "cell_type": "code",
   "execution_count": 55,
   "outputs": [],
   "source": [
    "plt.rcParams['font.sans-serif'] = ['Alibaba PuHuiTi']\n",
    "plt.rcParams['axes.unicode_minus'] = False"
   ],
   "metadata": {
    "collapsed": false
   }
  },
  {
   "cell_type": "code",
   "execution_count": 56,
   "outputs": [
    {
     "data": {
      "text/plain": "            district  address  title  area  price  floor  build_time  \\\nhouse_type                                                             \n1室0厅             157      157    157   157    157    157         157   \n1室1厅             457      457    457   457    457    457         457   \n1室2厅              17       17     17    17     17     17          17   \n1房间1卫              8        8      8     8      8      8           8   \n2室0厅               9        9      9     9      9      9           9   \n2室1厅            1284     1284   1284  1284   1284   1284        1283   \n2室2厅             142      142    142   142    142    142         142   \n2房间1卫              6        6      6     6      6      6           6   \n2房间2卫              2        2      2     2      2      2           2   \n3室0厅               3        3      3     3      3      3           3   \n3室1厅             371      371    371   371    371    371         370   \n3室2厅             207      207    207   207    207    207         207   \n3室3厅               3        3      3     3      3      3           3   \n3房间1卫              3        3      3     3      3      3           3   \n3房间2卫              4        4      4     4      4      4           4   \n4室1厅              21       21     21    21     21     21          21   \n4室2厅              42       42     42    42     42     42          42   \n4室3厅               3        3      3     3      3      3           3   \n5室1厅               4        4      4     4      4      4           4   \n5室2厅               8        8      8     8      8      8           8   \n5室3厅               5        5      5     5      5      5           5   \n5房间2卫              1        1      1     1      1      1           1   \n6室2厅               2        2      2     2      2      2           2   \n6室3厅               1        1      1     1      1      1           1   \n\n            direction  update_time  view_num  extra_info  link  \nhouse_type                                                      \n1室0厅              157          157       157         157   157  \n1室1厅              457          457       457         457   457  \n1室2厅               17           17        17          17    17  \n1房间1卫               8            8         8           8     8  \n2室0厅                9            9         9           9     9  \n2室1厅             1284         1284      1284        1284  1284  \n2室2厅              142          142       142         142   142  \n2房间1卫               6            6         6           6     6  \n2房间2卫               2            2         2           2     2  \n3室0厅                3            3         3           3     3  \n3室1厅              371          371       371         371   371  \n3室2厅              207          207       207         207   207  \n3室3厅                3            3         3           3     3  \n3房间1卫               3            3         3           3     3  \n3房间2卫               4            4         4           4     4  \n4室1厅               21           21        21          21    21  \n4室2厅               42           42        42          42    42  \n4室3厅                3            3         3           3     3  \n5室1厅                4            4         4           4     4  \n5室2厅                8            8         8           8     8  \n5室3厅                5            5         5           5     5  \n5房间2卫               1            1         1           1     1  \n6室2厅                2            2         2           2     2  \n6室3厅                1            1         1           1     1  ",
      "text/html": "<div>\n<style scoped>\n    .dataframe tbody tr th:only-of-type {\n        vertical-align: middle;\n    }\n\n    .dataframe tbody tr th {\n        vertical-align: top;\n    }\n\n    .dataframe thead th {\n        text-align: right;\n    }\n</style>\n<table border=\"1\" class=\"dataframe\">\n  <thead>\n    <tr style=\"text-align: right;\">\n      <th></th>\n      <th>district</th>\n      <th>address</th>\n      <th>title</th>\n      <th>area</th>\n      <th>price</th>\n      <th>floor</th>\n      <th>build_time</th>\n      <th>direction</th>\n      <th>update_time</th>\n      <th>view_num</th>\n      <th>extra_info</th>\n      <th>link</th>\n    </tr>\n    <tr>\n      <th>house_type</th>\n      <th></th>\n      <th></th>\n      <th></th>\n      <th></th>\n      <th></th>\n      <th></th>\n      <th></th>\n      <th></th>\n      <th></th>\n      <th></th>\n      <th></th>\n      <th></th>\n    </tr>\n  </thead>\n  <tbody>\n    <tr>\n      <td>1室0厅</td>\n      <td>157</td>\n      <td>157</td>\n      <td>157</td>\n      <td>157</td>\n      <td>157</td>\n      <td>157</td>\n      <td>157</td>\n      <td>157</td>\n      <td>157</td>\n      <td>157</td>\n      <td>157</td>\n      <td>157</td>\n    </tr>\n    <tr>\n      <td>1室1厅</td>\n      <td>457</td>\n      <td>457</td>\n      <td>457</td>\n      <td>457</td>\n      <td>457</td>\n      <td>457</td>\n      <td>457</td>\n      <td>457</td>\n      <td>457</td>\n      <td>457</td>\n      <td>457</td>\n      <td>457</td>\n    </tr>\n    <tr>\n      <td>1室2厅</td>\n      <td>17</td>\n      <td>17</td>\n      <td>17</td>\n      <td>17</td>\n      <td>17</td>\n      <td>17</td>\n      <td>17</td>\n      <td>17</td>\n      <td>17</td>\n      <td>17</td>\n      <td>17</td>\n      <td>17</td>\n    </tr>\n    <tr>\n      <td>1房间1卫</td>\n      <td>8</td>\n      <td>8</td>\n      <td>8</td>\n      <td>8</td>\n      <td>8</td>\n      <td>8</td>\n      <td>8</td>\n      <td>8</td>\n      <td>8</td>\n      <td>8</td>\n      <td>8</td>\n      <td>8</td>\n    </tr>\n    <tr>\n      <td>2室0厅</td>\n      <td>9</td>\n      <td>9</td>\n      <td>9</td>\n      <td>9</td>\n      <td>9</td>\n      <td>9</td>\n      <td>9</td>\n      <td>9</td>\n      <td>9</td>\n      <td>9</td>\n      <td>9</td>\n      <td>9</td>\n    </tr>\n    <tr>\n      <td>2室1厅</td>\n      <td>1284</td>\n      <td>1284</td>\n      <td>1284</td>\n      <td>1284</td>\n      <td>1284</td>\n      <td>1284</td>\n      <td>1283</td>\n      <td>1284</td>\n      <td>1284</td>\n      <td>1284</td>\n      <td>1284</td>\n      <td>1284</td>\n    </tr>\n    <tr>\n      <td>2室2厅</td>\n      <td>142</td>\n      <td>142</td>\n      <td>142</td>\n      <td>142</td>\n      <td>142</td>\n      <td>142</td>\n      <td>142</td>\n      <td>142</td>\n      <td>142</td>\n      <td>142</td>\n      <td>142</td>\n      <td>142</td>\n    </tr>\n    <tr>\n      <td>2房间1卫</td>\n      <td>6</td>\n      <td>6</td>\n      <td>6</td>\n      <td>6</td>\n      <td>6</td>\n      <td>6</td>\n      <td>6</td>\n      <td>6</td>\n      <td>6</td>\n      <td>6</td>\n      <td>6</td>\n      <td>6</td>\n    </tr>\n    <tr>\n      <td>2房间2卫</td>\n      <td>2</td>\n      <td>2</td>\n      <td>2</td>\n      <td>2</td>\n      <td>2</td>\n      <td>2</td>\n      <td>2</td>\n      <td>2</td>\n      <td>2</td>\n      <td>2</td>\n      <td>2</td>\n      <td>2</td>\n    </tr>\n    <tr>\n      <td>3室0厅</td>\n      <td>3</td>\n      <td>3</td>\n      <td>3</td>\n      <td>3</td>\n      <td>3</td>\n      <td>3</td>\n      <td>3</td>\n      <td>3</td>\n      <td>3</td>\n      <td>3</td>\n      <td>3</td>\n      <td>3</td>\n    </tr>\n    <tr>\n      <td>3室1厅</td>\n      <td>371</td>\n      <td>371</td>\n      <td>371</td>\n      <td>371</td>\n      <td>371</td>\n      <td>371</td>\n      <td>370</td>\n      <td>371</td>\n      <td>371</td>\n      <td>371</td>\n      <td>371</td>\n      <td>371</td>\n    </tr>\n    <tr>\n      <td>3室2厅</td>\n      <td>207</td>\n      <td>207</td>\n      <td>207</td>\n      <td>207</td>\n      <td>207</td>\n      <td>207</td>\n      <td>207</td>\n      <td>207</td>\n      <td>207</td>\n      <td>207</td>\n      <td>207</td>\n      <td>207</td>\n    </tr>\n    <tr>\n      <td>3室3厅</td>\n      <td>3</td>\n      <td>3</td>\n      <td>3</td>\n      <td>3</td>\n      <td>3</td>\n      <td>3</td>\n      <td>3</td>\n      <td>3</td>\n      <td>3</td>\n      <td>3</td>\n      <td>3</td>\n      <td>3</td>\n    </tr>\n    <tr>\n      <td>3房间1卫</td>\n      <td>3</td>\n      <td>3</td>\n      <td>3</td>\n      <td>3</td>\n      <td>3</td>\n      <td>3</td>\n      <td>3</td>\n      <td>3</td>\n      <td>3</td>\n      <td>3</td>\n      <td>3</td>\n      <td>3</td>\n    </tr>\n    <tr>\n      <td>3房间2卫</td>\n      <td>4</td>\n      <td>4</td>\n      <td>4</td>\n      <td>4</td>\n      <td>4</td>\n      <td>4</td>\n      <td>4</td>\n      <td>4</td>\n      <td>4</td>\n      <td>4</td>\n      <td>4</td>\n      <td>4</td>\n    </tr>\n    <tr>\n      <td>4室1厅</td>\n      <td>21</td>\n      <td>21</td>\n      <td>21</td>\n      <td>21</td>\n      <td>21</td>\n      <td>21</td>\n      <td>21</td>\n      <td>21</td>\n      <td>21</td>\n      <td>21</td>\n      <td>21</td>\n      <td>21</td>\n    </tr>\n    <tr>\n      <td>4室2厅</td>\n      <td>42</td>\n      <td>42</td>\n      <td>42</td>\n      <td>42</td>\n      <td>42</td>\n      <td>42</td>\n      <td>42</td>\n      <td>42</td>\n      <td>42</td>\n      <td>42</td>\n      <td>42</td>\n      <td>42</td>\n    </tr>\n    <tr>\n      <td>4室3厅</td>\n      <td>3</td>\n      <td>3</td>\n      <td>3</td>\n      <td>3</td>\n      <td>3</td>\n      <td>3</td>\n      <td>3</td>\n      <td>3</td>\n      <td>3</td>\n      <td>3</td>\n      <td>3</td>\n      <td>3</td>\n    </tr>\n    <tr>\n      <td>5室1厅</td>\n      <td>4</td>\n      <td>4</td>\n      <td>4</td>\n      <td>4</td>\n      <td>4</td>\n      <td>4</td>\n      <td>4</td>\n      <td>4</td>\n      <td>4</td>\n      <td>4</td>\n      <td>4</td>\n      <td>4</td>\n    </tr>\n    <tr>\n      <td>5室2厅</td>\n      <td>8</td>\n      <td>8</td>\n      <td>8</td>\n      <td>8</td>\n      <td>8</td>\n      <td>8</td>\n      <td>8</td>\n      <td>8</td>\n      <td>8</td>\n      <td>8</td>\n      <td>8</td>\n      <td>8</td>\n    </tr>\n    <tr>\n      <td>5室3厅</td>\n      <td>5</td>\n      <td>5</td>\n      <td>5</td>\n      <td>5</td>\n      <td>5</td>\n      <td>5</td>\n      <td>5</td>\n      <td>5</td>\n      <td>5</td>\n      <td>5</td>\n      <td>5</td>\n      <td>5</td>\n    </tr>\n    <tr>\n      <td>5房间2卫</td>\n      <td>1</td>\n      <td>1</td>\n      <td>1</td>\n      <td>1</td>\n      <td>1</td>\n      <td>1</td>\n      <td>1</td>\n      <td>1</td>\n      <td>1</td>\n      <td>1</td>\n      <td>1</td>\n      <td>1</td>\n    </tr>\n    <tr>\n      <td>6室2厅</td>\n      <td>2</td>\n      <td>2</td>\n      <td>2</td>\n      <td>2</td>\n      <td>2</td>\n      <td>2</td>\n      <td>2</td>\n      <td>2</td>\n      <td>2</td>\n      <td>2</td>\n      <td>2</td>\n      <td>2</td>\n    </tr>\n    <tr>\n      <td>6室3厅</td>\n      <td>1</td>\n      <td>1</td>\n      <td>1</td>\n      <td>1</td>\n      <td>1</td>\n      <td>1</td>\n      <td>1</td>\n      <td>1</td>\n      <td>1</td>\n      <td>1</td>\n      <td>1</td>\n      <td>1</td>\n    </tr>\n  </tbody>\n</table>\n</div>"
     },
     "execution_count": 56,
     "metadata": {},
     "output_type": "execute_result"
    }
   ],
   "source": [
    "house_type_dis = house_data.groupby('house_type').count()\n",
    "house_type_dis"
   ],
   "metadata": {
    "collapsed": false
   }
  },
  {
   "cell_type": "code",
   "execution_count": 57,
   "outputs": [
    {
     "data": {
      "text/plain": "<AxesSubplot:xlabel='house_type'>"
     },
     "execution_count": 57,
     "metadata": {},
     "output_type": "execute_result"
    },
    {
     "data": {
      "text/plain": "<Figure size 432x288 with 1 Axes>",
      "image/png": "[encoded data removed]"
     },
     "metadata": {
      "needs_background": "light"
     },
     "output_type": "display_data"
    }
   ],
   "source": [
    "house_type_dis.district.plot(kind='bar')"
   ],
   "metadata": {
    "collapsed": false
   }
  },
  {
   "cell_type": "code",
   "execution_count": 58,
   "outputs": [
    {
     "data": {
      "text/plain": "   house_type  view_num\n0        1室0厅      2242\n1        1室1厅      7037\n2        1室2厅       290\n3       1房间1卫        74\n4        2室0厅       142\n5        2室1厅     17589\n6        2室2厅      1789\n7       2房间1卫       119\n8       2房间2卫        32\n9        3室0厅        32\n10       3室1厅      4467\n11       3室2厅      2458\n12       3室3厅        12\n13      3房间1卫        51\n14      3房间2卫        57\n15       4室1厅       156\n16       4室2厅       398\n17       4室3厅        30\n18       5室1厅        21\n19       5室2厅        43\n20       5室3厅        32\n21      5房间2卫         3\n22       6室2厅        24\n23       6室3厅        21",
      "text/html": "<div>\n<style scoped>\n    .dataframe tbody tr th:only-of-type {\n        vertical-align: middle;\n    }\n\n    .dataframe tbody tr th {\n        vertical-align: top;\n    }\n\n    .dataframe thead th {\n        text-align: right;\n    }\n</style>\n<table border=\"1\" class=\"dataframe\">\n  <thead>\n    <tr style=\"text-align: right;\">\n      <th></th>\n      <th>house_type</th>\n      <th>view_num</th>\n    </tr>\n  </thead>\n  <tbody>\n    <tr>\n      <td>0</td>\n      <td>1室0厅</td>\n      <td>2242</td>\n    </tr>\n    <tr>\n      <td>1</td>\n      <td>1室1厅</td>\n      <td>7037</td>\n    </tr>\n    <tr>\n      <td>2</td>\n      <td>1室2厅</td>\n      <td>290</td>\n    </tr>\n    <tr>\n      <td>3</td>\n      <td>1房间1卫</td>\n      <td>74</td>\n    </tr>\n    <tr>\n      <td>4</td>\n      <td>2室0厅</td>\n      <td>142</td>\n    </tr>\n    <tr>\n      <td>5</td>\n      <td>2室1厅</td>\n      <td>17589</td>\n    </tr>\n    <tr>\n      <td>6</td>\n      <td>2室2厅</td>\n      <td>1789</td>\n    </tr>\n    <tr>\n      <td>7</td>\n      <td>2房间1卫</td>\n      <td>119</td>\n    </tr>\n    <tr>\n      <td>8</td>\n      <td>2房间2卫</td>\n      <td>32</td>\n    </tr>\n    <tr>\n      <td>9</td>\n      <td>3室0厅</td>\n      <td>32</td>\n    </tr>\n    <tr>\n      <td>10</td>\n      <td>3室1厅</td>\n      <td>4467</td>\n    </tr>\n    <tr>\n      <td>11</td>\n      <td>3室2厅</td>\n      <td>2458</td>\n    </tr>\n    <tr>\n      <td>12</td>\n      <td>3室3厅</td>\n      <td>12</td>\n    </tr>\n    <tr>\n      <td>13</td>\n      <td>3房间1卫</td>\n      <td>51</td>\n    </tr>\n    <tr>\n      <td>14</td>\n      <td>3房间2卫</td>\n      <td>57</td>\n    </tr>\n    <tr>\n      <td>15</td>\n      <td>4室1厅</td>\n      <td>156</td>\n    </tr>\n    <tr>\n      <td>16</td>\n      <td>4室2厅</td>\n      <td>398</td>\n    </tr>\n    <tr>\n      <td>17</td>\n      <td>4室3厅</td>\n      <td>30</td>\n    </tr>\n    <tr>\n      <td>18</td>\n      <td>5室1厅</td>\n      <td>21</td>\n    </tr>\n    <tr>\n      <td>19</td>\n      <td>5室2厅</td>\n      <td>43</td>\n    </tr>\n    <tr>\n      <td>20</td>\n      <td>5室3厅</td>\n      <td>32</td>\n    </tr>\n    <tr>\n      <td>21</td>\n      <td>5房间2卫</td>\n      <td>3</td>\n    </tr>\n    <tr>\n      <td>22</td>\n      <td>6室2厅</td>\n      <td>24</td>\n    </tr>\n    <tr>\n      <td>23</td>\n      <td>6室3厅</td>\n      <td>21</td>\n    </tr>\n  </tbody>\n</table>\n</div>"
     },
     "execution_count": 58,
     "metadata": {},
     "output_type": "execute_result"
    }
   ],
   "source": [
    "tmp = house_data.groupby('house_type', as_index=False).agg({'view_num': 'sum'})\n",
    "tmp"
   ],
   "metadata": {
    "collapsed": false
   }
  },
  {
   "cell_type": "code",
   "execution_count": 59,
   "outputs": [
    {
     "data": {
      "text/plain": "  house_type  view_num\n5       2室1厅     17589",
      "text/html": "<div>\n<style scoped>\n    .dataframe tbody tr th:only-of-type {\n        vertical-align: middle;\n    }\n\n    .dataframe tbody tr th {\n        vertical-align: top;\n    }\n\n    .dataframe thead th {\n        text-align: right;\n    }\n</style>\n<table border=\"1\" class=\"dataframe\">\n  <thead>\n    <tr style=\"text-align: right;\">\n      <th></th>\n      <th>house_type</th>\n      <th>view_num</th>\n    </tr>\n  </thead>\n  <tbody>\n    <tr>\n      <td>5</td>\n      <td>2室1厅</td>\n      <td>17589</td>\n    </tr>\n  </tbody>\n</table>\n</div>"
     },
     "execution_count": 59,
     "metadata": {},
     "output_type": "execute_result"
    }
   ],
   "source": [
    "tmp.sort_values('view_num', ascending=False).head(1)"
   ],
   "metadata": {
    "collapsed": false
   }
  },
  {
   "cell_type": "code",
   "execution_count": 60,
   "outputs": [
    {
     "data": {
      "text/plain": "87.72268429900429"
     },
     "execution_count": 60,
     "metadata": {},
     "output_type": "execute_result"
    }
   ],
   "source": [
    "house_data.loc[:, 'price_per_m2'] = house_data.price / house_data.area\n",
    "house_data['price_per_m2'].mean()"
   ],
   "metadata": {
    "collapsed": false
   }
  },
  {
   "cell_type": "code",
   "execution_count": 61,
   "outputs": [
    {
     "data": {
      "text/plain": "     address  view_num\n951      清芷园       246\n369     卡布其诺       245\n938     润枫水尚       217\n1149   芍药居北里       194\n743      新康园       186",
      "text/html": "<div>\n<style scoped>\n    .dataframe tbody tr th:only-of-type {\n        vertical-align: middle;\n    }\n\n    .dataframe tbody tr th {\n        vertical-align: top;\n    }\n\n    .dataframe thead th {\n        text-align: right;\n    }\n</style>\n<table border=\"1\" class=\"dataframe\">\n  <thead>\n    <tr style=\"text-align: right;\">\n      <th></th>\n      <th>address</th>\n      <th>view_num</th>\n    </tr>\n  </thead>\n  <tbody>\n    <tr>\n      <td>951</td>\n      <td>清芷园</td>\n      <td>246</td>\n    </tr>\n    <tr>\n      <td>369</td>\n      <td>卡布其诺</td>\n      <td>245</td>\n    </tr>\n    <tr>\n      <td>938</td>\n      <td>润枫水尚</td>\n      <td>217</td>\n    </tr>\n    <tr>\n      <td>1149</td>\n      <td>芍药居北里</td>\n      <td>194</td>\n    </tr>\n    <tr>\n      <td>743</td>\n      <td>新康园</td>\n      <td>186</td>\n    </tr>\n  </tbody>\n</table>\n</div>"
     },
     "execution_count": 61,
     "metadata": {},
     "output_type": "execute_result"
    }
   ],
   "source": [
    "address_df = house_data.groupby('address', as_index=False)['view_num'].sum()\n",
    "address_df.sort_values(by='view_num', ascending=False).head()"
   ],
   "metadata": {
    "collapsed": false
   }
  },
  {
   "cell_type": "code",
   "execution_count": 62,
   "outputs": [
    {
     "data": {
      "text/plain": "        address  view_num\n0       10AM新坐标         3\n1           11站         1\n2       BOBO自由城         2\n3     CBD总部公寓二期         1\n4       DBC加州小镇         1\n...         ...       ...\n1468      龙翔路小区         3\n1469      龙腾苑二区         1\n1470      龙腾苑四区         1\n1471     龙锦苑东五区         1\n1472        龙鼎园         1\n\n[1473 rows x 2 columns]",
      "text/html": "<div>\n<style scoped>\n    .dataframe tbody tr th:only-of-type {\n        vertical-align: middle;\n    }\n\n    .dataframe tbody tr th {\n        vertical-align: top;\n    }\n\n    .dataframe thead th {\n        text-align: right;\n    }\n</style>\n<table border=\"1\" class=\"dataframe\">\n  <thead>\n    <tr style=\"text-align: right;\">\n      <th></th>\n      <th>address</th>\n      <th>view_num</th>\n    </tr>\n  </thead>\n  <tbody>\n    <tr>\n      <td>0</td>\n      <td>10AM新坐标</td>\n      <td>3</td>\n    </tr>\n    <tr>\n      <td>1</td>\n      <td>11站</td>\n      <td>1</td>\n    </tr>\n    <tr>\n      <td>2</td>\n      <td>BOBO自由城</td>\n      <td>2</td>\n    </tr>\n    <tr>\n      <td>3</td>\n      <td>CBD总部公寓二期</td>\n      <td>1</td>\n    </tr>\n    <tr>\n      <td>4</td>\n      <td>DBC加州小镇</td>\n      <td>1</td>\n    </tr>\n    <tr>\n      <td>...</td>\n      <td>...</td>\n      <td>...</td>\n    </tr>\n    <tr>\n      <td>1468</td>\n      <td>龙翔路小区</td>\n      <td>3</td>\n    </tr>\n    <tr>\n      <td>1469</td>\n      <td>龙腾苑二区</td>\n      <td>1</td>\n    </tr>\n    <tr>\n      <td>1470</td>\n      <td>龙腾苑四区</td>\n      <td>1</td>\n    </tr>\n    <tr>\n      <td>1471</td>\n      <td>龙锦苑东五区</td>\n      <td>1</td>\n    </tr>\n    <tr>\n      <td>1472</td>\n      <td>龙鼎园</td>\n      <td>1</td>\n    </tr>\n  </tbody>\n</table>\n<p>1473 rows × 2 columns</p>\n</div>"
     },
     "execution_count": 62,
     "metadata": {},
     "output_type": "execute_result"
    }
   ],
   "source": [
    "tmp_df2 = house_data[['address', 'view_num']].groupby('address', as_index=False).count()\n",
    "tmp_df2"
   ],
   "metadata": {
    "collapsed": false
   }
  },
  {
   "cell_type": "code",
   "execution_count": 63,
   "outputs": [
    {
     "data": {
      "text/plain": "     address  count\n1288    远洋山水     19",
      "text/html": "<div>\n<style scoped>\n    .dataframe tbody tr th:only-of-type {\n        vertical-align: middle;\n    }\n\n    .dataframe tbody tr th {\n        vertical-align: top;\n    }\n\n    .dataframe thead th {\n        text-align: right;\n    }\n</style>\n<table border=\"1\" class=\"dataframe\">\n  <thead>\n    <tr style=\"text-align: right;\">\n      <th></th>\n      <th>address</th>\n      <th>count</th>\n    </tr>\n  </thead>\n  <tbody>\n    <tr>\n      <td>1288</td>\n      <td>远洋山水</td>\n      <td>19</td>\n    </tr>\n  </tbody>\n</table>\n</div>"
     },
     "execution_count": 63,
     "metadata": {},
     "output_type": "execute_result"
    }
   ],
   "source": [
    "tmp_df2.columns =  ['address','count']\n",
    "tmp_df2.nlargest(columns='count', n=1)"
   ],
   "metadata": {
    "collapsed": false
   }
  },
  {
   "cell_type": "code",
   "execution_count": 63,
   "outputs": [],
   "source": [],
   "metadata": {
    "collapsed": false
   }
  }
 ],
 "metadata": {
  "kernelspec": {
   "display_name": "Python 3",
   "language": "python",
   "name": "python3"
  },
  "language_info": {
   "codemirror_mode": {
    "name": "ipython",
    "version": 2
   },
   "file_extension": ".py",
   "mimetype": "text/x-python",
   "name": "python",
   "nbconvert_exporter": "python",
   "pygments_lexer": "ipython2",
   "version": "2.7.6"
  }
 },
 "nbformat": 4,
 "nbformat_minor": 0
}
