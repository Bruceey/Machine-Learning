{
 "cells": [
  {
   "cell_type": "code",
   "execution_count": null,
   "id": "initial_id",
   "metadata": {
    "collapsed": true
   },
   "outputs": [],
   "source": [
    "from torchtext.legacy.datasets.text_classification import _csv_iterator, _create_data_from_iterator, TextClassificationDataset\n",
    "from torchtext.utils import extract_archive\n",
    "from torchtext.vocab import build_vocab_from_iterator, Vocab\n",
    "# 从本地加载数据的方式，本地数据在虚拟机/root/data/ag_news_csv中\n",
    "# 定义加载函数\n",
    "def setup_datasets(ngrams=2, vocab_train=None, vocab_test=None, include_unk=False):\n",
    "\n",
    "    train_csv_path = 'data/ag_news_csv/train.csv'\n",
    "    test_csv_path = 'data/ag_news_csv/test.csv'\n",
    "\n",
    "    if vocab_train is None:\n",
    "        vocab_train = build_vocab_from_iterator(_csv_iterator(train_csv_path, ngrams))\n",
    "    else:\n",
    "        if not isinstance(vocab, Vocab):\n",
    "            raise TypeError(\"Passed vocabulary is not of type Vocab\")\n",
    "\n",
    "    if vocab_test is None:\n",
    "        vocab_test = build_vocab_from_iterator(_csv_iterator(test_csv_path, ngrams))\n",
    "    else:\n",
    "        if not isinstance(vocab, Vocab):\n",
    "            raise TypeError(\"Passed vocabulary is not of type Vocab\")\n",
    "\n",
    "    train_data, train_labels = _create_data_from_iterator(\n",
    "        vocab_train, _csv_iterator(train_csv_path, ngrams, yield_cls=True), include_unk)\n",
    "    test_data, test_labels = _create_data_from_iterator(\n",
    "        vocab_test, _csv_iterator(test_csv_path, ngrams, yield_cls=True), include_unk)\n",
    "\n",
    "    if len(train_labels ^ test_labels) > 0:\n",
    "        raise ValueError(\"Training and test labels don't match\")\n",
    "    return (TextClassificationDataset(vocab_train, train_data, train_labels),\n",
    "            TextClassificationDataset(vocab_test, test_data, test_labels))\n",
    "\n",
    "\n",
    "# 调用函数, 加载本地数据\n",
    "train_dataset, test_dataset = setup_datasets()\n",
    "print(\"train_dataset\", train_dataset)\n"
   ]
  }
 ],
 "metadata": {
  "kernelspec": {
   "display_name": "Python 3",
   "language": "python",
   "name": "python3"
  },
  "language_info": {
   "codemirror_mode": {
    "name": "ipython",
    "version": 2
   },
   "file_extension": ".py",
   "mimetype": "text/x-python",
   "name": "python",
   "nbconvert_exporter": "python",
   "pygments_lexer": "ipython2",
   "version": "2.7.6"
  }
 },
 "nbformat": 4,
 "nbformat_minor": 5
}
