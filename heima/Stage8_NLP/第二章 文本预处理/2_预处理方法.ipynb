{
 "cells": [
  {
   "cell_type": "code",
   "execution_count": 1,
   "id": "c2a89b89b9f86f3c",
   "metadata": {
    "collapsed": true,
    "ExecuteTime": {
     "end_time": "2023-08-21T03:37:29.364688Z",
     "start_time": "2023-08-21T03:37:29.338468Z"
    }
   },
   "outputs": [
    {
     "data": {
      "text/plain": "<generator object Tokenizer.cut at 0x110239310>"
     },
     "execution_count": 1,
     "metadata": {},
     "output_type": "execute_result"
    }
   ],
   "source": [
    "import jieba\n",
    "content = \"无线电法国别研究\"\n",
    "jieba.cut(content, cut_all=False)  # cut_all默认为False"
   ]
  },
  {
   "cell_type": "code",
   "execution_count": 2,
   "outputs": [
    {
     "name": "stderr",
     "output_type": "stream",
     "text": [
      "Building prefix dict from the default dictionary ...\n",
      "Loading model from cache /var/folders/z8/y_hn633943lgllk3gb3g61r00000gn/T/jieba.cache\n",
      "Loading model cost 0.594 seconds.\n",
      "Prefix dict has been built successfully.\n"
     ]
    },
    {
     "data": {
      "text/plain": "['无线电', '法国', '别', '研究']"
     },
     "execution_count": 2,
     "metadata": {},
     "output_type": "execute_result"
    }
   ],
   "source": [
    "# 精确模式分词:\n",
    "# 试图将句子最精确地切开，适合文本分析.\n",
    "# 若需直接返回列表内容, 使用jieba.lcut即可\n",
    "jieba.lcut(content, cut_all=False)"
   ],
   "metadata": {
    "collapsed": false,
    "ExecuteTime": {
     "end_time": "2023-08-21T03:37:29.973248Z",
     "start_time": "2023-08-21T03:37:29.366257Z"
    }
   },
   "id": "initial_id"
  },
  {
   "cell_type": "code",
   "execution_count": 3,
   "outputs": [
    {
     "data": {
      "text/plain": "['无线', '无线电', '法国', '国别', '研究']"
     },
     "execution_count": 3,
     "metadata": {},
     "output_type": "execute_result"
    }
   ],
   "source": [
    "# 全模式分词:\n",
    "# 把句子中所有的可以成词的词语都扫描出来, 速度非常快，但是不能消除歧义\n",
    "jieba.lcut(content, cut_all=True)"
   ],
   "metadata": {
    "collapsed": false,
    "ExecuteTime": {
     "end_time": "2023-08-21T03:37:29.973703Z",
     "start_time": "2023-08-21T03:37:29.968791Z"
    }
   },
   "id": "d128b5c3c1f0bd04"
  },
  {
   "cell_type": "code",
   "execution_count": 4,
   "outputs": [
    {
     "data": {
      "text/plain": "['无线', '无线电', '法国', '别', '研究']"
     },
     "execution_count": 4,
     "metadata": {},
     "output_type": "execute_result"
    }
   ],
   "source": [
    "#搜索引擎模式分词:\n",
    "# 在精确模式的基础上，对长词再次切分，提高召回率，适合用于搜索引擎分词\n",
    "jieba.lcut_for_search(content)"
   ],
   "metadata": {
    "collapsed": false,
    "ExecuteTime": {
     "end_time": "2023-08-21T03:37:29.980650Z",
     "start_time": "2023-08-21T03:37:29.975836Z"
    }
   },
   "id": "4fb1699378619f55"
  },
  {
   "cell_type": "markdown",
   "source": [
    "### 繁体字分词"
   ],
   "metadata": {
    "collapsed": false
   },
   "id": "e76e2a623f7c5adc"
  },
  {
   "cell_type": "code",
   "execution_count": 5,
   "outputs": [
    {
     "data": {
      "text/plain": "['煩惱', '即', '是', '菩提', '，', '我', '暫且', '不', '提']"
     },
     "execution_count": 5,
     "metadata": {},
     "output_type": "execute_result"
    }
   ],
   "source": [
    "content = \"煩惱即是菩提，我暫且不提\"\n",
    "jieba.lcut(content)\n",
    "# ['煩惱', '即', '是', '菩提', '，', '我', '暫且', '不', '提']"
   ],
   "metadata": {
    "collapsed": false,
    "ExecuteTime": {
     "end_time": "2023-08-21T03:37:30.016528Z",
     "start_time": "2023-08-21T03:37:29.982576Z"
    }
   },
   "id": "7cdf4c3169f1e1fb"
  },
  {
   "cell_type": "markdown",
   "source": [
    "# 使用用户自定义词典:"
   ],
   "metadata": {
    "collapsed": false
   },
   "id": "32fe718b0582d669"
  },
  {
   "cell_type": "code",
   "execution_count": 6,
   "outputs": [
    {
     "data": {
      "text/plain": "['八', '一双', '鹿', '更名', '为', '八一', '南昌', '篮球队', '！']"
     },
     "execution_count": 6,
     "metadata": {},
     "output_type": "execute_result"
    }
   ],
   "source": [
    "import jieba\n",
    "jieba.lcut(\"八一双鹿更名为八一南昌篮球队！\")\n",
    "# 没有使用用户自定义词典前的结果:\n",
    "# ['八', '一双', '鹿', '更名', '为', '八一', '南昌', '篮球队', '！']"
   ],
   "metadata": {
    "collapsed": false,
    "ExecuteTime": {
     "end_time": "2023-08-21T03:37:33.146271Z",
     "start_time": "2023-08-21T03:37:33.141054Z"
    }
   },
   "id": "de8f6663883ac67d"
  },
  {
   "cell_type": "code",
   "execution_count": 8,
   "outputs": [
    {
     "data": {
      "text/plain": "['八一双鹿', '更名', '为', '八一', '南昌', '篮球队', '！']"
     },
     "execution_count": 8,
     "metadata": {},
     "output_type": "execute_result"
    }
   ],
   "source": [
    "jieba.load_userdict(\"../data/userdict.txt\")\n",
    "jieba.lcut(\"八一双鹿更名为八一南昌篮球队！\")\n",
    "# 使用了用户自定义词典后的结果:\n",
    "# ['八一双鹿', '更名', '为', '八一', '南昌', '篮球队', '！']"
   ],
   "metadata": {
    "collapsed": false,
    "ExecuteTime": {
     "end_time": "2023-08-21T03:37:53.506967Z",
     "start_time": "2023-08-21T03:37:53.499767Z"
    }
   },
   "id": "b44b196c1e0ca445"
  },
  {
   "cell_type": "markdown",
   "source": [
    "# 2. 命名实体识别"
   ],
   "metadata": {
    "collapsed": false
   },
   "id": "5dfc3fff98b34163"
  },
  {
   "cell_type": "markdown",
   "source": [
    "# 3. 词性标注"
   ],
   "metadata": {
    "collapsed": false
   },
   "id": "3ce8c3d132a6fdf0"
  },
  {
   "cell_type": "code",
   "execution_count": 9,
   "outputs": [
    {
     "data": {
      "text/plain": "[pair('我', 'r'), pair('爱', 'v'), pair('北京', 'ns'), pair('天安门', 'ns')]"
     },
     "execution_count": 9,
     "metadata": {},
     "output_type": "execute_result"
    }
   ],
   "source": [
    "import jieba.posseg as pseg\n",
    "pseg.lcut(\"我爱北京天安门\")\n",
    "# [pair('我', 'r'), pair('爱', 'v'), pair('北京', 'ns'), pair('天安门', 'ns')]\n",
    "\n",
    "# 结果返回一个装有pair元组的列表, 每个pair元组中分别是词汇及其对应的词性, 具体词性含义请参照[附录: jieba词性对照表]()\n"
   ],
   "metadata": {
    "collapsed": false,
    "ExecuteTime": {
     "end_time": "2023-08-21T03:40:38.961187Z",
     "start_time": "2023-08-21T03:40:38.643987Z"
    }
   },
   "id": "b8989638aa733d80"
  },
  {
   "cell_type": "code",
   "execution_count": null,
   "outputs": [],
   "source": [],
   "metadata": {
    "collapsed": false
   },
   "id": "47703d733578ae41"
  }
 ],
 "metadata": {
  "kernelspec": {
   "display_name": "Python 3",
   "language": "python",
   "name": "python3"
  },
  "language_info": {
   "codemirror_mode": {
    "name": "ipython",
    "version": 2
   },
   "file_extension": ".py",
   "mimetype": "text/x-python",
   "name": "python",
   "nbconvert_exporter": "python",
   "pygments_lexer": "ipython2",
   "version": "2.7.6"
  }
 },
 "nbformat": 4,
 "nbformat_minor": 5
}
