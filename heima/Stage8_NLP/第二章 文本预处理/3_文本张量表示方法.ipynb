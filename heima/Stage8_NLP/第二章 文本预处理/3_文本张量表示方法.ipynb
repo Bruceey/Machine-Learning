{
 "cells": [
  {
   "cell_type": "markdown",
   "source": [
    "# 文本张量表示的方法:\n",
    "\n",
    "- one-hot编码\n",
    "- Word2vec\n",
    "- Word Embedding"
   ],
   "metadata": {
    "collapsed": false
   },
   "id": "e43e501ee836c809"
  },
  {
   "cell_type": "markdown",
   "source": [
    "## 1. one-hot编码"
   ],
   "metadata": {
    "collapsed": false
   },
   "id": "a026556e940a79f3"
  },
  {
   "cell_type": "markdown",
   "source": [
    "## 2. Word2Vec\n",
    "本质上是神经网络\n",
    "有两种模式\n",
    "- 1. CBOW模式，两边预测中间\n",
    "- 2. skipgram模式，中间预测两边"
   ],
   "metadata": {
    "collapsed": false
   },
   "id": "245cd15594f9503b"
  },
  {
   "cell_type": "code",
   "execution_count": null,
   "outputs": [],
   "source": [
    "# 1. 获取训练数据\n",
    "# 原始数据是enwik9\n",
    "# 经过处理后是fil9"
   ],
   "metadata": {
    "collapsed": false
   },
   "id": "c18d2cc6354e98c6"
  },
  {
   "cell_type": "code",
   "execution_count": null,
   "id": "initial_id",
   "metadata": {
    "collapsed": true
   },
   "outputs": [],
   "source": [
    "# 2. 训练词向量\n",
    "# 导入fasttext\n",
    "import fasttext\n",
    "# 使用fasttext的train_unsupervised(无监督训练方法)进行词向量的训练\n",
    "# 它的参数是数据集的持久化文件路径'data/fil9'\n",
    "\n",
    "# 注意，该行代码执行耗时很长\n",
    "model1 = fasttext.train_unsupervised('data/fil9')\n",
    "\n",
    "# 可以使用以下代码加载已经训练好的模型\n",
    "model = fasttext.load_model(\"data/fil9.bin\")\n",
    "# 有效训练词汇量为124M, 共218316个单词\n",
    "# Read 124M words\n",
    "# Number of words:  218316\n",
    "# Number of labels: 0\n",
    "# Progress: 100.0% words/sec/thread:   53996 lr:  0.000000 loss:  0.734999 ETA:   0h 0m"
   ]
  },
  {
   "cell_type": "code",
   "execution_count": null,
   "outputs": [],
   "source": [
    "# 3. 查看单词对应的词向量\n",
    "# 通过get_word_vector方法来获得指定词汇的词向量\n",
    "model.get_word_vector(\"the\")\n",
    "\n",
    "# array([-0.03087516,  0.09221972,  0.17660329,  0.17308897,  0.12863874,\n",
    "#        0.13912526, -0.09851588,  0.00739991,  0.37038437, -0.00845221,\n",
    "#        ...\n",
    "#        -0.21184735, -0.05048715, -0.34571868,  0.23765688,  0.23726143],\n",
    "#       dtype=float32)\n"
   ],
   "metadata": {
    "collapsed": false
   },
   "id": "21f05248ee306f20"
  },
  {
   "cell_type": "code",
   "execution_count": null,
   "outputs": [],
   "source": [
    "# 4 模型超参数设定\n",
    "# 在训练词向量过程中, 我们可以设定很多常用超参数来调节我们的模型效果, 如:\n",
    "# 无监督训练模式: 'skipgram' 或者 'cbow', 默认为'skipgram', 在实践中，skipgram模式在利用子词方面比cbow更好.\n",
    "# 词嵌入维度dim: 默认为100, 但随着语料库的增大, 词嵌入的维度往往也要更大.\n",
    "# 数据循环次数epoch: 默认为5, 但当你的数据集足够大, 可能不需要那么多次.\n",
    "# 学习率lr: 默认为0.05, 根据经验, 建议选择[0.01，1]范围内.\n",
    "# 使用的线程数thread: 默认为12个线程, 一般建议和你的cpu核数相同.\n",
    "\n",
    "model = fasttext.train_unsupervised('data/fil9', \"cbow\", dim=300, epoch=1, lr=0.1, thread=8)\n",
    "\n",
    "# Read 124M words\n",
    "# Number of words:  218316\n",
    "# Number of labels: 0\n",
    "# Progress: 100.0% words/sec/thread:   49523 lr:  0.000000 avg.loss:  1.777205 ETA:   0h 0m 0s"
   ],
   "metadata": {
    "collapsed": false
   },
   "id": "d63f62036dc6e8ba"
  },
  {
   "cell_type": "code",
   "execution_count": null,
   "outputs": [],
   "source": [
    "# 5 模型效果检验\n",
    "\"\"\"\n",
    "# 检查单词向量质量的一种简单方法就是查看其邻近单词, 通过我们主观来判断这些邻近单词是否与目标单词相关来粗略评定模型效果好坏.\n",
    "\n",
    "# 查找\"运动\"的邻近单词, 我们可以发现\"体育网\", \"运动汽车\", \"运动服\"等. \n",
    ">>> model.get_nearest_neighbors('sports')\n",
    "\n",
    "[(0.8414610624313354, 'sportsnet'), (0.8134572505950928, 'sport'), (0.8100415468215942, 'sportscars'), (0.8021156787872314, 'sportsground'), (0.7889881134033203, 'sportswomen'), (0.7863013744354248, 'sportsplex'), (0.7786710262298584, 'sporty'), (0.7696356177330017, 'sportscar'), (0.7619683146476746, 'sportswear'), (0.7600985765457153, 'sportin')]\n",
    "\n",
    "\n",
    "# 查找\"音乐\"的邻近单词, 我们可以发现与音乐有关的词汇.\n",
    ">>> model.get_nearest_neighbors('music')\n",
    "\n",
    "[(0.8908010125160217, 'emusic'), (0.8464668393135071, 'musicmoz'), (0.8444250822067261, 'musics'), (0.8113634586334229, 'allmusic'), (0.8106718063354492, 'musices'), (0.8049437999725342, 'musicam'), (0.8004694581031799, 'musicom'), (0.7952923774719238, 'muchmusic'), (0.7852965593338013, 'musicweb'), (0.7767147421836853, 'musico')]\n",
    "\n",
    "# 查找\"小狗\"的邻近单词, 我们可以发现与小狗有关的词汇.\n",
    ">>> model.get_nearest_neighbors('dog')\n",
    "\n",
    "[(0.8456876873970032, 'catdog'), (0.7480780482292175, 'dogcow'), (0.7289096117019653, 'sleddog'), (0.7269964218139648, 'hotdog'), (0.7114801406860352, 'sheepdog'), (0.6947550773620605, 'dogo'), (0.6897546648979187, 'bodog'), (0.6621081829071045, 'maddog'), (0.6605004072189331, 'dogs'), (0.6398137211799622, 'dogpile')]\n",
    "\n",
    "\"\"\""
   ],
   "metadata": {
    "collapsed": false
   },
   "id": "9c6c340938577a61"
  },
  {
   "cell_type": "code",
   "execution_count": null,
   "outputs": [],
   "source": [
    "# 6. 模型的保存与重加载\n",
    "\"\"\"\n",
    "# 使用save_model保存模型\n",
    ">>> model.save_model(\"fil9.bin\")\n",
    "\n",
    "# 使用fasttext.load_model加载模型\n",
    ">>> model = fasttext.load_model(\"fil9.bin\")\n",
    ">>> model.get_word_vector(\"the\")\n",
    "\n",
    "array([-0.03087516,  0.09221972,  0.17660329,  0.17308897,  0.12863874,\n",
    "        0.13912526, -0.09851588,  0.00739991,  0.37038437, -0.00845221,\n",
    "        ...\n",
    "       -0.21184735, -0.05048715, -0.34571868,  0.23765688,  0.23726143],\n",
    "      dtype=float32)\n",
    "\n",
    "\"\"\""
   ],
   "metadata": {
    "collapsed": false
   },
   "id": "e252015e75dd93ec"
  },
  {
   "cell_type": "markdown",
   "source": [
    "# 3. Word Embedding"
   ],
   "metadata": {
    "collapsed": false
   },
   "id": "70b89dc9124136f3"
  },
  {
   "cell_type": "code",
   "execution_count": null,
   "outputs": [],
   "source": [],
   "metadata": {
    "collapsed": false
   },
   "id": "d3eb4815ec9b8075"
  }
 ],
 "metadata": {
  "kernelspec": {
   "display_name": "Python 3",
   "language": "python",
   "name": "python3"
  },
  "language_info": {
   "codemirror_mode": {
    "name": "ipython",
    "version": 2
   },
   "file_extension": ".py",
   "mimetype": "text/x-python",
   "name": "python",
   "nbconvert_exporter": "python",
   "pygments_lexer": "ipython2",
   "version": "2.7.6"
  }
 },
 "nbformat": 4,
 "nbformat_minor": 5
}
