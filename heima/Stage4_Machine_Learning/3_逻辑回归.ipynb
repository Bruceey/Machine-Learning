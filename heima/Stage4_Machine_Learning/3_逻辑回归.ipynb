{
 "cells": [
  {
   "cell_type": "code",
   "execution_count": 2,
   "metadata": {
    "collapsed": true
   },
   "outputs": [],
   "source": [
    "import pandas as pd\n",
    "import numpy as np\n",
    "from sklearn.model_selection import train_test_split\n",
    "from sklearn.preprocessing import StandardScaler\n",
    "from sklearn.linear_model import LogisticRegression\n",
    "\n",
    "\n",
    "#breast-cancer-wisconsin.data"
   ]
  },
  {
   "cell_type": "code",
   "execution_count": 3,
   "outputs": [
    {
     "data": {
      "text/plain": "     Sample code number  Clump Thickness  Uniformity of Cell Size  \\\n0               1000025                5                        1   \n1               1002945                5                        4   \n2               1015425                3                        1   \n3               1016277                6                        8   \n4               1017023                4                        1   \n..                  ...              ...                      ...   \n694              776715                3                        1   \n695              841769                2                        1   \n696              888820                5                       10   \n697              897471                4                        8   \n698              897471                4                        8   \n\n     Uniformity of Cell Shape  Marginal Adhesion  Single Epithelial Cell Size  \\\n0                           1                  1                            2   \n1                           4                  5                            7   \n2                           1                  1                            2   \n3                           8                  1                            3   \n4                           1                  3                            2   \n..                        ...                ...                          ...   \n694                         1                  1                            3   \n695                         1                  1                            2   \n696                        10                  3                            7   \n697                         6                  4                            3   \n698                         8                  5                            4   \n\n    Bare Nuclei  Bland Chromatin  Normal Nucleoli  Mitoses  Class  \n0             1                3                1        1      2  \n1            10                3                2        1      2  \n2             2                3                1        1      2  \n3             4                3                7        1      2  \n4             1                3                1        1      2  \n..          ...              ...              ...      ...    ...  \n694           2                1                1        1      2  \n695           1                1                1        1      2  \n696           3                8               10        2      4  \n697           4               10                6        1      4  \n698           5               10                4        1      4  \n\n[699 rows x 11 columns]",
      "text/html": "<div>\n<style scoped>\n    .dataframe tbody tr th:only-of-type {\n        vertical-align: middle;\n    }\n\n    .dataframe tbody tr th {\n        vertical-align: top;\n    }\n\n    .dataframe thead th {\n        text-align: right;\n    }\n</style>\n<table border=\"1\" class=\"dataframe\">\n  <thead>\n    <tr style=\"text-align: right;\">\n      <th></th>\n      <th>Sample code number</th>\n      <th>Clump Thickness</th>\n      <th>Uniformity of Cell Size</th>\n      <th>Uniformity of Cell Shape</th>\n      <th>Marginal Adhesion</th>\n      <th>Single Epithelial Cell Size</th>\n      <th>Bare Nuclei</th>\n      <th>Bland Chromatin</th>\n      <th>Normal Nucleoli</th>\n      <th>Mitoses</th>\n      <th>Class</th>\n    </tr>\n  </thead>\n  <tbody>\n    <tr>\n      <th>0</th>\n      <td>1000025</td>\n      <td>5</td>\n      <td>1</td>\n      <td>1</td>\n      <td>1</td>\n      <td>2</td>\n      <td>1</td>\n      <td>3</td>\n      <td>1</td>\n      <td>1</td>\n      <td>2</td>\n    </tr>\n    <tr>\n      <th>1</th>\n      <td>1002945</td>\n      <td>5</td>\n      <td>4</td>\n      <td>4</td>\n      <td>5</td>\n      <td>7</td>\n      <td>10</td>\n      <td>3</td>\n      <td>2</td>\n      <td>1</td>\n      <td>2</td>\n    </tr>\n    <tr>\n      <th>2</th>\n      <td>1015425</td>\n      <td>3</td>\n      <td>1</td>\n      <td>1</td>\n      <td>1</td>\n      <td>2</td>\n      <td>2</td>\n      <td>3</td>\n      <td>1</td>\n      <td>1</td>\n      <td>2</td>\n    </tr>\n    <tr>\n      <th>3</th>\n      <td>1016277</td>\n      <td>6</td>\n      <td>8</td>\n      <td>8</td>\n      <td>1</td>\n      <td>3</td>\n      <td>4</td>\n      <td>3</td>\n      <td>7</td>\n      <td>1</td>\n      <td>2</td>\n    </tr>\n    <tr>\n      <th>4</th>\n      <td>1017023</td>\n      <td>4</td>\n      <td>1</td>\n      <td>1</td>\n      <td>3</td>\n      <td>2</td>\n      <td>1</td>\n      <td>3</td>\n      <td>1</td>\n      <td>1</td>\n      <td>2</td>\n    </tr>\n    <tr>\n      <th>...</th>\n      <td>...</td>\n      <td>...</td>\n      <td>...</td>\n      <td>...</td>\n      <td>...</td>\n      <td>...</td>\n      <td>...</td>\n      <td>...</td>\n      <td>...</td>\n      <td>...</td>\n      <td>...</td>\n    </tr>\n    <tr>\n      <th>694</th>\n      <td>776715</td>\n      <td>3</td>\n      <td>1</td>\n      <td>1</td>\n      <td>1</td>\n      <td>3</td>\n      <td>2</td>\n      <td>1</td>\n      <td>1</td>\n      <td>1</td>\n      <td>2</td>\n    </tr>\n    <tr>\n      <th>695</th>\n      <td>841769</td>\n      <td>2</td>\n      <td>1</td>\n      <td>1</td>\n      <td>1</td>\n      <td>2</td>\n      <td>1</td>\n      <td>1</td>\n      <td>1</td>\n      <td>1</td>\n      <td>2</td>\n    </tr>\n    <tr>\n      <th>696</th>\n      <td>888820</td>\n      <td>5</td>\n      <td>10</td>\n      <td>10</td>\n      <td>3</td>\n      <td>7</td>\n      <td>3</td>\n      <td>8</td>\n      <td>10</td>\n      <td>2</td>\n      <td>4</td>\n    </tr>\n    <tr>\n      <th>697</th>\n      <td>897471</td>\n      <td>4</td>\n      <td>8</td>\n      <td>6</td>\n      <td>4</td>\n      <td>3</td>\n      <td>4</td>\n      <td>10</td>\n      <td>6</td>\n      <td>1</td>\n      <td>4</td>\n    </tr>\n    <tr>\n      <th>698</th>\n      <td>897471</td>\n      <td>4</td>\n      <td>8</td>\n      <td>8</td>\n      <td>5</td>\n      <td>4</td>\n      <td>5</td>\n      <td>10</td>\n      <td>4</td>\n      <td>1</td>\n      <td>4</td>\n    </tr>\n  </tbody>\n</table>\n<p>699 rows × 11 columns</p>\n</div>"
     },
     "execution_count": 3,
     "metadata": {},
     "output_type": "execute_result"
    }
   ],
   "source": [
    "# 1.获取数据\n",
    "names = ['Sample code number', 'Clump Thickness', 'Uniformity of Cell Size', 'Uniformity of Cell Shape',\n",
    "         'Marginal Adhesion', 'Single Epithelial Cell Size', 'Bare Nuclei', 'Bland Chromatin',\n",
    "         'Normal Nucleoli', 'Mitoses', 'Class']\n",
    "\n",
    "data = pd.read_csv(r\"D:\\黑马课程\\人工智能V3.0（尊享无忧）\\00 课程资料\\4.阶段四机器学习\\数据集\\data\\breast-cancer-wisconsin.data\", names=names)\n",
    "data"
   ],
   "metadata": {
    "collapsed": false
   }
  },
  {
   "cell_type": "code",
   "execution_count": 4,
   "outputs": [
    {
     "name": "stdout",
     "output_type": "stream",
     "text": [
      "<class 'pandas.core.frame.DataFrame'>\n",
      "RangeIndex: 699 entries, 0 to 698\n",
      "Data columns (total 11 columns):\n",
      " #   Column                       Non-Null Count  Dtype \n",
      "---  ------                       --------------  ----- \n",
      " 0   Sample code number           699 non-null    int64 \n",
      " 1   Clump Thickness              699 non-null    int64 \n",
      " 2   Uniformity of Cell Size      699 non-null    int64 \n",
      " 3   Uniformity of Cell Shape     699 non-null    int64 \n",
      " 4   Marginal Adhesion            699 non-null    int64 \n",
      " 5   Single Epithelial Cell Size  699 non-null    int64 \n",
      " 6   Bare Nuclei                  699 non-null    object\n",
      " 7   Bland Chromatin              699 non-null    int64 \n",
      " 8   Normal Nucleoli              699 non-null    int64 \n",
      " 9   Mitoses                      699 non-null    int64 \n",
      " 10  Class                        699 non-null    int64 \n",
      "dtypes: int64(10), object(1)\n",
      "memory usage: 60.2+ KB\n"
     ]
    }
   ],
   "source": [
    "data.info()"
   ],
   "metadata": {
    "collapsed": false
   }
  },
  {
   "cell_type": "code",
   "execution_count": 5,
   "outputs": [
    {
     "data": {
      "text/plain": "2    458\n4    241\nName: Class, dtype: int64"
     },
     "execution_count": 5,
     "metadata": {},
     "output_type": "execute_result"
    }
   ],
   "source": [
    "data.Class.value_counts()"
   ],
   "metadata": {
    "collapsed": false
   }
  },
  {
   "cell_type": "code",
   "execution_count": 6,
   "outputs": [],
   "source": [
    "# 2.基本数据处理\n",
    "# 2.1 缺失值处理\n",
    "data = data.replace(to_replace=\"?\", value=np.NaN)\n",
    "data = data.dropna()\n",
    "# 2.2 确定特征值,目标值\n",
    "x = data.iloc[:, 1:10]\n",
    "x.head()\n",
    "y = data[\"Class\"]\n",
    "y.head()\n",
    "# 2.3 分割数据\n",
    "x_train, x_test, y_train, y_test = train_test_split(x, y, random_state=22)"
   ],
   "metadata": {
    "collapsed": false
   }
  },
  {
   "cell_type": "code",
   "execution_count": 7,
   "outputs": [],
   "source": [
    "# 3.特征工程(标准化)\n",
    "transfer = StandardScaler()\n",
    "x_train = transfer.fit_transform(x_train)\n",
    "x_test = transfer.transform(x_test)\n"
   ],
   "metadata": {
    "collapsed": false
   }
  },
  {
   "cell_type": "code",
   "execution_count": 8,
   "outputs": [
    {
     "data": {
      "text/plain": "LogisticRegression()"
     },
     "execution_count": 8,
     "metadata": {},
     "output_type": "execute_result"
    }
   ],
   "source": [
    "# 4.机器学习(逻辑回归)\n",
    "estimator = LogisticRegression()\n",
    "estimator.fit(x_train, y_train)\n"
   ],
   "metadata": {
    "collapsed": false
   }
  },
  {
   "cell_type": "code",
   "execution_count": 9,
   "outputs": [
    {
     "data": {
      "text/plain": "0.9766081871345029"
     },
     "execution_count": 9,
     "metadata": {},
     "output_type": "execute_result"
    }
   ],
   "source": [
    "# 5.模型评估\n",
    "y_predict = estimator.predict(x_test)\n",
    "estimator.score(x_test, y_test)"
   ],
   "metadata": {
    "collapsed": false
   }
  },
  {
   "cell_type": "code",
   "execution_count": 10,
   "outputs": [],
   "source": [
    "### 电信客户流失\n"
   ],
   "metadata": {
    "collapsed": false
   }
  },
  {
   "cell_type": "code",
   "execution_count": 11,
   "outputs": [
    {
     "name": "stderr",
     "output_type": "stream",
     "text": [
      "C:\\Users\\17634\\Anaconda3\\lib\\site-packages\\statsmodels\\tools\\_testing.py:19: FutureWarning: pandas.util.testing is deprecated. Use the functions in the public API at pandas.testing instead.\n",
      "  import pandas.util.testing as tm\n"
     ]
    },
    {
     "data": {
      "text/plain": "     Churn  gender  Partner_att  Dependents_att  landline  internet_att  \\\n0       No  Female            1               0         0             1   \n1       No    Male            0               0         1             1   \n2      Yes    Male            0               0         1             1   \n3       No    Male            0               0         0             1   \n4      Yes  Female            0               0         1             0   \n...    ...     ...          ...             ...       ...           ...   \n7038    No    Male            1               1         1             1   \n7039    No  Female            1               1         1             0   \n7040    No  Female            1               1         0             1   \n7041   Yes    Male            1               0         1             0   \n7042    No    Male            0               0         1             0   \n\n      internet_other  StreamingTV  StreamingMovies  Contract_Month  \\\n0                  0            0                0               1   \n1                  0            0                0               0   \n2                  0            0                0               1   \n3                  0            0                0               0   \n4                  1            0                0               1   \n...              ...          ...              ...             ...   \n7038               0            1                1               0   \n7039               1            1                1               0   \n7040               0            0                0               1   \n7041               1            0                0               1   \n7042               1            1                1               0   \n\n      Contract_1YR  PaymentBank  PaymentCreditcard  PaymentElectronic  \\\n0                0            0                  0                  1   \n1                1            0                  0                  0   \n2                0            0                  0                  0   \n3                1            1                  0                  0   \n4                0            0                  0                  1   \n...            ...          ...                ...                ...   \n7038             1            0                  0                  0   \n7039             1            0                  1                  0   \n7040             0            0                  0                  1   \n7041             0            0                  0                  0   \n7042             0            1                  0                  0   \n\n      MonthlyCharges  TotalCharges  \n0              29.85         29.85  \n1              56.95       1889.50  \n2              53.85        108.15  \n3              42.30       1840.75  \n4              70.70        151.65  \n...              ...           ...  \n7038           84.80       1990.50  \n7039          103.20       7362.90  \n7040           29.60        346.45  \n7041           74.40        306.60  \n7042          105.65       6844.50  \n\n[7043 rows x 16 columns]",
      "text/html": "<div>\n<style scoped>\n    .dataframe tbody tr th:only-of-type {\n        vertical-align: middle;\n    }\n\n    .dataframe tbody tr th {\n        vertical-align: top;\n    }\n\n    .dataframe thead th {\n        text-align: right;\n    }\n</style>\n<table border=\"1\" class=\"dataframe\">\n  <thead>\n    <tr style=\"text-align: right;\">\n      <th></th>\n      <th>Churn</th>\n      <th>gender</th>\n      <th>Partner_att</th>\n      <th>Dependents_att</th>\n      <th>landline</th>\n      <th>internet_att</th>\n      <th>internet_other</th>\n      <th>StreamingTV</th>\n      <th>StreamingMovies</th>\n      <th>Contract_Month</th>\n      <th>Contract_1YR</th>\n      <th>PaymentBank</th>\n      <th>PaymentCreditcard</th>\n      <th>PaymentElectronic</th>\n      <th>MonthlyCharges</th>\n      <th>TotalCharges</th>\n    </tr>\n  </thead>\n  <tbody>\n    <tr>\n      <th>0</th>\n      <td>No</td>\n      <td>Female</td>\n      <td>1</td>\n      <td>0</td>\n      <td>0</td>\n      <td>1</td>\n      <td>0</td>\n      <td>0</td>\n      <td>0</td>\n      <td>1</td>\n      <td>0</td>\n      <td>0</td>\n      <td>0</td>\n      <td>1</td>\n      <td>29.85</td>\n      <td>29.85</td>\n    </tr>\n    <tr>\n      <th>1</th>\n      <td>No</td>\n      <td>Male</td>\n      <td>0</td>\n      <td>0</td>\n      <td>1</td>\n      <td>1</td>\n      <td>0</td>\n      <td>0</td>\n      <td>0</td>\n      <td>0</td>\n      <td>1</td>\n      <td>0</td>\n      <td>0</td>\n      <td>0</td>\n      <td>56.95</td>\n      <td>1889.50</td>\n    </tr>\n    <tr>\n      <th>2</th>\n      <td>Yes</td>\n      <td>Male</td>\n      <td>0</td>\n      <td>0</td>\n      <td>1</td>\n      <td>1</td>\n      <td>0</td>\n      <td>0</td>\n      <td>0</td>\n      <td>1</td>\n      <td>0</td>\n      <td>0</td>\n      <td>0</td>\n      <td>0</td>\n      <td>53.85</td>\n      <td>108.15</td>\n    </tr>\n    <tr>\n      <th>3</th>\n      <td>No</td>\n      <td>Male</td>\n      <td>0</td>\n      <td>0</td>\n      <td>0</td>\n      <td>1</td>\n      <td>0</td>\n      <td>0</td>\n      <td>0</td>\n      <td>0</td>\n      <td>1</td>\n      <td>1</td>\n      <td>0</td>\n      <td>0</td>\n      <td>42.30</td>\n      <td>1840.75</td>\n    </tr>\n    <tr>\n      <th>4</th>\n      <td>Yes</td>\n      <td>Female</td>\n      <td>0</td>\n      <td>0</td>\n      <td>1</td>\n      <td>0</td>\n      <td>1</td>\n      <td>0</td>\n      <td>0</td>\n      <td>1</td>\n      <td>0</td>\n      <td>0</td>\n      <td>0</td>\n      <td>1</td>\n      <td>70.70</td>\n      <td>151.65</td>\n    </tr>\n    <tr>\n      <th>...</th>\n      <td>...</td>\n      <td>...</td>\n      <td>...</td>\n      <td>...</td>\n      <td>...</td>\n      <td>...</td>\n      <td>...</td>\n      <td>...</td>\n      <td>...</td>\n      <td>...</td>\n      <td>...</td>\n      <td>...</td>\n      <td>...</td>\n      <td>...</td>\n      <td>...</td>\n      <td>...</td>\n    </tr>\n    <tr>\n      <th>7038</th>\n      <td>No</td>\n      <td>Male</td>\n      <td>1</td>\n      <td>1</td>\n      <td>1</td>\n      <td>1</td>\n      <td>0</td>\n      <td>1</td>\n      <td>1</td>\n      <td>0</td>\n      <td>1</td>\n      <td>0</td>\n      <td>0</td>\n      <td>0</td>\n      <td>84.80</td>\n      <td>1990.50</td>\n    </tr>\n    <tr>\n      <th>7039</th>\n      <td>No</td>\n      <td>Female</td>\n      <td>1</td>\n      <td>1</td>\n      <td>1</td>\n      <td>0</td>\n      <td>1</td>\n      <td>1</td>\n      <td>1</td>\n      <td>0</td>\n      <td>1</td>\n      <td>0</td>\n      <td>1</td>\n      <td>0</td>\n      <td>103.20</td>\n      <td>7362.90</td>\n    </tr>\n    <tr>\n      <th>7040</th>\n      <td>No</td>\n      <td>Female</td>\n      <td>1</td>\n      <td>1</td>\n      <td>0</td>\n      <td>1</td>\n      <td>0</td>\n      <td>0</td>\n      <td>0</td>\n      <td>1</td>\n      <td>0</td>\n      <td>0</td>\n      <td>0</td>\n      <td>1</td>\n      <td>29.60</td>\n      <td>346.45</td>\n    </tr>\n    <tr>\n      <th>7041</th>\n      <td>Yes</td>\n      <td>Male</td>\n      <td>1</td>\n      <td>0</td>\n      <td>1</td>\n      <td>0</td>\n      <td>1</td>\n      <td>0</td>\n      <td>0</td>\n      <td>1</td>\n      <td>0</td>\n      <td>0</td>\n      <td>0</td>\n      <td>0</td>\n      <td>74.40</td>\n      <td>306.60</td>\n    </tr>\n    <tr>\n      <th>7042</th>\n      <td>No</td>\n      <td>Male</td>\n      <td>0</td>\n      <td>0</td>\n      <td>1</td>\n      <td>0</td>\n      <td>1</td>\n      <td>1</td>\n      <td>1</td>\n      <td>0</td>\n      <td>0</td>\n      <td>1</td>\n      <td>0</td>\n      <td>0</td>\n      <td>105.65</td>\n      <td>6844.50</td>\n    </tr>\n  </tbody>\n</table>\n<p>7043 rows × 16 columns</p>\n</div>"
     },
     "execution_count": 11,
     "metadata": {},
     "output_type": "execute_result"
    }
   ],
   "source": [
    "import pandas as pd\n",
    "import seaborn as sns\n",
    "import matplotlib.pyplot as plt\n",
    "churn = pd.read_csv(r\"D:\\黑马课程\\人工智能V3.0（尊享无忧）\\00 课程资料\\4.阶段四机器学习\\数据集\\data\\churn.csv\")\n",
    "churn"
   ],
   "metadata": {
    "collapsed": false
   }
  },
  {
   "cell_type": "code",
   "execution_count": 12,
   "outputs": [
    {
     "name": "stdout",
     "output_type": "stream",
     "text": [
      "<class 'pandas.core.frame.DataFrame'>\n",
      "RangeIndex: 7043 entries, 0 to 7042\n",
      "Data columns (total 16 columns):\n",
      " #   Column             Non-Null Count  Dtype  \n",
      "---  ------             --------------  -----  \n",
      " 0   Churn              7043 non-null   object \n",
      " 1   gender             7043 non-null   object \n",
      " 2   Partner_att        7043 non-null   int64  \n",
      " 3   Dependents_att     7043 non-null   int64  \n",
      " 4   landline           7043 non-null   int64  \n",
      " 5   internet_att       7043 non-null   int64  \n",
      " 6   internet_other     7043 non-null   int64  \n",
      " 7   StreamingTV        7043 non-null   int64  \n",
      " 8   StreamingMovies    7043 non-null   int64  \n",
      " 9   Contract_Month     7043 non-null   int64  \n",
      " 10  Contract_1YR       7043 non-null   int64  \n",
      " 11  PaymentBank        7043 non-null   int64  \n",
      " 12  PaymentCreditcard  7043 non-null   int64  \n",
      " 13  PaymentElectronic  7043 non-null   int64  \n",
      " 14  MonthlyCharges     7043 non-null   float64\n",
      " 15  TotalCharges       7043 non-null   float64\n",
      "dtypes: float64(2), int64(12), object(2)\n",
      "memory usage: 880.5+ KB\n"
     ]
    }
   ],
   "source": [
    "churn.info()"
   ],
   "metadata": {
    "collapsed": false
   }
  },
  {
   "cell_type": "code",
   "execution_count": 13,
   "outputs": [
    {
     "data": {
      "text/plain": "   Partner_att  Dependents_att  landline  internet_att  internet_other  \\\n0            1               0         0             1               0   \n1            0               0         1             1               0   \n2            0               0         1             1               0   \n3            0               0         0             1               0   \n4            0               0         1             0               1   \n\n   StreamingTV  StreamingMovies  Contract_Month  Contract_1YR  PaymentBank  \\\n0            0                0               1             0            0   \n1            0                0               0             1            0   \n2            0                0               1             0            0   \n3            0                0               0             1            1   \n4            0                0               1             0            0   \n\n   PaymentCreditcard  PaymentElectronic  MonthlyCharges  TotalCharges  \\\n0                  0                  1           29.85         29.85   \n1                  0                  0           56.95       1889.50   \n2                  0                  0           53.85        108.15   \n3                  0                  0           42.30       1840.75   \n4                  0                  1           70.70        151.65   \n\n   Churn_No  Churn_Yes  gender_Female  gender_Male  \n0         1          0              1            0  \n1         1          0              0            1  \n2         0          1              0            1  \n3         1          0              0            1  \n4         0          1              1            0  ",
      "text/html": "<div>\n<style scoped>\n    .dataframe tbody tr th:only-of-type {\n        vertical-align: middle;\n    }\n\n    .dataframe tbody tr th {\n        vertical-align: top;\n    }\n\n    .dataframe thead th {\n        text-align: right;\n    }\n</style>\n<table border=\"1\" class=\"dataframe\">\n  <thead>\n    <tr style=\"text-align: right;\">\n      <th></th>\n      <th>Partner_att</th>\n      <th>Dependents_att</th>\n      <th>landline</th>\n      <th>internet_att</th>\n      <th>internet_other</th>\n      <th>StreamingTV</th>\n      <th>StreamingMovies</th>\n      <th>Contract_Month</th>\n      <th>Contract_1YR</th>\n      <th>PaymentBank</th>\n      <th>PaymentCreditcard</th>\n      <th>PaymentElectronic</th>\n      <th>MonthlyCharges</th>\n      <th>TotalCharges</th>\n      <th>Churn_No</th>\n      <th>Churn_Yes</th>\n      <th>gender_Female</th>\n      <th>gender_Male</th>\n    </tr>\n  </thead>\n  <tbody>\n    <tr>\n      <th>0</th>\n      <td>1</td>\n      <td>0</td>\n      <td>0</td>\n      <td>1</td>\n      <td>0</td>\n      <td>0</td>\n      <td>0</td>\n      <td>1</td>\n      <td>0</td>\n      <td>0</td>\n      <td>0</td>\n      <td>1</td>\n      <td>29.85</td>\n      <td>29.85</td>\n      <td>1</td>\n      <td>0</td>\n      <td>1</td>\n      <td>0</td>\n    </tr>\n    <tr>\n      <th>1</th>\n      <td>0</td>\n      <td>0</td>\n      <td>1</td>\n      <td>1</td>\n      <td>0</td>\n      <td>0</td>\n      <td>0</td>\n      <td>0</td>\n      <td>1</td>\n      <td>0</td>\n      <td>0</td>\n      <td>0</td>\n      <td>56.95</td>\n      <td>1889.50</td>\n      <td>1</td>\n      <td>0</td>\n      <td>0</td>\n      <td>1</td>\n    </tr>\n    <tr>\n      <th>2</th>\n      <td>0</td>\n      <td>0</td>\n      <td>1</td>\n      <td>1</td>\n      <td>0</td>\n      <td>0</td>\n      <td>0</td>\n      <td>1</td>\n      <td>0</td>\n      <td>0</td>\n      <td>0</td>\n      <td>0</td>\n      <td>53.85</td>\n      <td>108.15</td>\n      <td>0</td>\n      <td>1</td>\n      <td>0</td>\n      <td>1</td>\n    </tr>\n    <tr>\n      <th>3</th>\n      <td>0</td>\n      <td>0</td>\n      <td>0</td>\n      <td>1</td>\n      <td>0</td>\n      <td>0</td>\n      <td>0</td>\n      <td>0</td>\n      <td>1</td>\n      <td>1</td>\n      <td>0</td>\n      <td>0</td>\n      <td>42.30</td>\n      <td>1840.75</td>\n      <td>1</td>\n      <td>0</td>\n      <td>0</td>\n      <td>1</td>\n    </tr>\n    <tr>\n      <th>4</th>\n      <td>0</td>\n      <td>0</td>\n      <td>1</td>\n      <td>0</td>\n      <td>1</td>\n      <td>0</td>\n      <td>0</td>\n      <td>1</td>\n      <td>0</td>\n      <td>0</td>\n      <td>0</td>\n      <td>1</td>\n      <td>70.70</td>\n      <td>151.65</td>\n      <td>0</td>\n      <td>1</td>\n      <td>1</td>\n      <td>0</td>\n    </tr>\n  </tbody>\n</table>\n</div>"
     },
     "execution_count": 13,
     "metadata": {},
     "output_type": "execute_result"
    }
   ],
   "source": [
    "churn=pd.get_dummies(churn)\n",
    "churn.head()"
   ],
   "metadata": {
    "collapsed": false
   }
  },
  {
   "cell_type": "code",
   "execution_count": 14,
   "outputs": [
    {
     "data": {
      "text/plain": "   partner_att  dependents_att  landline  internet_att  internet_other  \\\n0            1               0         0             1               0   \n1            0               0         1             1               0   \n2            0               0         1             1               0   \n3            0               0         0             1               0   \n4            0               0         1             0               1   \n\n   streamingtv  streamingmovies  contract_month  contract_1yr  paymentbank  \\\n0            0                0               1             0            0   \n1            0                0               0             1            0   \n2            0                0               1             0            0   \n3            0                0               0             1            1   \n4            0                0               1             0            0   \n\n   paymentcreditcard  paymentelectronic  monthlycharges  totalcharges  \\\n0                  0                  1           29.85         29.85   \n1                  0                  0           56.95       1889.50   \n2                  0                  0           53.85        108.15   \n3                  0                  0           42.30       1840.75   \n4                  0                  1           70.70        151.65   \n\n   churn_yes  gender_female  \n0          0              1  \n1          0              0  \n2          1              0  \n3          0              0  \n4          1              1  ",
      "text/html": "<div>\n<style scoped>\n    .dataframe tbody tr th:only-of-type {\n        vertical-align: middle;\n    }\n\n    .dataframe tbody tr th {\n        vertical-align: top;\n    }\n\n    .dataframe thead th {\n        text-align: right;\n    }\n</style>\n<table border=\"1\" class=\"dataframe\">\n  <thead>\n    <tr style=\"text-align: right;\">\n      <th></th>\n      <th>partner_att</th>\n      <th>dependents_att</th>\n      <th>landline</th>\n      <th>internet_att</th>\n      <th>internet_other</th>\n      <th>streamingtv</th>\n      <th>streamingmovies</th>\n      <th>contract_month</th>\n      <th>contract_1yr</th>\n      <th>paymentbank</th>\n      <th>paymentcreditcard</th>\n      <th>paymentelectronic</th>\n      <th>monthlycharges</th>\n      <th>totalcharges</th>\n      <th>churn_yes</th>\n      <th>gender_female</th>\n    </tr>\n  </thead>\n  <tbody>\n    <tr>\n      <th>0</th>\n      <td>1</td>\n      <td>0</td>\n      <td>0</td>\n      <td>1</td>\n      <td>0</td>\n      <td>0</td>\n      <td>0</td>\n      <td>1</td>\n      <td>0</td>\n      <td>0</td>\n      <td>0</td>\n      <td>1</td>\n      <td>29.85</td>\n      <td>29.85</td>\n      <td>0</td>\n      <td>1</td>\n    </tr>\n    <tr>\n      <th>1</th>\n      <td>0</td>\n      <td>0</td>\n      <td>1</td>\n      <td>1</td>\n      <td>0</td>\n      <td>0</td>\n      <td>0</td>\n      <td>0</td>\n      <td>1</td>\n      <td>0</td>\n      <td>0</td>\n      <td>0</td>\n      <td>56.95</td>\n      <td>1889.50</td>\n      <td>0</td>\n      <td>0</td>\n    </tr>\n    <tr>\n      <th>2</th>\n      <td>0</td>\n      <td>0</td>\n      <td>1</td>\n      <td>1</td>\n      <td>0</td>\n      <td>0</td>\n      <td>0</td>\n      <td>1</td>\n      <td>0</td>\n      <td>0</td>\n      <td>0</td>\n      <td>0</td>\n      <td>53.85</td>\n      <td>108.15</td>\n      <td>1</td>\n      <td>0</td>\n    </tr>\n    <tr>\n      <th>3</th>\n      <td>0</td>\n      <td>0</td>\n      <td>0</td>\n      <td>1</td>\n      <td>0</td>\n      <td>0</td>\n      <td>0</td>\n      <td>0</td>\n      <td>1</td>\n      <td>1</td>\n      <td>0</td>\n      <td>0</td>\n      <td>42.30</td>\n      <td>1840.75</td>\n      <td>0</td>\n      <td>0</td>\n    </tr>\n    <tr>\n      <th>4</th>\n      <td>0</td>\n      <td>0</td>\n      <td>1</td>\n      <td>0</td>\n      <td>1</td>\n      <td>0</td>\n      <td>0</td>\n      <td>1</td>\n      <td>0</td>\n      <td>0</td>\n      <td>0</td>\n      <td>1</td>\n      <td>70.70</td>\n      <td>151.65</td>\n      <td>1</td>\n      <td>1</td>\n    </tr>\n  </tbody>\n</table>\n</div>"
     },
     "execution_count": 14,
     "metadata": {},
     "output_type": "execute_result"
    }
   ],
   "source": [
    "churn.drop(['Churn_No','gender_Male'],axis=1,inplace=True)\n",
    "#变量大小写不规则，统一变成小写\n",
    "churn.columns=churn.columns.str.lower()\n",
    "churn.head()"
   ],
   "metadata": {
    "collapsed": false
   }
  },
  {
   "cell_type": "code",
   "execution_count": 15,
   "outputs": [
    {
     "data": {
      "text/plain": "0    5174\n1    1869\nName: flag, dtype: int64"
     },
     "execution_count": 15,
     "metadata": {},
     "output_type": "execute_result"
    }
   ],
   "source": [
    "churn=churn.rename(columns={'churn_yes':'flag'})\n",
    "#二分类模型，分析flag 1和0的占比\n",
    "churn.flag.value_counts()"
   ],
   "metadata": {
    "collapsed": false
   }
  },
  {
   "cell_type": "code",
   "execution_count": 16,
   "outputs": [
    {
     "data": {
      "text/plain": "<AxesSubplot:xlabel='count', ylabel='contract_month'>"
     },
     "execution_count": 16,
     "metadata": {},
     "output_type": "execute_result"
    },
    {
     "data": {
      "text/plain": "<Figure size 432x288 with 1 Axes>",
      "image/png": "[encoded data removed]"
     },
     "metadata": {
      "needs_background": "light"
     },
     "output_type": "display_data"
    }
   ],
   "source": [
    "sns.countplot(y='contract_month',hue='flag',data=churn)\n"
   ],
   "metadata": {
    "collapsed": false
   }
  },
  {
   "cell_type": "code",
   "execution_count": 17,
   "outputs": [
    {
     "data": {
      "text/plain": "0.7006333927971842"
     },
     "execution_count": 17,
     "metadata": {},
     "output_type": "execute_result"
    }
   ],
   "source": [
    "# 确定目标值和特征值\n",
    "y=churn['flag']\n",
    "x=churn[['contract_month','internet_other','streamingtv']]\n",
    "\n",
    "#调用sklearn模块，随机抽取训练集与测试集\n",
    "from sklearn.model_selection import train_test_split\n",
    "x_train,x_test,y_train,y_test=train_test_split(x,y,test_size=0.3,random_state=100)\n",
    "#使用sklearn\n",
    "from sklearn import linear_model\n",
    "lr=linear_model.LogisticRegression()\n",
    "lr.fit(x_train,y_train)\n",
    "\n",
    "y_pred_train=lr.predict(x_train)\n",
    "y_pred_test=lr.predict(x_test)\n",
    "import sklearn.metrics as metrics\n",
    "metrics.accuracy_score(y_train,y_pred_train)\n",
    "from sklearn.metrics import roc_auc_score\n",
    "roc_auc_score(y_test, y_pred_test)"
   ],
   "metadata": {
    "collapsed": false
   }
  },
  {
   "cell_type": "code",
   "execution_count": null,
   "outputs": [],
   "source": [],
   "metadata": {
    "collapsed": false,
    "pycharm": {
     "is_executing": true
    }
   }
  },
  {
   "cell_type": "code",
   "execution_count": 5,
   "outputs": [
    {
     "name": "stdout",
     "output_type": "stream",
     "text": [
      "返回的结果:\n",
      " [[  0.   1.   0. 100.]\n",
      " [  1.   0.   0.  60.]\n",
      " [  0.   0.   1.  30.]]\n",
      "特征名字：\n",
      " ['city=上海' 'city=北京' 'city=深圳' 'temperature']\n"
     ]
    }
   ],
   "source": [
    "from sklearn.feature_extraction import DictVectorizer\n",
    "\n",
    "def dict_demo(sparse=True):\n",
    "    \"\"\"\n",
    "    对字典类型的数据进行特征抽取\n",
    "    :return: None\n",
    "    \"\"\"\n",
    "    data = [{'city': '北京','temperature':100}, {'city': '上海','temperature':60}, {'city': '深圳','temperature':30}]\n",
    "    # 1、实例化一个转换器类\n",
    "    transfer = DictVectorizer(sparse=sparse)\n",
    "    # 2、调用fit_transform\n",
    "    data = transfer.fit_transform(data)\n",
    "    print(\"返回的结果:\\n\", data)\n",
    "    # 打印特征名字\n",
    "    print(\"特征名字：\\n\", transfer.get_feature_names_out())\n",
    "\n",
    "    return None\n",
    "dict_demo(False)"
   ],
   "metadata": {
    "collapsed": false
   }
  },
  {
   "cell_type": "code",
   "execution_count": 6,
   "outputs": [
    {
     "name": "stdout",
     "output_type": "stream",
     "text": [
      "返回的结果:\n",
      "   (0, 1)\t1.0\n",
      "  (0, 3)\t100.0\n",
      "  (1, 0)\t1.0\n",
      "  (1, 3)\t60.0\n",
      "  (2, 2)\t1.0\n",
      "  (2, 3)\t30.0\n",
      "特征名字：\n",
      " ['city=上海' 'city=北京' 'city=深圳' 'temperature']\n"
     ]
    }
   ],
   "source": [
    "dict_demo()"
   ],
   "metadata": {
    "collapsed": false
   }
  },
  {
   "cell_type": "code",
   "execution_count": 8,
   "outputs": [
    {
     "name": "stdout",
     "output_type": "stream",
     "text": [
      "文本特征抽取的结果：\n",
      " [[0 1 1 2 0 1 1 0]\n",
      " [1 1 1 0 1 1 0 1]]\n",
      "返回特征名字：\n",
      " ['dislike' 'is' 'life' 'like' 'long' 'python' 'short' 'too']\n"
     ]
    }
   ],
   "source": [
    "from sklearn.feature_extraction.text import CountVectorizer\n",
    "\n",
    "def text_count_demo():\n",
    "    \"\"\"\n",
    "    对文本进行特征抽取，countvetorizer\n",
    "    :return: None\n",
    "    \"\"\"\n",
    "    data = [\"life is short,i like like python\", \"life is too long,i dislike python\"]\n",
    "    # 1、实例化一个转换器类\n",
    "    # transfer = CountVectorizer(sparse=False) # 注意,没有sparse这个参数\n",
    "    transfer = CountVectorizer()\n",
    "    # 2、调用fit_transform\n",
    "    data = transfer.fit_transform(data)\n",
    "    print(\"文本特征抽取的结果：\\n\", data.toarray())\n",
    "    print(\"返回特征名字：\\n\", transfer.get_feature_names_out())\n",
    "\n",
    "text_count_demo()"
   ],
   "metadata": {
    "collapsed": false
   }
  },
  {
   "cell_type": "code",
   "execution_count": 9,
   "outputs": [
    {
     "name": "stderr",
     "output_type": "stream",
     "text": [
      "Building prefix dict from the default dictionary ...\n",
      "Dumping model to file cache C:\\Users\\17634\\AppData\\Local\\Temp\\jieba.cache\n",
      "Loading model cost 0.832 seconds.\n",
      "Prefix dict has been built successfully.\n"
     ]
    },
    {
     "name": "stdout",
     "output_type": "stream",
     "text": [
      "['一种 还是 一种 今天 很 残酷 ， 明天 更 残酷 ， 后天 很 美好 ， 但 绝对 大部分 是 死 在 明天 晚上 ， 所以 每个 人 不要 放弃 今天 。', '我们 看到 的 从 很 远 星系 来 的 光是在 几百万年 之前 发出 的 ， 这样 当 我们 看到 宇宙 时 ， 我们 是 在 看 它 的 过去 。', '如果 只用 一种 方式 了解 某样 事物 ， 你 就 不会 真正 了解 它 。 了解 事物 真正 含义 的 秘密 取决于 如何 将 其 与 我们 所 了解 的 事物 相 联系 。']\n",
      "文本特征抽取的结果：\n",
      " [[2 0 1 0 0 0 2 0 0 0 0 0 1 0 1 0 0 0 0 1 1 0 2 0 1 0 2 1 0 0 0 1 1 0 0 1\n",
      "  0]\n",
      " [0 0 0 1 0 0 0 1 1 1 0 0 0 0 0 0 0 1 3 0 0 0 0 1 0 0 0 0 2 0 0 0 0 0 1 0\n",
      "  1]\n",
      " [1 1 0 0 4 3 0 0 0 0 1 1 0 1 0 1 1 0 1 0 0 1 0 0 0 1 0 0 0 2 1 0 0 1 0 0\n",
      "  0]]\n",
      "返回特征名字：\n",
      " ['一种' '不会' '不要' '之前' '了解' '事物' '今天' '光是在' '几百万年' '发出' '取决于' '只用' '后天' '含义'\n",
      " '大部分' '如何' '如果' '宇宙' '我们' '所以' '放弃' '方式' '明天' '星系' '晚上' '某样' '残酷' '每个'\n",
      " '看到' '真正' '秘密' '绝对' '美好' '联系' '过去' '还是' '这样']\n"
     ]
    }
   ],
   "source": [
    "from sklearn.feature_extraction.text import CountVectorizer\n",
    "import jieba\n",
    "\n",
    "def cut_word(text):\n",
    "    \"\"\"\n",
    "    对中文进行分词\n",
    "    \"我爱北京天安门\"————>\"我 爱 北京 天安门\"\n",
    "    :param text:\n",
    "    :return: text\n",
    "    \"\"\"\n",
    "    # 用结巴对中文字符串进行分词\n",
    "    text = \" \".join(list(jieba.cut(text)))\n",
    "\n",
    "    return text\n",
    "\n",
    "def text_chinese_count_demo2():\n",
    "    \"\"\"\n",
    "    对中文进行特征抽取\n",
    "    :return: None\n",
    "    \"\"\"\n",
    "    data = [\"一种还是一种今天很残酷，明天更残酷，后天很美好，但绝对大部分是死在明天晚上，所以每个人不要放弃今天。\",\n",
    "            \"我们看到的从很远星系来的光是在几百万年之前发出的，这样当我们看到宇宙时，我们是在看它的过去。\",\n",
    "            \"如果只用一种方式了解某样事物，你就不会真正了解它。了解事物真正含义的秘密取决于如何将其与我们所了解的事物相联系。\"]\n",
    "    # 将原始数据转换成分好词的形式\n",
    "    text_list = []\n",
    "    for sent in data:\n",
    "        text_list.append(cut_word(sent))\n",
    "    print(text_list)\n",
    "\n",
    "    # 1、实例化一个转换器类\n",
    "    # transfer = CountVectorizer(sparse=False)\n",
    "    transfer = CountVectorizer()\n",
    "    # 2、调用fit_transform\n",
    "    data = transfer.fit_transform(text_list)\n",
    "    print(\"文本特征抽取的结果：\\n\", data.toarray())\n",
    "    print(\"返回特征名字：\\n\", transfer.get_feature_names_out())\n",
    "\n",
    "text_chinese_count_demo2()"
   ],
   "metadata": {
    "collapsed": false
   }
  },
  {
   "cell_type": "code",
   "execution_count": 10,
   "outputs": [
    {
     "name": "stdout",
     "output_type": "stream",
     "text": [
      "['一种 还是 一种 今天 很 残酷 ， 明天 更 残酷 ， 后天 很 美好 ， 但 绝对 大部分 是 死 在 明天 晚上 ， 所以 每个 人 不要 放弃 今天 。', '我们 看到 的 从 很 远 星系 来 的 光是在 几百万年 之前 发出 的 ， 这样 当 我们 看到 宇宙 时 ， 我们 是 在 看 它 的 过去 。', '如果 只用 一种 方式 了解 某样 事物 ， 你 就 不会 真正 了解 它 。 了解 事物 真正 含义 的 秘密 取决于 如何 将 其 与 我们 所 了解 的 事物 相 联系 。']\n",
      "文本特征抽取的结果：\n",
      " [[0.         0.         0.         0.43643578 0.         0.\n",
      "  0.         0.         0.         0.21821789 0.         0.21821789\n",
      "  0.         0.         0.         0.         0.21821789 0.21821789\n",
      "  0.         0.43643578 0.         0.21821789 0.         0.43643578\n",
      "  0.21821789 0.         0.         0.         0.21821789 0.21821789\n",
      "  0.         0.         0.21821789 0.        ]\n",
      " [0.2410822  0.         0.         0.         0.2410822  0.2410822\n",
      "  0.2410822  0.         0.         0.         0.         0.\n",
      "  0.         0.         0.2410822  0.55004769 0.         0.\n",
      "  0.         0.         0.2410822  0.         0.         0.\n",
      "  0.         0.48216441 0.         0.         0.         0.\n",
      "  0.         0.2410822  0.         0.2410822 ]\n",
      " [0.         0.644003   0.48300225 0.         0.         0.\n",
      "  0.         0.16100075 0.16100075 0.         0.16100075 0.\n",
      "  0.16100075 0.16100075 0.         0.12244522 0.         0.\n",
      "  0.16100075 0.         0.         0.         0.16100075 0.\n",
      "  0.         0.         0.3220015  0.16100075 0.         0.\n",
      "  0.16100075 0.         0.         0.        ]]\n",
      "返回特征名字：\n",
      " ['之前' '了解' '事物' '今天' '光是在' '几百万年' '发出' '取决于' '只用' '后天' '含义' '大部分' '如何'\n",
      " '如果' '宇宙' '我们' '所以' '放弃' '方式' '明天' '星系' '晚上' '某样' '残酷' '每个' '看到' '真正'\n",
      " '秘密' '绝对' '美好' '联系' '过去' '还是' '这样']\n"
     ]
    }
   ],
   "source": [
    "from sklearn.feature_extraction.text import TfidfVectorizer\n",
    "import jieba\n",
    "\n",
    "def text_chinese_tfidf_demo():\n",
    "    \"\"\"\n",
    "    对中文进行特征抽取\n",
    "    :return: None\n",
    "    \"\"\"\n",
    "    data = [\"一种还是一种今天很残酷，明天更残酷，后天很美好，但绝对大部分是死在明天晚上，所以每个人不要放弃今天。\",\n",
    "            \"我们看到的从很远星系来的光是在几百万年之前发出的，这样当我们看到宇宙时，我们是在看它的过去。\",\n",
    "            \"如果只用一种方式了解某样事物，你就不会真正了解它。了解事物真正含义的秘密取决于如何将其与我们所了解的事物相联系。\"]\n",
    "    # 将原始数据转换成分好词的形式\n",
    "    text_list = []\n",
    "    for sent in data:\n",
    "        text_list.append(cut_word(sent))\n",
    "    print(text_list)\n",
    "\n",
    "    # 1、实例化一个转换器类\n",
    "    # transfer = CountVectorizer(sparse=False)\n",
    "    transfer = TfidfVectorizer(stop_words=['一种', '不会', '不要'])\n",
    "    # 2、调用fit_transform\n",
    "    data = transfer.fit_transform(text_list)\n",
    "    print(\"文本特征抽取的结果：\\n\", data.toarray())\n",
    "    print(\"返回特征名字：\\n\", transfer.get_feature_names_out())\n",
    "\n",
    "text_chinese_tfidf_demo()"
   ],
   "metadata": {
    "collapsed": false
   }
  },
  {
   "cell_type": "code",
   "execution_count": null,
   "outputs": [],
   "source": [],
   "metadata": {
    "collapsed": false
   }
  }
 ],
 "metadata": {
  "kernelspec": {
   "display_name": "Python 3",
   "language": "python",
   "name": "python3"
  },
  "language_info": {
   "codemirror_mode": {
    "name": "ipython",
    "version": 2
   },
   "file_extension": ".py",
   "mimetype": "text/x-python",
   "name": "python",
   "nbconvert_exporter": "python",
   "pygments_lexer": "ipython2",
   "version": "2.7.6"
  }
 },
 "nbformat": 4,
 "nbformat_minor": 0
}
