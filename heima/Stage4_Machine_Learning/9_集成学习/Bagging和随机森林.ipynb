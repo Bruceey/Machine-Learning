{
 "cells": [
  {
   "cell_type": "code",
   "execution_count": 3,
   "id": "e554ea6eb5dd982b",
   "metadata": {
    "collapsed": true,
    "ExecuteTime": {
     "end_time": "2023-08-16T06:14:10.833912Z",
     "start_time": "2023-08-16T06:14:10.808819Z"
    }
   },
   "outputs": [
    {
     "name": "stdout",
     "output_type": "stream",
     "text": [
      "<class 'pandas.core.frame.DataFrame'>\n",
      "RangeIndex: 891 entries, 0 to 890\n",
      "Data columns (total 12 columns):\n",
      " #   Column       Non-Null Count  Dtype  \n",
      "---  ------       --------------  -----  \n",
      " 0   PassengerId  891 non-null    int64  \n",
      " 1   Survived     891 non-null    int64  \n",
      " 2   Pclass       891 non-null    int64  \n",
      " 3   Name         891 non-null    object \n",
      " 4   Sex          891 non-null    object \n",
      " 5   Age          714 non-null    float64\n",
      " 6   SibSp        891 non-null    int64  \n",
      " 7   Parch        891 non-null    int64  \n",
      " 8   Ticket       891 non-null    object \n",
      " 9   Fare         891 non-null    float64\n",
      " 10  Cabin        204 non-null    object \n",
      " 11  Embarked     889 non-null    object \n",
      "dtypes: float64(2), int64(5), object(5)\n",
      "memory usage: 83.7+ KB\n"
     ]
    }
   ],
   "source": [
    "# 1.数据导入\n",
    "# 1.1导入数据\n",
    "import pandas as pd\n",
    "\n",
    "# 1.2.利用pandas的read.csv模块从互联网中收集泰坦尼克号数据集\n",
    "titanic = pd.read_csv(\"../data/泰坦尼克号数据集.csv\")\n",
    "titanic.info()  # 查看信息"
   ]
  },
  {
   "cell_type": "code",
   "execution_count": 4,
   "outputs": [
    {
     "name": "stderr",
     "output_type": "stream",
     "text": [
      "/var/folders/z8/y_hn633943lgllk3gb3g61r00000gn/T/ipykernel_4719/2480225280.py:6: SettingWithCopyWarning: \n",
      "A value is trying to be set on a copy of a slice from a DataFrame\n",
      "\n",
      "See the caveats in the documentation: https://pandas.pydata.org/pandas-docs/stable/user_guide/indexing.html#returning-a-view-versus-a-copy\n",
      "  X['Age'].fillna(X['Age'].mean(), inplace=True)\n"
     ]
    }
   ],
   "source": [
    "# 2人工选择特征pclass,age,sex\n",
    "X = titanic[['Pclass', 'Age', 'Sex']]\n",
    "y = titanic['Survived']\n",
    "# 3.特征工程\n",
    "# 数据的填补\n",
    "X['Age'].fillna(X['Age'].mean(), inplace=True)\n",
    "X = pd.get_dummies(X)\n",
    "# 数据的切分\n",
    "from sklearn.model_selection import train_test_split\n",
    "\n",
    "X_train, X_test, y_train, y_test = train_test_split(X, y, test_size=0.25, random_state=22)"
   ],
   "metadata": {
    "collapsed": false,
    "ExecuteTime": {
     "end_time": "2023-08-16T06:14:11.581479Z",
     "start_time": "2023-08-16T06:14:10.826997Z"
    }
   },
   "id": "7d60b3cb0f1b66ca"
  },
  {
   "cell_type": "code",
   "execution_count": 5,
   "outputs": [
    {
     "data": {
      "text/plain": "0.7802690582959642"
     },
     "execution_count": 5,
     "metadata": {},
     "output_type": "execute_result"
    }
   ],
   "source": [
    "# 4.使用单一的决策树进行模型的训练及预测分析\n",
    "from sklearn.tree import DecisionTreeClassifier\n",
    "\n",
    "dtc = DecisionTreeClassifier()\n",
    "dtc.fit(X_train, y_train)\n",
    "dtc_y_pred = dtc.predict(X_test)\n",
    "dtc.score(X_test, y_test)"
   ],
   "metadata": {
    "collapsed": false,
    "ExecuteTime": {
     "end_time": "2023-08-16T06:14:11.688060Z",
     "start_time": "2023-08-16T06:14:11.582473Z"
    }
   },
   "id": "71815a18d411930"
  },
  {
   "cell_type": "code",
   "execution_count": 6,
   "outputs": [
    {
     "data": {
      "text/plain": "0.7623318385650224"
     },
     "execution_count": 6,
     "metadata": {},
     "output_type": "execute_result"
    }
   ],
   "source": [
    "\n",
    "# 5.随机森林进行模型的训练和预测分析\n",
    "from sklearn.ensemble import RandomForestClassifier\n",
    "\n",
    "rfc = RandomForestClassifier(max_depth=6, random_state=9)\n",
    "rfc.fit(X_train, y_train)\n",
    "rfc_y_pred = rfc.predict(X_test)\n",
    "rfc.score(X_test, y_test)"
   ],
   "metadata": {
    "collapsed": false,
    "ExecuteTime": {
     "end_time": "2023-08-16T06:14:11.879087Z",
     "start_time": "2023-08-16T06:14:11.687513Z"
    }
   },
   "id": "30a1443e1b7d533e"
  },
  {
   "cell_type": "code",
   "execution_count": 7,
   "outputs": [
    {
     "name": "stdout",
     "output_type": "stream",
     "text": [
      "dtc_report:               precision    recall  f1-score   support\n",
      "\n",
      "           0       0.86      0.79      0.82       146\n",
      "           1       0.66      0.77      0.71        77\n",
      "\n",
      "    accuracy                           0.78       223\n",
      "   macro avg       0.76      0.78      0.77       223\n",
      "weighted avg       0.79      0.78      0.78       223\n",
      "\n",
      "rfc_report:               precision    recall  f1-score   support\n",
      "\n",
      "           0       0.83      0.79      0.81       140\n",
      "           1       0.67      0.72      0.69        83\n",
      "\n",
      "    accuracy                           0.76       223\n",
      "   macro avg       0.75      0.75      0.75       223\n",
      "weighted avg       0.77      0.76      0.76       223\n"
     ]
    }
   ],
   "source": [
    "\n",
    "# 6.性能评估\n",
    "from sklearn.metrics import classification_report\n",
    "\n",
    "print(\"dtc_report:\", classification_report(dtc_y_pred, y_test))\n",
    "print(\"rfc_report:\", classification_report(rfc_y_pred, y_test))\n"
   ],
   "metadata": {
    "collapsed": false,
    "ExecuteTime": {
     "end_time": "2023-08-16T06:14:11.913369Z",
     "start_time": "2023-08-16T06:14:11.878112Z"
    }
   },
   "id": "initial_id"
  }
 ],
 "metadata": {
  "kernelspec": {
   "display_name": "Python 3",
   "language": "python",
   "name": "python3"
  },
  "language_info": {
   "codemirror_mode": {
    "name": "ipython",
    "version": 2
   },
   "file_extension": ".py",
   "mimetype": "text/x-python",
   "name": "python",
   "nbconvert_exporter": "python",
   "pygments_lexer": "ipython2",
   "version": "2.7.6"
  }
 },
 "nbformat": 4,
 "nbformat_minor": 5
}
