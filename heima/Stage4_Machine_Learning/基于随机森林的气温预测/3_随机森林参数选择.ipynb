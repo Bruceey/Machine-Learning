{
 "cells": [
  {
   "cell_type": "code",
   "execution_count": 2,
   "outputs": [
    {
     "data": {
      "text/plain": "   year  month  day weekday  ws_1  prcp_1  snwd_1  temp_2  temp_1  average  \\\n0  2011      1    1     Sat  4.92    0.00       0      36      37     45.6   \n1  2011      1    2     Sun  5.37    0.00       0      37      40     45.7   \n2  2011      1    3     Mon  6.26    0.00       0      40      39     45.8   \n3  2011      1    4    Tues  5.59    0.00       0      39      42     45.9   \n4  2011      1    5     Wed  3.80    0.03       0      42      38     46.0   \n\n   actual  friend  \n0      40      40  \n1      39      50  \n2      42      42  \n3      38      59  \n4      45      39  ",
      "text/html": "<div>\n<style scoped>\n    .dataframe tbody tr th:only-of-type {\n        vertical-align: middle;\n    }\n\n    .dataframe tbody tr th {\n        vertical-align: top;\n    }\n\n    .dataframe thead th {\n        text-align: right;\n    }\n</style>\n<table border=\"1\" class=\"dataframe\">\n  <thead>\n    <tr style=\"text-align: right;\">\n      <th></th>\n      <th>year</th>\n      <th>month</th>\n      <th>day</th>\n      <th>weekday</th>\n      <th>ws_1</th>\n      <th>prcp_1</th>\n      <th>snwd_1</th>\n      <th>temp_2</th>\n      <th>temp_1</th>\n      <th>average</th>\n      <th>actual</th>\n      <th>friend</th>\n    </tr>\n  </thead>\n  <tbody>\n    <tr>\n      <th>0</th>\n      <td>2011</td>\n      <td>1</td>\n      <td>1</td>\n      <td>Sat</td>\n      <td>4.92</td>\n      <td>0.00</td>\n      <td>0</td>\n      <td>36</td>\n      <td>37</td>\n      <td>45.6</td>\n      <td>40</td>\n      <td>40</td>\n    </tr>\n    <tr>\n      <th>1</th>\n      <td>2011</td>\n      <td>1</td>\n      <td>2</td>\n      <td>Sun</td>\n      <td>5.37</td>\n      <td>0.00</td>\n      <td>0</td>\n      <td>37</td>\n      <td>40</td>\n      <td>45.7</td>\n      <td>39</td>\n      <td>50</td>\n    </tr>\n    <tr>\n      <th>2</th>\n      <td>2011</td>\n      <td>1</td>\n      <td>3</td>\n      <td>Mon</td>\n      <td>6.26</td>\n      <td>0.00</td>\n      <td>0</td>\n      <td>40</td>\n      <td>39</td>\n      <td>45.8</td>\n      <td>42</td>\n      <td>42</td>\n    </tr>\n    <tr>\n      <th>3</th>\n      <td>2011</td>\n      <td>1</td>\n      <td>4</td>\n      <td>Tues</td>\n      <td>5.59</td>\n      <td>0.00</td>\n      <td>0</td>\n      <td>39</td>\n      <td>42</td>\n      <td>45.9</td>\n      <td>38</td>\n      <td>59</td>\n    </tr>\n    <tr>\n      <th>4</th>\n      <td>2011</td>\n      <td>1</td>\n      <td>5</td>\n      <td>Wed</td>\n      <td>3.80</td>\n      <td>0.03</td>\n      <td>0</td>\n      <td>42</td>\n      <td>38</td>\n      <td>46.0</td>\n      <td>45</td>\n      <td>39</td>\n    </tr>\n  </tbody>\n</table>\n</div>"
     },
     "execution_count": 2,
     "metadata": {},
     "output_type": "execute_result"
    }
   ],
   "source": [
    "import sys\n",
    "\n",
    "if sys.platform == 'win32':\n",
    "    filepath = r\"D:\\Code\\唐宇迪课程资料\\随机森林\\data\\temps_extended.csv\"\n",
    "else:\n",
    "    filepath = r'/Users/wangrui/Desktop/Files/唐宇迪课程资料/第十六章：基于随机森林的气温预测/随机森林/data/temps_extended.csv'\n",
    "\n",
    "# 数据读取\n",
    "import pandas as pd\n",
    "\n",
    "features = pd.read_csv(filepath)\n",
    "features.head(5)"
   ],
   "metadata": {
    "collapsed": false,
    "ExecuteTime": {
     "end_time": "2023-07-01T05:46:23.213527Z",
     "start_time": "2023-07-01T05:46:23.137232Z"
    }
   }
  },
  {
   "cell_type": "code",
   "execution_count": 3,
   "outputs": [
    {
     "name": "stdout",
     "output_type": "stream",
     "text": [
      "Training Features Shape: (1643, 17)\n",
      "Training Labels Shape: (1643,)\n",
      "Testing Features Shape: (548, 17)\n",
      "Testing Labels Shape: (548,)\n"
     ]
    }
   ],
   "source": [
    "# One Hot Encoding\n",
    "features = pd.get_dummies(features)\n",
    "\n",
    "# Extract features and labels\n",
    "labels = features['actual']\n",
    "features = features.drop('actual', axis = 1)\n",
    "\n",
    "# List of features for later use\n",
    "feature_list = list(features.columns)\n",
    "\n",
    "# Convert to numpy arrays\n",
    "import numpy as np\n",
    "\n",
    "features = np.array(features)\n",
    "labels = np.array(labels)\n",
    "\n",
    "# Training and Testing Sets\n",
    "from sklearn.model_selection import train_test_split\n",
    "\n",
    "train_features, test_features, train_labels, test_labels = train_test_split(features, labels,\n",
    "                                                                            test_size = 0.25, random_state = 42)\n",
    "\n",
    "print('Training Features Shape:', train_features.shape)\n",
    "print('Training Labels Shape:', train_labels.shape)\n",
    "print('Testing Features Shape:', test_features.shape)\n",
    "print('Testing Labels Shape:', test_labels.shape)"
   ],
   "metadata": {
    "collapsed": false,
    "ExecuteTime": {
     "end_time": "2023-07-01T05:49:50.995876Z",
     "start_time": "2023-07-01T05:49:50.901762Z"
    }
   }
  },
  {
   "cell_type": "markdown",
   "source": [
    "# 调参"
   ],
   "metadata": {
    "collapsed": false
   }
  },
  {
   "cell_type": "code",
   "execution_count": 4,
   "outputs": [
    {
     "name": "stdout",
     "output_type": "stream",
     "text": [
      "{'bootstrap': True,\n",
      " 'ccp_alpha': 0.0,\n",
      " 'criterion': 'mse',\n",
      " 'max_depth': None,\n",
      " 'max_features': 'auto',\n",
      " 'max_leaf_nodes': None,\n",
      " 'max_samples': None,\n",
      " 'min_impurity_decrease': 0.0,\n",
      " 'min_impurity_split': None,\n",
      " 'min_samples_leaf': 1,\n",
      " 'min_samples_split': 2,\n",
      " 'min_weight_fraction_leaf': 0.0,\n",
      " 'n_estimators': 100,\n",
      " 'n_jobs': None,\n",
      " 'oob_score': False,\n",
      " 'random_state': 42,\n",
      " 'verbose': 0,\n",
      " 'warm_start': False}\n"
     ]
    }
   ],
   "source": [
    "from sklearn.ensemble import RandomForestRegressor\n",
    "\n",
    "rf = RandomForestRegressor(random_state = 42)\n",
    "\n",
    "from pprint import pprint\n",
    "\n",
    "# 打印所有参数\n",
    "pprint(rf.get_params())"
   ],
   "metadata": {
    "collapsed": false,
    "ExecuteTime": {
     "end_time": "2023-07-01T05:50:08.485221Z",
     "start_time": "2023-07-01T05:50:08.386048Z"
    }
   }
  },
  {
   "cell_type": "markdown",
   "source": [
    "1、max_features = auto是什么意思？\n",
    "- If “auto”, then max_features=n_features"
   ],
   "metadata": {
    "collapsed": false
   }
  },
  {
   "cell_type": "code",
   "execution_count": 5,
   "outputs": [],
   "source": [
    "from sklearn.model_selection import RandomizedSearchCV\n",
    "\n",
    "# 建立树的个数\n",
    "n_estimators = [int(x) for x in np.linspace(start = 200, stop = 2000, num = 10)]\n",
    "# 最大特征的选择方式\n",
    "max_features = ['auto', 'sqrt']\n",
    "# 树的最大深度\n",
    "max_depth = [int(x) for x in np.linspace(10, 20, num = 2)]\n",
    "max_depth.append(None)\n",
    "# 节点最小分裂所需样本个数\n",
    "min_samples_split = [2, 5, 10]\n",
    "# 叶子节点最小样本数，任何分裂不能让其子节点样本数少于此值\n",
    "min_samples_leaf = [1, 2, 4]\n",
    "# 样本采样方法\n",
    "bootstrap = [True, False]\n",
    "\n",
    "# Random grid\n",
    "random_grid = {'n_estimators': n_estimators,\n",
    "               'max_features': max_features,\n",
    "               'max_depth': max_depth,\n",
    "               'min_samples_split': min_samples_split,\n",
    "               'min_samples_leaf': min_samples_leaf,\n",
    "               'bootstrap': bootstrap}"
   ],
   "metadata": {
    "collapsed": false,
    "ExecuteTime": {
     "end_time": "2023-07-01T05:58:05.861806Z",
     "start_time": "2023-07-01T05:58:05.787256Z"
    }
   }
  },
  {
   "cell_type": "markdown",
   "source": [
    "疑问： RandomSearchCV是如何\"随机搜索\"的？"
   ],
   "metadata": {
    "collapsed": false
   }
  },
  {
   "cell_type": "code",
   "execution_count": 6,
   "outputs": [
    {
     "name": "stdout",
     "output_type": "stream",
     "text": [
      "Fitting 3 folds for each of 10 candidates, totalling 30 fits\n"
     ]
    },
    {
     "data": {
      "text/plain": "RandomizedSearchCV(cv=3, estimator=RandomForestRegressor(), n_jobs=4,\n                   param_distributions={'bootstrap': [True, False],\n                                        'max_depth': [10, 20, None],\n                                        'max_features': ['auto', 'sqrt'],\n                                        'min_samples_leaf': [1, 2, 4],\n                                        'min_samples_split': [2, 5, 10],\n                                        'n_estimators': [200, 400, 600, 800,\n                                                         1000, 1200, 1400, 1600,\n                                                         1800, 2000]},\n                   random_state=42, scoring='neg_mean_absolute_error',\n                   verbose=2)"
     },
     "execution_count": 6,
     "metadata": {},
     "output_type": "execute_result"
    }
   ],
   "source": [
    "# 随机选择最合适的参数组合\n",
    "rf = RandomForestRegressor()\n",
    "\n",
    "rf_random = RandomizedSearchCV(estimator=rf, param_distributions=random_grid,\n",
    "                               n_iter=10, scoring='neg_mean_absolute_error',\n",
    "                               cv=3, verbose=2, random_state=42, n_jobs=4)\n",
    "\n",
    "# 执行寻找操作\n",
    "rf_random.fit(train_features, train_labels)"
   ],
   "metadata": {
    "collapsed": false,
    "ExecuteTime": {
     "end_time": "2023-07-01T06:18:29.605931Z",
     "start_time": "2023-07-01T06:18:05.183746Z"
    }
   }
  },
  {
   "cell_type": "code",
   "execution_count": 9,
   "outputs": [
    {
     "data": {
      "text/plain": "RandomForestRegressor(max_depth=10, min_samples_leaf=4, min_samples_split=10,\n                      n_estimators=1600)"
     },
     "execution_count": 9,
     "metadata": {},
     "output_type": "execute_result"
    }
   ],
   "source": [
    "rf_random.best_estimator_"
   ],
   "metadata": {
    "collapsed": false,
    "ExecuteTime": {
     "end_time": "2023-07-01T06:19:15.303060Z",
     "start_time": "2023-07-01T06:19:15.297006Z"
    }
   }
  },
  {
   "cell_type": "code",
   "execution_count": 10,
   "outputs": [],
   "source": [
    "def evaluate(model, test_features, test_labels):\n",
    "    predictions = model.predict(test_features)\n",
    "    errors = abs(predictions - test_labels)\n",
    "    mape = 100 * np.mean(errors / test_labels)\n",
    "    accuracy = 100 - mape\n",
    "\n",
    "    print('平均气温误差.',np.mean(errors))\n",
    "    print('Accuracy = {:0.2f}%.'.format(accuracy))"
   ],
   "metadata": {
    "collapsed": false,
    "ExecuteTime": {
     "end_time": "2023-07-01T06:27:51.981375Z",
     "start_time": "2023-07-01T06:27:51.977113Z"
    }
   }
  },
  {
   "cell_type": "code",
   "execution_count": 11,
   "outputs": [
    {
     "name": "stdout",
     "output_type": "stream",
     "text": [
      "平均气温误差. 3.7161131386861315\n",
      "Accuracy = 93.73%.\n"
     ]
    }
   ],
   "source": [
    "# 老模型\n",
    "base_model = RandomForestRegressor( random_state = 42)\n",
    "base_model.fit(train_features, train_labels)\n",
    "evaluate(base_model, test_features, test_labels)"
   ],
   "metadata": {
    "collapsed": false,
    "ExecuteTime": {
     "end_time": "2023-07-01T06:28:03.519369Z",
     "start_time": "2023-07-01T06:28:02.762206Z"
    }
   }
  },
  {
   "cell_type": "code",
   "execution_count": 12,
   "outputs": [
    {
     "name": "stdout",
     "output_type": "stream",
     "text": [
      "平均气温误差. 3.6466876214501975\n",
      "Accuracy = 93.84%.\n"
     ]
    }
   ],
   "source": [
    "# 新模型\n",
    "best_random = rf_random.best_estimator_\n",
    "evaluate(best_random, test_features, test_labels)"
   ],
   "metadata": {
    "collapsed": false,
    "ExecuteTime": {
     "end_time": "2023-07-01T06:28:37.459877Z",
     "start_time": "2023-07-01T06:28:37.219477Z"
    }
   }
  },
  {
   "cell_type": "code",
   "execution_count": 13,
   "outputs": [
    {
     "data": {
      "text/plain": "{'bootstrap': True,\n 'ccp_alpha': 0.0,\n 'criterion': 'mse',\n 'max_depth': 10,\n 'max_features': 'auto',\n 'max_leaf_nodes': None,\n 'max_samples': None,\n 'min_impurity_decrease': 0.0,\n 'min_impurity_split': None,\n 'min_samples_leaf': 4,\n 'min_samples_split': 10,\n 'min_weight_fraction_leaf': 0.0,\n 'n_estimators': 1600,\n 'n_jobs': None,\n 'oob_score': False,\n 'random_state': None,\n 'verbose': 0,\n 'warm_start': False}"
     },
     "execution_count": 13,
     "metadata": {},
     "output_type": "execute_result"
    }
   ],
   "source": [
    "best_random.get_params()"
   ],
   "metadata": {
    "collapsed": false,
    "ExecuteTime": {
     "end_time": "2023-07-01T06:30:05.061953Z",
     "start_time": "2023-07-01T06:30:05.055909Z"
    }
   }
  },
  {
   "cell_type": "code",
   "execution_count": 14,
   "outputs": [
    {
     "data": {
      "text/plain": "['year',\n 'month',\n 'day',\n 'ws_1',\n 'prcp_1',\n 'snwd_1',\n 'temp_2',\n 'temp_1',\n 'average',\n 'friend',\n 'weekday_Fri',\n 'weekday_Mon',\n 'weekday_Sat',\n 'weekday_Sun',\n 'weekday_Thurs',\n 'weekday_Tues',\n 'weekday_Wed']"
     },
     "execution_count": 14,
     "metadata": {},
     "output_type": "execute_result"
    }
   ],
   "source": [
    "feature_list"
   ],
   "metadata": {
    "collapsed": false,
    "ExecuteTime": {
     "end_time": "2023-07-01T06:30:43.390067Z",
     "start_time": "2023-07-01T06:30:43.383609Z"
    }
   }
  },
  {
   "cell_type": "markdown",
   "source": [
    "### 利用RandomizedSearchCV查找大概范围，之后再用GridSearchCV来确定最终参数"
   ],
   "metadata": {
    "collapsed": false
   }
  },
  {
   "cell_type": "markdown",
   "source": [
    "来总结一下我们的调参任务吧：\n",
    "\n",
    "- 1.参数空间是非常重要的，它会对结果产生决定性影响，所以在开始任务之前，得选择大致一个合适区间，可以参考一些相同任务论文的经验值。\n",
    "- 2.随机搜索可以更节约时间，尤其是在任务开始阶段，我们并不知道哪一个参数在哪一个位置效果能更好，这样我们可以把参数间隔设置的更大一些，先用随机搜索确定一些大致位置。\n",
    "- 3.网络搜索相当于地毯式搜索了，当我们得到了大致位置之后，想在这里寻找到最优参数的时候就派上用场了，可以把随机和网络搜索当做一套组合拳，搭配使用。\n",
    "- 4.最后调参的方法其实还有很多的，比如贝叶斯优化，这个还是蛮有意思的，跟大家简单说一下，想一想我们之前的调参方式，是不是每一个都是独立的进行不会对之后的结果产生任何影响，贝叶斯优化的基本思想在于每一个优化都是在不断积累经验，这样我会慢慢得到最终的解应当在的位置，相当于前一步结果会对后面产生影响了，如果大家对贝叶斯优化感兴趣，可以参考下Hyperopt工具包，用起来也很简便："
   ],
   "metadata": {
    "collapsed": false
   }
  },
  {
   "cell_type": "code",
   "execution_count": null,
   "outputs": [],
   "source": [],
   "metadata": {
    "collapsed": false
   }
  }
 ],
 "metadata": {
  "kernelspec": {
   "display_name": "Python 3",
   "language": "python",
   "name": "python3"
  },
  "language_info": {
   "codemirror_mode": {
    "name": "ipython",
    "version": 2
   },
   "file_extension": ".py",
   "mimetype": "text/x-python",
   "name": "python",
   "nbconvert_exporter": "python",
   "pygments_lexer": "ipython2",
   "version": "2.7.6"
  }
 },
 "nbformat": 4,
 "nbformat_minor": 0
}
