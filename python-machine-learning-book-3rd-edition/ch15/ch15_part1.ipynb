{
 "cells": [
  {
   "cell_type": "code",
   "execution_count": 1,
   "metadata": {
    "collapsed": true,
    "ExecuteTime": {
     "end_time": "2023-07-29T04:01:50.804597Z",
     "start_time": "2023-07-29T04:01:46.792560Z"
    }
   },
   "outputs": [
    {
     "name": "stderr",
     "output_type": "stream",
     "text": [
      "2023-07-29 12:01:46.868009: I tensorflow/core/platform/cpu_feature_guard.cc:193] This TensorFlow binary is optimized with oneAPI Deep Neural Network Library (oneDNN) to use the following CPU instructions in performance-critical operations:  SSE4.1 SSE4.2 AVX AVX2 FMA\n",
      "To enable them in other operations, rebuild TensorFlow with the appropriate compiler flags.\n"
     ]
    },
    {
     "name": "stdout",
     "output_type": "stream",
     "text": [
      "TensorFlow version: 2.10.0\n",
      "NumPy version:  1.25.1\n"
     ]
    }
   ],
   "source": [
    "import tensorflow as tf\n",
    "import numpy as np\n",
    "\n",
    "print('TensorFlow version:', tf.__version__)\n",
    "print('NumPy version: ', np.__version__)"
   ]
  },
  {
   "cell_type": "code",
   "execution_count": 2,
   "outputs": [
    {
     "name": "stdout",
     "output_type": "stream",
     "text": [
      "Conv1d Implementation: [ 5. 14. 16. 26. 24. 34. 19. 22.]\n",
      "Numpy Results: [ 5 14 16 26 24 34 19 22]\n"
     ]
    }
   ],
   "source": [
    "def conv1d(x, w, p=0, s=1):\n",
    "    w_rot = np.array(w[::-1])\n",
    "    x_padded = np.array(x)\n",
    "    if p > 0:\n",
    "        zero_pad = np.zeros(shape=p)\n",
    "        x_padded = np.concatenate(\n",
    "            [zero_pad, x_padded, zero_pad])\n",
    "    res = []\n",
    "    for i in range(0, int((len(x_padded) - len(w_rot)) / s) + 1, s):\n",
    "        res.append(np.sum(\n",
    "            x_padded[i:i+w_rot.shape[0]] * w_rot))\n",
    "    return np.array(res)\n",
    "\n",
    "\n",
    "## Testing:\n",
    "x = [1, 3, 2, 4, 5, 6, 1, 3]\n",
    "w = [1, 0, 3, 1, 2]\n",
    "\n",
    "print('Conv1d Implementation:',\n",
    "      conv1d(x, w, p=2, s=1))\n",
    "\n",
    "print('Numpy Results:',\n",
    "      np.convolve(x, w, mode='same'))"
   ],
   "metadata": {
    "collapsed": false,
    "ExecuteTime": {
     "end_time": "2023-07-29T04:01:50.808879Z",
     "start_time": "2023-07-29T04:01:50.803625Z"
    }
   }
  },
  {
   "cell_type": "code",
   "execution_count": 3,
   "outputs": [
    {
     "data": {
      "text/plain": "0.40506502808682465"
     },
     "execution_count": 3,
     "metadata": {},
     "output_type": "execute_result"
    }
   ],
   "source": [
    "(np.log(0.51)) + np.log(2.94)"
   ],
   "metadata": {
    "collapsed": false,
    "ExecuteTime": {
     "end_time": "2023-07-29T04:01:50.859428Z",
     "start_time": "2023-07-29T04:01:50.809662Z"
    }
   }
  },
  {
   "cell_type": "code",
   "execution_count": 4,
   "outputs": [],
   "source": [
    "# import tensorflow_datasets as tfds\n",
    "import pandas as pd\n",
    "\n",
    "import matplotlib.pyplot as plt"
   ],
   "metadata": {
    "collapsed": false,
    "ExecuteTime": {
     "end_time": "2023-07-29T04:01:51.228353Z",
     "start_time": "2023-07-29T04:01:50.823199Z"
    }
   }
  },
  {
   "cell_type": "code",
   "execution_count": 5,
   "outputs": [],
   "source": [
    "## MNIST dataset\n",
    "\n",
    "# mnist_bldr = tfds.builder('mnist')\n",
    "# mnist_bldr.download_and_prepare()\n",
    "# datasets = mnist_bldr.as_dataset(shuffle_files=False)\n",
    "# print(datasets.keys())\n",
    "# mnist_train_orig, mnist_test_orig = datasets['train'], datasets['test']"
   ],
   "metadata": {
    "collapsed": false,
    "ExecuteTime": {
     "end_time": "2023-07-29T04:01:51.229051Z",
     "start_time": "2023-07-29T04:01:51.220323Z"
    }
   }
  },
  {
   "cell_type": "code",
   "execution_count": 6,
   "outputs": [],
   "source": [
    "import os\n",
    "import struct\n",
    "import numpy as np\n",
    "\n",
    "\n",
    "def load_mnist(path, kind='train'):\n",
    "    \"\"\"Load MNIST data from `path`\"\"\"\n",
    "    labels_path = os.path.join(path,\n",
    "                               '%s-labels-idx1-ubyte' % kind)\n",
    "    images_path = os.path.join(path,\n",
    "                               '%s-images-idx3-ubyte' % kind)\n",
    "\n",
    "    with open(labels_path, 'rb') as lbpath:\n",
    "        magic, n = struct.unpack('>II',\n",
    "                                 lbpath.read(8))\n",
    "        labels = np.fromfile(lbpath,\n",
    "                             dtype=np.uint8)\n",
    "\n",
    "    with open(images_path, 'rb') as imgpath:\n",
    "        magic, num, rows, cols = struct.unpack(\">IIII\",\n",
    "                                               imgpath.read(16))\n",
    "        images = np.fromfile(imgpath,\n",
    "                             dtype=np.uint8).reshape(len(labels), 28, 28, 1)\n",
    "        # images = ((images / 255.) - .5) * 2\n",
    "\n",
    "    return images, labels"
   ],
   "metadata": {
    "collapsed": false,
    "ExecuteTime": {
     "end_time": "2023-07-29T04:01:51.231690Z",
     "start_time": "2023-07-29T04:01:51.224496Z"
    }
   }
  },
  {
   "cell_type": "code",
   "execution_count": 7,
   "outputs": [
    {
     "data": {
      "text/plain": "((60000, 28, 28, 1), (60000,))"
     },
     "execution_count": 7,
     "metadata": {},
     "output_type": "execute_result"
    }
   ],
   "source": [
    "path = '../datasets/mnist'\n",
    "\n",
    "X_train, y_train = load_mnist(path, kind='train')\n",
    "X_train.shape, y_train.shape"
   ],
   "metadata": {
    "collapsed": false,
    "ExecuteTime": {
     "end_time": "2023-07-29T04:01:51.266366Z",
     "start_time": "2023-07-29T04:01:51.232247Z"
    }
   }
  },
  {
   "cell_type": "code",
   "execution_count": 8,
   "outputs": [
    {
     "data": {
      "text/plain": "((10000, 28, 28, 1), (10000,))"
     },
     "execution_count": 8,
     "metadata": {},
     "output_type": "execute_result"
    }
   ],
   "source": [
    "X_test, y_test = load_mnist(path, kind='t10k')\n",
    "X_test.shape, y_test.shape"
   ],
   "metadata": {
    "collapsed": false,
    "ExecuteTime": {
     "end_time": "2023-07-29T04:01:51.279163Z",
     "start_time": "2023-07-29T04:01:51.261171Z"
    }
   }
  },
  {
   "cell_type": "code",
   "execution_count": 9,
   "outputs": [
    {
     "data": {
      "text/plain": "array([[  0,   0,   0,   0,   0,   0,   0,   0,   0,   0,   0,   0,   0,\n          0,   0,   0,   0,   0,   0,   0,   0,   0,   0,   0,   0,   0,\n          0,   0],\n       [  0,   0,   0,   0,   0,   0,   0,   0,   0,   0,   0,   0,   0,\n          0,   0,   0,   0,   0,   0,   0,   0,   0,   0,   0,   0,   0,\n          0,   0],\n       [  0,   0,   0,   0,   0,   0,   0,   0,   0,   0,   0,   0,   0,\n          0,   0,   0,   0,   0,   0,   0,   0,   0,   0,   0,   0,   0,\n          0,   0],\n       [  0,   0,   0,   0,   0,   0,   0,   0,   0,   0,   0,   0,   0,\n          0,   0,   0,   0,   0,   0,   0,   0,   0,   0,   0,   0,   0,\n          0,   0],\n       [  0,   0,   0,   0,   0,   0,   0,   0,   0,   0,   0,   0,   0,\n          0,   0,   0,   0,   0,   0,   0,   0,   0,   0,   0,   0,   0,\n          0,   0],\n       [  0,   0,   0,   0,   0,   0,   0,   0,   0,   0,   0,   0,   0,\n          0,   0,   0,   0,   0,   0,   0,   0,   0,   0,   0,   0,   0,\n          0,   0],\n       [  0,   0,   0,   0,   0,   0,   0,   0,   0,   0,   0,   0,   0,\n          0,   0,   0,   0,   0,   0,   0,   0,   0,   0,   0,   0,   0,\n          0,   0],\n       [  0,   0,   0,   0,   0,   0,  84, 185, 159, 151,  60,  36,   0,\n          0,   0,   0,   0,   0,   0,   0,   0,   0,   0,   0,   0,   0,\n          0,   0],\n       [  0,   0,   0,   0,   0,   0, 222, 254, 254, 254, 254, 241, 198,\n        198, 198, 198, 198, 198, 198, 198, 170,  52,   0,   0,   0,   0,\n          0,   0],\n       [  0,   0,   0,   0,   0,   0,  67, 114,  72, 114, 163, 227, 254,\n        225, 254, 254, 254, 250, 229, 254, 254, 140,   0,   0,   0,   0,\n          0,   0],\n       [  0,   0,   0,   0,   0,   0,   0,   0,   0,   0,   0,  17,  66,\n         14,  67,  67,  67,  59,  21, 236, 254, 106,   0,   0,   0,   0,\n          0,   0],\n       [  0,   0,   0,   0,   0,   0,   0,   0,   0,   0,   0,   0,   0,\n          0,   0,   0,   0,   0,  83, 253, 209,  18,   0,   0,   0,   0,\n          0,   0],\n       [  0,   0,   0,   0,   0,   0,   0,   0,   0,   0,   0,   0,   0,\n          0,   0,   0,   0,  22, 233, 255,  83,   0,   0,   0,   0,   0,\n          0,   0],\n       [  0,   0,   0,   0,   0,   0,   0,   0,   0,   0,   0,   0,   0,\n          0,   0,   0,   0, 129, 254, 238,  44,   0,   0,   0,   0,   0,\n          0,   0],\n       [  0,   0,   0,   0,   0,   0,   0,   0,   0,   0,   0,   0,   0,\n          0,   0,   0,  59, 249, 254,  62,   0,   0,   0,   0,   0,   0,\n          0,   0],\n       [  0,   0,   0,   0,   0,   0,   0,   0,   0,   0,   0,   0,   0,\n          0,   0,   0, 133, 254, 187,   5,   0,   0,   0,   0,   0,   0,\n          0,   0],\n       [  0,   0,   0,   0,   0,   0,   0,   0,   0,   0,   0,   0,   0,\n          0,   0,   9, 205, 248,  58,   0,   0,   0,   0,   0,   0,   0,\n          0,   0],\n       [  0,   0,   0,   0,   0,   0,   0,   0,   0,   0,   0,   0,   0,\n          0,   0, 126, 254, 182,   0,   0,   0,   0,   0,   0,   0,   0,\n          0,   0],\n       [  0,   0,   0,   0,   0,   0,   0,   0,   0,   0,   0,   0,   0,\n          0,  75, 251, 240,  57,   0,   0,   0,   0,   0,   0,   0,   0,\n          0,   0],\n       [  0,   0,   0,   0,   0,   0,   0,   0,   0,   0,   0,   0,   0,\n         19, 221, 254, 166,   0,   0,   0,   0,   0,   0,   0,   0,   0,\n          0,   0],\n       [  0,   0,   0,   0,   0,   0,   0,   0,   0,   0,   0,   0,   3,\n        203, 254, 219,  35,   0,   0,   0,   0,   0,   0,   0,   0,   0,\n          0,   0],\n       [  0,   0,   0,   0,   0,   0,   0,   0,   0,   0,   0,   0,  38,\n        254, 254,  77,   0,   0,   0,   0,   0,   0,   0,   0,   0,   0,\n          0,   0],\n       [  0,   0,   0,   0,   0,   0,   0,   0,   0,   0,   0,  31, 224,\n        254, 115,   1,   0,   0,   0,   0,   0,   0,   0,   0,   0,   0,\n          0,   0],\n       [  0,   0,   0,   0,   0,   0,   0,   0,   0,   0,   0, 133, 254,\n        254,  52,   0,   0,   0,   0,   0,   0,   0,   0,   0,   0,   0,\n          0,   0],\n       [  0,   0,   0,   0,   0,   0,   0,   0,   0,   0,  61, 242, 254,\n        254,  52,   0,   0,   0,   0,   0,   0,   0,   0,   0,   0,   0,\n          0,   0],\n       [  0,   0,   0,   0,   0,   0,   0,   0,   0,   0, 121, 254, 254,\n        219,  40,   0,   0,   0,   0,   0,   0,   0,   0,   0,   0,   0,\n          0,   0],\n       [  0,   0,   0,   0,   0,   0,   0,   0,   0,   0, 121, 254, 207,\n         18,   0,   0,   0,   0,   0,   0,   0,   0,   0,   0,   0,   0,\n          0,   0],\n       [  0,   0,   0,   0,   0,   0,   0,   0,   0,   0,   0,   0,   0,\n          0,   0,   0,   0,   0,   0,   0,   0,   0,   0,   0,   0,   0,\n          0,   0]], dtype=uint8)"
     },
     "execution_count": 9,
     "metadata": {},
     "output_type": "execute_result"
    }
   ],
   "source": [
    "X_test[0, :, : , 0]"
   ],
   "metadata": {
    "collapsed": false,
    "ExecuteTime": {
     "end_time": "2023-07-29T04:01:51.283332Z",
     "start_time": "2023-07-29T04:01:51.273157Z"
    }
   }
  },
  {
   "cell_type": "code",
   "execution_count": 13,
   "outputs": [],
   "source": [
    "BUFFER_SIZE = 10000\n",
    "BATCH_SIZE = 64\n",
    "NUM_EPOCHS = 20\n",
    "\n",
    "mnist_train = tf.data.Dataset.from_tensor_slices((\n",
    "    tf.cast(X_train, tf.float32) / 255.0,\n",
    "    tf.cast(y_train, tf.int32)\n",
    "))\n",
    "\n",
    "mnist_test = tf.data.Dataset.from_tensor_slices((\n",
    "    tf.cast(X_test, tf.float32) / 255.0,\n",
    "    tf.cast(y_test, tf.int32)\n",
    "))\n",
    "\n",
    "tf.random.set_seed(1)\n",
    "\n",
    "mnist_train = mnist_train.shuffle(buffer_size=BUFFER_SIZE, reshuffle_each_iteration=False)\n",
    "\n",
    "mnist_valid = mnist_train.take(10000).batch(BATCH_SIZE)\n",
    "mnist_train = mnist_train.skip(10000).batch(BATCH_SIZE)"
   ],
   "metadata": {
    "collapsed": false,
    "ExecuteTime": {
     "end_time": "2023-07-29T04:19:55.537257Z",
     "start_time": "2023-07-29T04:19:55.362040Z"
    }
   }
  },
  {
   "cell_type": "markdown",
   "source": [
    "### Implementing a CNN using the TensorFlow Keras API\n",
    "\n",
    "#### Configuring CNN layers in Keras\n",
    "\n",
    " * **Conv2D:** `tf.keras.layers.Conv2D`\n",
    "   * `filters`\n",
    "   * `kernel_size`\n",
    "   * `strides`\n",
    "   * `padding`\n",
    "   \n",
    "   \n",
    " * **MaxPool2D:** `tf.keras.layers.MaxPool2D`\n",
    "   * `pool_size`\n",
    "   * `strides`\n",
    "   * `padding`\n",
    "   \n",
    "   \n",
    " * **Dropout** `tf.keras.layers.Dropout2D`\n",
    "   * `rate`"
   ],
   "metadata": {
    "collapsed": false
   }
  },
  {
   "cell_type": "markdown",
   "source": [
    "### Constructing a CNN in Keras"
   ],
   "metadata": {
    "collapsed": false
   }
  },
  {
   "cell_type": "code",
   "execution_count": 14,
   "outputs": [],
   "source": [
    "model = tf.keras.Sequential()\n",
    "\n",
    "model.add(tf.keras.layers.Conv2D(\n",
    "    filters=32, kernel_size=(5, 5),\n",
    "    strides=(1, 1), padding='same',\n",
    "    data_format='channels_last',\n",
    "    name='conv_1', activation='relu'\n",
    "))\n",
    "\n",
    "model.add(tf.keras.layers.MaxPool2D(\n",
    "    pool_size=(2, 2), name=\"pool_1\"\n",
    "))\n",
    "\n",
    "model.add(tf.keras.layers.Conv2D(\n",
    "    filters=64, kernel_size=(5, 5),\n",
    "    strides=(1, 1), padding='same',\n",
    "    name='conv_2', activation='relu'\n",
    "))\n",
    "\n",
    "model.add(tf.keras.layers.MaxPool2D(\n",
    "    pool_size=(2, 2), name='pool_2'\n",
    "))\n",
    "\n",
    "model.add(tf.keras.layers.Flatten())\n",
    "\n",
    "model.add(tf.keras.layers.Dense(\n",
    "    units=1024, name='fc_1',\n",
    "    activation='relu'\n",
    "))\n",
    "\n",
    "model.add(tf.keras.layers.Dropout(rate=0.5))\n",
    "\n",
    "model.add(tf.keras.layers.Dense(\n",
    "    units=10, name='fc_2',\n",
    "    activation='softmax'\n",
    "))"
   ],
   "metadata": {
    "collapsed": false,
    "ExecuteTime": {
     "end_time": "2023-07-29T06:32:09.000592Z",
     "start_time": "2023-07-29T06:32:08.980223Z"
    }
   }
  },
  {
   "cell_type": "code",
   "execution_count": 15,
   "outputs": [
    {
     "data": {
      "text/plain": "TensorShape([16, 10])"
     },
     "execution_count": 15,
     "metadata": {},
     "output_type": "execute_result"
    }
   ],
   "source": [
    "tf.random.set_seed(1)\n",
    "model.build(input_shape=(None, 28, 28, 1))\n",
    "\n",
    "model.compute_output_shape(input_shape=(16, 28, 28, 1))"
   ],
   "metadata": {
    "collapsed": false,
    "ExecuteTime": {
     "end_time": "2023-07-29T06:32:39.661527Z",
     "start_time": "2023-07-29T06:32:39.580172Z"
    }
   }
  },
  {
   "cell_type": "code",
   "execution_count": 16,
   "outputs": [
    {
     "name": "stdout",
     "output_type": "stream",
     "text": [
      "Model: \"sequential\"\n",
      "_________________________________________________________________\n",
      " Layer (type)                Output Shape              Param #   \n",
      "=================================================================\n",
      " conv_1 (Conv2D)             (None, 28, 28, 32)        832       \n",
      "                                                                 \n",
      " pool_1 (MaxPooling2D)       (None, 14, 14, 32)        0         \n",
      "                                                                 \n",
      " conv_2 (Conv2D)             (None, 14, 14, 64)        51264     \n",
      "                                                                 \n",
      " pool_2 (MaxPooling2D)       (None, 7, 7, 64)          0         \n",
      "                                                                 \n",
      " flatten (Flatten)           (None, 3136)              0         \n",
      "                                                                 \n",
      " fc_1 (Dense)                (None, 1024)              3212288   \n",
      "                                                                 \n",
      " dropout (Dropout)           (None, 1024)              0         \n",
      "                                                                 \n",
      " fc_2 (Dense)                (None, 10)                10250     \n",
      "                                                                 \n",
      "=================================================================\n",
      "Total params: 3,274,634\n",
      "Trainable params: 3,274,634\n",
      "Non-trainable params: 0\n",
      "_________________________________________________________________\n"
     ]
    }
   ],
   "source": [
    "model.summary()"
   ],
   "metadata": {
    "collapsed": false,
    "ExecuteTime": {
     "end_time": "2023-07-29T06:32:50.648785Z",
     "start_time": "2023-07-29T06:32:50.621410Z"
    }
   }
  },
  {
   "cell_type": "code",
   "execution_count": 17,
   "outputs": [
    {
     "name": "stdout",
     "output_type": "stream",
     "text": [
      "Epoch 1/20\n",
      "782/782 [==============================] - 54s 68ms/step - loss: 0.1384 - accuracy: 0.9576 - val_loss: 0.0498 - val_accuracy: 0.9857\n",
      "Epoch 2/20\n",
      "782/782 [==============================] - 54s 69ms/step - loss: 0.0442 - accuracy: 0.9865 - val_loss: 0.0408 - val_accuracy: 0.9877\n",
      "Epoch 3/20\n",
      "782/782 [==============================] - 53s 68ms/step - loss: 0.0308 - accuracy: 0.9904 - val_loss: 0.0343 - val_accuracy: 0.9894\n",
      "Epoch 4/20\n",
      "782/782 [==============================] - 55s 70ms/step - loss: 0.0231 - accuracy: 0.9926 - val_loss: 0.0353 - val_accuracy: 0.9894\n",
      "Epoch 5/20\n",
      "782/782 [==============================] - 53s 67ms/step - loss: 0.0185 - accuracy: 0.9939 - val_loss: 0.0384 - val_accuracy: 0.9894\n",
      "Epoch 6/20\n",
      "782/782 [==============================] - 53s 67ms/step - loss: 0.0153 - accuracy: 0.9953 - val_loss: 0.0349 - val_accuracy: 0.9893\n",
      "Epoch 7/20\n",
      "782/782 [==============================] - 51s 66ms/step - loss: 0.0138 - accuracy: 0.9955 - val_loss: 0.0414 - val_accuracy: 0.9893\n",
      "Epoch 8/20\n",
      "782/782 [==============================] - 51s 65ms/step - loss: 0.0110 - accuracy: 0.9965 - val_loss: 0.0400 - val_accuracy: 0.9899\n",
      "Epoch 9/20\n",
      "782/782 [==============================] - 48s 62ms/step - loss: 0.0106 - accuracy: 0.9968 - val_loss: 0.0381 - val_accuracy: 0.9909\n",
      "Epoch 10/20\n",
      "782/782 [==============================] - 42s 53ms/step - loss: 0.0088 - accuracy: 0.9971 - val_loss: 0.0406 - val_accuracy: 0.9899\n",
      "Epoch 11/20\n",
      "782/782 [==============================] - 48s 61ms/step - loss: 0.0089 - accuracy: 0.9971 - val_loss: 0.0478 - val_accuracy: 0.9888\n",
      "Epoch 12/20\n",
      "782/782 [==============================] - 51s 65ms/step - loss: 0.0094 - accuracy: 0.9968 - val_loss: 0.0419 - val_accuracy: 0.9905\n",
      "Epoch 13/20\n",
      "782/782 [==============================] - 51s 65ms/step - loss: 0.0071 - accuracy: 0.9976 - val_loss: 0.0544 - val_accuracy: 0.9886\n",
      "Epoch 14/20\n",
      "782/782 [==============================] - 46s 59ms/step - loss: 0.0078 - accuracy: 0.9977 - val_loss: 0.0501 - val_accuracy: 0.9915\n",
      "Epoch 15/20\n",
      "782/782 [==============================] - 47s 60ms/step - loss: 0.0064 - accuracy: 0.9976 - val_loss: 0.0589 - val_accuracy: 0.9908\n",
      "Epoch 16/20\n",
      "782/782 [==============================] - 51s 65ms/step - loss: 0.0076 - accuracy: 0.9976 - val_loss: 0.0488 - val_accuracy: 0.9912\n",
      "Epoch 17/20\n",
      "782/782 [==============================] - 51s 65ms/step - loss: 0.0057 - accuracy: 0.9983 - val_loss: 0.0464 - val_accuracy: 0.9917\n",
      "Epoch 18/20\n",
      "782/782 [==============================] - 48s 61ms/step - loss: 0.0061 - accuracy: 0.9980 - val_loss: 0.0612 - val_accuracy: 0.9909\n",
      "Epoch 19/20\n",
      "782/782 [==============================] - 51s 65ms/step - loss: 0.0064 - accuracy: 0.9985 - val_loss: 0.0538 - val_accuracy: 0.9912\n",
      "Epoch 20/20\n",
      "782/782 [==============================] - 50s 64ms/step - loss: 0.0053 - accuracy: 0.9986 - val_loss: 0.0611 - val_accuracy: 0.9905\n"
     ]
    }
   ],
   "source": [
    "model.compile(optimizer=tf.keras.optimizers.Adam(),\n",
    "              loss=tf.keras.losses.SparseCategoricalCrossentropy(),\n",
    "              metrics=['accuracy']) # same as `tf.keras.metrics.SparseCategoricalAccuracy(name='accuracy')`\n",
    "\n",
    "history = model.fit(mnist_train, epochs=NUM_EPOCHS,\n",
    "                    validation_data=mnist_valid,\n",
    "                    shuffle=True)"
   ],
   "metadata": {
    "collapsed": false,
    "ExecuteTime": {
     "end_time": "2023-07-29T06:55:17.179691Z",
     "start_time": "2023-07-29T06:38:31.239079Z"
    }
   }
  },
  {
   "cell_type": "code",
   "execution_count": 18,
   "outputs": [
    {
     "data": {
      "text/plain": "<Figure size 1200x400 with 2 Axes>",
      "image/png": "[encoded data removed]"
     },
     "metadata": {},
     "output_type": "display_data"
    }
   ],
   "source": [
    "hist = history.history\n",
    "x_arr = np.arange(len(hist['loss'])) + 1\n",
    "\n",
    "fig = plt.figure(figsize=(12, 4))\n",
    "ax = fig.add_subplot(1, 2, 1)\n",
    "ax.plot(x_arr, hist['loss'], '-o', label='Train loss')\n",
    "ax.plot(x_arr, hist['val_loss'], '--<', label='Validation loss')\n",
    "ax.set_xlabel('Epoch', size=15)\n",
    "ax.set_ylabel('Loss', size=15)\n",
    "ax.legend(fontsize=15)\n",
    "\n",
    "ax = fig.add_subplot(1, 2, 2)\n",
    "ax.plot(x_arr, hist['accuracy'], '-o', label='Train acc')\n",
    "ax.plot(x_arr, hist['val_accuracy'], '--<', label='Validation acc')\n",
    "ax.set_xlabel('Epoch', size=15)\n",
    "ax.set_ylabel('Accuracy', size=15)\n",
    "ax.legend(fontsize=15)\n",
    "\n",
    "#plt.savefig('figures/15_12.png', dpi=300)\n",
    "plt.show()"
   ],
   "metadata": {
    "collapsed": false,
    "ExecuteTime": {
     "end_time": "2023-07-29T07:11:46.630519Z",
     "start_time": "2023-07-29T07:11:45.718144Z"
    }
   }
  },
  {
   "cell_type": "code",
   "execution_count": 19,
   "outputs": [
    {
     "name": "stdout",
     "output_type": "stream",
     "text": [
      "500/500 [==============================] - 2s 4ms/step - loss: 0.0514 - accuracy: 0.9915\n",
      "\n",
      "Test Acc. 99.15%\n"
     ]
    }
   ],
   "source": [
    "test_results = model.evaluate(mnist_test.batch(20))\n",
    "print('\\nTest Acc. {:.2f}%'.format(test_results[1]*100))"
   ],
   "metadata": {
    "collapsed": false,
    "ExecuteTime": {
     "end_time": "2023-07-29T07:17:41.314634Z",
     "start_time": "2023-07-29T07:17:39.115853Z"
    }
   }
  },
  {
   "cell_type": "code",
   "execution_count": 25,
   "outputs": [],
   "source": [],
   "metadata": {
    "collapsed": false,
    "ExecuteTime": {
     "end_time": "2023-07-29T08:29:25.995027Z",
     "start_time": "2023-07-29T08:29:25.972905Z"
    }
   }
  },
  {
   "cell_type": "code",
   "execution_count": 23,
   "outputs": [
    {
     "name": "stdout",
     "output_type": "stream",
     "text": [
      "TensorShape([12, 10])\n",
      "tf.Tensor([7 2 1 0 4 1 4 9 5 9 0 6], shape=(12,), dtype=int64)\n"
     ]
    },
    {
     "data": {
      "text/plain": "<Figure size 1200x400 with 12 Axes>",
      "image/png": "[encoded data removed]"
     },
     "metadata": {},
     "output_type": "display_data"
    }
   ],
   "source": [
    "batch_test = next(iter(mnist_test.batch(12)))\n",
    "\n",
    "y_true = batch_test[1]\n",
    "\n",
    "preds = model(batch_test[0])\n",
    "tf.print(preds.shape)\n",
    "\n",
    "preds = tf.argmax(preds, axis=1)\n",
    "print(preds)\n",
    "\n",
    "fig = plt.figure(figsize=(12, 4),)\n",
    "for i in range(12):\n",
    "    ax = fig.add_subplot(2, 6, i + 1)\n",
    "    ax.set_xticks([]); ax.set_yticks([])\n",
    "    img = batch_test[0][i, :, :, 0]\n",
    "    ax.imshow(img, cmap='gray_r')\n",
    "    # 显示预测值\n",
    "    ax.text(0.9, 0.1, '{}'.format(preds[i]),\n",
    "            size=15, color='blue',\n",
    "            horizontalalignment='center',\n",
    "            verticalalignment='center',\n",
    "            transform=ax.transAxes)\n",
    "    \n",
    "    # 显示真实值\n",
    "    ax.text(0.9, 0.9, '{}'.format(y_true[i]),\n",
    "            size=15, color='green',\n",
    "            horizontalalignment='center',\n",
    "            verticalalignment='center',\n",
    "            transform=ax.transAxes)\n",
    "plt.show()"
   ],
   "metadata": {
    "collapsed": false,
    "ExecuteTime": {
     "end_time": "2023-07-29T08:06:04.981530Z",
     "start_time": "2023-07-29T08:06:04.500781Z"
    }
   }
  },
  {
   "cell_type": "markdown",
   "source": [
    "### 查看前20个不正确的值"
   ],
   "metadata": {
    "collapsed": false
   }
  },
  {
   "cell_type": "code",
   "execution_count": 36,
   "outputs": [
    {
     "data": {
      "text/plain": "      y_pred  y_true\n0          7       7\n1          2       2\n2          1       1\n3          0       0\n4          4       4\n...      ...     ...\n9995       2       2\n9996       3       3\n9997       4       4\n9998       5       5\n9999       6       6\n\n[10000 rows x 2 columns]",
      "text/html": "<div>\n<style scoped>\n    .dataframe tbody tr th:only-of-type {\n        vertical-align: middle;\n    }\n\n    .dataframe tbody tr th {\n        vertical-align: top;\n    }\n\n    .dataframe thead th {\n        text-align: right;\n    }\n</style>\n<table border=\"1\" class=\"dataframe\">\n  <thead>\n    <tr style=\"text-align: right;\">\n      <th></th>\n      <th>y_pred</th>\n      <th>y_true</th>\n    </tr>\n  </thead>\n  <tbody>\n    <tr>\n      <th>0</th>\n      <td>7</td>\n      <td>7</td>\n    </tr>\n    <tr>\n      <th>1</th>\n      <td>2</td>\n      <td>2</td>\n    </tr>\n    <tr>\n      <th>2</th>\n      <td>1</td>\n      <td>1</td>\n    </tr>\n    <tr>\n      <th>3</th>\n      <td>0</td>\n      <td>0</td>\n    </tr>\n    <tr>\n      <th>4</th>\n      <td>4</td>\n      <td>4</td>\n    </tr>\n    <tr>\n      <th>...</th>\n      <td>...</td>\n      <td>...</td>\n    </tr>\n    <tr>\n      <th>9995</th>\n      <td>2</td>\n      <td>2</td>\n    </tr>\n    <tr>\n      <th>9996</th>\n      <td>3</td>\n      <td>3</td>\n    </tr>\n    <tr>\n      <th>9997</th>\n      <td>4</td>\n      <td>4</td>\n    </tr>\n    <tr>\n      <th>9998</th>\n      <td>5</td>\n      <td>5</td>\n    </tr>\n    <tr>\n      <th>9999</th>\n      <td>6</td>\n      <td>6</td>\n    </tr>\n  </tbody>\n</table>\n<p>10000 rows × 2 columns</p>\n</div>"
     },
     "execution_count": 36,
     "metadata": {},
     "output_type": "execute_result"
    }
   ],
   "source": [
    "y_pred = []\n",
    "for X, _ in iter(mnist_test.batch(20)):\n",
    "    preds_ = model(X)\n",
    "    preds_ = tf.argmax(preds_, axis=1)\n",
    "    y_pred.extend(map(lambda x: x.numpy(), preds_))\n",
    "\n",
    "results = pd.DataFrame({'y_pred': y_pred, 'y_true': y_test})\n",
    "results"
   ],
   "metadata": {
    "collapsed": false,
    "ExecuteTime": {
     "end_time": "2023-07-29T08:58:57.386252Z",
     "start_time": "2023-07-29T08:58:51.461060Z"
    }
   }
  },
  {
   "cell_type": "code",
   "execution_count": 34,
   "outputs": [
    {
     "data": {
      "text/plain": "      y_pred  y_true\n115        9       4\n247        6       4\n259        0       6\n340        3       5\n445        0       6\n...      ...     ...\n9642       7       9\n9664       7       2\n9692       7       9\n9729       6       5\n9792       9       4\n\n[85 rows x 2 columns]",
      "text/html": "<div>\n<style scoped>\n    .dataframe tbody tr th:only-of-type {\n        vertical-align: middle;\n    }\n\n    .dataframe tbody tr th {\n        vertical-align: top;\n    }\n\n    .dataframe thead th {\n        text-align: right;\n    }\n</style>\n<table border=\"1\" class=\"dataframe\">\n  <thead>\n    <tr style=\"text-align: right;\">\n      <th></th>\n      <th>y_pred</th>\n      <th>y_true</th>\n    </tr>\n  </thead>\n  <tbody>\n    <tr>\n      <th>115</th>\n      <td>9</td>\n      <td>4</td>\n    </tr>\n    <tr>\n      <th>247</th>\n      <td>6</td>\n      <td>4</td>\n    </tr>\n    <tr>\n      <th>259</th>\n      <td>0</td>\n      <td>6</td>\n    </tr>\n    <tr>\n      <th>340</th>\n      <td>3</td>\n      <td>5</td>\n    </tr>\n    <tr>\n      <th>445</th>\n      <td>0</td>\n      <td>6</td>\n    </tr>\n    <tr>\n      <th>...</th>\n      <td>...</td>\n      <td>...</td>\n    </tr>\n    <tr>\n      <th>9642</th>\n      <td>7</td>\n      <td>9</td>\n    </tr>\n    <tr>\n      <th>9664</th>\n      <td>7</td>\n      <td>2</td>\n    </tr>\n    <tr>\n      <th>9692</th>\n      <td>7</td>\n      <td>9</td>\n    </tr>\n    <tr>\n      <th>9729</th>\n      <td>6</td>\n      <td>5</td>\n    </tr>\n    <tr>\n      <th>9792</th>\n      <td>9</td>\n      <td>4</td>\n    </tr>\n  </tbody>\n</table>\n<p>85 rows × 2 columns</p>\n</div>"
     },
     "execution_count": 34,
     "metadata": {},
     "output_type": "execute_result"
    }
   ],
   "source": [
    "diffs = results[results.y_pred != results.y_true]\n",
    "diffs"
   ],
   "metadata": {
    "collapsed": false,
    "ExecuteTime": {
     "end_time": "2023-07-29T08:47:16.600934Z",
     "start_time": "2023-07-29T08:47:16.570774Z"
    }
   }
  },
  {
   "cell_type": "code",
   "execution_count": 45,
   "outputs": [
    {
     "data": {
      "text/plain": "(85, 2)"
     },
     "execution_count": 45,
     "metadata": {},
     "output_type": "execute_result"
    }
   ],
   "source": [
    "diffs.shape"
   ],
   "metadata": {
    "collapsed": false,
    "ExecuteTime": {
     "end_time": "2023-07-29T09:14:52.622360Z",
     "start_time": "2023-07-29T09:14:52.607366Z"
    }
   }
  },
  {
   "cell_type": "code",
   "execution_count": 44,
   "outputs": [
    {
     "data": {
      "text/plain": "<Figure size 1000x800 with 20 Axes>",
      "image/png": "[encoded data removed]"
     },
     "metadata": {},
     "output_type": "display_data"
    }
   ],
   "source": [
    "idxes = diffs.index\n",
    "\n",
    "fig = plt.figure(figsize=(10, 8),)\n",
    "for i in range(20):\n",
    "    ax = fig.add_subplot(4, 5, i + 1)\n",
    "    ax.set_xticks([]); ax.set_yticks([])\n",
    "    img = X_test[idxes[i], :, :, 0]\n",
    "    ax.imshow(img, cmap='gray_r')\n",
    "    \n",
    "    # 显示真实值\n",
    "    ax.text(0.15, 0.9, 't: {}'.format(diffs.loc[idxes[i], 'y_true']),\n",
    "            size=12, color='green',\n",
    "            horizontalalignment='center',\n",
    "            verticalalignment='center',\n",
    "            transform=ax.transAxes)\n",
    "\n",
    "    # 显示预测值\n",
    "    ax.text(0.85, 0.9, 'p: {}'.format(diffs.loc[idxes[i], 'y_pred']),\n",
    "            size=12, color='blue',\n",
    "            horizontalalignment='center',\n",
    "            verticalalignment='center',\n",
    "            transform=ax.transAxes)\n",
    "\n",
    "plt.show()"
   ],
   "metadata": {
    "collapsed": false,
    "ExecuteTime": {
     "end_time": "2023-07-29T09:14:28.805636Z",
     "start_time": "2023-07-29T09:14:27.975650Z"
    }
   }
  },
  {
   "cell_type": "code",
   "execution_count": null,
   "outputs": [],
   "source": [],
   "metadata": {
    "collapsed": false
   }
  }
 ],
 "metadata": {
  "kernelspec": {
   "display_name": "Python 3",
   "language": "python",
   "name": "python3"
  },
  "language_info": {
   "codemirror_mode": {
    "name": "ipython",
    "version": 2
   },
   "file_extension": ".py",
   "mimetype": "text/x-python",
   "name": "python",
   "nbconvert_exporter": "python",
   "pygments_lexer": "ipython2",
   "version": "2.7.6"
  }
 },
 "nbformat": 4,
 "nbformat_minor": 0
}
