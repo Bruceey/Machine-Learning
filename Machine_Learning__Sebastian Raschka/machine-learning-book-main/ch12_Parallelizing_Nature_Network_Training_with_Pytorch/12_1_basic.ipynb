{
 "cells": [
  {
   "cell_type": "code",
   "execution_count": 1,
   "id": "initial_id",
   "metadata": {
    "collapsed": true,
    "ExecuteTime": {
     "end_time": "2023-08-12T08:58:00.007809Z",
     "start_time": "2023-08-12T08:57:56.447722Z"
    }
   },
   "outputs": [
    {
     "name": "stdout",
     "output_type": "stream",
     "text": [
      "tensor([1, 2, 3])\n",
      "tensor([4, 5, 6], dtype=torch.int32)\n"
     ]
    },
    {
     "data": {
      "text/plain": "(None, None)"
     },
     "execution_count": 1,
     "metadata": {},
     "output_type": "execute_result"
    }
   ],
   "source": [
    "import torch\n",
    "import numpy as np\n",
    "np.set_printoptions(precision=3)\n",
    "a = [1, 2,3]\n",
    "b = np.array([4,5,6], dtype=np.int32)\n",
    "t_a = torch.tensor(a)\n",
    "t_b = torch.from_numpy(b)\n",
    "print(t_a), print(t_b)"
   ]
  },
  {
   "cell_type": "code",
   "execution_count": 11,
   "outputs": [
    {
     "data": {
      "text/plain": "tensor([4, 5, 6], dtype=torch.int32)"
     },
     "execution_count": 11,
     "metadata": {},
     "output_type": "execute_result"
    }
   ],
   "source": [
    "t_b = torch.tensor(b)\n",
    "t_b"
   ],
   "metadata": {
    "collapsed": false,
    "ExecuteTime": {
     "end_time": "2023-08-12T09:00:57.526598Z",
     "start_time": "2023-08-12T09:00:57.520892Z"
    }
   },
   "id": "dec6700d3d2514f9"
  },
  {
   "cell_type": "code",
   "execution_count": 2,
   "outputs": [
    {
     "data": {
      "text/plain": "torch.int64"
     },
     "execution_count": 2,
     "metadata": {},
     "output_type": "execute_result"
    }
   ],
   "source": [
    "t_a.dtype"
   ],
   "metadata": {
    "collapsed": false,
    "ExecuteTime": {
     "end_time": "2023-08-12T08:58:00.014126Z",
     "start_time": "2023-08-12T08:58:00.008188Z"
    }
   },
   "id": "23a0af0f7c604a91"
  },
  {
   "cell_type": "code",
   "execution_count": 3,
   "outputs": [
    {
     "data": {
      "text/plain": "torch.Size([2, 3])"
     },
     "execution_count": 3,
     "metadata": {},
     "output_type": "execute_result"
    }
   ],
   "source": [
    "t_ones = torch.ones((2, 3))\n",
    "t_ones.shape"
   ],
   "metadata": {
    "collapsed": false,
    "ExecuteTime": {
     "end_time": "2023-08-12T08:58:00.019472Z",
     "start_time": "2023-08-12T08:58:00.011439Z"
    }
   },
   "id": "5d0e4621552ccbc1"
  },
  {
   "cell_type": "code",
   "execution_count": 4,
   "outputs": [
    {
     "data": {
      "text/plain": "2"
     },
     "execution_count": 4,
     "metadata": {},
     "output_type": "execute_result"
    }
   ],
   "source": [
    "t_ones.shape[0]"
   ],
   "metadata": {
    "collapsed": false,
    "ExecuteTime": {
     "end_time": "2023-08-12T08:58:00.081034Z",
     "start_time": "2023-08-12T08:58:00.020809Z"
    }
   },
   "id": "a97a4243dfac68c3"
  },
  {
   "cell_type": "code",
   "execution_count": 5,
   "outputs": [],
   "source": [
    "# 转置\n",
    "t = torch.rand(3, 5)\n",
    "t_tr = torch.transpose(t, 0, 1)"
   ],
   "metadata": {
    "collapsed": false,
    "ExecuteTime": {
     "end_time": "2023-08-12T08:58:00.094039Z",
     "start_time": "2023-08-12T08:58:00.026946Z"
    }
   },
   "id": "2248d2fc96cd5618"
  },
  {
   "cell_type": "code",
   "execution_count": 6,
   "outputs": [
    {
     "data": {
      "text/plain": "tensor([[0.6555, 0.5606, 0.1375, 0.8693, 0.1350],\n        [0.5500, 0.7376, 0.5952, 0.3875, 0.4394],\n        [0.2165, 0.5030, 0.1008, 0.3498, 0.7542]])"
     },
     "execution_count": 6,
     "metadata": {},
     "output_type": "execute_result"
    }
   ],
   "source": [
    "t"
   ],
   "metadata": {
    "collapsed": false,
    "ExecuteTime": {
     "end_time": "2023-08-12T08:58:00.095422Z",
     "start_time": "2023-08-12T08:58:00.036700Z"
    }
   },
   "id": "6ea16995ea11dfd4"
  },
  {
   "cell_type": "code",
   "execution_count": 7,
   "outputs": [
    {
     "data": {
      "text/plain": "tensor([[0.6555, 0.5500, 0.2165],\n        [0.5606, 0.7376, 0.5030],\n        [0.1375, 0.5952, 0.1008],\n        [0.8693, 0.3875, 0.3498],\n        [0.1350, 0.4394, 0.7542]])"
     },
     "execution_count": 7,
     "metadata": {},
     "output_type": "execute_result"
    }
   ],
   "source": [
    "t.transpose(0, 1)"
   ],
   "metadata": {
    "collapsed": false,
    "ExecuteTime": {
     "end_time": "2023-08-12T08:58:00.096213Z",
     "start_time": "2023-08-12T08:58:00.058022Z"
    }
   },
   "id": "6c527746ddbabb73"
  },
  {
   "cell_type": "code",
   "execution_count": 8,
   "outputs": [
    {
     "data": {
      "text/plain": "tensor([[0., 0., 0., 0., 0., 0.],\n        [0., 0., 0., 0., 0., 0.],\n        [0., 0., 0., 0., 0., 0.],\n        [0., 0., 0., 0., 0., 0.],\n        [0., 0., 0., 0., 0., 0.]])"
     },
     "execution_count": 8,
     "metadata": {},
     "output_type": "execute_result"
    }
   ],
   "source": [
    "t = torch.zeros(30)\n",
    "t_reshape = t.reshape(5, 6) # 或torch.reshape(t, (5, 6))\n",
    "t_reshape"
   ],
   "metadata": {
    "collapsed": false,
    "ExecuteTime": {
     "end_time": "2023-08-12T08:58:00.096739Z",
     "start_time": "2023-08-12T08:58:00.070347Z"
    }
   },
   "id": "4ad4c24725392f4a"
  },
  {
   "cell_type": "code",
   "execution_count": 9,
   "outputs": [
    {
     "data": {
      "text/plain": "tensor([[0., 0., 0., 0., 0., 0.],\n        [0., 0., 0., 0., 0., 0.],\n        [0., 0., 0., 0., 0., 0.],\n        [0., 0., 0., 0., 0., 0.],\n        [0., 0., 0., 0., 0., 0.]])"
     },
     "execution_count": 9,
     "metadata": {},
     "output_type": "execute_result"
    }
   ],
   "source": [
    "torch.reshape(t, (5, 6))"
   ],
   "metadata": {
    "collapsed": false,
    "ExecuteTime": {
     "end_time": "2023-08-12T08:58:00.097408Z",
     "start_time": "2023-08-12T08:58:00.079109Z"
    }
   },
   "id": "522bb248497f5fd5"
  },
  {
   "cell_type": "code",
   "execution_count": 10,
   "outputs": [
    {
     "data": {
      "text/plain": "(tensor([[[[0.],\n           [0.],\n           [0.],\n           [0.]],\n \n          [[0.],\n           [0.],\n           [0.],\n           [0.]]]]),\n tensor([[[[0.],\n           [0.],\n           [0.],\n           [0.]],\n \n          [[0.],\n           [0.],\n           [0.],\n           [0.]]]]))"
     },
     "execution_count": 10,
     "metadata": {},
     "output_type": "execute_result"
    }
   ],
   "source": [
    "# Removing the unnecessary dimensions:\n",
    "t = torch.zeros(1, 2, 1, 4, 1)\n",
    "torch.squeeze(t, 2), t.squeeze(2)   # torch.Size([1, 2, 1, 4, 1])  -->  torch.Size([1, 2, 4, 1])"
   ],
   "metadata": {
    "collapsed": false,
    "ExecuteTime": {
     "end_time": "2023-08-12T08:58:00.097822Z",
     "start_time": "2023-08-12T08:58:00.086890Z"
    }
   },
   "id": "fd656444282139d3"
  },
  {
   "cell_type": "code",
   "execution_count": 10,
   "outputs": [],
   "source": [],
   "metadata": {
    "collapsed": false,
    "ExecuteTime": {
     "end_time": "2023-08-12T08:58:00.098892Z",
     "start_time": "2023-08-12T08:58:00.092920Z"
    }
   },
   "id": "bd4fd0c2c342dcf5"
  }
 ],
 "metadata": {
  "kernelspec": {
   "display_name": "Python 3",
   "language": "python",
   "name": "python3"
  },
  "language_info": {
   "codemirror_mode": {
    "name": "ipython",
    "version": 2
   },
   "file_extension": ".py",
   "mimetype": "text/x-python",
   "name": "python",
   "nbconvert_exporter": "python",
   "pygments_lexer": "ipython2",
   "version": "2.7.6"
  }
 },
 "nbformat": 4,
 "nbformat_minor": 5
}
